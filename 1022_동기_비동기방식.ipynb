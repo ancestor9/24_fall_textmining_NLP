{
  "nbformat": 4,
  "nbformat_minor": 0,
  "metadata": {
    "colab": {
      "provenance": [],
      "authorship_tag": "ABX9TyNrF3ZibpDeFcKMYhfxN1s2",
      "include_colab_link": true
    },
    "kernelspec": {
      "name": "python3",
      "display_name": "Python 3"
    },
    "language_info": {
      "name": "python"
    }
  },
  "cells": [
    {
      "cell_type": "markdown",
      "metadata": {
        "id": "view-in-github",
        "colab_type": "text"
      },
      "source": [
        "<a href=\"https://colab.research.google.com/github/ancestor9/24_fall_textmining_NLP/blob/main/1022_%EB%8F%99%EA%B8%B0_%EB%B9%84%EB%8F%99%EA%B8%B0%EB%B0%A9%EC%8B%9D.ipynb\" target=\"_parent\"><img src=\"https://colab.research.google.com/assets/colab-badge.svg\" alt=\"Open In Colab\"/></a>"
      ]
    },
    {
      "cell_type": "markdown",
      "source": [
        "#  \n",
        "## **동기방식(Sync 방식)**\n",
        "- 코드가 파일을 하나씩 순차적으로 읽으므로 파일 수가 많아지면 시간이 많이 소요\n",
        "\n",
        "## **비동기(Asynchronous) 방식**\n",
        "- 여러 작업을 동시에 실행, 특정 작업(예: 네트워크 요청)을 기다리는 동안 다른 작업을 진행할 수 있도록 하여 프로그램의 효율성을 높임\n",
        "- Python에서는 asyncio와 같은 모듈을 사용하여 비동기 처리를 구현\n",
        "\n",
        "##### <font color='red'> 커피샵에서 친구에게 커피를 부탁할 경우 친구랑 같이 카피 받으러가나? **(동기, sync)** 아니면 친구가 커피를 가져오는 동안 다른 작업을 하나? **(비동기, async)**\n",
        "\n",
        "<img src ='https://images.unsplash.com/photo-1516367519848-ee5b4deb59d2?w=500&auto=format&fit=crop&q=60&ixlib=rb-4.0.3&ixid=M3wxMjA3fDB8MHxzZWFyY2h8M3x8Y29mZWUlMjBzaG9wfGVufDB8fDB8fHww'>"
      ],
      "metadata": {
        "id": "fbDHx_9Hkc9M"
      }
    },
    {
      "cell_type": "code",
      "source": [
        "# 여러 개의 파일 URL 지정 (예시)\n",
        "file_urls = [\n",
        "    \"https://people.sc.fsu.edu/~jburkardt/data/csv/airtravel.csv\",\n",
        "    \"https://people.sc.fsu.edu/~jburkardt/data/csv/grades.csv\",\n",
        "    \"https://people.sc.fsu.edu/~jburkardt/data/csv/hw_200.csv\",\n",
        "    \"https://people.sc.fsu.edu/~jburkardt/data/csv/addresses.csv\",\n",
        "    \"https://people.sc.fsu.edu/~jburkardt/data/csv/ford_escort.csv\",\n",
        "    \"https://people.sc.fsu.edu/~jburkardt/data/csv/biostats.csv\",\n",
        "    \"https://people.sc.fsu.edu/~jburkardt/data/csv/trees.csv\",\n",
        "    \"https://people.sc.fsu.edu/~jburkardt/data/csv/weather.csv\",\n",
        "    \"https://people.sc.fsu.edu/~jburkardt/data/csv/snakes_count_100.csv\",\n",
        "    \"https://people.sc.fsu.edu/~jburkardt/data/csv/zillow.csv\"\n",
        "]"
      ],
      "metadata": {
        "id": "Kz7x7W-TmCB0"
      },
      "execution_count": null,
      "outputs": []
    },
    {
      "cell_type": "markdown",
      "source": [
        "### **1. 동기 방식으로 네트워크에서 파일 다운 받기**"
      ],
      "metadata": {
        "id": "BnElMWyhxUBo"
      }
    },
    {
      "cell_type": "code",
      "source": [
        "import requests\n",
        "\n",
        "def download_file_sync(url, save_path):\n",
        "    response = requests.get(url)\n",
        "    if response.status_code == 200:\n",
        "        with open(save_path, 'wb') as f:\n",
        "            f.write(response.content)\n",
        "        print(f\"{save_path} 다운로드 완료\")\n",
        "\n",
        "def download_all_files_sync():\n",
        "    for url in file_urls:\n",
        "        filename = os.path.basename(url)\n",
        "        save_path = f\"./{filename}\"\n",
        "        download_file_sync(url, save_path)\n",
        "\n",
        "# 동기 방식으로 파일 다운로드 시작\n",
        "t1 = time.time()\n",
        "download_all_files_sync()\n",
        "t2 = time.time()\n",
        "print(f\"동기 방식으로 파일 다운로드 완료: {t2 - t1:.2f}초 소요\")"
      ],
      "metadata": {
        "colab": {
          "base_uri": "https://localhost:8080/"
        },
        "id": "M1m5n8PWmaor",
        "outputId": "248d653a-921e-43ab-9748-7da63c872643"
      },
      "execution_count": null,
      "outputs": [
        {
          "output_type": "stream",
          "name": "stdout",
          "text": [
            "./airtravel.csv 다운로드 완료\n",
            "./grades.csv 다운로드 완료\n",
            "./hw_200.csv 다운로드 완료\n",
            "./addresses.csv 다운로드 완료\n",
            "./ford_escort.csv 다운로드 완료\n",
            "./biostats.csv 다운로드 완료\n",
            "./trees.csv 다운로드 완료\n",
            "./snakes_count_100.csv 다운로드 완료\n",
            "./zillow.csv 다운로드 완료\n",
            "동기 방식으로 파일 다운로드 완료: 5.96초 소요\n"
          ]
        }
      ]
    },
    {
      "cell_type": "markdown",
      "source": [
        "### **2. 비동기 방식으로 네트워크에서 파일 다운 받기**"
      ],
      "metadata": {
        "id": "Zzjzisx1xGVC"
      }
    },
    {
      "cell_type": "code",
      "source": [
        "import aiohttp\n",
        "import asyncio\n",
        "import time\n",
        "import os\n",
        "\n",
        "async def download_file(session, url, save_path):\n",
        "    async with session.get(url) as response:\n",
        "        if response.status == 200:\n",
        "            content = await response.read()\n",
        "            with open(save_path, 'wb') as f:\n",
        "                f.write(content)\n",
        "            print(f\"{save_path} 다운로드 완료\")\n",
        "\n",
        "async def download_all_files():\n",
        "    async with aiohttp.ClientSession() as session:\n",
        "        tasks = []\n",
        "        for url in file_urls:\n",
        "            filename = os.path.basename(url)\n",
        "            save_path = f\"./{filename}\"\n",
        "            tasks.append(download_file(session, url, save_path))\n",
        "        await asyncio.gather(*tasks)\n",
        "\n",
        "\n",
        "# 비동기 방식으로 파일 다운로드 시작\n",
        "# asyncio.run()을 await asyncio.gather()로 변경하여 Jupyter Notebook 환경에서 실행\n",
        "t1 = time.time()\n",
        "# await download_all_files()  # Jupyter Notebook에서는 이렇게 직접 호출하면 안됩니다.\n",
        "# Instead of using asyncio.run, use await within a coroutine or the IPython event loop\n",
        "await download_all_files()  # Jupyter/IPython 환경에서 실행하기 위해 await 사용\n",
        "t2 = time.time()\n",
        "print(f\"비동기 방식으로 파일 다운로드 완료: {t2 - t1:.2f}초 소요\")\n",
        "\n"
      ],
      "metadata": {
        "colab": {
          "base_uri": "https://localhost:8080/"
        },
        "id": "VOjENOf9nAxy",
        "outputId": "de336168-8ea8-47b4-8075-7f08fc451164"
      },
      "execution_count": null,
      "outputs": [
        {
          "output_type": "stream",
          "name": "stdout",
          "text": [
            "./ford_escort.csv 다운로드 완료\n",
            "./grades.csv 다운로드 완료\n",
            "./zillow.csv 다운로드 완료\n",
            "./hw_200.csv 다운로드 완료\n",
            "./trees.csv 다운로드 완료\n",
            "./airtravel.csv 다운로드 완료\n",
            "./biostats.csv 다운로드 완료\n",
            "./snakes_count_100.csv 다운로드 완료\n",
            "./addresses.csv 다운로드 완료\n",
            "비동기 방식으로 파일 다운로드 완료: 0.94초 소요\n"
          ]
        }
      ]
    },
    {
      "cell_type": "markdown",
      "source": [
        "## **3. 다운로딩 파일의 순서를 동기방식과 비동기 방식을 비교하라**"
      ],
      "metadata": {
        "id": "AVUJTSPCnJIa"
      }
    },
    {
      "source": [
        "import aiohttp\n",
        "import asyncio\n",
        "import time\n",
        "import os\n",
        "import requests\n",
        "from bs4 import BeautifulSoup\n",
        "\n",
        "\n",
        "# 다운로드할 모든 파일 URL을 가져오기 위해 HTML 파싱\n",
        "def get_all_csv_urls(base_url):\n",
        "    # base_url의 HTML을 요청하여 페이지의 내용을 가져옵니다.\n",
        "    response = requests.get(base_url)\n",
        "    if response.status_code == 200:\n",
        "        # BeautifulSoup을 사용하여 HTML을 파싱합니다.\n",
        "        soup = BeautifulSoup(response.text, 'html.parser')\n",
        "        file_urls = []\n",
        "        # 모든 'a' 태그를 찾아서 href 속성을 확인합니다.\n",
        "        for link in soup.find_all('a'):\n",
        "            href = link.get('href')\n",
        "            # 링크가 '.csv'로 끝난다면 CSV 파일로 간주하고 URL 목록에 추가합니다.\n",
        "            if href.endswith('.csv'):\n",
        "                file_urls.append(base_url + href)\n",
        "        return file_urls\n",
        "    return []\n",
        "\n",
        "# CSV 파일들이 있는 기본 URL\n",
        "base_url = \"https://people.sc.fsu.edu/~jburkardt/data/csv/\"\n",
        "# 모든 CSV 파일 URL을 가져옵니다.\n",
        "file_urls = get_all_csv_urls(base_url)"
      ],
      "cell_type": "code",
      "metadata": {
        "id": "032HshRHpAiJ"
      },
      "execution_count": null,
      "outputs": []
    },
    {
      "cell_type": "markdown",
      "source": [
        "### **동기와 비동기의 차이**"
      ],
      "metadata": {
        "id": "iKd5gLTExbWT"
      }
    },
    {
      "cell_type": "code",
      "source": [
        "# 동기 방식으로 파일을 다운로드하는 함수\n",
        "def download_file_sync(url, save_path):\n",
        "    # 주어진 URL로부터 파일을 요청합니다.\n",
        "    response = requests.get(url)\n",
        "    if response.status_code == 200:\n",
        "        # 파일 내용을 지정된 경로에 저장합니다.\n",
        "        with open(save_path, 'wb') as f:\n",
        "            f.write(response.content)\n",
        "        print(f\"{save_path} 다운로드 완료\")\n",
        "\n",
        "# 모든 파일을 동기 방식으로 다운로드하는 함수\n",
        "def download_all_files_sync():\n",
        "    # file_urls에 있는 각 파일을 순차적으로 다운로드합니다.\n",
        "    for url in file_urls:\n",
        "        filename = os.path.basename(url)\n",
        "        save_path = f\"./{filename}\"\n",
        "        download_file_sync(url, save_path)\n",
        "\n",
        "# 비동기 방식으로 파일을 다운로드하는 함수\n",
        "async def download_file_async(session, url, save_path):\n",
        "    # 비동기적으로 주어진 URL로부터 파일을 요청합니다.\n",
        "    async with session.get(url) as response:\n",
        "        if response.status == 200:\n",
        "            # 파일 내용을 지정된 경로에 저장합니다.\n",
        "            content = await response.read()\n",
        "            with open(save_path, 'wb') as f:\n",
        "                f.write(content)\n",
        "            print(f\"{save_path} 다운로드 완료\")\n",
        "\n",
        "# 모든 파일을 비동기 방식으로 다운로드하는 함수\n",
        "async def download_all_files():\n",
        "    # aiohttp.ClientSession을 사용하여 비동기 요청을 관리합니다.\n",
        "    async with aiohttp.ClientSession() as session:\n",
        "        tasks = []\n",
        "        # file_urls에 있는 각 파일을 비동기적으로 다운로드하도록 태스크를 만듭니다.\n",
        "        for url in file_urls:\n",
        "            filename = os.path.basename(url)\n",
        "            save_path = f\"./{filename}\"\n",
        "            tasks.append(download_file_async(session, url, save_path))\n",
        "        # 모든 태스크를 동시에 실행합니다.\n",
        "        await asyncio.gather(*tasks)\n",
        "\n",
        "# 동기 방식으로 파일 다운로드 시작\n",
        "print(\"동기 방식 순서대로 다운로드 시작...\")\n",
        "t1 = time.time()\n",
        "download_all_files_sync()\n",
        "t2 = time.time()\n",
        "print(f\"동기 방식으로 파일 다운로드 완료: {t2 - t1:.2f}초 소요\")\n",
        "\n",
        "# 비동기 방식으로 파일 다운로드 시작\n",
        "# asyncio.run() 대신 IPython event loop에서 실행하기 위해 await 사용\n",
        "t1 = time.time()\n",
        "# await download_all_files()  # Jupyter/IPython 환경에서 실행하기 위해 await 사용\n",
        "# asyncio.run(download_all_files())  # 이 줄을 주석 처리\n",
        "await download_all_files() # asyncio.run()을 await로 변경하여 기존 event loop에서 실행\n",
        "t2 = time.time()\n",
        "print(f\"비동기 방식으로 파일 다운로드 완료: {t2 - t1:.2f}초 소요\")"
      ],
      "metadata": {
        "colab": {
          "base_uri": "https://localhost:8080/"
        },
        "id": "HBDpg9iPqTA4",
        "outputId": "5eee628f-2723-4b72-ad3a-b8f4fcc2f89b"
      },
      "execution_count": null,
      "outputs": [
        {
          "output_type": "stream",
          "name": "stdout",
          "text": [
            "동기 방식 순서대로 다운로드 시작...\n",
            "./addresses.csv 다운로드 완료\n",
            "./airtravel.csv 다운로드 완료\n",
            "./biostats.csv 다운로드 완료\n",
            "./cities.csv 다운로드 완료\n",
            "./crash_catalonia.csv 다운로드 완료\n",
            "./deniro.csv 다운로드 완료\n",
            "./example.csv 다운로드 완료\n",
            "./faithful.csv 다운로드 완료\n",
            "./ford_escort.csv 다운로드 완료\n",
            "./freshman_kgs.csv 다운로드 완료\n",
            "./freshman_lbs.csv 다운로드 완료\n",
            "./grades.csv 다운로드 완료\n",
            "./homes.csv 다운로드 완료\n",
            "./hooke.csv 다운로드 완료\n",
            "./hurricanes.csv 다운로드 완료\n",
            "./hw_200.csv 다운로드 완료\n",
            "./hw_25000.csv 다운로드 완료\n",
            "./lead_shot.csv 다운로드 완료\n",
            "./letter_frequency.csv 다운로드 완료\n",
            "./mlb_players.csv 다운로드 완료\n",
            "./mlb_teams_2012.csv 다운로드 완료\n",
            "./news_decline.csv 다운로드 완료\n",
            "./nile.csv 다운로드 완료\n",
            "./oscar_age_female.csv 다운로드 완료\n",
            "./oscar_age_male.csv 다운로드 완료\n",
            "./snakes_count_10.csv 다운로드 완료\n",
            "./snakes_count_100.csv 다운로드 완료\n",
            "./snakes_count_1000.csv 다운로드 완료\n",
            "./snakes_count_10000.csv 다운로드 완료\n",
            "./tally_cab.csv 다운로드 완료\n",
            "./taxables.csv 다운로드 완료\n",
            "./trees.csv 다운로드 완료\n",
            "./zillow.csv 다운로드 완료\n",
            "동기 방식으로 파일 다운로드 완료: 21.33초 소요\n",
            "./nile.csv 다운로드 완료\n",
            "./homes.csv 다운로드 완료\n",
            "./zillow.csv 다운로드 완료\n",
            "./mlb_teams_2012.csv 다운로드 완료\n",
            "./faithful.csv 다운로드 완료\n",
            "./letter_frequency.csv 다운로드 완료\n",
            "./oscar_age_female.csv 다운로드 완료\n",
            "./hooke.csv 다운로드 완료\n",
            "./news_decline.csv 다운로드 완료\n",
            "./hw_200.csv 다운로드 완료\n",
            "./tally_cab.csv 다운로드 완료\n",
            "./hurricanes.csv 다운로드 완료\n",
            "./ford_escort.csv 다운로드 완료\n",
            "./freshman_lbs.csv 다운로드 완료\n",
            "./airtravel.csv 다운로드 완료\n",
            "./crash_catalonia.csv 다운로드 완료\n",
            "./cities.csv 다운로드 완료\n",
            "./taxables.csv 다운로드 완료\n",
            "./snakes_count_1000.csv 다운로드 완료\n",
            "./deniro.csv 다운로드 완료\n",
            "./snakes_count_100.csv 다운로드 완료\n",
            "./biostats.csv 다운로드 완료\n",
            "./addresses.csv 다운로드 완료\n",
            "./grades.csv 다운로드 완료\n",
            "./trees.csv 다운로드 완료\n",
            "./example.csv 다운로드 완료\n",
            "./freshman_kgs.csv 다운로드 완료\n",
            "./lead_shot.csv 다운로드 완료\n",
            "./snakes_count_10.csv 다운로드 완료\n",
            "./oscar_age_male.csv 다운로드 완료\n",
            "./mlb_players.csv 다운로드 완료\n",
            "./snakes_count_10000.csv 다운로드 완료\n",
            "./hw_25000.csv 다운로드 완료\n",
            "비동기 방식으로 파일 다운로드 완료: 1.58초 소요\n"
          ]
        }
      ]
    },
    {
      "cell_type": "markdown",
      "source": [
        "## 여러 파일을 동시에 다운로드하므로 네트워크 요청의 병렬 처리가 가능\n",
        "- 특히 네트워크 대역폭을 충분히 활용하여 다운로드 시간을 줄임\n",
        "- aiohttp와 asyncio를 사용하여 비동기적으로 네트워크 요청을 처리\n",
        "- Jupyter 환경에서는 await로 직접 실행할 수 있으며, 일반 파이썬 스크립트에서는 asyncio.run()을 사용해 실행 가능"
      ],
      "metadata": {
        "id": "KZs2tCyKnpDe"
      }
    },
    {
      "cell_type": "code",
      "source": [
        "import asyncio\n",
        "\n",
        "async def say_hello():\n",
        "    print(\"Hello\")\n",
        "    await asyncio.sleep(5)  # 5초 동안 기다리며 다른 작업을 수행할 수 있음\n",
        "    #  \"1초 동안 기다리며 다른 작업을 수행할 수 있다\"는 것은, 1초 동안 기다리는 동안 CPU가 유휴 상태로 멈추는 대신, 다른 비동기 작업에 집중할 수 있다는 뜻\n",
        "    print(\"World\")\n",
        "\n",
        "# Jupyter Notebook에서 실행 중인 이벤트 루프에서 직접 await로 호출\n",
        "await say_hello()"
      ],
      "metadata": {
        "colab": {
          "base_uri": "https://localhost:8080/"
        },
        "id": "51FML0FXsP_h",
        "outputId": "9ae70499-b9c9-47e3-f83f-7eaee57a46f8"
      },
      "execution_count": null,
      "outputs": [
        {
          "output_type": "stream",
          "name": "stdout",
          "text": [
            "Hello\n",
            "World\n"
          ]
        }
      ]
    },
    {
      "cell_type": "markdown",
      "source": [
        "## **4. 비동기 모듈에 대하여**\n",
        "\n",
        "- **aiohttp:** 비동기적으로 HTTP 요청을 보낼 수 있도록 도와주는 라이브러리\n",
        "- **asyncio:** 비동기적으로 I/O 작업을 관리하기 위한 Python 표준 라이브러리로, 이벤트 루프를 통해 여러 작업을 효율적으로 스케줄링하고 처리"
      ],
      "metadata": {
        "id": "gvjwjIyPt0if"
      }
    },
    {
      "cell_type": "code",
      "source": [
        "import aiohttp  # 비동기 HTTP 클라이언트 라이브러리\n",
        "import asyncio  # 비동기 I/O를 위한 Python 표준 라이브러리"
      ],
      "metadata": {
        "id": "pGNeEKySrsus"
      },
      "execution_count": null,
      "outputs": []
    },
    {
      "cell_type": "markdown",
      "source": [
        "- async def fetch(url): fetch 함수는 비동기 함수로 정의되어 있으며, 특정 URL에서 HTTP GET 요청\n",
        "- async with aiohttp.ClientSession() as session: 비동기적으로 HTTP 세션을 생성하며 ClientSession 객체를 사용하면 여러 요청 간 세션을 재사용할 수 있어 효율적\n",
        "- async with session.get(url) as response: 지정된 URL로 비동기적으로 HTTP GET 요청을 보내고, 응답을 기다린다\n",
        "- await response.text(): 응답의 내용을 텍스트 형태로 비동기적으로 읽고 반환, await를 사용하여 읽기가 완료될 때까지 대기합니다."
      ],
      "metadata": {
        "id": "1afMTIgIuInj"
      }
    },
    {
      "cell_type": "code",
      "source": [
        "# 특정 URL에서 HTML 데이터를 가져오는 비동기 함수 정의\n",
        "async def fetch(url):\n",
        "    # 비동기적으로 HTTP 세션을 시작 (세션은 여러 요청 간 재사용할 수 있는 컨텍스트 관리용 객체)\n",
        "\n",
        "    async with aiohttp.ClientSession() as session:\n",
        "        # 지정된 URL로 GET 요청을 비동기적으로 보내고 응답을 받음\n",
        "\n",
        "        async with session.get(url) as response:\n",
        "            # 응답의 본문을 비동기적으로 읽고 반환 (await를 사용해 응답 본문 대기)\n",
        "            # 웹 페이지에서 데이터를 다운로드하고자 할 때 **await**은 \"서버로부터 데이터가 도착할 때까지 잠시 기다리세요\"라고 Python에게 말하는 것\n",
        "            # 이 동안, Python은 \"서버에서 데이터가 오는 동안 CPU가 아무것도 하지 않으며 멍하니 기다리는 것\" 대신 \"다른 작업도 처리할 수 있도록 기회를 준다\"는 것\n",
        "            # '기다려'의 비유 : 친구(서버)에게 커피를 가져다 달라고 부탁하고 커피가 오는 동안 나는 다른 일(전화, 서서 운동 등등)을 본다.\n",
        "            return await response.text()\n"
      ],
      "metadata": {
        "id": "lVtZWnTRuB4n"
      },
      "execution_count": null,
      "outputs": []
    },
    {
      "cell_type": "markdown",
      "source": [
        "- async def main(): main 함수는 비동기 함수로 정의되어 있으며, 실제로 fetch() 함수를 호출하여 응답을 받아옵니다.\n",
        "- url = 'https://example.com': 요청을 보낼 대상 URL을 설정합니다.\n",
        "- html = await fetch(url): fetch() 함수를 호출하고, 응답 본문을 html 변수에 저장합니다.\n",
        "- print(html): 응답 받은 HTML을 콘솔에 출력합니다."
      ],
      "metadata": {
        "id": "MYm-A1xrugL-"
      }
    },
    {
      "cell_type": "code",
      "source": [
        "# main() 함수 정의 - 실제로 fetch 함수를 호출하고 결과를 출력\n",
        "async def main():\n",
        "    url = 'https://example.com'  # 요청을 보낼 URL 설정\n",
        "    html = await fetch(url)  # fetch() 함수를 호출해 응답 본문을 받음\n",
        "    print(html)  # 응답 받은 HTML 내용 출력"
      ],
      "metadata": {
        "id": "lzT5h5r3uHmK"
      },
      "execution_count": null,
      "outputs": []
    },
    {
      "cell_type": "code",
      "source": [
        "# Jupyter 환경에서는 이미 이벤트 루프가 실행 중이므로 await을 직접 사용해 main()을 호출\n",
        "await main()  # main() 함수를 호출해 비동기 작업 실행 및 결과 출력"
      ],
      "metadata": {
        "colab": {
          "base_uri": "https://localhost:8080/"
        },
        "id": "mFHB0G3qvL2S",
        "outputId": "577a43c8-5f71-4736-845d-6776fb176b21"
      },
      "execution_count": null,
      "outputs": [
        {
          "output_type": "stream",
          "name": "stdout",
          "text": [
            "<!doctype html>\n",
            "<html>\n",
            "<head>\n",
            "    <title>Example Domain</title>\n",
            "\n",
            "    <meta charset=\"utf-8\" />\n",
            "    <meta http-equiv=\"Content-type\" content=\"text/html; charset=utf-8\" />\n",
            "    <meta name=\"viewport\" content=\"width=device-width, initial-scale=1\" />\n",
            "    <style type=\"text/css\">\n",
            "    body {\n",
            "        background-color: #f0f0f2;\n",
            "        margin: 0;\n",
            "        padding: 0;\n",
            "        font-family: -apple-system, system-ui, BlinkMacSystemFont, \"Segoe UI\", \"Open Sans\", \"Helvetica Neue\", Helvetica, Arial, sans-serif;\n",
            "        \n",
            "    }\n",
            "    div {\n",
            "        width: 600px;\n",
            "        margin: 5em auto;\n",
            "        padding: 2em;\n",
            "        background-color: #fdfdff;\n",
            "        border-radius: 0.5em;\n",
            "        box-shadow: 2px 3px 7px 2px rgba(0,0,0,0.02);\n",
            "    }\n",
            "    a:link, a:visited {\n",
            "        color: #38488f;\n",
            "        text-decoration: none;\n",
            "    }\n",
            "    @media (max-width: 700px) {\n",
            "        div {\n",
            "            margin: 0 auto;\n",
            "            width: auto;\n",
            "        }\n",
            "    }\n",
            "    </style>    \n",
            "</head>\n",
            "\n",
            "<body>\n",
            "<div>\n",
            "    <h1>Example Domain</h1>\n",
            "    <p>This domain is for use in illustrative examples in documents. You may use this\n",
            "    domain in literature without prior coordination or asking for permission.</p>\n",
            "    <p><a href=\"https://www.iana.org/domains/example\">More information...</a></p>\n",
            "</div>\n",
            "</body>\n",
            "</html>\n",
            "\n"
          ]
        }
      ]
    },
    {
      "cell_type": "markdown",
      "source": [
        "### **aiohttp는 Python의 HTTP 클라이언트 및 서버를 비동기적으로 구현할 수 있는 HTTP 클라이언트 라이브러리**\n",
        "- asyncio와 결합하여 비동기적으로 HTTP 요청을 보낼 수 있도록 지원\n",
        "- 일반적인 HTTP 요청 라이브러리인 requests와 달리, aiohttp는 비동기 처리가 가능하므로 수백 개 이상의 요청을 동시에 처리할 수 있는 경우에 매우 유리"
      ],
      "metadata": {
        "id": "aic9twSbrtIC"
      }
    },
    {
      "cell_type": "code",
      "source": [],
      "metadata": {
        "id": "t8xc5wIsrLUD"
      },
      "execution_count": null,
      "outputs": []
    }
  ]
}