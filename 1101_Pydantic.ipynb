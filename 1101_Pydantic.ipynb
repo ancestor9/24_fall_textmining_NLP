{
  "nbformat": 4,
  "nbformat_minor": 0,
  "metadata": {
    "colab": {
      "provenance": [],
      "authorship_tag": "ABX9TyMiDCSZe2gnzza6yDkvH0Zf",
      "include_colab_link": true
    },
    "kernelspec": {
      "name": "python3",
      "display_name": "Python 3"
    },
    "language_info": {
      "name": "python"
    }
  },
  "cells": [
    {
      "cell_type": "markdown",
      "metadata": {
        "id": "view-in-github",
        "colab_type": "text"
      },
      "source": [
        "<a href=\"https://colab.research.google.com/github/ancestor9/24_fall_textmining_NLP/blob/main/1101_Pydantic.ipynb\" target=\"_parent\"><img src=\"https://colab.research.google.com/assets/colab-badge.svg\" alt=\"Open In Colab\"/></a>"
      ]
    },
    {
      "cell_type": "code",
      "execution_count": null,
      "metadata": {
        "colab": {
          "base_uri": "https://localhost:8080/"
        },
        "id": "M8ZE9cNhyHEv",
        "outputId": "828e6d13-cec3-4a45-d9f6-083d01ae302d"
      },
      "outputs": [
        {
          "output_type": "stream",
          "name": "stdout",
          "text": [
            "Laptop\n",
            "{'product': 'Laptop', 'category': 'Electronics', 'quantity': 5, 'price': 999.99}\n",
            "1 validation error for Sale\n",
            "quantity\n",
            "  Input should be a valid integer, unable to parse string as an integer [type=int_parsing, input_value='Five', input_type=str]\n",
            "    For further information visit https://errors.pydantic.dev/2.9/v/int_parsing\n"
          ]
        }
      ],
      "source": [
        "from pydantic import BaseModel\n",
        "\n",
        "class Sale(BaseModel):\n",
        "    product: str\n",
        "    category: str\n",
        "    quantity: int\n",
        "    price: float\n",
        "\n",
        "# 데이터 인스턴스 생성\n",
        "data = {\"product\": \"Laptop\", \"category\": \"Electronics\", \"quantity\": 5, \"price\": 999.99}\n",
        "sale = Sale(**data)\n",
        "\n",
        "# 데이터 검증 및 접근\n",
        "print(sale.product)  # \"Laptop\"\n",
        "print(sale.dict())   # {\"product\": \"Laptop\", \"category\": \"Electronics\", \"quantity\": 5, \"price\": 999.99}\n",
        "\n",
        "# 유효성 검사 예시 (유효하지 않은 데이터 입력)\n",
        "invalid_data = {\"product\": \"Laptop\", \"category\": \"Electronics\", \"quantity\": \"Five\", \"price\": 999.99}\n",
        "try:\n",
        "    sale = Sale(**invalid_data)  # 이 경우 자동으로 오류가 발생합니다 (quantity는 정수여야 합니다)\n",
        "except Exception as e:\n",
        "    print(e)\n"
      ]
    },
    {
      "cell_type": "code",
      "source": [
        "class Sale:\n",
        "    def __init__(self, product, category, quantity, price):\n",
        "        self.product = product\n",
        "        self.category = category\n",
        "        self.quantity = quantity\n",
        "        self.price = price\n",
        "\n",
        "# 데이터 인스턴스 생성\n",
        "sale = Sale(\"Laptop\", \"Electronics\", 5, 999.99)\n",
        "\n",
        "# 데이터 접근\n",
        "print(sale.product)  # \"Laptop\"\n",
        "print(vars(sale))    # {'product': 'Laptop', 'category': 'Electronics', 'quantity': 5, 'price': 999.99}\n",
        "\n",
        "# 유효성 검사 직접 구현\n",
        "invalid_data = Sale(\"Laptop\", \"Electronics\", \"Five\", 999.99)  # 이 경우 오류가 발생하지 않습니다\n"
      ],
      "metadata": {
        "colab": {
          "base_uri": "https://localhost:8080/"
        },
        "id": "XCv2rci5yL5D",
        "outputId": "f4d5d6b4-23ed-4a85-f0e5-ca615a269630"
      },
      "execution_count": null,
      "outputs": [
        {
          "output_type": "stream",
          "name": "stdout",
          "text": [
            "Laptop\n",
            "{'product': 'Laptop', 'category': 'Electronics', 'quantity': 5, 'price': 999.99}\n"
          ]
        }
      ]
    },
    {
      "cell_type": "code",
      "source": [],
      "metadata": {
        "id": "5eF2x_pYyRqj"
      },
      "execution_count": null,
      "outputs": []
    }
  ]
}