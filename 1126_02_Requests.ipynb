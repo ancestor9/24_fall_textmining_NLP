{
  "nbformat": 4,
  "nbformat_minor": 0,
  "metadata": {
    "colab": {
      "provenance": [],
      "include_colab_link": true
    },
    "kernelspec": {
      "name": "python3",
      "display_name": "Python 3"
    },
    "language_info": {
      "name": "python"
    }
  },
  "cells": [
    {
      "cell_type": "markdown",
      "metadata": {
        "id": "view-in-github",
        "colab_type": "text"
      },
      "source": [
        "<a href=\"https://colab.research.google.com/github/ancestor9/24_fall_textmining_NLP/blob/main/1126_02_Requests.ipynb\" target=\"_parent\"><img src=\"https://colab.research.google.com/assets/colab-badge.svg\" alt=\"Open In Colab\"/></a>"
      ]
    },
    {
      "cell_type": "markdown",
      "source": [
        "# **API Request**\n",
        "<img src='https://media.geeksforgeeks.org/wp-content/uploads/20230216170349/What-is-an-API.png'>\n",
        "\n",
        ">##### API(application programming interface 애플리케이션 프로그래밍 인터페이스, 응용 프로그램 프로그래밍 인터페이스)는 컴퓨터나 컴퓨터 프로그램 사이의 연결이다. 일종의 소프트웨어 인터페이스이며 다른 종류의 소프트웨어에 서비스를 제공한다.(wiki)\n",
        ">> - 1. 서로 다른 소프트웨어시스템간의 통신 (print('Hello'), document.write('Hello'), Scikit-learn의 Estimators API)\n",
        "<img src = 'https://scikit-learn.org/stable/_static/ml_map.png'>\n",
        "- https://scikit-learn.org/stable/modules/classes.html\n",
        ">> - 2. 인터넷 환경에서 특정 유형의 서버에 상주하며 일종의 데이터베이스를 조작한다\n",
        "<img src='https://miro.medium.com/v2/resize:fit:1100/format:webp/1*OcmVkcsM5BWRHrg8GC17iw.png'>\n",
        "- An API is not a database. It is an access point to an app that can access a database."
      ],
      "metadata": {
        "id": "F2lo4aFffn0N"
      }
    },
    {
      "cell_type": "markdown",
      "source": [
        "\n",
        "- https://requests.readthedocs.io/en/latest/"
      ],
      "metadata": {
        "id": "pCxxG9B6kqQk"
      }
    },
    {
      "cell_type": "code",
      "source": [
        "import requests\n",
        "r = requests.get('https://api.github.com/events')\n",
        "r.status_code"
      ],
      "metadata": {
        "id": "FcfjZju-fpwk",
        "colab": {
          "base_uri": "https://localhost:8080/"
        },
        "outputId": "45a801a1-19a6-4d3e-f90a-6c3de83515f7"
      },
      "execution_count": null,
      "outputs": [
        {
          "output_type": "execute_result",
          "data": {
            "text/plain": [
              "200"
            ]
          },
          "metadata": {},
          "execution_count": 1
        }
      ]
    },
    {
      "cell_type": "code",
      "source": [
        "r.headers"
      ],
      "metadata": {
        "colab": {
          "base_uri": "https://localhost:8080/"
        },
        "id": "ZX_wRigOKSgL",
        "outputId": "ffe27142-5492-4dca-e6cf-3752bea757b7"
      },
      "execution_count": null,
      "outputs": [
        {
          "output_type": "execute_result",
          "data": {
            "text/plain": [
              "{'Date': 'Sun, 24 Nov 2024 12:57:41 GMT', 'Content-Type': 'application/json; charset=utf-8', 'Cache-Control': 'public, max-age=60, s-maxage=60', 'Vary': 'Accept,Accept-Encoding, Accept, X-Requested-With', 'ETag': 'W/\"9abeb0d37489c6dc341a519052302f3961ff7687ef08df0d7362bde89486b3db\"', 'Last-Modified': 'Sun, 24 Nov 2024 12:52:41 GMT', 'X-Poll-Interval': '60', 'X-GitHub-Media-Type': 'github.v3; format=json', 'Link': '<https://api.github.com/events?page=2>; rel=\"next\", <https://api.github.com/events?page=10>; rel=\"last\"', 'x-github-api-version-selected': '2022-11-28', 'Access-Control-Expose-Headers': 'ETag, Link, Location, Retry-After, X-GitHub-OTP, X-RateLimit-Limit, X-RateLimit-Remaining, X-RateLimit-Used, X-RateLimit-Resource, X-RateLimit-Reset, X-OAuth-Scopes, X-Accepted-OAuth-Scopes, X-Poll-Interval, X-GitHub-Media-Type, X-GitHub-SSO, X-GitHub-Request-Id, Deprecation, Sunset', 'Access-Control-Allow-Origin': '*', 'Strict-Transport-Security': 'max-age=31536000; includeSubdomains; preload', 'X-Frame-Options': 'deny', 'X-Content-Type-Options': 'nosniff', 'X-XSS-Protection': '0', 'Referrer-Policy': 'origin-when-cross-origin, strict-origin-when-cross-origin', 'Content-Security-Policy': \"default-src 'none'\", 'Content-Encoding': 'gzip', 'Server': 'github.com', 'X-RateLimit-Limit': '60', 'X-RateLimit-Remaining': '59', 'X-RateLimit-Reset': '1732456661', 'X-RateLimit-Resource': 'core', 'X-RateLimit-Used': '1', 'Accept-Ranges': 'bytes', 'Transfer-Encoding': 'chunked', 'X-GitHub-Request-Id': '82D6:16D35:206F64D:20CB5AB:674322C5'}"
            ]
          },
          "metadata": {},
          "execution_count": 2
        }
      ]
    },
    {
      "cell_type": "markdown",
      "source": [
        "\n",
        ">>> - https://developer.mozilla.org/en-US/docs/Web/HTTP/Status#successful_responses"
      ],
      "metadata": {
        "id": "MgFu2c6s9n_n"
      }
    },
    {
      "cell_type": "code",
      "source": [
        "r.headers['content-type']\n",
        "# 응답 객체 r에서 Content Type 헤더의 값으로 응답으로 전송되는 리소스의 미디어 유형\n",
        "# 예를 들어, 응답 본문이 JSON 형식 (application/json)이거나 HTML 형식 (text/html) 등"
      ],
      "metadata": {
        "colab": {
          "base_uri": "https://localhost:8080/",
          "height": 35
        },
        "id": "WRv8Mvp2g6Lj",
        "outputId": "31d8ba11-b4df-411b-eaa7-6c6a15d82b4d"
      },
      "execution_count": null,
      "outputs": [
        {
          "output_type": "execute_result",
          "data": {
            "text/plain": [
              "'application/json; charset=utf-8'"
            ],
            "application/vnd.google.colaboratory.intrinsic+json": {
              "type": "string"
            }
          },
          "metadata": {},
          "execution_count": 3
        }
      ]
    },
    {
      "cell_type": "code",
      "source": [
        "r.encoding"
      ],
      "metadata": {
        "colab": {
          "base_uri": "https://localhost:8080/",
          "height": 35
        },
        "id": "fAlsX2OQg-Xw",
        "outputId": "41932139-bd26-49bc-d347-c685de24e0cd"
      },
      "execution_count": null,
      "outputs": [
        {
          "output_type": "execute_result",
          "data": {
            "text/plain": [
              "'utf-8'"
            ],
            "application/vnd.google.colaboratory.intrinsic+json": {
              "type": "string"
            }
          },
          "metadata": {},
          "execution_count": 4
        }
      ]
    },
    {
      "cell_type": "code",
      "source": [
        "r.text"
      ],
      "metadata": {
        "colab": {
          "base_uri": "https://localhost:8080/",
          "height": 126
        },
        "id": "NCeVDgeiiUOt",
        "outputId": "ee52a6fd-e681-4571-a2c1-63cbdd422da3",
        "collapsed": true
      },
      "execution_count": null,
      "outputs": [
        {
          "output_type": "execute_result",
          "data": {
            "text/plain": [
              "'[{\"id\":\"44136789705\",\"type\":\"PushEvent\",\"actor\":{\"id\":41898282,\"login\":\"github-actions[bot]\",\"display_login\":\"github-actions\",\"gravatar_id\":\"\",\"url\":\"https://api.github.com/users/github-actions[bot]\",\"avatar_url\":\"https://avatars.githubusercontent.com/u/41898282?\"},\"repo\":{\"id\":514653792,\"name\":\"AraujoRobson/AraujoRobson\",\"url\":\"https://api.github.com/repos/AraujoRobson/AraujoRobson\"},\"payload\":{\"repository_id\":514653792,\"push_id\":21373331049,\"size\":1,\"distinct_size\":1,\"ref\":\"refs/heads/output\",\"head\":\"9fac7f06418b3cb3aca5b026d95b64ad53fb54b0\",\"before\":\"7bb8c9a56ab935d38c3c9ad85a7b781eb718dfa6\",\"commits\":[{\"sha\":\"9fac7f06418b3cb3aca5b026d95b64ad53fb54b0\",\"author\":{\"email\":\"41898282+github-actions[bot]@users.noreply.github.com\",\"name\":\"github-actions[bot]\"},\"message\":\"Deploy to GitHub pages\",\"distinct\":true,\"url\":\"https://api.github.com/repos/AraujoRobson/AraujoRobson/commits/9fac7f06418b3cb3aca5b026d95b64ad53fb54b0\"}]},\"public\":true,\"created_at\":\"2024-11-24T12:52:41Z\"},{\"id\":\"44136789711\",\"type\":\"WatchEvent\",\"actor\":{\"id\":55054375,\"login\":\"Qodestackr\",\"display_login\":\"Qodestackr\",\"gravatar_id\":\"\",\"url\":\"https://api.github.com/users/Qodestackr\",\"avatar_url\":\"https://avatars.githubusercontent.com/u/55054375?\"},\"repo\":{\"id\":3259980,\"name\":\"moloney/dcmstack\",\"url\":\"https://api.github.com/repos/moloney/dcmstack\"},\"payload\":{\"action\":\"started\"},\"public\":true,\"created_at\":\"2024-11-24T12:52:41Z\"},{\"id\":\"44136789709\",\"type\":\"IssuesEvent\",\"actor\":{\"id\":72021263,\"login\":\"NassimAlaimi\",\"display_login\":\"NassimAlaimi\",\"gravatar_id\":\"\",\"url\":\"https://api.github.com/users/NassimAlaimi\",\"avatar_url\":\"https://avatars.githubusercontent.com/u/72021263?\"},\"repo\":{\"id\":635928326,\"name\":\"Team-Scandela/Scandela\",\"url\":\"https://api.github.com/repos/Team-Scandela/Scandela\"},\"payload\":{\"action\":\"closed\",\"issue\":{\"url\":\"https://api.github.com/repos/Team-Scandela/Scandela/issues/425\",\"repository_url\":\"https://api.github.com/repos/Team-Scandela/Scandela\",\"labels_url\":\"https://api.github.com/repos/Team-Scandela/Scandela/issues/425/labels{/name}\",\"comments_url\":\"https://api.github.com/repos/Team-Scandela/Scandela/issues/425/comments\",\"events_url\":\"https://api.github.com/repos/Team-Scandela/Scandela/issues/425/events\",\"html_url\":\"https://github.com/Team-Scandela/Scandela/issues/425\",\"id\":2687562352,\"node_id\":\"I_kwDOJed_Bs6gMPJw\",\"number\":425,\"title\":\"fix unvalidate decisions\",\"user\":{\"login\":\"titouandeschanels\",\"id\":72013271,\"node_id\":\"MDQ6VXNlcjcyMDEzMjcx\",\"avatar_url\":\"https://avatars.githubusercontent.com/u/72013271?v=4\",\"gravatar_id\":\"\",\"url\":\"https://api.github.com/users/titouandeschanels\",\"html_url\":\"https://github.com/titouandeschanels\",\"followers_url\":\"https://api.github.com/users/titouandeschanels/followers\",\"following_url\":\"https://api.github.com/users/titouandeschanels/following{/other_user}\",\"gists_url\":\"https://api.github.com/users/titouandeschanels/gists{/gist_id}\",\"starred_url\":\"https://api.github.com/users/titouandeschanels/starred{/owner}{/repo}\",\"subscriptions_url\":\"https://api.github.com/users/titouandeschanels/subscriptions\",\"organizations_url\":\"https://api.github.com/users/titouandeschanels/orgs\",\"repos_url\":\"https://api.github.com/users/titouandeschanels/repos\",\"events_url\":\"https://api.github.com/users/titouandeschanels/events{/privacy}\",\"received_events_url\":\"https://api.github.com/users/titouandeschanels/received_events\",\"type\":\"User\",\"user_view_type\":\"public\",\"site_admin\":false},\"labels\":[],\"state\":\"closed\",\"locked\":false,\"assignee\":{\"login\":\"titouandeschanels\",\"id\":72013271,\"node_id\":\"MDQ6VXNlcjcyMDEzMjcx\",\"avatar_url\":\"https://avatars.githubusercontent.com/u/72013271?v=4\",\"gravatar_id\":\"\",\"url\":\"https://api.github.com/users/titouandeschanels\",\"html_url\":\"https://github.com/titouandeschanels\",\"followers_url\":\"https://api.github.com/users/titouandeschanels/followers\",\"following_url\":\"https://api.github.com/users/titouandeschanels/following{/other_user}\",\"gists_url\":\"https://api.github.com/users/titouandeschanels/gists{/gist_id}\",\"starred_url\":\"https://api.github.com/users/titouandeschanels/starred{/owner}{/repo}\",\"subscriptions_url\":\"https://api.github.com/users/titouandeschanels/subscriptions\",\"organizations_url\":\"https://api.github.com/users/titouandeschanels/orgs\",\"repos_url\":\"https://api.github.com/users/titouandeschanels/repos\",\"events_url\":\"https://api.github.com/users/titouandeschanels/events{/privacy}\",\"received_events_url\":\"https://api.github.com/users/titouandeschanels/received_events\",\"type\":\"User\",\"user_view_type\":\"public\",\"site_admin\":false},\"assignees\":[{\"login\":\"titouandeschanels\",\"id\":72013271,\"node_id\":\"MDQ6VXNlcjcyMDEzMjcx\",\"avatar_url\":\"https://avatars.githubusercontent.com/u/72013271?v=4\",\"gravatar_id\":\"\",\"url\":\"https://api.github.com/users/titouandeschanels\",\"html_url\":\"https://github.com/titouandeschanels\",\"followers_url\":\"https://api.github.com/users/titouandeschanels/followers\",\"following_url\":\"https://api.github.com/users/titouandeschanels/following{/other_user}\",\"gists_url\":\"https://api.github.com/users/titouandeschanels/gists{/gist_id}\",\"starred_url\":\"https://api.github.com/users/titouandeschanels/starred{/owner}{/repo}\",\"subscriptions_url\":\"https://api.github.com/users/titouandeschanels/subscriptions\",\"organizations_url\":\"https://api.github.com/users/titouandeschanels/orgs\",\"repos_url\":\"https://api.github.com/users/titouandeschanels/repos\",\"events_url\":\"https://api.github.com/users/titouandeschanels/events{/privacy}\",\"received_events_url\":\"https://api.github.com/users/titouandeschanels/received_events\",\"type\":\"User\",\"user_view_type\":\"public\",\"site_admin\":false}],\"milestone\":null,\"comments\":0,\"created_at\":\"2024-11-24T10:51:45Z\",\"updated_at\":\"2024-11-24T12:52:40Z\",\"closed_at\":\"2024-11-24T12:52:40Z\",\"author_association\":\"COLLABORATOR\",\"active_lock_reason\":null,\"body\":null,\"reactions\":{\"url\":\"https://api.github.com/repos/Team-Scandela/Scandela/issues/425/reactions\",\"total_count\":0,\"+1\":0,\"-1\":0,\"laugh\":0,\"hooray\":0,\"confused\":0,\"heart\":0,\"rocket\":0,\"eyes\":0},\"timeline_url\":\"https://api.github.com/repos/Team-Scandela/Scandela/issues/425/timeline\",\"performed_via_github_app\":null,\"state_reason\":\"completed\"}},\"public\":true,\"created_at\":\"2024-11-24T12:52:41Z\",\"org\":{\"id\":132495851,\"login\":\"Team-Scandela\",\"gravatar_id\":\"\",\"url\":\"https://api.github.com/orgs/Team-Scandela\",\"avatar_url\":\"https://avatars.githubusercontent.com/u/132495851?\"}},{\"id\":\"44136789703\",\"type\":\"PushEvent\",\"actor\":{\"id\":41898282,\"login\":\"github-actions[bot]\",\"display_login\":\"github-actions\",\"gravatar_id\":\"\",\"url\":\"https://api.github.com/users/github-actions[bot]\",\"avatar_url\":\"https://avatars.githubusercontent.com/u/41898282?\"},\"repo\":{\"id\":429213964,\"name\":\"MariaLuizaDMoura/MariaLuizaDMoura\",\"url\":\"https://api.github.com/repos/MariaLuizaDMoura/MariaLuizaDMoura\"},\"payload\":{\"repository_id\":429213964,\"push_id\":21373331033,\"size\":1,\"distinct_size\":1,\"ref\":\"refs/heads/output\",\"head\":\"9fac7f06418b3cb3aca5b026d95b64ad53fb54b0\",\"before\":\"db7305cc31c4f03f3c0ce7efd1ca5921cb57e8b6\",\"commits\":[{\"sha\":\"9fac7f06418b3cb3aca5b026d95b64ad53fb54b0\",\"author\":{\"email\":\"41898282+github-actions[bot]@users.noreply.github.com\",\"name\":\"github-actions[bot]\"},\"message\":\"Deploy to GitHub pages\",\"distinct\":true,\"url\":\"https://api.github.com/repos/MariaLuizaDMoura/MariaLuizaDMoura/commits/9fac7f06418b3cb3aca5b026d95b64ad53fb54b0\"}]},\"public\":true,\"created_at\":\"2024-11-24T12:52:41Z\"},{\"id\":\"44136789699\",\"type\":\"PushEvent\",\"actor\":{\"id\":41898282,\"login\":\"github-actions[bot]\",\"display_login\":\"github-actions\",\"gravatar_id\":\"\",\"url\":\"https://api.github.com/users/github-actions[bot]\",\"avatar_url\":\"https://avatars.githubusercontent.com/u/41898282?\"},\"repo\":{\"id\":442881997,\"name\":\"pedrobrossmann/pedrobrossmann\",\"url\":\"https://api.github.com/repos/pedrobrossmann/pedrobrossmann\"},\"payload\":{\"repository_id\":442881997,\"push_id\":21373331034,\"size\":1,\"distinct_size\":1,\"ref\":\"refs/heads/output\",\"head\":\"9fac7f06418b3cb3aca5b026d95b64ad53fb54b0\",\"before\":\"c0fd522bf00faa7e9d528c5a71466a6a45e653a1\",\"commits\":[{\"sha\":\"9fac7f06418b3cb3aca5b026d95b64ad53fb54b0\",\"author\":{\"email\":\"41898282+github-actions[bot]@users.noreply.github.com\",\"name\":\"github-actions[bot]\"},\"message\":\"Deploy to GitHub pages\",\"distinct\":true,\"url\":\"https://api.github.com/repos/pedrobrossmann/pedrobrossmann/commits/9fac7f06418b3cb3aca5b026d95b64ad53fb54b0\"}]},\"public\":true,\"created_at\":\"2024-11-24T12:52:41Z\"},{\"id\":\"44136789697\",\"type\":\"PushEvent\",\"actor\":{\"id\":72662912,\"login\":\"lherbeng\",\"display_login\":\"lherbeng\",\"gravatar_id\":\"\",\"url\":\"https://api.github.com/users/lherbeng\",\"avatar_url\":\"https://avatars.githubusercontent.com/u/72662912?\"},\"repo\":{\"id\":843810964,\"name\":\"lherbeng/RKE2\",\"url\":\"https://api.github.com/repos/lherbeng/RKE2\"},\"payload\":{\"repository_id\":843810964,\"push_id\":21373331062,\"size\":1,\"distinct_size\":1,\"ref\":\"refs/heads/main\",\"head\":\"3e71f11403a961b673d2adfc478742815bdc55fb\",\"before\":\"9b96cd739a0ab255b4efc9a3e0d05e1a467bd02d\",\"commits\":[{\"sha\":\"3e71f11403a961b673d2adfc478742815bdc55fb\",\"author\":{\"email\":\"lherbeng@gmail.com\",\"name\":\"Lherben\"},\"message\":\"Updated Jenkinsfile\",\"distinct\":true,\"url\":\"https://api.github.com/repos/lherbeng/RKE2/commits/3e71f11403a961b673d2adfc478742815bdc55fb\"}]},\"public\":true,\"created_at\":\"2024-11-24T12:52:41Z\"},{\"id\":\"44136789702\",\"type\":\"CreateEvent\",\"actor\":{\"id\":142512674,\"login\":\"NaveenReddy7013\",\"display_login\":\"NaveenReddy7013\",\"gravatar_id\":\"\",\"url\":\"https://api.github.com/users/NaveenReddy7013\",\"avatar_url\":\"https://avatars.githubusercontent.com/u/142512674?\"},\"repo\":{\"id\":893435379,\"name\":\"NaveenReddy7013/employee-management-application\",\"url\":\"https://api.github.com/repos/NaveenReddy7013/employee-management-application\"},\"payload\":{\"ref\":null,\"ref_type\":\"repository\",\"master_branch\":\"main\",\"description\":null,\"pusher_type\":\"user\"},\"public\":true,\"created_at\":\"2024-11-24T12:52:41Z\"},{\"id\":\"44136789694\",\"type\":\"PushEvent\",\"actor\":{\"id\":41898282,\"login\":\"github-actions[bot]\",\"display_login\":\"github-actions\",\"gravatar_id\":\"\",\"url\":\"https://api.github.com/users/github-actions[bot]\",\"avatar_url\":\"https://avatars.githubusercontent.com/u/41898282?\"},\"repo\":{\"id\":427131816,\"name\":\"letidesi/letidesi\",\"url\":\"https://api.github.com/repos/letidesi/letidesi\"},\"payload\":{\"repository_id\":427131816,\"push_id\":21373331032,\"size\":1,\"distinct_size\":1,\"ref\":\"refs/heads/output\",\"head\":\"9fac7f06418b3cb3aca5b026d95b64ad53fb54b0\",\"before\":\"5473ca91b8dcfec04a57448a719f14eba4171865\",\"commits\":[{\"sha\":\"9fac7f06418b3cb3aca5b026d95b64ad53fb54b0\",\"author\":{\"email\":\"41898282+github-actions[bot]@users.noreply.github.com\",\"name\":\"github-actions[bot]\"},\"message\":\"Deploy to GitHub pages\",\"distinct\":true,\"url\":\"https://api.github.com/repos/letidesi/letidesi/commits/9fac7f06418b3cb3aca5b026d95b64ad53fb54b0\"}]},\"public\":true,\"created_at\":\"2024-11-24T12:52:41Z\"},{\"id\":\"44136789696\",\"type\":\"PushEvent\",\"actor\":{\"id\":41898282,\"login\":\"github-actions[bot]\",\"display_login\":\"github-actions\",\"gravatar_id\":\"\",\"url\":\"https://api.github.com/users/github-actions[bot]\",\"avatar_url\":\"https://avatars.githubusercontent.com/u/41898282?\"},\"repo\":{\"id\":840148192,\"name\":\"nectariferous/TestFlight\",\"url\":\"https://api.github.com/repos/nectariferous/TestFlight\"},\"payload\":{\"repository_id\":840148192,\"push_id\":21373331050,\"size\":1,\"distinct_size\":1,\"ref\":\"refs/heads/main\",\"head\":\"d336fed7baa9086df95029ebf2a31be88a8c6dfa\",\"before\":\"4d2686362542c44be180140b7c9c85d39f1fccd8\",\"commits\":[{\"sha\":\"d336fed7baa9086df95029ebf2a31be88a8c6dfa\",\"author\":{\"email\":\"dsbook98@hotmail.com\",\"name\":\"daegi7672\"},\"message\":\"Daily update at 2024-11-24 12:52:39\",\"distinct\":true,\"url\":\"https://api.github.com/repos/nectariferous/TestFlight/commits/d336fed7baa9086df95029ebf2a31be88a8c6dfa\"}]},\"public\":true,\"created_at\":\"2024-11-24T12:52:41Z\"},{\"id\":\"44136789689\",\"type\":\"PushEvent\",\"actor\":{\"id\":58503290,\"login\":\"chel12\",\"display_login\":\"chel12\",\"gravatar_id\":\"\",\"url\":\"https://api.github.com/users/chel12\",\"avatar_url\":\"https://avatars.githubusercontent.com/u/58503290?\"},\"repo\":{\"id\":871555866,\"name\":\"chel12/NextProject\",\"url\":\"https://api.github.com/repos/chel12/NextProject\"},\"payload\":{\"repository_id\":871555866,\"push_id\":21373331035,\"size\":1,\"distinct_size\":1,\"ref\":\"refs/heads/main\",\"head\":\"80661dcf185773155e86335b7ab3e556195b2cba\",\"before\":\"943034e35da47ea0b720d9ad47251017cc953d54\",\"commits\":[{\"sha\":\"80661dcf185773155e86335b7ab3e556195b2cba\",\"author\":{\"email\":\"sema.chel12@gmail.com\",\"name\":\"Semyon\"},\"message\":\"update:search-input(overlay)\",\"distinct\":true,\"url\":\"https://api.github.com/repos/chel12/NextProject/commits/80661dcf185773155e86335b7ab3e556195b2cba\"}]},\"public\":true,\"created_at\":\"2024-11-24T12:52:41Z\"},{\"id\":\"44136789690\",\"type\":\"WatchEvent\",\"actor\":{\"id\":9156073,\"login\":\"StevenCoober\",\"display_login\":\"StevenCoober\",\"gravatar_id\":\"\",\"url\":\"https://api.github.com/users/StevenCoober\",\"avatar_url\":\"https://avatars.githubusercontent.com/u/9156073?\"},\"repo\":{\"id\":401763924,\"name\":\"Manistein/let-us-build-a-lua-interpreter\",\"url\":\"https://api.github.com/repos/Manistein/let-us-build-a-lua-interpreter\"},\"payload\":{\"action\":\"started\"},\"public\":true,\"created_at\":\"2024-11-24T12:52:41Z\"},{\"id\":\"44136789677\",\"type\":\"PushEvent\",\"actor\":{\"id\":24502430,\"login\":\"abubkr-hago\",\"display_login\":\"abubkr-hago\",\"gravatar_id\":\"\",\"url\":\"https://api.github.com/users/abubkr-hago\",\"avatar_url\":\"https://avatars.githubusercontent.com/u/24502430?\"},\"repo\":{\"id\":893339780,\"name\":\"abubkr-hago/star-wars-application\",\"url\":\"https://api.github.com/repos/abubkr-hago/star-wars-application\"},\"payload\":{\"repository_id\":893339780,\"push_id\":21373331037,\"size\":1,\"distinct_size\":1,\"ref\":\"refs/heads/main\",\"head\":\"08ecfad3775b09dd34ec8b6254f3e85a45b25da1\",\"before\":\"dd06e71dfad3b595c194579e641e62a7f01f8f52\",\"commits\":[{\"sha\":\"08ecfad3775b09dd34ec8b6254f3e85a45b25da1\",\"author\":{\"email\":\"24502430+abubkr-hago@users.noreply.github.com\",\"name\":\"Abubkr Hago\"},\"message\":\"ci: fix release and deploy actions\",\"distinct\":true,\"url\":\"https://api.github.com/repos/abubkr-hago/star-wars-application/commits/08ecfad3775b09dd34ec8b6254f3e85a45b25da1\"}]},\"public\":true,\"created_at\":\"2024-11-24T12:52:41Z\"},{\"id\":\"44136789672\",\"type\":\"PushEvent\",\"actor\":{\"id\":41898282,\"login\":\"github-actions[bot]\",\"display_login\":\"github-actions\",\"gravatar_id\":\"\",\"url\":\"https://api.github.com/users/github-actions[bot]\",\"avatar_url\":\"https://avatars.githubusercontent.com/u/41898282?\"},\"repo\":{\"id\":881924372,\"name\":\"Ad-Cat/Commits\",\"url\":\"https://api.github.com/repos/Ad-Cat/Commits\"},\"payload\":{\"repository_id\":881924372,\"push_id\":21373330994,\"size\":1,\"distinct_size\":1,\"ref\":\"refs/heads/main\",\"head\":\"094d47b4a36fc8dc23f521adde6e66a02ef2d2c1\",\"before\":\"c7dc93391a0a38070d901e90de7f2d80dd3f93d3\",\"commits\":[{\"sha\":\"094d47b4a36fc8dc23f521adde6e66a02ef2d2c1\",\"author\":{\"email\":\"Ad_closeNN@outlook.com\",\"name\":\"Ad-Cat\"},\"message\":\"auto-run\",\"distinct\":true,\"url\":\"https://api.github.com/repos/Ad-Cat/Commits/commits/094d47b4a36fc8dc23f521adde6e66a02ef2d2c1\"}]},\"public\":true,\"created_at\":\"2024-11-24T12:52:41Z\"},{\"id\":\"44136789671\",\"type\":\"PushEvent\",\"actor\":{\"id\":174851683,\"login\":\"V2RAYCONFIGSPOOL\",\"display_login\":\"V2RAYCONFIGSPOOL\",\"gravatar_id\":\"\",\"url\":\"https://api.github.com/users/V2RAYCONFIGSPOOL\",\"avatar_url\":\"https://avatars.githubusercontent.com/u/174851683?\"},\"repo\":{\"id\":824834695,\"name\":\"V2RAYCONFIGSPOOL/V2RAY_SUB\",\"url\":\"https://api.github.com/repos/V2RAYCONFIGSPOOL/V2RAY_SUB\"},\"payload\":{\"repository_id\":824834695,\"push_id\":21373331014,\"size\":1,\"distinct_size\":1,\"ref\":\"refs/heads/main\",\"head\":\"b8f007d0476d07b3b8c6910abb10b1da00199a3c\",\"before\":\"e61d53767a8eef4fc3d6bbebadc8212bbbdd6451\",\"commits\":[{\"sha\":\"b8f007d0476d07b3b8c6910abb10b1da00199a3c\",\"author\":{\"email\":\"mehdipost685@gmail.com\",\"name\":\"V2RAYCONFIGSPOOL\"},\"message\":\"Update file\",\"distinct\":true,\"url\":\"https://api.github.com/repos/V2RAYCONFIGSPOOL/V2RAY_SUB/commits/b8f007d0476d07b3b8c6910abb10b1da00199a3c\"}]},\"public\":true,\"created_at\":\"2024-11-24T12:52:41Z\"},{\"id\":\"44136789670\",\"type\":\"PushEvent\",\"actor\":{\"id\":86289926,\"login\":\"yyubin\",\"display_login\":\"yyubin\",\"gravatar_id\":\"\",\"url\":\"https://api.github.com/users/yyubin\",\"avatar_url\":\"https://avatars.githubusercontent.com/u/86289926?\"},\"repo\":{\"id\":893417546,\"name\":\"yyubin/mini-cat\",\"url\":\"https://api.github.com/repos/yyubin/mini-cat\"},\"payload\":{\"repository_id\":893417546,\"push_id\":21373331018,\"size\":3,\"distinct_size\":3,\"ref\":\"refs/heads/main\",\"head\":\"b3536b273a5b61ac0259b6b2739d88a383291b74\",\"before\":\"d5ad375542c4c9fd7e32fb116ba95a73efbd2491\",\"commits\":[{\"sha\":\"8894b2673f446d22ca40401b899c3d2a2b576862\",\"author\":{\"email\":\"hazing120@gmail.com\",\"name\":\"yyubin\"},\"message\":\"소켓 열어서 스레드에 요청 할당해주기\",\"distinct\":true,\"url\":\"https://api.github.com/repos/yyubin/mini-cat/commits/8894b2673f446d22ca40401b899c3d2a2b576862\"},{\"sha\":\"b68576e6c1dfa19ae28950d61fe3f5feb1b1352f\",\"author\":{\"email\":\"hazing120@gmail.com\",\"name\":\"yyubin\"},\"message\":\"스레드풀로 스레드 관리\",\"distinct\":true,\"url\":\"https://api.github.com/repos/yyubin/mini-cat/commits/b68576e6c1dfa19ae28950d61fe3f5feb1b1352f\"},{\"sha\":\"b3536b273a5b61ac0259b6b2739d88a383291b74\",\"author\":{\"email\":\"hazing120@gmail.com\",\"name\":\"yyubin\"},\"message\":\"Add README.md\",\"distinct\":true,\"url\":\"https://api.github.com/repos/yyubin/mini-cat/commits/b3536b273a5b61ac0259b6b2739d88a383291b74\"}]},\"public\":true,\"created_at\":\"2024-11-24T12:52:41Z\"},{\"id\":\"44136789664\",\"type\":\"DeleteEvent\",\"actor\":{\"id\":1223308,\"login\":\"rdlopes\",\"display_login\":\"rdlopes\",\"gravatar_id\":\"\",\"url\":\"https://api.github.com/users/rdlopes\",\"avatar_url\":\"https://avatars.githubusercontent.com/u/1223308?\"},\"repo\":{\"id\":548522074,\"name\":\"rdlopes/maven-root-pom\",\"url\":\"https://api.github.com/repos/rdlopes/maven-root-pom\"},\"payload\":{\"ref\":\"renovate/nexus-staging-maven-plugin.version\",\"ref_type\":\"branch\",\"pusher_type\":\"user\"},\"public\":true,\"created_at\":\"2024-11-24T12:52:41Z\"},{\"id\":\"44136789663\",\"type\":\"PullRequestEvent\",\"actor\":{\"id\":34191203,\"login\":\"masx200\",\"display_login\":\"masx200\",\"gravatar_id\":\"\",\"url\":\"https://api.github.com/users/masx200\",\"avatar_url\":\"https://avatars.githubusercontent.com/u/34191203?\"},\"repo\":{\"id\":893433736,\"name\":\"masx200/hostile\",\"url\":\"https://api.github.com/repos/masx200/hostile\"},\"payload\":{\"action\":\"closed\",\"number\":3,\"pull_request\":{\"url\":\"https://api.github.com/repos/masx200/hostile/pulls/3\",\"id\":2196763608,\"node_id\":\"PR_kwDONUC3iM6C7_PY\",\"html_url\":\"https://github.com/masx200/hostile/pull/3\",\"diff_url\":\"https://github.com/masx200/hostile/pull/3.diff\",\"patch_url\":\"https://github.com/masx200/hostile/pull/3.patch\",\"issue_url\":\"https://api.github.com/repos/masx200/hostile/issues/3\",\"number\":3,\"state\":\"closed\",\"locked\":false,\"title\":\"Bump chalk from 4.1.2 to 5.3.0\",\"user\":{\"login\":\"dependabot[bot]\",\"id\":49699333,\"node_id\":\"MDM6Qm90NDk2OTkzMzM=\",\"avatar_url\":\"https://avatars.githubusercontent.com/in/29110?v=4\",\"gravatar_id\":\"\",\"url\":\"https://api.github.com/users/dependabot%5Bbot%5D\",\"html_url\":\"https://github.com/apps/dependabot\",\"followers_url\":\"https://api.github.com/users/dependabot%5Bbot%5D/followers\",\"following_url\":\"https://api.github.com/users/dependabot%5Bbot%5D/following{/other_user}\",\"gists_url\":\"https://api.github.com/users/dependabot%5Bbot%5D/gists{/gist_id}\",\"starred_url\":\"https://api.github.com/users/dependabot%5Bbot%5D/starred{/owner}{/repo}\",\"subscriptions_url\":\"https://api.github.com/users/dependabot%5Bbot%5D/subscriptions\",\"organizations_url\":\"https://api.github.com/users/dependabot%5Bbot%5D/orgs\",\"repos_url\":\"https://api.github.com/users/dependabot%5Bbot%5D/repos\",\"events_url\":\"https://api.github.com/users/dependabot%5Bbot%5D/events{/privacy}\",\"received_events_url\":\"https://api.github.com/users/dependabot%5Bbot%5D/received_events\",\"type\":\"Bot\",\"user_view_type\":\"public\",\"site_admin\":false},\"body\":\"Bumps [chalk](https://github.com/chalk/chalk) from 4.1.2 to 5.3.0.\\\\n<details>\\\\n<summary>Release notes</summary>\\\\n<p><em>Sourced from <a href=\\\\\"https://github.com/chalk/chalk/releases\\\\\">chalk\\'s releases</a>.</em></p>\\\\n<blockquote>\\\\n<h2>v5.3.0</h2>\\\\n<ul>\\\\n<li>Add <code>sideEffects</code> field to package.json  5aafc0a</li>\\\\n<li>Add support for Gitea Actions (<a href=\\\\\"https://redirect.github.com/chalk/chalk/issues/603\\\\\">#603</a>)  29b8569</li>\\\\n</ul>\\\\n<p><a href=\\\\\"https://github.com/chalk/chalk/compare/v5.2.0...v5.3.0\\\\\">https://github.com/chalk/chalk/compare/v5.2.0...v5.3.0</a></p>\\\\n<h2>v5.2.0</h2>\\\\n<ul>\\\\n<li>Improve Deno compatibility (<a href=\\\\\"https://redirect.github.com/chalk/chalk/issues/579\\\\\">#579</a>)  7443e9f</li>\\\\n<li>Detect true-color support for GitHub Actions (<a href=\\\\\"https://redirect.github.com/chalk/chalk/issues/579\\\\\">#579</a>)  7443e9f</li>\\\\n<li>Detect true-color support for Kitty terminal (<a href=\\\\\"https://redirect.github.com/chalk/chalk/issues/579\\\\\">#579</a>)  7443e9f</li>\\\\n<li>Fix test for Azure DevOps environment (<a href=\\\\\"https://redirect.github.com/chalk/chalk/issues/579\\\\\">#579</a>)  7443e9f</li>\\\\n</ul>\\\\n<p><a href=\\\\\"https://github.com/chalk/chalk/compare/v5.1.2...v5.2.0\\\\\">https://github.com/chalk/chalk/compare/v5.1.2...v5.2.0</a></p>\\\\n<h2>v5.1.2</h2>\\\\n<ul>\\\\n<li>Fix exported styles names (<a href=\\\\\"https://redirect.github.com/chalk/chalk/issues/569\\\\\">#569</a>)  a34bcf6</li>\\\\n</ul>\\\\n<p><a href=\\\\\"https://github.com/chalk/chalk/compare/v5.1.1...v5.1.2\\\\\">https://github.com/chalk/chalk/compare/v5.1.1...v5.1.2</a></p>\\\\n<h2>v5.1.1</h2>\\\\n<ul>\\\\n<li>Improved the names of exports introduced in 5.1.0 (<a href=\\\\\"https://redirect.github.com/chalk/chalk/issues/567\\\\\">#567</a>)  6e0df05\\\\n<ul>\\\\n<li>We of course preserved the old names.</li>\\\\n</ul>\\\\n</li>\\\\n</ul>\\\\n<p><a href=\\\\\"https://github.com/chalk/chalk/compare/v5.1.0...v5.1.1\\\\\">https://github.com/chalk/chalk/compare/v5.1.0...v5.1.1</a></p>\\\\n<h2>v5.1.0</h2>\\\\n<ul>\\\\n<li>Expose style names (<a href=\\\\\"https://redirect.github.com/chalk/chalk/issues/566\\\\\">#566</a>)  d7d7571</li>\\\\n</ul>\\\\n<p><a href=\\\\\"https://github.com/chalk/chalk/compare/v5.0.1...v5.1.0\\\\\">https://github.com/chalk/chalk/compare/v5.0.1...v5.1.0</a></p>\\\\n<h2>v5.0.1</h2>\\\\n<ul>\\\\n<li>Add <code>main</code> field to package.json for backwards compatibility with some developer tools  85f7e96</li>\\\\n</ul>\\\\n<p><a href=\\\\\"https://github.com/chalk/chalk/compare/v5.0.0...v5.0.1\\\\\">https://github.com/chalk/chalk/compare/v5.0.0...v5.0.1</a></p>\\\\n<h2>v5.0.0</h2>\\\\n<h3>Breaking</h3>\\\\n<ul>\\\\n<li><strong>This package is now pure ESM. Please <a href=\\\\\"https://gist.github.com/sindresorhus/a39789f98801d908bbc7ff3ecc99d99c\\\\\">read this</a>.</strong>\\\\n<ul>\\\\n<li>If you use TypeScript, you need to use TypeScript 4.7 or later. <a href=\\\\\"https://redirect.github.com/microsoft/TypeScript/issues/46452\\\\\">Why.</a></li>\\\\n<li>If you use a bundler, make sure it supports ESM and that you have correctly configured it for ESM.</li>\\\\n<li>The Chalk issue tracker is not a support channel for your favorite build/bundler tool.</li>\\\\n<li>It\\'s totally fine to stay on Chalk v4. It\\'s been stable for years.</li>\\\\n</ul>\\\\n</li>\\\\n<li>Require Node.js 12.20  fa16f4e</li>\\\\n<li>Move some properties off the default export to individual named exports:\\\\n<ul>\\\\n<li><code>chalk.Instance</code> → <code>Chalk</code></li>\\\\n<li><code>chalk.supportsColor</code> → <code>supportsColor</code></li>\\\\n<li><code>chalk.stderr</code> → <code>chalkStderr</code></li>\\\\n<li><code>chalk.stderr.supportsColor</code> → <code>supportsColorStderr</code></li>\\\\n</ul>\\\\n</li>\\\\n<li>Remove <code>.keyword()</code>, <code>.hsl()</code>, <code>.hsv()</code>, <code>.hwb()</code>, and <code>.ansi()</code> coloring methods (<a href=\\\\\"https://redirect.github.com/chalk/chalk/issues/433\\\\\">#433</a>)  4cf2e40</li>\\\\n</ul>\\\\n<!-- raw HTML omitted -->\\\\n</blockquote>\\\\n<p>... (truncated)</p>\\\\n</details>\\\\n<details>\\\\n<summary>Commits</summary>\\\\n<ul>\\\\n<li><a href=\\\\\"https://github.com/chalk/chalk/commit/72c742d4716b1f94bb24bbda86d96fbb247ca646\\\\\"><code>72c742d</code></a> 5.3.0</li>\\\\n<li><a href=\\\\\"https://github.com/chalk/chalk/commit/5aafc0af74d06c89a2a4567aaf9d84d44af4a3aa\\\\\"><code>5aafc0a</code></a> Add <code>sideEffects</code> field to package.json</li>\\\\n<li><a href=\\\\\"https://github.com/chalk/chalk/commit/df0e69df5129a5e19acc7ae0199319a104d0e6cc\\\\\"><code>df0e69d</code></a> Fix CI</li>\\\\n<li><a href=\\\\\"https://github.com/chalk/chalk/commit/29b856959f4bee5a514c7ed48a1f6879686eadf2\\\\\"><code>29b8569</code></a> Update <code>supports-color</code> to 9.4.0 (<a href=\\\\\"https://redirect.github.com/chalk/chalk/issues/603\\\\\">#603</a>)</li>\\\\n<li><a href=\\\\\"https://github.com/chalk/chalk/commit/a370f468a43999e4397094ff5c3d17aadcc4860e\\\\\"><code>a370f46</code></a> 5.2.0</li>\\\\n<li><a href=\\\\\"https://github.com/chalk/chalk/commit/7443e9faa05b470a8a53850c2ded16fa0810a407\\\\\"><code>7443e9f</code></a> Update <code>supports-color</code> dependency (<a href=\\\\\"https://redirect.github.com/chalk/chalk/issues/579\\\\\">#579</a>)</li>\\\\n<li><a href=\\\\\"https://github.com/chalk/chalk/commit/a027e3c1e0fa8dcd850e20b7a99e73a5278e8f9a\\\\\"><code>a027e3c</code></a> Minor tweaks</li>\\\\n<li><a href=\\\\\"https://github.com/chalk/chalk/commit/79c56dfc1ea57b6762984aac86ab89acd6a9bc2c\\\\\"><code>79c56df</code></a> Update Replit badge (<a href=\\\\\"https://redirect.github.com/chalk/chalk/issues/576\\\\\">#576</a>)</li>\\\\n<li><a href=\\\\\"https://github.com/chalk/chalk/commit/c3d14f9ea81713a05d834434027a35de14c17751\\\\\"><code>c3d14f9</code></a> Update link to Truecolor in the readme (<a href=\\\\\"https://redirect.github.com/chalk/chalk/issues/573\\\\\">#573</a>)</li>\\\\n<li><a href=\\\\\"https://github.com/chalk/chalk/commit/158bf4429ee5c40fd23d45b7d43e5cbbbdf6795e\\\\\"><code>158bf44</code></a> 5.1.2</li>\\\\n<li>Additional commits viewable in <a href=\\\\\"https://github.com/chalk/chalk/compare/v4.1.2...v5.3.0\\\\\">compare view</a></li>\\\\n</ul>\\\\n</details>\\\\n<br />\\\\n\\\\n\\\\n[![Dependabot compatibility score](https://dependabot-badges.githubapp.com/badges/compatibility_score?dependency-name=chalk&package-manager=npm_and_yarn&previous-version=4.1.2&new-version=5.3.0)](https://docs.github.com/en/github/managing-security-vulnerabilities/about-dependabot-security-updates#about-compatibility-scores)\\\\n\\\\nDependabot will resolve any conflicts with this PR as long as you don\\'t alter it yourself. You can also trigger a rebase manually by commenting `@dependabot rebase`.\\\\n\\\\n[//]: # (dependabot-automerge-start)\\\\n[//]: # (dependabot-automerge-end)\\\\n\\\\n---\\\\n\\\\n<details>\\\\n<summary>Dependabot commands and options</summary>\\\\n<br />\\\\n\\\\nYou can trigger Dependabot actions by commenting on this PR:\\\\n- `@dependabot rebase` will rebase this PR\\\\n- `@dependabot recreate` will recreate this PR, overwriting any edits that have been made to it\\\\n- `@dependabot merge` will merge this PR after your CI passes on it\\\\n- `@dependabot squash and merge` will squash and merge this PR after your CI passes on it\\\\n- `@dependabot cancel merge` will cancel a previously requested merge and block automerging\\\\n- `@dependabot reopen` will reopen this PR if it is closed\\\\n- `@dependabot close` will close this PR and stop Dependabot recreating it. You can achieve the same result by closing it manually\\\\n- `@dependabot show <dependency name> ignore conditions` will show all of the ignore conditions of the specified dependency\\\\n- `@dependabot ignore this major version` will close this PR and stop Dependabot creating any more for this major version (unless you reopen the PR or upgrade to it yourself)\\\\n- `@dependabot ignore this minor version` will close this PR and stop Dependabot creating any more for this minor version (unless you reopen the PR or upgrade to it yourself)\\\\n- `@dependabot ignore this dependency` will close this PR and stop Dependabot creating any more for this dependency (unless you reopen the PR or upgrade to it yourself)\\\\n\\\\n\\\\n</details>\",\"created_at\":\"2024-11-24T12:50:37Z\",\"updated_at\":\"2024-11-24T12:52:40Z\",\"closed_at\":\"2024-11-24T12:52:40Z\",\"merged_at\":\"2024-11-24T12:52:40Z\",\"merge_commit_sha\":\"bee6cc39ad79b424069273e7b064bae00c345bd8\",\"assignee\":null,\"assignees\":[],\"requested_reviewers\":[],\"requested_teams\":[],\"labels\":[],\"milestone\":null,\"draft\":false,\"commits_url\":\"https://api.github.com/repos/masx200/hostile/pulls/3/commits\",\"review_comments_url\":\"https://api.github.com/repos/masx200/hostile/pulls/3/comments\",\"review_comment_url\":\"https://api.github.com/repos/masx200/hostile/pulls/comments{/number}\",\"comments_url\":\"https://api.github.com/repos/masx200/hostile/issues/3/comments\",\"statuses_url\":\"https://api.github.com/repos/masx200/hostile/statuses/12539c33c291debc93db420308fc587be35956bd\",\"head\":{\"label\":\"masx200:dependabot/npm_and_yarn/chalk-5.3.0\",\"ref\":\"dependabot/npm_and_yarn/chalk-5.3.0\",\"sha\":\"12539c33c291debc93db420308fc587be35956bd\",\"user\":{\"login\":\"masx200\",\"id\":34191203,\"node_id\":\"MDQ6VXNlcjM0MTkxMjAz\",\"avatar_url\":\"https://avatars.githubusercontent.com/u/34191203?v=4\",\"gravatar_id\":\"\",\"url\":\"https://api.github.com/users/masx200\",\"html_url\":\"https://github.com/masx200\",\"followers_url\":\"https://api.github.com/users/masx200/followers\",\"following_url\":\"https://api.github.com/users/masx200/following{/other_user}\",\"gists_url\":\"https://api.github.com/users/masx200/gists{/gist_id}\",\"starred_url\":\"https://api.github.com/users/masx200/starred{/owner}{/repo}\",\"subscriptions_url\":\"https://api.github.com/users/masx200/subscriptions\",\"organizations_url\":\"https://api.github.com/users/masx200/orgs\",\"repos_url\":\"https://api.github.com/users/masx200/repos\",\"events_url\":\"https://api.github.com/users/masx200/events{/privacy}\",\"received_events_url\":\"https://api.github.com/users/masx200/received_events\",\"type\":\"User\",\"user_view_type\":\"public\",\"site_admin\":false},\"repo\":{\"id\":893433736,\"node_id\":\"R_kgDONUC3iA\",\"name\":\"hostile\",\"full_name\":\"masx200/hostile\",\"private\":false,\"owner\":{\"login\":\"masx200\",\"id\":34191203,\"node_id\":\"MDQ6VXNlcjM0MTkxMjAz\",\"avatar_url\":\"https://avatars.githubusercontent.com/u/34191203?v=4\",\"gravatar_id\":\"\",\"url\":\"https://api.github.com/users/masx200\",\"html_url\":\"https://github.com/masx200\",\"followers_url\":\"https://api.github.com/users/masx200/followers\",\"following_url\":\"https://api.github.com/users/masx200/following{/other_user}\",\"gists_url\":\"https://api.github.com/users/masx200/gists{/gist_id}\",\"starred_url\":\"https://api.github.com/users/masx200/starred{/owner}{/repo}\",\"subscriptions_url\":\"https://api.github.com/users/masx200/subscriptions\",\"organizations_url\":\"https://api.github.com/users/masx200/orgs\",\"repos_url\":\"https://api.github.com/users/masx200/repos\",\"events_url\":\"https://api.github.com/users/masx200/events{/privacy}\",\"received_events_url\":\"https://api.github.com/users/masx200/received_events\",\"type\":\"User\",\"user_view_type\":\"public\",\"site_admin\":false},\"html_url\":\"https://github.com/masx200/hostile\",\"description\":\"https://github.com/feross/hostile\",\"fork\":false,\"url\":\"https://api.github.com/repos/masx200/hostile\",\"forks_url\":\"https://api.github.com/repos/masx200/hostile/forks\",\"keys_url\":\"https://api.github.com/repos/masx200/hostile/keys{/key_id}\",\"collaborators_url\":\"https://api.github.com/repos/masx200/hostile/collaborators{/collaborator}\",\"teams_url\":\"https://api.github.com/repos/masx200/hostile/teams\",\"hooks_url\":\"https://api.github.com/repos/masx200/hostile/hooks\",\"issue_events_url\":\"https://api.github.com/repos/masx200/hostile/issues/events{/number}\",\"events_url\":\"https://api.github.com/repos/masx200/hostile/events\",\"assignees_url\":\"https://api.github.com/repos/masx200/hostile/assignees{/user}\",\"branches_url\":\"https://api.github.com/repos/masx200/hostile/branches{/branch}\",\"tags_url\":\"https://api.github.com/repos/masx200/hostile/tags\",\"blobs_url\":\"https://api.github.com/repos/masx200/hostile/git/blobs{/sha}\",\"git_tags_url\":\"https://api.github.com/repos/masx200/hostile/git/tags{/sha}\",\"git_refs_url\":\"https://api.github.com/repos/masx200/hostile/git/refs{/sha}\",\"trees_url\":\"https://api.github.com/repos/masx200/hostile/git/trees{/sha}\",\"statuses_url\":\"https://api.github.com/repos/masx200/hostile/statuses/{sha}\",\"languages_url\":\"https://api.github.com/repos/masx200/hostile/languages\",\"stargazers_url\":\"https://api.github.com/repos/masx200/hostile/stargazers\",\"contributors_url\":\"https://api.github.com/repos/masx200/hostile/contributors\",\"subscribers_url\":\"https://api.github.com/repos/masx200/hostile/subscribers\",\"subscription_url\":\"https://api.github.com/repos/masx200/hostile/subscription\",\"commits_url\":\"https://api.github.com/repos/masx200/hostile/commits{/sha}\",\"git_commits_url\":\"https://api.github.com/repos/masx200/hostile/git/commits{/sha}\",\"comments_url\":\"https://api.github.com/repos/masx200/hostile/comments{/number}\",\"issue_comment_url\":\"https://api.github.com/repos/masx200/hostile/issues/comments{/number}\",\"contents_url\":\"https://api.github.com/repos/masx200/hostile/contents/{+path}\",\"compare_url\":\"https://api.github.com/repos/masx200/hostile/compare/{base}...{head}\",\"merges_url\":\"https://api.github.com/repos/masx200/hostile/merges\",\"archive_url\":\"https://api.github.com/repos/masx200/hostile/{archive_format}{/ref}\",\"downloads_url\":\"https://api.github.com/repos/masx200/hostile/downloads\",\"issues_url\":\"https://api.github.com/repos/masx200/hostile/issues{/number}\",\"pulls_url\":\"https://api.github.com/repos/masx200/hostile/pulls{/number}\",\"milestones_url\":\"https://api.github.com/repos/masx200/hostile/milestones{/number}\",\"notifications_url\":\"https://api.github.com/repos/masx200/hostile/notifications{?since,all,participating}\",\"labels_url\":\"https://api.github.com/repos/masx200/hostile/labels{/name}\",\"releases_url\":\"https://api.github.com/repos/masx200/hostile/releases{/id}\",\"deployments_url\":\"https://api.github.com/repos/masx200/hostile/deployments\",\"created_at\":\"2024-11-24T12:47:27Z\",\"updated_at\":\"2024-11-24T12:49:23Z\",\"pushed_at\":\"2024-11-24T12:50:36Z\",\"git_url\":\"git://github.com/masx200/hostile.git\",\"ssh_url\":\"git@github.com:masx200/hostile.git\",\"clone_url\":\"https://github.com/masx200/hostile.git\",\"svn_url\":\"https://github.com/masx200/hostile\",\"homepage\":\"\",\"size\":0,\"stargazers_count\":1,\"watchers_count\":1,\"language\":\"JavaScript\",\"has_issues\":true,\"has_projects\":true,\"has_downloads\":true,\"has_wiki\":true,\"has_pages\":false,\"has_discussions\":false,\"forks_count\":0,\"mirror_url\":null,\"archived\":false,\"disabled\":false,\"open_issues_count\":2,\"license\":{\"key\":\"mit\",\"name\":\"MIT License\",\"spdx_id\":\"MIT\",\"url\":\"https://api.github.com/licenses/mit\",\"node_id\":\"MDc6TGljZW5zZTEz\"},\"allow_forking\":true,\"is_template\":false,\"web_commit_signoff_required\":false,\"topics\":[],\"visibility\":\"public\",\"forks\":0,\"open_issues\":2,\"watchers\":1,\"default_branch\":\"master\"}},\"base\":{\"label\":\"masx200:master\",\"ref\":\"master\",\"sha\":\"beae93e3121418aa9aacf55f54abe7d7413e5176\",\"user\":{\"login\":\"masx200\",\"id\":34191203,\"node_id\":\"MDQ6VXNlcjM0MTkxMjAz\",\"avatar_url\":\"https://avatars.githubusercontent.com/u/34191203?v=4\",\"gravatar_id\":\"\",\"url\":\"https://api.github.com/users/masx200\",\"html_url\":\"https://github.com/masx200\",\"followers_url\":\"https://api.github.com/users/masx200/followers\",\"following_url\":\"https://api.github.com/users/masx200/following{/other_user}\",\"gists_url\":\"https://api.github.com/users/masx200/gists{/gist_id}\",\"starred_url\":\"https://api.github.com/users/masx200/starred{/owner}{/repo}\",\"subscriptions_url\":\"https://api.github.com/users/masx200/subscriptions\",\"organizations_url\":\"https://api.github.com/users/masx200/orgs\",\"repos_url\":\"https://api.github.com/users/masx200/repos\",\"events_url\":\"https://api.github.com/users/masx200/events{/privacy}\",\"received_events_url\":\"https://api.github.com/users/masx200/received_events\",\"type\":\"User\",\"user_view_type\":\"public\",\"site_admin\":false},\"repo\":{\"id\":893433736,\"node_id\":\"R_kgDONUC3iA\",\"name\":\"hostile\",\"full_name\":\"masx200/hostile\",\"private\":false,\"owner\":{\"login\":\"masx200\",\"id\":34191203,\"node_id\":\"MDQ6VXNlcjM0MTkxMjAz\",\"avatar_url\":\"https://avatars.githubusercontent.com/u/34191203?v=4\",\"gravatar_id\":\"\",\"url\":\"https://api.github.com/users/masx200\",\"html_url\":\"https://github.com/masx200\",\"followers_url\":\"https://api.github.com/users/masx200/followers\",\"following_url\":\"https://api.github.com/users/masx200/following{/other_user}\",\"gists_url\":\"https://api.github.com/users/masx200/gists{/gist_id}\",\"starred_url\":\"https://api.github.com/users/masx200/starred{/owner}{/repo}\",\"subscriptions_url\":\"https://api.github.com/users/masx200/subscriptions\",\"organizations_url\":\"https://api.github.com/users/masx200/orgs\",\"repos_url\":\"https://api.github.com/users/masx200/repos\",\"events_url\":\"https://api.github.com/users/masx200/events{/privacy}\",\"received_events_url\":\"https://api.github.com/users/masx200/received_events\",\"type\":\"User\",\"user_view_type\":\"public\",\"site_admin\":false},\"html_url\":\"https://github.com/masx200/hostile\",\"description\":\"https://github.com/feross/hostile\",\"fork\":false,\"url\":\"https://api.github.com/repos/masx200/hostile\",\"forks_url\":\"https://api.github.com/repos/masx200/hostile/forks\",\"keys_url\":\"https://api.github.com/repos/masx200/hostile/keys{/key_id}\",\"collaborators_url\":\"https://api.github.com/repos/masx200/hostile/collaborators{/collaborator}\",\"teams_url\":\"https://api.github.com/repos/masx200/hostile/teams\",\"hooks_url\":\"https://api.github.com/repos/masx200/hostile/hooks\",\"issue_events_url\":\"https://api.github.com/repos/masx200/hostile/issues/events{/number}\",\"events_url\":\"https://api.github.com/repos/masx200/hostile/events\",\"assignees_url\":\"https://api.github.com/repos/masx200/hostile/assignees{/user}\",\"branches_url\":\"https://api.github.com/repos/masx200/hostile/branches{/branch}\",\"tags_url\":\"https://api.github.com/repos/masx200/hostile/tags\",\"blobs_url\":\"https://api.github.com/repos/masx200/hostile/git/blobs{/sha}\",\"git_tags_url\":\"https://api.github.com/repos/masx200/hostile/git/tags{/sha}\",\"git_refs_url\":\"https://api.github.com/repos/masx200/hostile/git/refs{/sha}\",\"trees_url\":\"https://api.github.com/repos/masx200/hostile/git/trees{/sha}\",\"statuses_url\":\"https://api.github.com/repos/masx200/hostile/statuses/{sha}\",\"languages_url\":\"https://api.github.com/repos/masx200/hostile/languages\",\"stargazers_url\":\"https://api.github.com/repos/masx200/hostile/stargazers\",\"contributors_url\":\"https://api.github.com/repos/masx200/hostile/contributors\",\"subscribers_url\":\"https://api.github.com/repos/masx200/hostile/subscribers\",\"subscription_url\":\"https://api.github.com/repos/masx200/hostile/subscription\",\"commits_url\":\"https://api.github.com/repos/masx200/hostile/commits{/sha}\",\"git_commits_url\":\"https://api.github.com/repos/masx200/hostile/git/commits{/sha}\",\"comments_url\":\"https://api.github.com/repos/masx200/hostile/comments{/number}\",\"issue_comment_url\":\"https://api.github.com/repos/masx200/hostile/issues/comments{/number}\",\"contents_url\":\"https://api.github.com/repos/masx200/hostile/contents/{+path}\",\"compare_url\":\"https://api.github.com/repos/masx200/hostile/compare/{base}...{head}\",\"merges_url\":\"https://api.github.com/repos/masx200/hostile/merges\",\"archive_url\":\"https://api.github.com/repos/masx200/hostile/{archive_format}{/ref}\",\"downloads_url\":\"https://api.github.com/repos/masx200/hostile/downloads\",\"issues_url\":\"https://api.github.com/repos/masx200/hostile/issues{/number}\",\"pulls_url\":\"https://api.github.com/repos/masx200/hostile/pulls{/number}\",\"milestones_url\":\"https://api.github.com/repos/masx200/hostile/milestones{/number}\",\"notifications_url\":\"https://api.github.com/repos/masx200/hostile/notifications{?since,all,participating}\",\"labels_url\":\"https://api.github.com/repos/masx200/hostile/labels{/name}\",\"releases_url\":\"https://api.github.com/repos/masx200/hostile/releases{/id}\",\"deployments_url\":\"https://api.github.com/repos/masx200/hostile/deployments\",\"created_at\":\"2024-11-24T12:47:27Z\",\"updated_at\":\"2024-11-24T12:49:23Z\",\"pushed_at\":\"2024-11-24T12:50:36Z\",\"git_url\":\"git://github.com/masx200/hostile.git\",\"ssh_url\":\"git@github.com:masx200/hostile.git\",\"clone_url\":\"https://github.com/masx200/hostile.git\",\"svn_url\":\"https://github.com/masx200/hostile\",\"homepage\":\"\",\"size\":0,\"stargazers_count\":1,\"watchers_count\":1,\"language\":\"JavaScript\",\"has_issues\":true,\"has_projects\":true,\"has_downloads\":true,\"has_wiki\":true,\"has_pages\":false,\"has_discussions\":false,\"forks_count\":0,\"mirror_url\":null,\"archived\":false,\"disabled\":false,\"open_issues_count\":2,\"license\":{\"key\":\"mit\",\"name\":\"MIT License\",\"spdx_id\":\"MIT\",\"url\":\"https://api.github.com/licenses/mit\",\"node_id\":\"MDc6TGljZW5zZTEz\"},\"allow_forking\":true,\"is_template\":false,\"web_commit_signoff_required\":false,\"topics\":[],\"visibility\":\"public\",\"forks\":0,\"open_issues\":2,\"watchers\":1,\"default_branch\":\"master\"}},\"_links\":{\"self\":{\"href\":\"https://api.github.com/repos/masx200/hostile/pulls/3\"},\"html\":{\"href\":\"https://github.com/masx200/hostile/pull/3\"},\"issue\":{\"href\":\"https://api.github.com/repos/masx200/hostile/issues/3\"},\"comments\":{\"href\":\"https://api.github.com/repos/masx200/hostile/issues/3/comments\"},\"review_comments\":{\"href\":\"https://api.github.com/repos/masx200/hostile/pulls/3/comments\"},\"review_comment\":{\"href\":\"https://api.github.com/repos/masx200/hostile/pulls/comments{/number}\"},\"commits\":{\"href\":\"https://api.github.com/repos/masx200/hostile/pulls/3/commits\"},\"statuses\":{\"href\":\"https://api.github.com/repos/masx200/hostile/statuses/12539c33c291debc93db420308fc587be35956bd\"}},\"author_association\":\"NONE\",\"auto_merge\":null,\"active_lock_reason\":null,\"merged\":true,\"mergeable\":null,\"rebaseable\":null,\"mergeable_state\":\"unknown\",\"merged_by\":{\"login\":\"masx200\",\"id\":34191203,\"node_id\":\"MDQ6VXNlcjM0MTkxMjAz\",\"avatar_url\":\"https://avatars.githubusercontent.com/u/34191203?v=4\",\"gravatar_id\":\"\",\"url\":\"https://api.github.com/users/masx200\",\"html_url\":\"https://github.com/masx200\",\"followers_url\":\"https://api.github.com/users/masx200/followers\",\"following_url\":\"https://api.github.com/users/masx200/following{/other_user}\",\"gists_url\":\"https://api.github.com/users/masx200/gists{/gist_id}\",\"starred_url\":\"https://api.github.com/users/masx200/starred{/owner}{/repo}\",\"subscriptions_url\":\"https://api.github.com/users/masx200/subscriptions\",\"organizations_url\":\"https://api.github.com/users/masx200/orgs\",\"repos_url\":\"https://api.github.com/users/masx200/repos\",\"events_url\":\"https://api.github.com/users/masx200/events{/privacy}\",\"received_events_url\":\"https://api.github.com/users/masx200/received_events\",\"type\":\"User\",\"user_view_type\":\"public\",\"site_admin\":false},\"comments\":1,\"review_comments\":0,\"maintainer_can_modify\":false,\"commits\":1,\"additions\":1,\"deletions\":1,\"changed_files\":1}},\"public\":true,\"created_at\":\"2024-11-24T12:52:41Z\"},{\"id\":\"44136789662\",\"type\":\"IssuesEvent\",\"actor\":{\"id\":41898282,\"login\":\"github-actions[bot]\",\"display_login\":\"github-actions\",\"gravatar_id\":\"\",\"url\":\"https://api.github.com/users/github-actions[bot]\",\"avatar_url\":\"https://avatars.githubusercontent.com/u/41898282?\"},\"repo\":{\"id\":878375331,\"name\":\"kysports-cn/kytiyucom\",\"url\":\"https://api.github.com/repos/kysports-cn/kytiyucom\"},\"payload\":{\"action\":\"opened\",\"issue\":{\"url\":\"https://api.github.com/repos/kysports-cn/kytiyucom/issues/168265\",\"repository_url\":\"https://api.github.com/repos/kysports-cn/kytiyucom\",\"labels_url\":\"https://api.github.com/repos/kysports-cn/kytiyucom/issues/168265/labels{/name}\",\"comments_url\":\"https://api.github.com/repos/kysports-cn/kytiyucom/issues/168265/comments\",\"events_url\":\"https://api.github.com/repos/kysports-cn/kytiyucom/issues/168265/events\",\"html_url\":\"https://github.com/kysports-cn/kytiyucom/issues/168265\",\"id\":2687677619,\"node_id\":\"I_kwDONFrxo86gMrSz\",\"number\":168265,\"title\":\"😥终于进了！湖人轰出17-2 爱德华兹三分回应\",\"user\":{\"login\":\"github-actions[bot]\",\"id\":41898282,\"node_id\":\"MDM6Qm90NDE4OTgyODI=\",\"avatar_url\":\"https://avatars.githubusercontent.com/in/15368?v=4\",\"gravatar_id\":\"\",\"url\":\"https://api.github.com/users/github-actions%5Bbot%5D\",\"html_url\":\"https://github.com/apps/github-actions\",\"followers_url\":\"https://api.github.com/users/github-actions%5Bbot%5D/followers\",\"following_url\":\"https://api.github.com/users/github-actions%5Bbot%5D/following{/other_user}\",\"gists_url\":\"https://api.github.com/users/github-actions%5Bbot%5D/gists{/gist_id}\",\"starred_url\":\"https://api.github.com/users/github-actions%5Bbot%5D/starred{/owner}{/repo}\",\"subscriptions_url\":\"https://api.github.com/users/github-actions%5Bbot%5D/subscriptions\",\"organizations_url\":\"https://api.github.com/users/github-actions%5Bbot%5D/orgs\",\"repos_url\":\"https://api.github.com/users/github-actions%5Bbot%5D/repos\",\"events_url\":\"https://api.github.com/users/github-actions%5Bbot%5D/events{/privacy}\",\"received_events_url\":\"https://api.github.com/users/github-actions%5Bbot%5D/received_events\",\"type\":\"Bot\",\"user_view_type\":\"public\",\"site_admin\":false},\"labels\":[],\"state\":\"open\",\"locked\":false,\"assignee\":null,\"assignees\":[],\"milestone\":null,\"comments\":0,\"created_at\":\"2024-11-24T12:52:40Z\",\"updated_at\":\"2024-11-24T12:52:40Z\",\"closed_at\":null,\"author_association\":\"NONE\",\"active_lock_reason\":null,\"body\":\"# 😥终于进了！湖人轰出17-2 爱德华兹三分回应\\\\n\\\\n  ## 😥终于进了！湖人轰出17-2 爱德华兹三分回应\\\\n\\\\n  😥终于进了！湖人轰出17-2 爱德华兹三分回应是一家专注于体育赛事的在线娱乐提供商提供体育赛事直播投注、真人娱乐、棋牌、电竞等，网站注重用户体验，提供便捷的注册和登录，支持多平台和多设备的访问😥终于进了！湖人轰出17-2 爱德华兹三分回应邀您每日观五大联赛领豪礼，每日每场皆有奖，请点击下面注册入口进行查看~\\\\n\\\\n  😥终于进了！湖人轰出17-2 爱德华兹三分回应网页版：😥终于进了！湖人轰出17-2 爱德华兹三分回应网页版为用户提供全方位的服务，友好的界面和流畅的操作体验，支持多平台访问，随时随地都能享受到最新最热门的体育和娱乐游戏。对于部分海外地区的用户，可能需要使用VPN才能访问😥终于进了！湖人轰出17-2 爱德华兹三分回应网站。\\\\n  \\\\n  😥终于进了！湖人轰出17-2 爱德华兹三分回应体育App：提供业内最高赔率，覆盖世界各地的赛事，可供用户进行多元竞猜，如让球、大小、半全场、波胆等多种玩法。此外，平台还提供动画直播功能，让用户轻松地观看比赛，同时也可以进行娱乐投注，两者兼顾，尽享乐趣。\\\\n  \\\\n  😥终于进了！湖人轰出17-2 爱德华兹三分回应全站App：全站App是一款专门为体育爱好者和游戏玩家设计的应用程序，具备流畅的操作和良好的用户体验。用户可以在应用中畅玩海量的体育、电竞顶尖赛事、真人娱乐、彩票投注和电子游艺等娱乐项目。\\\\n  \\\\n  【Tag:】🤕Shams：恩比德与乔治都将缺席76人与雄鹿的常规赛揭幕战, 🏀开拓者vs勇士前瞻：库里欲率全新勇士冲开门红 开拓者实力欠缺恐难爆冷, 🔥主场疯狂庆祝！西篮甲升班马拉科鲁尼亚1.3秒3+1准绝杀卫冕冠军皇家马德里, ❤️今日揭幕战 湖人将向每位现场球迷赠送杰里-韦斯特的44号球衣, 🌟欧洲篮球联赛球员薪水排名：维琴科夫370万欧元居首 多位前NBA球员上榜, 🏀NBA半场：詹眉合砍20分 爱德华兹14分 湖人55-42领先森林狼, 😨太残暴了！浓眉篮下生帽戈贝尔, 🔥精彩！生力啤最后2.4秒投进大心脏四分球 基尼巴国王造犯规两罚全中 两队进入加时, 😑申京潇洒背后运球失误&断送扳平机会 火箭领先18分惨遭黄蜂逆转, 🏀NBA半场：詹眉合砍20分 爱德华兹14分 湖人55-42领先森林狼\\\\n\\\\n  ### 相关推荐：\\\\n\\\\n  <https://ky-kytiyu-sports.com>\\\\n  <https://ky-kytiyu-tiyu.com>\\\\n  <https://kytiyu-sports-games.com>\\\\n  <https://kytiyu-sports-zh.com>\\\\n  <https://kytiyu-sports-cn.com>\\\\n  <https://cn-kytiyu-sports.com>\\\\n  <https://zh-kytiyu-sports.com>\\\\n  <https://game-kytiyu-sports.com>\\\\n  <https://game-kytiyu-tiyu.com>\\\\n  <https://online-kytiyu-tiyu.com>\\\\n  <https://qiusu-speed.com>\\\\n  <https://qiusu-zh.com>\\\\n  <https://qiusu-web.com>\\\\n  <https://qiusutiyu-game.com>\\\\n  <https://qiusutiyu-online.com>\\\\n  <https://qiususports-online.com>\\\\n  <https://qiususports-game.com>\\\\n  <https://sports-qiusutiyu.com>\\\\n  <https://game-ballspeed.com>\\\\n  <https://online-ballspeed.com>\\\\n  <https://leyutiyu-zh.com>\\\\n  <https://leyusports-zh.com>\\\\n  <https://cn-leyutiyu.com>\\\\n  <https://net-leyutiyu.com>\\\\n  <https://leyuty-sports.com>\\\\n  <https://leyutiyu-wb.com>\\\\n  <https://leyusports-wb.com>\\\\n  <https://leyusports-ch.com>\\\\n  <https://sports-leyusports.com>\\\\n  <https://games-leyusports.com>\\\\n  <https://www.ky-kytiyu-sports.com>\\\\n  <https://www.ky-kytiyu-tiyu.com>\\\\n  <https://www.kytiyu-sports-games.com>\\\\n  <https://www.kytiyu-sports-zh.com>\\\\n  <https://www.kytiyu-sports-cn.com>\\\\n  <https://www.cn-kytiyu-sports.com>\\\\n  <https://www.zh-kytiyu-sports.com>\\\\n  <https://www.game-kytiyu-sports.com>\\\\n  <https://www.game-kytiyu-tiyu.com>\\\\n  <https://www.online-kytiyu-tiyu.com>\\\\n  <https://www.qiusu-speed.com>\\\\n  <https://www.qiusu-zh.com>\\\\n  <https://www.qiusu-web.com>\\\\n  <https://www.qiusutiyu-game.com>\\\\n  <https://www.qiusutiyu-online.com>\\\\n  <https://www.qiususports-online.com>\\\\n  <https://www.qiususports-game.com>\\\\n  <https://www.sports-qiusutiyu.com>\\\\n  <https://www.game-ballspeed.com>\\\\n  <https://www.online-ballspeed.com>\\\\n  <https://www.leyutiyu-zh.com>\\\\n  <https://www.leyusports-zh.com>\\\\n  <https://www.cn-leyutiyu.com>\\\\n  <https://www.net-leyutiyu.com>\\\\n  <https://www.leyuty-sports.com>\\\\n  <https://www.leyutiyu-wb.com>\\\\n  <https://www.leyusports-wb.com>\\\\n  <https://www.leyusports-ch.com>\\\\n  <https://www.sports-leyusports.com>\\\\n  <https://www.games-leyusports.com>\\\\n  <https://m.ky-kytiyu-sports.com>\\\\n  <https://m.ky-kytiyu-tiyu.com>\\\\n  <https://m.kytiyu-sports-games.com>\\\\n  <https://m.kytiyu-sports-zh.com>\\\\n  <https://m.kytiyu-sports-cn.com>\\\\n  <https://m.cn-kytiyu-sports.com>\\\\n  <https://m.zh-kytiyu-sports.com>\\\\n  <https://m.game-kytiyu-sports.com>\\\\n  <https://m.game-kytiyu-tiyu.com>\\\\n  <https://m.online-kytiyu-tiyu.com>\\\\n  <https://m.qiusu-speed.com>\\\\n  <https://m.qiusu-zh.com>\\\\n  <https://m.qiusu-web.com>\\\\n  <https://m.qiusutiyu-game.com>\\\\n  <https://m.qiusutiyu-online.com>\\\\n  <https://m.qiususports-online.com>\\\\n  <https://m.qiususports-game.com>\\\\n  <https://m.sports-qiusutiyu.com>\\\\n  <https://m.game-ballspeed.com>\\\\n  <https://m.online-ballspeed.com>\\\\n  <https://m.leyutiyu-zh.com>\\\\n  <https://m.leyusports-zh.com>\\\\n  <https://m.cn-leyutiyu.com>\\\\n  <https://m.net-leyutiyu.com>\\\\n  <https://m.leyuty-sports.com>\\\\n  <https://m.leyutiyu-wb.com>\\\\n  <https://m.leyusports-wb.com>\\\\n  <https://m.leyusports-ch.com>\\\\n  <https://m.sports-leyusports.com>\\\\n  <https://m.games-leyusports.com>\",\"reactions\":{\"url\":\"https://api.github.com/repos/kysports-cn/kytiyucom/issues/168265/reactions\",\"total_count\":0,\"+1\":0,\"-1\":0,\"laugh\":0,\"hooray\":0,\"confused\":0,\"heart\":0,\"rocket\":0,\"eyes\":0},\"timeline_url\":\"https://api.github.com/repos/kysports-cn/kytiyucom/issues/168265/timeline\",\"performed_via_github_app\":null,\"state_reason\":null}},\"public\":true,\"created_at\":\"2024-11-24T12:52:41Z\"},{\"id\":\"44136789655\",\"type\":\"PushEvent\",\"actor\":{\"id\":5000832,\"login\":\"elvis-epx\",\"display_login\":\"elvis-epx\",\"gravatar_id\":\"\",\"url\":\"https://api.github.com/users/elvis-epx\",\"avatar_url\":\"https://avatars.githubusercontent.com/u/5000832?\"},\"repo\":{\"id\":663309055,\"name\":\"elvis-epx/micropython\",\"url\":\"https://api.github.com/repos/elvis-epx/micropython\"},\"payload\":{\"repository_id\":663309055,\"push_id\":21373331016,\"size\":1,\"distinct_size\":1,\"ref\":\"refs/heads/rmtng2\",\"head\":\"792c644370bc1a45bf39625ec3393a9fd6246bd6\",\"before\":\"a793199d0bb97bb8f2d93af4973731105b043d2c\",\"commits\":[{\"sha\":\"792c644370bc1a45bf39625ec3393a9fd6246bd6\",\"author\":{\"email\":\"epxx@epxx.co\",\"name\":\"Elvis Pfutzenreuter\"},\"message\":\"fixes\",\"distinct\":true,\"url\":\"https://api.github.com/repos/elvis-epx/micropython/commits/792c644370bc1a45bf39625ec3393a9fd6246bd6\"}]},\"public\":true,\"created_at\":\"2024-11-24T12:52:41Z\"},{\"id\":\"44136789644\",\"type\":\"PushEvent\",\"actor\":{\"id\":41898282,\"login\":\"github-actions[bot]\",\"display_login\":\"github-actions\",\"gravatar_id\":\"\",\"url\":\"https://api.github.com/users/github-actions[bot]\",\"avatar_url\":\"https://avatars.githubusercontent.com/u/41898282?\"},\"repo\":{\"id\":484248840,\"name\":\"Caarlos7x/Caarlos7x\",\"url\":\"https://api.github.com/repos/Caarlos7x/Caarlos7x\"},\"payload\":{\"repository_id\":484248840,\"push_id\":21373331021,\"size\":1,\"distinct_size\":1,\"ref\":\"refs/heads/output\",\"head\":\"9fac7f06418b3cb3aca5b026d95b64ad53fb54b0\",\"before\":\"e0af87e6c8b63a61f8f81146d8bedeab975e161d\",\"commits\":[{\"sha\":\"9fac7f06418b3cb3aca5b026d95b64ad53fb54b0\",\"author\":{\"email\":\"41898282+github-actions[bot]@users.noreply.github.com\",\"name\":\"github-actions[bot]\"},\"message\":\"Deploy to GitHub pages\",\"distinct\":true,\"url\":\"https://api.github.com/repos/Caarlos7x/Caarlos7x/commits/9fac7f06418b3cb3aca5b026d95b64ad53fb54b0\"}]},\"public\":true,\"created_at\":\"2024-11-24T12:52:41Z\"},{\"id\":\"44136789653\",\"type\":\"PushEvent\",\"actor\":{\"id\":41898282,\"login\":\"github-actions[bot]\",\"display_login\":\"github-actions\",\"gravatar_id\":\"\",\"url\":\"https://api.github.com/users/github-actions[bot]\",\"avatar_url\":\"https://avatars.githubusercontent.com/u/41898282?\"},\"repo\":{\"id\":460476381,\"name\":\"ArcelinoNeto/ArcelinoNeto\",\"url\":\"https://api.github.com/repos/ArcelinoNeto/ArcelinoNeto\"},\"payload\":{\"repository_id\":460476381,\"push_id\":21373331015,\"size\":1,\"distinct_size\":1,\"ref\":\"refs/heads/output\",\"head\":\"9fac7f06418b3cb3aca5b026d95b64ad53fb54b0\",\"before\":\"e6dfc65c7e92344b148de3de51e6a0cad1b2e508\",\"commits\":[{\"sha\":\"9fac7f06418b3cb3aca5b026d95b64ad53fb54b0\",\"author\":{\"email\":\"41898282+github-actions[bot]@users.noreply.github.com\",\"name\":\"github-actions[bot]\"},\"message\":\"Deploy to GitHub pages\",\"distinct\":true,\"url\":\"https://api.github.com/repos/ArcelinoNeto/ArcelinoNeto/commits/9fac7f06418b3cb3aca5b026d95b64ad53fb54b0\"}]},\"public\":true,\"created_at\":\"2024-11-24T12:52:41Z\"},{\"id\":\"44136789651\",\"type\":\"PushEvent\",\"actor\":{\"id\":45996016,\"login\":\"fazliimam\",\"display_login\":\"fazliimam\",\"gravatar_id\":\"\",\"url\":\"https://api.github.com/users/fazliimam\",\"avatar_url\":\"https://avatars.githubusercontent.com/u/45996016?\"},\"repo\":{\"id\":892497842,\"name\":\"fazliimam/fazliimam.github.io\",\"url\":\"https://api.github.com/repos/fazliimam/fazliimam.github.io\"},\"payload\":{\"repository_id\":892497842,\"push_id\":21373331023,\"size\":1,\"distinct_size\":1,\"ref\":\"refs/heads/master\",\"head\":\"bacd43f27ee83f0dac270999c3c39d554fd0d81a\",\"before\":\"b35f74a2ac7e0d0438b19c124e413aa16e933c3e\",\"commits\":[{\"sha\":\"bacd43f27ee83f0dac270999c3c39d554fd0d81a\",\"author\":{\"email\":\"fazlimaam@gmail.com\",\"name\":\"fazlicodes\"},\"message\":\"upd\",\"distinct\":true,\"url\":\"https://api.github.com/repos/fazliimam/fazliimam.github.io/commits/bacd43f27ee83f0dac270999c3c39d554fd0d81a\"}]},\"public\":true,\"created_at\":\"2024-11-24T12:52:41Z\"},{\"id\":\"44136789643\",\"type\":\"PushEvent\",\"actor\":{\"id\":93121062,\"login\":\"Thisal-D\",\"display_login\":\"Thisal-D\",\"gravatar_id\":\"\",\"url\":\"https://api.github.com/users/Thisal-D\",\"avatar_url\":\"https://avatars.githubusercontent.com/u/93121062?\"},\"repo\":{\"id\":893433705,\"name\":\"Thisal-D/epubedit\",\"url\":\"https://api.github.com/repos/Thisal-D/epubedit\"},\"payload\":{\"repository_id\":893433705,\"push_id\":21373331004,\"size\":1,\"distinct_size\":1,\"ref\":\"refs/heads/main\",\"head\":\"d535db55808aedbafd5f9df72253d596d3f66545\",\"before\":\"633cea31d512b803e2454e3489ed502fa625930b\",\"commits\":[{\"sha\":\"d535db55808aedbafd5f9df72253d596d3f66545\",\"author\":{\"email\":\"93121062+Thisal-D@users.noreply.github.com\",\"name\":\"Thisal Dilmith\"},\"message\":\"Add files via upload\",\"distinct\":true,\"url\":\"https://api.github.com/repos/Thisal-D/epubedit/commits/d535db55808aedbafd5f9df72253d596d3f66545\"}]},\"public\":true,\"created_at\":\"2024-11-24T12:52:41Z\"},{\"id\":\"44136789646\",\"type\":\"PushEvent\",\"actor\":{\"id\":41898282,\"login\":\"github-actions[bot]\",\"display_login\":\"github-actions\",\"gravatar_id\":\"\",\"url\":\"https://api.github.com/users/github-actions[bot]\",\"avatar_url\":\"https://avatars.githubusercontent.com/u/41898282?\"},\"repo\":{\"id\":840148192,\"name\":\"nectariferous/TestFlight\",\"url\":\"https://api.github.com/repos/nectariferous/TestFlight\"},\"payload\":{\"repository_id\":840148192,\"push_id\":21373331000,\"size\":1,\"distinct_size\":1,\"ref\":\"refs/heads/main\",\"head\":\"4d2686362542c44be180140b7c9c85d39f1fccd8\",\"before\":\"fe07f96a75904d2367441e837b60a28cb8e0a676\",\"commits\":[{\"sha\":\"4d2686362542c44be180140b7c9c85d39f1fccd8\",\"author\":{\"email\":\"moboussek@hotmail.com\",\"name\":\"morocco89\"},\"message\":\"Daily update at 2024-11-24 12:52:39\",\"distinct\":true,\"url\":\"https://api.github.com/repos/nectariferous/TestFlight/commits/4d2686362542c44be180140b7c9c85d39f1fccd8\"}]},\"public\":true,\"created_at\":\"2024-11-24T12:52:41Z\"},{\"id\":\"44136789638\",\"type\":\"PushEvent\",\"actor\":{\"id\":41898282,\"login\":\"github-actions[bot]\",\"display_login\":\"github-actions\",\"gravatar_id\":\"\",\"url\":\"https://api.github.com/users/github-actions[bot]\",\"avatar_url\":\"https://avatars.githubusercontent.com/u/41898282?\"},\"repo\":{\"id\":392361727,\"name\":\"jpfigueredo/jpfigueredo\",\"url\":\"https://api.github.com/repos/jpfigueredo/jpfigueredo\"},\"payload\":{\"repository_id\":392361727,\"push_id\":21373330995,\"size\":1,\"distinct_size\":1,\"ref\":\"refs/heads/output\",\"head\":\"9fac7f06418b3cb3aca5b026d95b64ad53fb54b0\",\"before\":\"cdc6edaa2135444a5529c69bfdca81d0d50505c6\",\"commits\":[{\"sha\":\"9fac7f06418b3cb3aca5b026d95b64ad53fb54b0\",\"author\":{\"email\":\"41898282+github-actions[bot]@users.noreply.github.com\",\"name\":\"github-actions[bot]\"},\"message\":\"Deploy to GitHub pages\",\"distinct\":true,\"url\":\"https://api.github.com/repos/jpfigueredo/jpfigueredo/commits/9fac7f06418b3cb3aca5b026d95b64ad53fb54b0\"}]},\"public\":true,\"created_at\":\"2024-11-24T12:52:41Z\"},{\"id\":\"44136789645\",\"type\":\"PushEvent\",\"actor\":{\"id\":53120849,\"login\":\"dkabagambe\",\"display_login\":\"dkabagambe\",\"gravatar_id\":\"\",\"url\":\"https://api.github.com/users/dkabagambe\",\"avatar_url\":\"https://avatars.githubusercontent.com/u/53120849?\"},\"repo\":{\"id\":887792363,\"name\":\"dkabagambe/nns-coffee-association\",\"url\":\"https://api.github.com/repos/dkabagambe/nns-coffee-association\"},\"payload\":{\"repository_id\":887792363,\"push_id\":21373330991,\"size\":1,\"distinct_size\":1,\"ref\":\"refs/heads/main\",\"head\":\"f87e13ee660095ae03d3e521bc37e697ebde9952\",\"before\":\"62abdf7229c59df2ea37d55f145a9c93ef38812f\",\"commits\":[{\"sha\":\"f87e13ee660095ae03d3e521bc37e697ebde9952\",\"author\":{\"email\":\"danielkabagambe@gmail.com\",\"name\":\"daniel Kabagambe\"},\"message\":\" font-size: clamp(24px, 3vw, 32px);\\\\n    line-height: 1.5;\",\"distinct\":true,\"url\":\"https://api.github.com/repos/dkabagambe/nns-coffee-association/commits/f87e13ee660095ae03d3e521bc37e697ebde9952\"}]},\"public\":true,\"created_at\":\"2024-11-24T12:52:41Z\"},{\"id\":\"44136789640\",\"type\":\"PushEvent\",\"actor\":{\"id\":41898282,\"login\":\"github-actions[bot]\",\"display_login\":\"github-actions\",\"gravatar_id\":\"\",\"url\":\"https://api.github.com/users/github-actions[bot]\",\"avatar_url\":\"https://avatars.githubusercontent.com/u/41898282?\"},\"repo\":{\"id\":392099573,\"name\":\"dudursn/dudursn\",\"url\":\"https://api.github.com/repos/dudursn/dudursn\"},\"payload\":{\"repository_id\":392099573,\"push_id\":21373331031,\"size\":1,\"distinct_size\":1,\"ref\":\"refs/heads/output\",\"head\":\"9fac7f06418b3cb3aca5b026d95b64ad53fb54b0\",\"before\":\"4d77c0601f6fb25e561fa864ded98178b29ec9c1\",\"commits\":[{\"sha\":\"9fac7f06418b3cb3aca5b026d95b64ad53fb54b0\",\"author\":{\"email\":\"41898282+github-actions[bot]@users.noreply.github.com\",\"name\":\"github-actions[bot]\"},\"message\":\"Deploy to GitHub pages\",\"distinct\":true,\"url\":\"https://api.github.com/repos/dudursn/dudursn/commits/9fac7f06418b3cb3aca5b026d95b64ad53fb54b0\"}]},\"public\":true,\"created_at\":\"2024-11-24T12:52:41Z\"},{\"id\":\"44136789639\",\"type\":\"PushEvent\",\"actor\":{\"id\":75660658,\"login\":\"KimYoungJae0125\",\"display_login\":\"KimYoungJae0125\",\"gravatar_id\":\"\",\"url\":\"https://api.github.com/users/KimYoungJae0125\",\"avatar_url\":\"https://avatars.githubusercontent.com/u/75660658?\"},\"repo\":{\"id\":581571037,\"name\":\"KimYoungJae0125/GitHubActions\",\"url\":\"https://api.github.com/repos/KimYoungJae0125/GitHubActions\"},\"payload\":{\"repository_id\":581571037,\"push_id\":21373331011,\"size\":1,\"distinct_size\":1,\"ref\":\"refs/heads/main\",\"head\":\"e85edf4da910bc7702efa33dfe71d03de1fc4828\",\"before\":\"68a1f5aea0cf65e2ae61d8b552b087f1f2795bbe\",\"commits\":[{\"sha\":\"e85edf4da910bc7702efa33dfe71d03de1fc4828\",\"author\":{\"email\":\"uni0125@naver.com\",\"name\":\"kyj\"},\"message\":\"2024-11-24_21시_52분_39초 commit and push\",\"distinct\":true,\"url\":\"https://api.github.com/repos/KimYoungJae0125/GitHubActions/commits/e85edf4da910bc7702efa33dfe71d03de1fc4828\"}]},\"public\":true,\"created_at\":\"2024-11-24T12:52:41Z\"},{\"id\":\"44136789630\",\"type\":\"PushEvent\",\"actor\":{\"id\":41898282,\"login\":\"github-actions[bot]\",\"display_login\":\"github-actions\",\"gravatar_id\":\"\",\"url\":\"https://api.github.com/users/github-actions[bot]\",\"avatar_url\":\"https://avatars.githubusercontent.com/u/41898282?\"},\"repo\":{\"id\":776970461,\"name\":\"BeDebona/BeDebona\",\"url\":\"https://api.github.com/repos/BeDebona/BeDebona\"},\"payload\":{\"repository_id\":776970461,\"push_id\":21373331025,\"size\":1,\"distinct_size\":1,\"ref\":\"refs/heads/output\",\"head\":\"d31e745336875668f92e9b426023a26360e5e6f3\",\"before\":\"53163fa44d50255ab26bf091387ef8d2c3fcc15e\",\"commits\":[{\"sha\":\"d31e745336875668f92e9b426023a26360e5e6f3\",\"author\":{\"email\":\"41898282+github-actions[bot]@users.noreply.github.com\",\"name\":\"github-actions[bot]\"},\"message\":\"Deploy to GitHub pages\",\"distinct\":true,\"url\":\"https://api.github.com/repos/BeDebona/BeDebona/commits/d31e745336875668f92e9b426023a26360e5e6f3\"}]},\"public\":true,\"created_at\":\"2024-11-24T12:52:41Z\"},{\"id\":\"44136789633\",\"type\":\"CreateEvent\",\"actor\":{\"id\":183093254,\"login\":\"TarkaniMyroslava\",\"display_login\":\"TarkaniMyroslava\",\"gravatar_id\":\"\",\"url\":\"https://api.github.com/users/TarkaniMyroslava\",\"avatar_url\":\"https://avatars.githubusercontent.com/u/183093254?\"},\"repo\":{\"id\":893431322,\"name\":\"TarkaniMyroslava/lab11\",\"url\":\"https://api.github.com/repos/TarkaniMyroslava/lab11\"},\"payload\":{\"ref\":\"main\",\"ref_type\":\"branch\",\"master_branch\":\"main\",\"description\":\"Лабораторна 11: створюємо файли, і читаємо їх. Пробуємо створити файл з останніми буквами іншого файлу\",\"pusher_type\":\"user\"},\"public\":true,\"created_at\":\"2024-11-24T12:52:41Z\"}]'"
            ],
            "application/vnd.google.colaboratory.intrinsic+json": {
              "type": "string"
            }
          },
          "metadata": {},
          "execution_count": 5
        }
      ]
    },
    {
      "cell_type": "code",
      "source": [
        "data = r.json()\n",
        "type(data)"
      ],
      "metadata": {
        "colab": {
          "base_uri": "https://localhost:8080/"
        },
        "id": "uKhTy8lUiXJX",
        "outputId": "94775ee9-df7b-460d-8d40-d7ea3df40869"
      },
      "execution_count": null,
      "outputs": [
        {
          "output_type": "execute_result",
          "data": {
            "text/plain": [
              "list"
            ]
          },
          "metadata": {},
          "execution_count": 6
        }
      ]
    },
    {
      "cell_type": "code",
      "source": [
        "len(data)"
      ],
      "metadata": {
        "colab": {
          "base_uri": "https://localhost:8080/"
        },
        "id": "JUwNzqgL3fhh",
        "outputId": "5fe7c105-6c8b-44b2-c6d5-958ee25eaec2"
      },
      "execution_count": null,
      "outputs": [
        {
          "output_type": "execute_result",
          "data": {
            "text/plain": [
              "30"
            ]
          },
          "metadata": {},
          "execution_count": 7
        }
      ]
    },
    {
      "cell_type": "code",
      "source": [
        "data[0]"
      ],
      "metadata": {
        "id": "Wz_s0Sv75S7T",
        "colab": {
          "base_uri": "https://localhost:8080/"
        },
        "outputId": "1d2c547a-2afe-4711-f960-45258bd808d4",
        "collapsed": true
      },
      "execution_count": null,
      "outputs": [
        {
          "output_type": "execute_result",
          "data": {
            "text/plain": [
              "{'id': '44136789705',\n",
              " 'type': 'PushEvent',\n",
              " 'actor': {'id': 41898282,\n",
              "  'login': 'github-actions[bot]',\n",
              "  'display_login': 'github-actions',\n",
              "  'gravatar_id': '',\n",
              "  'url': 'https://api.github.com/users/github-actions[bot]',\n",
              "  'avatar_url': 'https://avatars.githubusercontent.com/u/41898282?'},\n",
              " 'repo': {'id': 514653792,\n",
              "  'name': 'AraujoRobson/AraujoRobson',\n",
              "  'url': 'https://api.github.com/repos/AraujoRobson/AraujoRobson'},\n",
              " 'payload': {'repository_id': 514653792,\n",
              "  'push_id': 21373331049,\n",
              "  'size': 1,\n",
              "  'distinct_size': 1,\n",
              "  'ref': 'refs/heads/output',\n",
              "  'head': '9fac7f06418b3cb3aca5b026d95b64ad53fb54b0',\n",
              "  'before': '7bb8c9a56ab935d38c3c9ad85a7b781eb718dfa6',\n",
              "  'commits': [{'sha': '9fac7f06418b3cb3aca5b026d95b64ad53fb54b0',\n",
              "    'author': {'email': '41898282+github-actions[bot]@users.noreply.github.com',\n",
              "     'name': 'github-actions[bot]'},\n",
              "    'message': 'Deploy to GitHub pages',\n",
              "    'distinct': True,\n",
              "    'url': 'https://api.github.com/repos/AraujoRobson/AraujoRobson/commits/9fac7f06418b3cb3aca5b026d95b64ad53fb54b0'}]},\n",
              " 'public': True,\n",
              " 'created_at': '2024-11-24T12:52:41Z'}"
            ]
          },
          "metadata": {},
          "execution_count": 11
        }
      ]
    },
    {
      "cell_type": "code",
      "source": [
        "type(data)"
      ],
      "metadata": {
        "id": "FasOD4u67_5r",
        "colab": {
          "base_uri": "https://localhost:8080/"
        },
        "outputId": "c38ec106-47d0-4795-bd96-07a59595667e"
      },
      "execution_count": null,
      "outputs": [
        {
          "output_type": "execute_result",
          "data": {
            "text/plain": [
              "list"
            ]
          },
          "metadata": {},
          "execution_count": 12
        }
      ]
    },
    {
      "cell_type": "code",
      "source": [
        "data[0].keys()"
      ],
      "metadata": {
        "colab": {
          "base_uri": "https://localhost:8080/"
        },
        "id": "c4uHisF42wdK",
        "outputId": "ce95e1ab-3991-4eee-8ee7-9967d49ced0d"
      },
      "execution_count": null,
      "outputs": [
        {
          "output_type": "execute_result",
          "data": {
            "text/plain": [
              "dict_keys(['id', 'type', 'actor', 'repo', 'payload', 'public', 'created_at'])"
            ]
          },
          "metadata": {},
          "execution_count": 13
        }
      ]
    },
    {
      "cell_type": "code",
      "source": [
        "import pandas as pd\n",
        "df = pd.DataFrame(data)  # list to dataframe\n",
        "df"
      ],
      "metadata": {
        "colab": {
          "base_uri": "https://localhost:8080/",
          "height": 1000
        },
        "id": "eFxBp8SUiaFB",
        "outputId": "9cf38d8c-9a72-450d-c4c4-b7c967fef0c8"
      },
      "execution_count": null,
      "outputs": [
        {
          "output_type": "execute_result",
          "data": {
            "text/plain": [
              "             id              type  \\\n",
              "0   44136789705         PushEvent   \n",
              "1   44136789711        WatchEvent   \n",
              "2   44136789709       IssuesEvent   \n",
              "3   44136789703         PushEvent   \n",
              "4   44136789699         PushEvent   \n",
              "5   44136789697         PushEvent   \n",
              "6   44136789702       CreateEvent   \n",
              "7   44136789694         PushEvent   \n",
              "8   44136789696         PushEvent   \n",
              "9   44136789689         PushEvent   \n",
              "10  44136789690        WatchEvent   \n",
              "11  44136789677         PushEvent   \n",
              "12  44136789672         PushEvent   \n",
              "13  44136789671         PushEvent   \n",
              "14  44136789670         PushEvent   \n",
              "15  44136789664       DeleteEvent   \n",
              "16  44136789663  PullRequestEvent   \n",
              "17  44136789662       IssuesEvent   \n",
              "18  44136789655         PushEvent   \n",
              "19  44136789644         PushEvent   \n",
              "20  44136789653         PushEvent   \n",
              "21  44136789651         PushEvent   \n",
              "22  44136789643         PushEvent   \n",
              "23  44136789646         PushEvent   \n",
              "24  44136789638         PushEvent   \n",
              "25  44136789645         PushEvent   \n",
              "26  44136789640         PushEvent   \n",
              "27  44136789639         PushEvent   \n",
              "28  44136789630         PushEvent   \n",
              "29  44136789633       CreateEvent   \n",
              "\n",
              "                                                actor  \\\n",
              "0   {'id': 41898282, 'login': 'github-actions[bot]...   \n",
              "1   {'id': 55054375, 'login': 'Qodestackr', 'displ...   \n",
              "2   {'id': 72021263, 'login': 'NassimAlaimi', 'dis...   \n",
              "3   {'id': 41898282, 'login': 'github-actions[bot]...   \n",
              "4   {'id': 41898282, 'login': 'github-actions[bot]...   \n",
              "5   {'id': 72662912, 'login': 'lherbeng', 'display...   \n",
              "6   {'id': 142512674, 'login': 'NaveenReddy7013', ...   \n",
              "7   {'id': 41898282, 'login': 'github-actions[bot]...   \n",
              "8   {'id': 41898282, 'login': 'github-actions[bot]...   \n",
              "9   {'id': 58503290, 'login': 'chel12', 'display_l...   \n",
              "10  {'id': 9156073, 'login': 'StevenCoober', 'disp...   \n",
              "11  {'id': 24502430, 'login': 'abubkr-hago', 'disp...   \n",
              "12  {'id': 41898282, 'login': 'github-actions[bot]...   \n",
              "13  {'id': 174851683, 'login': 'V2RAYCONFIGSPOOL',...   \n",
              "14  {'id': 86289926, 'login': 'yyubin', 'display_l...   \n",
              "15  {'id': 1223308, 'login': 'rdlopes', 'display_l...   \n",
              "16  {'id': 34191203, 'login': 'masx200', 'display_...   \n",
              "17  {'id': 41898282, 'login': 'github-actions[bot]...   \n",
              "18  {'id': 5000832, 'login': 'elvis-epx', 'display...   \n",
              "19  {'id': 41898282, 'login': 'github-actions[bot]...   \n",
              "20  {'id': 41898282, 'login': 'github-actions[bot]...   \n",
              "21  {'id': 45996016, 'login': 'fazliimam', 'displa...   \n",
              "22  {'id': 93121062, 'login': 'Thisal-D', 'display...   \n",
              "23  {'id': 41898282, 'login': 'github-actions[bot]...   \n",
              "24  {'id': 41898282, 'login': 'github-actions[bot]...   \n",
              "25  {'id': 53120849, 'login': 'dkabagambe', 'displ...   \n",
              "26  {'id': 41898282, 'login': 'github-actions[bot]...   \n",
              "27  {'id': 75660658, 'login': 'KimYoungJae0125', '...   \n",
              "28  {'id': 41898282, 'login': 'github-actions[bot]...   \n",
              "29  {'id': 183093254, 'login': 'TarkaniMyroslava',...   \n",
              "\n",
              "                                                 repo  \\\n",
              "0   {'id': 514653792, 'name': 'AraujoRobson/Araujo...   \n",
              "1   {'id': 3259980, 'name': 'moloney/dcmstack', 'u...   \n",
              "2   {'id': 635928326, 'name': 'Team-Scandela/Scand...   \n",
              "3   {'id': 429213964, 'name': 'MariaLuizaDMoura/Ma...   \n",
              "4   {'id': 442881997, 'name': 'pedrobrossmann/pedr...   \n",
              "5   {'id': 843810964, 'name': 'lherbeng/RKE2', 'ur...   \n",
              "6   {'id': 893435379, 'name': 'NaveenReddy7013/emp...   \n",
              "7   {'id': 427131816, 'name': 'letidesi/letidesi',...   \n",
              "8   {'id': 840148192, 'name': 'nectariferous/TestF...   \n",
              "9   {'id': 871555866, 'name': 'chel12/NextProject'...   \n",
              "10  {'id': 401763924, 'name': 'Manistein/let-us-bu...   \n",
              "11  {'id': 893339780, 'name': 'abubkr-hago/star-wa...   \n",
              "12  {'id': 881924372, 'name': 'Ad-Cat/Commits', 'u...   \n",
              "13  {'id': 824834695, 'name': 'V2RAYCONFIGSPOOL/V2...   \n",
              "14  {'id': 893417546, 'name': 'yyubin/mini-cat', '...   \n",
              "15  {'id': 548522074, 'name': 'rdlopes/maven-root-...   \n",
              "16  {'id': 893433736, 'name': 'masx200/hostile', '...   \n",
              "17  {'id': 878375331, 'name': 'kysports-cn/kytiyuc...   \n",
              "18  {'id': 663309055, 'name': 'elvis-epx/micropyth...   \n",
              "19  {'id': 484248840, 'name': 'Caarlos7x/Caarlos7x...   \n",
              "20  {'id': 460476381, 'name': 'ArcelinoNeto/Arceli...   \n",
              "21  {'id': 892497842, 'name': 'fazliimam/fazliimam...   \n",
              "22  {'id': 893433705, 'name': 'Thisal-D/epubedit',...   \n",
              "23  {'id': 840148192, 'name': 'nectariferous/TestF...   \n",
              "24  {'id': 392361727, 'name': 'jpfigueredo/jpfigue...   \n",
              "25  {'id': 887792363, 'name': 'dkabagambe/nns-coff...   \n",
              "26  {'id': 392099573, 'name': 'dudursn/dudursn', '...   \n",
              "27  {'id': 581571037, 'name': 'KimYoungJae0125/Git...   \n",
              "28  {'id': 776970461, 'name': 'BeDebona/BeDebona',...   \n",
              "29  {'id': 893431322, 'name': 'TarkaniMyroslava/la...   \n",
              "\n",
              "                                              payload  public  \\\n",
              "0   {'repository_id': 514653792, 'push_id': 213733...    True   \n",
              "1                               {'action': 'started'}    True   \n",
              "2   {'action': 'closed', 'issue': {'url': 'https:/...    True   \n",
              "3   {'repository_id': 429213964, 'push_id': 213733...    True   \n",
              "4   {'repository_id': 442881997, 'push_id': 213733...    True   \n",
              "5   {'repository_id': 843810964, 'push_id': 213733...    True   \n",
              "6   {'ref': None, 'ref_type': 'repository', 'maste...    True   \n",
              "7   {'repository_id': 427131816, 'push_id': 213733...    True   \n",
              "8   {'repository_id': 840148192, 'push_id': 213733...    True   \n",
              "9   {'repository_id': 871555866, 'push_id': 213733...    True   \n",
              "10                              {'action': 'started'}    True   \n",
              "11  {'repository_id': 893339780, 'push_id': 213733...    True   \n",
              "12  {'repository_id': 881924372, 'push_id': 213733...    True   \n",
              "13  {'repository_id': 824834695, 'push_id': 213733...    True   \n",
              "14  {'repository_id': 893417546, 'push_id': 213733...    True   \n",
              "15  {'ref': 'renovate/nexus-staging-maven-plugin.v...    True   \n",
              "16  {'action': 'closed', 'number': 3, 'pull_reques...    True   \n",
              "17  {'action': 'opened', 'issue': {'url': 'https:/...    True   \n",
              "18  {'repository_id': 663309055, 'push_id': 213733...    True   \n",
              "19  {'repository_id': 484248840, 'push_id': 213733...    True   \n",
              "20  {'repository_id': 460476381, 'push_id': 213733...    True   \n",
              "21  {'repository_id': 892497842, 'push_id': 213733...    True   \n",
              "22  {'repository_id': 893433705, 'push_id': 213733...    True   \n",
              "23  {'repository_id': 840148192, 'push_id': 213733...    True   \n",
              "24  {'repository_id': 392361727, 'push_id': 213733...    True   \n",
              "25  {'repository_id': 887792363, 'push_id': 213733...    True   \n",
              "26  {'repository_id': 392099573, 'push_id': 213733...    True   \n",
              "27  {'repository_id': 581571037, 'push_id': 213733...    True   \n",
              "28  {'repository_id': 776970461, 'push_id': 213733...    True   \n",
              "29  {'ref': 'main', 'ref_type': 'branch', 'master_...    True   \n",
              "\n",
              "              created_at                                                org  \n",
              "0   2024-11-24T12:52:41Z                                                NaN  \n",
              "1   2024-11-24T12:52:41Z                                                NaN  \n",
              "2   2024-11-24T12:52:41Z  {'id': 132495851, 'login': 'Team-Scandela', 'g...  \n",
              "3   2024-11-24T12:52:41Z                                                NaN  \n",
              "4   2024-11-24T12:52:41Z                                                NaN  \n",
              "5   2024-11-24T12:52:41Z                                                NaN  \n",
              "6   2024-11-24T12:52:41Z                                                NaN  \n",
              "7   2024-11-24T12:52:41Z                                                NaN  \n",
              "8   2024-11-24T12:52:41Z                                                NaN  \n",
              "9   2024-11-24T12:52:41Z                                                NaN  \n",
              "10  2024-11-24T12:52:41Z                                                NaN  \n",
              "11  2024-11-24T12:52:41Z                                                NaN  \n",
              "12  2024-11-24T12:52:41Z                                                NaN  \n",
              "13  2024-11-24T12:52:41Z                                                NaN  \n",
              "14  2024-11-24T12:52:41Z                                                NaN  \n",
              "15  2024-11-24T12:52:41Z                                                NaN  \n",
              "16  2024-11-24T12:52:41Z                                                NaN  \n",
              "17  2024-11-24T12:52:41Z                                                NaN  \n",
              "18  2024-11-24T12:52:41Z                                                NaN  \n",
              "19  2024-11-24T12:52:41Z                                                NaN  \n",
              "20  2024-11-24T12:52:41Z                                                NaN  \n",
              "21  2024-11-24T12:52:41Z                                                NaN  \n",
              "22  2024-11-24T12:52:41Z                                                NaN  \n",
              "23  2024-11-24T12:52:41Z                                                NaN  \n",
              "24  2024-11-24T12:52:41Z                                                NaN  \n",
              "25  2024-11-24T12:52:41Z                                                NaN  \n",
              "26  2024-11-24T12:52:41Z                                                NaN  \n",
              "27  2024-11-24T12:52:41Z                                                NaN  \n",
              "28  2024-11-24T12:52:41Z                                                NaN  \n",
              "29  2024-11-24T12:52:41Z                                                NaN  "
            ],
            "text/html": [
              "\n",
              "  <div id=\"df-36e3fda5-a9b8-4b6e-aaed-6c0942b37556\" class=\"colab-df-container\">\n",
              "    <div>\n",
              "<style scoped>\n",
              "    .dataframe tbody tr th:only-of-type {\n",
              "        vertical-align: middle;\n",
              "    }\n",
              "\n",
              "    .dataframe tbody tr th {\n",
              "        vertical-align: top;\n",
              "    }\n",
              "\n",
              "    .dataframe thead th {\n",
              "        text-align: right;\n",
              "    }\n",
              "</style>\n",
              "<table border=\"1\" class=\"dataframe\">\n",
              "  <thead>\n",
              "    <tr style=\"text-align: right;\">\n",
              "      <th></th>\n",
              "      <th>id</th>\n",
              "      <th>type</th>\n",
              "      <th>actor</th>\n",
              "      <th>repo</th>\n",
              "      <th>payload</th>\n",
              "      <th>public</th>\n",
              "      <th>created_at</th>\n",
              "      <th>org</th>\n",
              "    </tr>\n",
              "  </thead>\n",
              "  <tbody>\n",
              "    <tr>\n",
              "      <th>0</th>\n",
              "      <td>44136789705</td>\n",
              "      <td>PushEvent</td>\n",
              "      <td>{'id': 41898282, 'login': 'github-actions[bot]...</td>\n",
              "      <td>{'id': 514653792, 'name': 'AraujoRobson/Araujo...</td>\n",
              "      <td>{'repository_id': 514653792, 'push_id': 213733...</td>\n",
              "      <td>True</td>\n",
              "      <td>2024-11-24T12:52:41Z</td>\n",
              "      <td>NaN</td>\n",
              "    </tr>\n",
              "    <tr>\n",
              "      <th>1</th>\n",
              "      <td>44136789711</td>\n",
              "      <td>WatchEvent</td>\n",
              "      <td>{'id': 55054375, 'login': 'Qodestackr', 'displ...</td>\n",
              "      <td>{'id': 3259980, 'name': 'moloney/dcmstack', 'u...</td>\n",
              "      <td>{'action': 'started'}</td>\n",
              "      <td>True</td>\n",
              "      <td>2024-11-24T12:52:41Z</td>\n",
              "      <td>NaN</td>\n",
              "    </tr>\n",
              "    <tr>\n",
              "      <th>2</th>\n",
              "      <td>44136789709</td>\n",
              "      <td>IssuesEvent</td>\n",
              "      <td>{'id': 72021263, 'login': 'NassimAlaimi', 'dis...</td>\n",
              "      <td>{'id': 635928326, 'name': 'Team-Scandela/Scand...</td>\n",
              "      <td>{'action': 'closed', 'issue': {'url': 'https:/...</td>\n",
              "      <td>True</td>\n",
              "      <td>2024-11-24T12:52:41Z</td>\n",
              "      <td>{'id': 132495851, 'login': 'Team-Scandela', 'g...</td>\n",
              "    </tr>\n",
              "    <tr>\n",
              "      <th>3</th>\n",
              "      <td>44136789703</td>\n",
              "      <td>PushEvent</td>\n",
              "      <td>{'id': 41898282, 'login': 'github-actions[bot]...</td>\n",
              "      <td>{'id': 429213964, 'name': 'MariaLuizaDMoura/Ma...</td>\n",
              "      <td>{'repository_id': 429213964, 'push_id': 213733...</td>\n",
              "      <td>True</td>\n",
              "      <td>2024-11-24T12:52:41Z</td>\n",
              "      <td>NaN</td>\n",
              "    </tr>\n",
              "    <tr>\n",
              "      <th>4</th>\n",
              "      <td>44136789699</td>\n",
              "      <td>PushEvent</td>\n",
              "      <td>{'id': 41898282, 'login': 'github-actions[bot]...</td>\n",
              "      <td>{'id': 442881997, 'name': 'pedrobrossmann/pedr...</td>\n",
              "      <td>{'repository_id': 442881997, 'push_id': 213733...</td>\n",
              "      <td>True</td>\n",
              "      <td>2024-11-24T12:52:41Z</td>\n",
              "      <td>NaN</td>\n",
              "    </tr>\n",
              "    <tr>\n",
              "      <th>5</th>\n",
              "      <td>44136789697</td>\n",
              "      <td>PushEvent</td>\n",
              "      <td>{'id': 72662912, 'login': 'lherbeng', 'display...</td>\n",
              "      <td>{'id': 843810964, 'name': 'lherbeng/RKE2', 'ur...</td>\n",
              "      <td>{'repository_id': 843810964, 'push_id': 213733...</td>\n",
              "      <td>True</td>\n",
              "      <td>2024-11-24T12:52:41Z</td>\n",
              "      <td>NaN</td>\n",
              "    </tr>\n",
              "    <tr>\n",
              "      <th>6</th>\n",
              "      <td>44136789702</td>\n",
              "      <td>CreateEvent</td>\n",
              "      <td>{'id': 142512674, 'login': 'NaveenReddy7013', ...</td>\n",
              "      <td>{'id': 893435379, 'name': 'NaveenReddy7013/emp...</td>\n",
              "      <td>{'ref': None, 'ref_type': 'repository', 'maste...</td>\n",
              "      <td>True</td>\n",
              "      <td>2024-11-24T12:52:41Z</td>\n",
              "      <td>NaN</td>\n",
              "    </tr>\n",
              "    <tr>\n",
              "      <th>7</th>\n",
              "      <td>44136789694</td>\n",
              "      <td>PushEvent</td>\n",
              "      <td>{'id': 41898282, 'login': 'github-actions[bot]...</td>\n",
              "      <td>{'id': 427131816, 'name': 'letidesi/letidesi',...</td>\n",
              "      <td>{'repository_id': 427131816, 'push_id': 213733...</td>\n",
              "      <td>True</td>\n",
              "      <td>2024-11-24T12:52:41Z</td>\n",
              "      <td>NaN</td>\n",
              "    </tr>\n",
              "    <tr>\n",
              "      <th>8</th>\n",
              "      <td>44136789696</td>\n",
              "      <td>PushEvent</td>\n",
              "      <td>{'id': 41898282, 'login': 'github-actions[bot]...</td>\n",
              "      <td>{'id': 840148192, 'name': 'nectariferous/TestF...</td>\n",
              "      <td>{'repository_id': 840148192, 'push_id': 213733...</td>\n",
              "      <td>True</td>\n",
              "      <td>2024-11-24T12:52:41Z</td>\n",
              "      <td>NaN</td>\n",
              "    </tr>\n",
              "    <tr>\n",
              "      <th>9</th>\n",
              "      <td>44136789689</td>\n",
              "      <td>PushEvent</td>\n",
              "      <td>{'id': 58503290, 'login': 'chel12', 'display_l...</td>\n",
              "      <td>{'id': 871555866, 'name': 'chel12/NextProject'...</td>\n",
              "      <td>{'repository_id': 871555866, 'push_id': 213733...</td>\n",
              "      <td>True</td>\n",
              "      <td>2024-11-24T12:52:41Z</td>\n",
              "      <td>NaN</td>\n",
              "    </tr>\n",
              "    <tr>\n",
              "      <th>10</th>\n",
              "      <td>44136789690</td>\n",
              "      <td>WatchEvent</td>\n",
              "      <td>{'id': 9156073, 'login': 'StevenCoober', 'disp...</td>\n",
              "      <td>{'id': 401763924, 'name': 'Manistein/let-us-bu...</td>\n",
              "      <td>{'action': 'started'}</td>\n",
              "      <td>True</td>\n",
              "      <td>2024-11-24T12:52:41Z</td>\n",
              "      <td>NaN</td>\n",
              "    </tr>\n",
              "    <tr>\n",
              "      <th>11</th>\n",
              "      <td>44136789677</td>\n",
              "      <td>PushEvent</td>\n",
              "      <td>{'id': 24502430, 'login': 'abubkr-hago', 'disp...</td>\n",
              "      <td>{'id': 893339780, 'name': 'abubkr-hago/star-wa...</td>\n",
              "      <td>{'repository_id': 893339780, 'push_id': 213733...</td>\n",
              "      <td>True</td>\n",
              "      <td>2024-11-24T12:52:41Z</td>\n",
              "      <td>NaN</td>\n",
              "    </tr>\n",
              "    <tr>\n",
              "      <th>12</th>\n",
              "      <td>44136789672</td>\n",
              "      <td>PushEvent</td>\n",
              "      <td>{'id': 41898282, 'login': 'github-actions[bot]...</td>\n",
              "      <td>{'id': 881924372, 'name': 'Ad-Cat/Commits', 'u...</td>\n",
              "      <td>{'repository_id': 881924372, 'push_id': 213733...</td>\n",
              "      <td>True</td>\n",
              "      <td>2024-11-24T12:52:41Z</td>\n",
              "      <td>NaN</td>\n",
              "    </tr>\n",
              "    <tr>\n",
              "      <th>13</th>\n",
              "      <td>44136789671</td>\n",
              "      <td>PushEvent</td>\n",
              "      <td>{'id': 174851683, 'login': 'V2RAYCONFIGSPOOL',...</td>\n",
              "      <td>{'id': 824834695, 'name': 'V2RAYCONFIGSPOOL/V2...</td>\n",
              "      <td>{'repository_id': 824834695, 'push_id': 213733...</td>\n",
              "      <td>True</td>\n",
              "      <td>2024-11-24T12:52:41Z</td>\n",
              "      <td>NaN</td>\n",
              "    </tr>\n",
              "    <tr>\n",
              "      <th>14</th>\n",
              "      <td>44136789670</td>\n",
              "      <td>PushEvent</td>\n",
              "      <td>{'id': 86289926, 'login': 'yyubin', 'display_l...</td>\n",
              "      <td>{'id': 893417546, 'name': 'yyubin/mini-cat', '...</td>\n",
              "      <td>{'repository_id': 893417546, 'push_id': 213733...</td>\n",
              "      <td>True</td>\n",
              "      <td>2024-11-24T12:52:41Z</td>\n",
              "      <td>NaN</td>\n",
              "    </tr>\n",
              "    <tr>\n",
              "      <th>15</th>\n",
              "      <td>44136789664</td>\n",
              "      <td>DeleteEvent</td>\n",
              "      <td>{'id': 1223308, 'login': 'rdlopes', 'display_l...</td>\n",
              "      <td>{'id': 548522074, 'name': 'rdlopes/maven-root-...</td>\n",
              "      <td>{'ref': 'renovate/nexus-staging-maven-plugin.v...</td>\n",
              "      <td>True</td>\n",
              "      <td>2024-11-24T12:52:41Z</td>\n",
              "      <td>NaN</td>\n",
              "    </tr>\n",
              "    <tr>\n",
              "      <th>16</th>\n",
              "      <td>44136789663</td>\n",
              "      <td>PullRequestEvent</td>\n",
              "      <td>{'id': 34191203, 'login': 'masx200', 'display_...</td>\n",
              "      <td>{'id': 893433736, 'name': 'masx200/hostile', '...</td>\n",
              "      <td>{'action': 'closed', 'number': 3, 'pull_reques...</td>\n",
              "      <td>True</td>\n",
              "      <td>2024-11-24T12:52:41Z</td>\n",
              "      <td>NaN</td>\n",
              "    </tr>\n",
              "    <tr>\n",
              "      <th>17</th>\n",
              "      <td>44136789662</td>\n",
              "      <td>IssuesEvent</td>\n",
              "      <td>{'id': 41898282, 'login': 'github-actions[bot]...</td>\n",
              "      <td>{'id': 878375331, 'name': 'kysports-cn/kytiyuc...</td>\n",
              "      <td>{'action': 'opened', 'issue': {'url': 'https:/...</td>\n",
              "      <td>True</td>\n",
              "      <td>2024-11-24T12:52:41Z</td>\n",
              "      <td>NaN</td>\n",
              "    </tr>\n",
              "    <tr>\n",
              "      <th>18</th>\n",
              "      <td>44136789655</td>\n",
              "      <td>PushEvent</td>\n",
              "      <td>{'id': 5000832, 'login': 'elvis-epx', 'display...</td>\n",
              "      <td>{'id': 663309055, 'name': 'elvis-epx/micropyth...</td>\n",
              "      <td>{'repository_id': 663309055, 'push_id': 213733...</td>\n",
              "      <td>True</td>\n",
              "      <td>2024-11-24T12:52:41Z</td>\n",
              "      <td>NaN</td>\n",
              "    </tr>\n",
              "    <tr>\n",
              "      <th>19</th>\n",
              "      <td>44136789644</td>\n",
              "      <td>PushEvent</td>\n",
              "      <td>{'id': 41898282, 'login': 'github-actions[bot]...</td>\n",
              "      <td>{'id': 484248840, 'name': 'Caarlos7x/Caarlos7x...</td>\n",
              "      <td>{'repository_id': 484248840, 'push_id': 213733...</td>\n",
              "      <td>True</td>\n",
              "      <td>2024-11-24T12:52:41Z</td>\n",
              "      <td>NaN</td>\n",
              "    </tr>\n",
              "    <tr>\n",
              "      <th>20</th>\n",
              "      <td>44136789653</td>\n",
              "      <td>PushEvent</td>\n",
              "      <td>{'id': 41898282, 'login': 'github-actions[bot]...</td>\n",
              "      <td>{'id': 460476381, 'name': 'ArcelinoNeto/Arceli...</td>\n",
              "      <td>{'repository_id': 460476381, 'push_id': 213733...</td>\n",
              "      <td>True</td>\n",
              "      <td>2024-11-24T12:52:41Z</td>\n",
              "      <td>NaN</td>\n",
              "    </tr>\n",
              "    <tr>\n",
              "      <th>21</th>\n",
              "      <td>44136789651</td>\n",
              "      <td>PushEvent</td>\n",
              "      <td>{'id': 45996016, 'login': 'fazliimam', 'displa...</td>\n",
              "      <td>{'id': 892497842, 'name': 'fazliimam/fazliimam...</td>\n",
              "      <td>{'repository_id': 892497842, 'push_id': 213733...</td>\n",
              "      <td>True</td>\n",
              "      <td>2024-11-24T12:52:41Z</td>\n",
              "      <td>NaN</td>\n",
              "    </tr>\n",
              "    <tr>\n",
              "      <th>22</th>\n",
              "      <td>44136789643</td>\n",
              "      <td>PushEvent</td>\n",
              "      <td>{'id': 93121062, 'login': 'Thisal-D', 'display...</td>\n",
              "      <td>{'id': 893433705, 'name': 'Thisal-D/epubedit',...</td>\n",
              "      <td>{'repository_id': 893433705, 'push_id': 213733...</td>\n",
              "      <td>True</td>\n",
              "      <td>2024-11-24T12:52:41Z</td>\n",
              "      <td>NaN</td>\n",
              "    </tr>\n",
              "    <tr>\n",
              "      <th>23</th>\n",
              "      <td>44136789646</td>\n",
              "      <td>PushEvent</td>\n",
              "      <td>{'id': 41898282, 'login': 'github-actions[bot]...</td>\n",
              "      <td>{'id': 840148192, 'name': 'nectariferous/TestF...</td>\n",
              "      <td>{'repository_id': 840148192, 'push_id': 213733...</td>\n",
              "      <td>True</td>\n",
              "      <td>2024-11-24T12:52:41Z</td>\n",
              "      <td>NaN</td>\n",
              "    </tr>\n",
              "    <tr>\n",
              "      <th>24</th>\n",
              "      <td>44136789638</td>\n",
              "      <td>PushEvent</td>\n",
              "      <td>{'id': 41898282, 'login': 'github-actions[bot]...</td>\n",
              "      <td>{'id': 392361727, 'name': 'jpfigueredo/jpfigue...</td>\n",
              "      <td>{'repository_id': 392361727, 'push_id': 213733...</td>\n",
              "      <td>True</td>\n",
              "      <td>2024-11-24T12:52:41Z</td>\n",
              "      <td>NaN</td>\n",
              "    </tr>\n",
              "    <tr>\n",
              "      <th>25</th>\n",
              "      <td>44136789645</td>\n",
              "      <td>PushEvent</td>\n",
              "      <td>{'id': 53120849, 'login': 'dkabagambe', 'displ...</td>\n",
              "      <td>{'id': 887792363, 'name': 'dkabagambe/nns-coff...</td>\n",
              "      <td>{'repository_id': 887792363, 'push_id': 213733...</td>\n",
              "      <td>True</td>\n",
              "      <td>2024-11-24T12:52:41Z</td>\n",
              "      <td>NaN</td>\n",
              "    </tr>\n",
              "    <tr>\n",
              "      <th>26</th>\n",
              "      <td>44136789640</td>\n",
              "      <td>PushEvent</td>\n",
              "      <td>{'id': 41898282, 'login': 'github-actions[bot]...</td>\n",
              "      <td>{'id': 392099573, 'name': 'dudursn/dudursn', '...</td>\n",
              "      <td>{'repository_id': 392099573, 'push_id': 213733...</td>\n",
              "      <td>True</td>\n",
              "      <td>2024-11-24T12:52:41Z</td>\n",
              "      <td>NaN</td>\n",
              "    </tr>\n",
              "    <tr>\n",
              "      <th>27</th>\n",
              "      <td>44136789639</td>\n",
              "      <td>PushEvent</td>\n",
              "      <td>{'id': 75660658, 'login': 'KimYoungJae0125', '...</td>\n",
              "      <td>{'id': 581571037, 'name': 'KimYoungJae0125/Git...</td>\n",
              "      <td>{'repository_id': 581571037, 'push_id': 213733...</td>\n",
              "      <td>True</td>\n",
              "      <td>2024-11-24T12:52:41Z</td>\n",
              "      <td>NaN</td>\n",
              "    </tr>\n",
              "    <tr>\n",
              "      <th>28</th>\n",
              "      <td>44136789630</td>\n",
              "      <td>PushEvent</td>\n",
              "      <td>{'id': 41898282, 'login': 'github-actions[bot]...</td>\n",
              "      <td>{'id': 776970461, 'name': 'BeDebona/BeDebona',...</td>\n",
              "      <td>{'repository_id': 776970461, 'push_id': 213733...</td>\n",
              "      <td>True</td>\n",
              "      <td>2024-11-24T12:52:41Z</td>\n",
              "      <td>NaN</td>\n",
              "    </tr>\n",
              "    <tr>\n",
              "      <th>29</th>\n",
              "      <td>44136789633</td>\n",
              "      <td>CreateEvent</td>\n",
              "      <td>{'id': 183093254, 'login': 'TarkaniMyroslava',...</td>\n",
              "      <td>{'id': 893431322, 'name': 'TarkaniMyroslava/la...</td>\n",
              "      <td>{'ref': 'main', 'ref_type': 'branch', 'master_...</td>\n",
              "      <td>True</td>\n",
              "      <td>2024-11-24T12:52:41Z</td>\n",
              "      <td>NaN</td>\n",
              "    </tr>\n",
              "  </tbody>\n",
              "</table>\n",
              "</div>\n",
              "    <div class=\"colab-df-buttons\">\n",
              "\n",
              "  <div class=\"colab-df-container\">\n",
              "    <button class=\"colab-df-convert\" onclick=\"convertToInteractive('df-36e3fda5-a9b8-4b6e-aaed-6c0942b37556')\"\n",
              "            title=\"Convert this dataframe to an interactive table.\"\n",
              "            style=\"display:none;\">\n",
              "\n",
              "  <svg xmlns=\"http://www.w3.org/2000/svg\" height=\"24px\" viewBox=\"0 -960 960 960\">\n",
              "    <path d=\"M120-120v-720h720v720H120Zm60-500h600v-160H180v160Zm220 220h160v-160H400v160Zm0 220h160v-160H400v160ZM180-400h160v-160H180v160Zm440 0h160v-160H620v160ZM180-180h160v-160H180v160Zm440 0h160v-160H620v160Z\"/>\n",
              "  </svg>\n",
              "    </button>\n",
              "\n",
              "  <style>\n",
              "    .colab-df-container {\n",
              "      display:flex;\n",
              "      gap: 12px;\n",
              "    }\n",
              "\n",
              "    .colab-df-convert {\n",
              "      background-color: #E8F0FE;\n",
              "      border: none;\n",
              "      border-radius: 50%;\n",
              "      cursor: pointer;\n",
              "      display: none;\n",
              "      fill: #1967D2;\n",
              "      height: 32px;\n",
              "      padding: 0 0 0 0;\n",
              "      width: 32px;\n",
              "    }\n",
              "\n",
              "    .colab-df-convert:hover {\n",
              "      background-color: #E2EBFA;\n",
              "      box-shadow: 0px 1px 2px rgba(60, 64, 67, 0.3), 0px 1px 3px 1px rgba(60, 64, 67, 0.15);\n",
              "      fill: #174EA6;\n",
              "    }\n",
              "\n",
              "    .colab-df-buttons div {\n",
              "      margin-bottom: 4px;\n",
              "    }\n",
              "\n",
              "    [theme=dark] .colab-df-convert {\n",
              "      background-color: #3B4455;\n",
              "      fill: #D2E3FC;\n",
              "    }\n",
              "\n",
              "    [theme=dark] .colab-df-convert:hover {\n",
              "      background-color: #434B5C;\n",
              "      box-shadow: 0px 1px 3px 1px rgba(0, 0, 0, 0.15);\n",
              "      filter: drop-shadow(0px 1px 2px rgba(0, 0, 0, 0.3));\n",
              "      fill: #FFFFFF;\n",
              "    }\n",
              "  </style>\n",
              "\n",
              "    <script>\n",
              "      const buttonEl =\n",
              "        document.querySelector('#df-36e3fda5-a9b8-4b6e-aaed-6c0942b37556 button.colab-df-convert');\n",
              "      buttonEl.style.display =\n",
              "        google.colab.kernel.accessAllowed ? 'block' : 'none';\n",
              "\n",
              "      async function convertToInteractive(key) {\n",
              "        const element = document.querySelector('#df-36e3fda5-a9b8-4b6e-aaed-6c0942b37556');\n",
              "        const dataTable =\n",
              "          await google.colab.kernel.invokeFunction('convertToInteractive',\n",
              "                                                    [key], {});\n",
              "        if (!dataTable) return;\n",
              "\n",
              "        const docLinkHtml = 'Like what you see? Visit the ' +\n",
              "          '<a target=\"_blank\" href=https://colab.research.google.com/notebooks/data_table.ipynb>data table notebook</a>'\n",
              "          + ' to learn more about interactive tables.';\n",
              "        element.innerHTML = '';\n",
              "        dataTable['output_type'] = 'display_data';\n",
              "        await google.colab.output.renderOutput(dataTable, element);\n",
              "        const docLink = document.createElement('div');\n",
              "        docLink.innerHTML = docLinkHtml;\n",
              "        element.appendChild(docLink);\n",
              "      }\n",
              "    </script>\n",
              "  </div>\n",
              "\n",
              "\n",
              "<div id=\"df-1e73050e-03b8-4461-9be7-665879745a00\">\n",
              "  <button class=\"colab-df-quickchart\" onclick=\"quickchart('df-1e73050e-03b8-4461-9be7-665879745a00')\"\n",
              "            title=\"Suggest charts\"\n",
              "            style=\"display:none;\">\n",
              "\n",
              "<svg xmlns=\"http://www.w3.org/2000/svg\" height=\"24px\"viewBox=\"0 0 24 24\"\n",
              "     width=\"24px\">\n",
              "    <g>\n",
              "        <path d=\"M19 3H5c-1.1 0-2 .9-2 2v14c0 1.1.9 2 2 2h14c1.1 0 2-.9 2-2V5c0-1.1-.9-2-2-2zM9 17H7v-7h2v7zm4 0h-2V7h2v10zm4 0h-2v-4h2v4z\"/>\n",
              "    </g>\n",
              "</svg>\n",
              "  </button>\n",
              "\n",
              "<style>\n",
              "  .colab-df-quickchart {\n",
              "      --bg-color: #E8F0FE;\n",
              "      --fill-color: #1967D2;\n",
              "      --hover-bg-color: #E2EBFA;\n",
              "      --hover-fill-color: #174EA6;\n",
              "      --disabled-fill-color: #AAA;\n",
              "      --disabled-bg-color: #DDD;\n",
              "  }\n",
              "\n",
              "  [theme=dark] .colab-df-quickchart {\n",
              "      --bg-color: #3B4455;\n",
              "      --fill-color: #D2E3FC;\n",
              "      --hover-bg-color: #434B5C;\n",
              "      --hover-fill-color: #FFFFFF;\n",
              "      --disabled-bg-color: #3B4455;\n",
              "      --disabled-fill-color: #666;\n",
              "  }\n",
              "\n",
              "  .colab-df-quickchart {\n",
              "    background-color: var(--bg-color);\n",
              "    border: none;\n",
              "    border-radius: 50%;\n",
              "    cursor: pointer;\n",
              "    display: none;\n",
              "    fill: var(--fill-color);\n",
              "    height: 32px;\n",
              "    padding: 0;\n",
              "    width: 32px;\n",
              "  }\n",
              "\n",
              "  .colab-df-quickchart:hover {\n",
              "    background-color: var(--hover-bg-color);\n",
              "    box-shadow: 0 1px 2px rgba(60, 64, 67, 0.3), 0 1px 3px 1px rgba(60, 64, 67, 0.15);\n",
              "    fill: var(--button-hover-fill-color);\n",
              "  }\n",
              "\n",
              "  .colab-df-quickchart-complete:disabled,\n",
              "  .colab-df-quickchart-complete:disabled:hover {\n",
              "    background-color: var(--disabled-bg-color);\n",
              "    fill: var(--disabled-fill-color);\n",
              "    box-shadow: none;\n",
              "  }\n",
              "\n",
              "  .colab-df-spinner {\n",
              "    border: 2px solid var(--fill-color);\n",
              "    border-color: transparent;\n",
              "    border-bottom-color: var(--fill-color);\n",
              "    animation:\n",
              "      spin 1s steps(1) infinite;\n",
              "  }\n",
              "\n",
              "  @keyframes spin {\n",
              "    0% {\n",
              "      border-color: transparent;\n",
              "      border-bottom-color: var(--fill-color);\n",
              "      border-left-color: var(--fill-color);\n",
              "    }\n",
              "    20% {\n",
              "      border-color: transparent;\n",
              "      border-left-color: var(--fill-color);\n",
              "      border-top-color: var(--fill-color);\n",
              "    }\n",
              "    30% {\n",
              "      border-color: transparent;\n",
              "      border-left-color: var(--fill-color);\n",
              "      border-top-color: var(--fill-color);\n",
              "      border-right-color: var(--fill-color);\n",
              "    }\n",
              "    40% {\n",
              "      border-color: transparent;\n",
              "      border-right-color: var(--fill-color);\n",
              "      border-top-color: var(--fill-color);\n",
              "    }\n",
              "    60% {\n",
              "      border-color: transparent;\n",
              "      border-right-color: var(--fill-color);\n",
              "    }\n",
              "    80% {\n",
              "      border-color: transparent;\n",
              "      border-right-color: var(--fill-color);\n",
              "      border-bottom-color: var(--fill-color);\n",
              "    }\n",
              "    90% {\n",
              "      border-color: transparent;\n",
              "      border-bottom-color: var(--fill-color);\n",
              "    }\n",
              "  }\n",
              "</style>\n",
              "\n",
              "  <script>\n",
              "    async function quickchart(key) {\n",
              "      const quickchartButtonEl =\n",
              "        document.querySelector('#' + key + ' button');\n",
              "      quickchartButtonEl.disabled = true;  // To prevent multiple clicks.\n",
              "      quickchartButtonEl.classList.add('colab-df-spinner');\n",
              "      try {\n",
              "        const charts = await google.colab.kernel.invokeFunction(\n",
              "            'suggestCharts', [key], {});\n",
              "      } catch (error) {\n",
              "        console.error('Error during call to suggestCharts:', error);\n",
              "      }\n",
              "      quickchartButtonEl.classList.remove('colab-df-spinner');\n",
              "      quickchartButtonEl.classList.add('colab-df-quickchart-complete');\n",
              "    }\n",
              "    (() => {\n",
              "      let quickchartButtonEl =\n",
              "        document.querySelector('#df-1e73050e-03b8-4461-9be7-665879745a00 button');\n",
              "      quickchartButtonEl.style.display =\n",
              "        google.colab.kernel.accessAllowed ? 'block' : 'none';\n",
              "    })();\n",
              "  </script>\n",
              "</div>\n",
              "\n",
              "  <div id=\"id_7bc652c1-236b-4f4a-80d6-ff9fb547578c\">\n",
              "    <style>\n",
              "      .colab-df-generate {\n",
              "        background-color: #E8F0FE;\n",
              "        border: none;\n",
              "        border-radius: 50%;\n",
              "        cursor: pointer;\n",
              "        display: none;\n",
              "        fill: #1967D2;\n",
              "        height: 32px;\n",
              "        padding: 0 0 0 0;\n",
              "        width: 32px;\n",
              "      }\n",
              "\n",
              "      .colab-df-generate:hover {\n",
              "        background-color: #E2EBFA;\n",
              "        box-shadow: 0px 1px 2px rgba(60, 64, 67, 0.3), 0px 1px 3px 1px rgba(60, 64, 67, 0.15);\n",
              "        fill: #174EA6;\n",
              "      }\n",
              "\n",
              "      [theme=dark] .colab-df-generate {\n",
              "        background-color: #3B4455;\n",
              "        fill: #D2E3FC;\n",
              "      }\n",
              "\n",
              "      [theme=dark] .colab-df-generate:hover {\n",
              "        background-color: #434B5C;\n",
              "        box-shadow: 0px 1px 3px 1px rgba(0, 0, 0, 0.15);\n",
              "        filter: drop-shadow(0px 1px 2px rgba(0, 0, 0, 0.3));\n",
              "        fill: #FFFFFF;\n",
              "      }\n",
              "    </style>\n",
              "    <button class=\"colab-df-generate\" onclick=\"generateWithVariable('df')\"\n",
              "            title=\"Generate code using this dataframe.\"\n",
              "            style=\"display:none;\">\n",
              "\n",
              "  <svg xmlns=\"http://www.w3.org/2000/svg\" height=\"24px\"viewBox=\"0 0 24 24\"\n",
              "       width=\"24px\">\n",
              "    <path d=\"M7,19H8.4L18.45,9,17,7.55,7,17.6ZM5,21V16.75L18.45,3.32a2,2,0,0,1,2.83,0l1.4,1.43a1.91,1.91,0,0,1,.58,1.4,1.91,1.91,0,0,1-.58,1.4L9.25,21ZM18.45,9,17,7.55Zm-12,3A5.31,5.31,0,0,0,4.9,8.1,5.31,5.31,0,0,0,1,6.5,5.31,5.31,0,0,0,4.9,4.9,5.31,5.31,0,0,0,6.5,1,5.31,5.31,0,0,0,8.1,4.9,5.31,5.31,0,0,0,12,6.5,5.46,5.46,0,0,0,6.5,12Z\"/>\n",
              "  </svg>\n",
              "    </button>\n",
              "    <script>\n",
              "      (() => {\n",
              "      const buttonEl =\n",
              "        document.querySelector('#id_7bc652c1-236b-4f4a-80d6-ff9fb547578c button.colab-df-generate');\n",
              "      buttonEl.style.display =\n",
              "        google.colab.kernel.accessAllowed ? 'block' : 'none';\n",
              "\n",
              "      buttonEl.onclick = () => {\n",
              "        google.colab.notebook.generateWithVariable('df');\n",
              "      }\n",
              "      })();\n",
              "    </script>\n",
              "  </div>\n",
              "\n",
              "    </div>\n",
              "  </div>\n"
            ],
            "application/vnd.google.colaboratory.intrinsic+json": {
              "type": "dataframe",
              "variable_name": "df",
              "summary": "{\n  \"name\": \"df\",\n  \"rows\": 30,\n  \"fields\": [\n    {\n      \"column\": \"id\",\n      \"properties\": {\n        \"dtype\": \"string\",\n        \"num_unique_values\": 30,\n        \"samples\": [\n          \"44136789639\",\n          \"44136789664\",\n          \"44136789646\"\n        ],\n        \"semantic_type\": \"\",\n        \"description\": \"\"\n      }\n    },\n    {\n      \"column\": \"type\",\n      \"properties\": {\n        \"dtype\": \"category\",\n        \"num_unique_values\": 6,\n        \"samples\": [\n          \"PushEvent\",\n          \"WatchEvent\",\n          \"PullRequestEvent\"\n        ],\n        \"semantic_type\": \"\",\n        \"description\": \"\"\n      }\n    },\n    {\n      \"column\": \"actor\",\n      \"properties\": {\n        \"dtype\": \"object\",\n        \"semantic_type\": \"\",\n        \"description\": \"\"\n      }\n    },\n    {\n      \"column\": \"repo\",\n      \"properties\": {\n        \"dtype\": \"object\",\n        \"semantic_type\": \"\",\n        \"description\": \"\"\n      }\n    },\n    {\n      \"column\": \"payload\",\n      \"properties\": {\n        \"dtype\": \"object\",\n        \"semantic_type\": \"\",\n        \"description\": \"\"\n      }\n    },\n    {\n      \"column\": \"public\",\n      \"properties\": {\n        \"dtype\": \"boolean\",\n        \"num_unique_values\": 1,\n        \"samples\": [\n          true\n        ],\n        \"semantic_type\": \"\",\n        \"description\": \"\"\n      }\n    },\n    {\n      \"column\": \"created_at\",\n      \"properties\": {\n        \"dtype\": \"object\",\n        \"num_unique_values\": 1,\n        \"samples\": [\n          \"2024-11-24T12:52:41Z\"\n        ],\n        \"semantic_type\": \"\",\n        \"description\": \"\"\n      }\n    },\n    {\n      \"column\": \"org\",\n      \"properties\": {\n        \"dtype\": \"object\",\n        \"semantic_type\": \"\",\n        \"description\": \"\"\n      }\n    }\n  ]\n}"
            }
          },
          "metadata": {},
          "execution_count": 14
        }
      ]
    },
    {
      "cell_type": "code",
      "source": [
        "for content in df['actor'][:10]:\n",
        "    print(content)"
      ],
      "metadata": {
        "colab": {
          "base_uri": "https://localhost:8080/"
        },
        "id": "mVithZHXimvl",
        "outputId": "ba7b9907-5818-4713-bb1e-151fd689771d"
      },
      "execution_count": null,
      "outputs": [
        {
          "output_type": "stream",
          "name": "stdout",
          "text": [
            "{'id': 41898282, 'login': 'github-actions[bot]', 'display_login': 'github-actions', 'gravatar_id': '', 'url': 'https://api.github.com/users/github-actions[bot]', 'avatar_url': 'https://avatars.githubusercontent.com/u/41898282?'}\n",
            "{'id': 55054375, 'login': 'Qodestackr', 'display_login': 'Qodestackr', 'gravatar_id': '', 'url': 'https://api.github.com/users/Qodestackr', 'avatar_url': 'https://avatars.githubusercontent.com/u/55054375?'}\n",
            "{'id': 72021263, 'login': 'NassimAlaimi', 'display_login': 'NassimAlaimi', 'gravatar_id': '', 'url': 'https://api.github.com/users/NassimAlaimi', 'avatar_url': 'https://avatars.githubusercontent.com/u/72021263?'}\n",
            "{'id': 41898282, 'login': 'github-actions[bot]', 'display_login': 'github-actions', 'gravatar_id': '', 'url': 'https://api.github.com/users/github-actions[bot]', 'avatar_url': 'https://avatars.githubusercontent.com/u/41898282?'}\n",
            "{'id': 41898282, 'login': 'github-actions[bot]', 'display_login': 'github-actions', 'gravatar_id': '', 'url': 'https://api.github.com/users/github-actions[bot]', 'avatar_url': 'https://avatars.githubusercontent.com/u/41898282?'}\n",
            "{'id': 72662912, 'login': 'lherbeng', 'display_login': 'lherbeng', 'gravatar_id': '', 'url': 'https://api.github.com/users/lherbeng', 'avatar_url': 'https://avatars.githubusercontent.com/u/72662912?'}\n",
            "{'id': 142512674, 'login': 'NaveenReddy7013', 'display_login': 'NaveenReddy7013', 'gravatar_id': '', 'url': 'https://api.github.com/users/NaveenReddy7013', 'avatar_url': 'https://avatars.githubusercontent.com/u/142512674?'}\n",
            "{'id': 41898282, 'login': 'github-actions[bot]', 'display_login': 'github-actions', 'gravatar_id': '', 'url': 'https://api.github.com/users/github-actions[bot]', 'avatar_url': 'https://avatars.githubusercontent.com/u/41898282?'}\n",
            "{'id': 41898282, 'login': 'github-actions[bot]', 'display_login': 'github-actions', 'gravatar_id': '', 'url': 'https://api.github.com/users/github-actions[bot]', 'avatar_url': 'https://avatars.githubusercontent.com/u/41898282?'}\n",
            "{'id': 58503290, 'login': 'chel12', 'display_login': 'chel12', 'gravatar_id': '', 'url': 'https://api.github.com/users/chel12', 'avatar_url': 'https://avatars.githubusercontent.com/u/58503290?'}\n"
          ]
        }
      ]
    },
    {
      "cell_type": "markdown",
      "source": [
        ">> ### json파일 읽고 tree 구조로 보는 방법"
      ],
      "metadata": {
        "id": "XrDUHlhv9BCO"
      }
    },
    {
      "cell_type": "code",
      "source": [
        "import json\n",
        "\n",
        "data = {\n",
        "    \"name\": \"John\",\n",
        "    \"age\": 30,\n",
        "    \"city\": \"New York\"\n",
        "}\n",
        "\n",
        "formatted_json = json.dumps(data, indent=2)  # 들여쓰기하면 보기가 좋음\n",
        "print(formatted_json)"
      ],
      "metadata": {
        "colab": {
          "base_uri": "https://localhost:8080/"
        },
        "id": "twuI8Wmf8gF1",
        "outputId": "1d6d0b26-3326-41b8-f9a8-b97b97a8af17"
      },
      "execution_count": null,
      "outputs": [
        {
          "output_type": "stream",
          "name": "stdout",
          "text": [
            "{\n",
            "  \"name\": \"John\",\n",
            "  \"age\": 30,\n",
            "  \"city\": \"New York\"\n",
            "}\n"
          ]
        }
      ]
    },
    {
      "cell_type": "code",
      "source": [
        "data = [{\n",
        "    \"name\": \"John\",\n",
        "    \"age\": 30,\n",
        "    \"city\": \"New York\"\n",
        "}]\n",
        "\n",
        "formatted_json = json.dumps(data, indent=2)  # 들여쓰기하면 보기가 좋음\n",
        "print(formatted_json)"
      ],
      "metadata": {
        "colab": {
          "base_uri": "https://localhost:8080/"
        },
        "id": "C6CNEzRo8xbA",
        "outputId": "972e26fc-2171-49a7-c93c-d53a1b0e3aac"
      },
      "execution_count": null,
      "outputs": [
        {
          "output_type": "stream",
          "name": "stdout",
          "text": [
            "[\n",
            "  {\n",
            "    \"name\": \"John\",\n",
            "    \"age\": 30,\n",
            "    \"city\": \"New York\"\n",
            "  }\n",
            "]\n"
          ]
        }
      ]
    },
    {
      "cell_type": "markdown",
      "source": [
        ">> ### https://jsonviewer.stack.hu/\n",
        "- 크롬확장프로그램으로 설치하여 확인하기\n",
        "- TEXT 탭에 JSON 데이터를 입력하고 Viewer 탭으로 이동"
      ],
      "metadata": {
        "id": "pDWS95qI9HNN"
      }
    },
    {
      "cell_type": "code",
      "source": [
        "# Pretty-print the list of dictionaries (JSON data)\n",
        "print(json.dumps(data, indent=2))"
      ],
      "metadata": {
        "id": "Z7wXMpmH4ZzP",
        "colab": {
          "base_uri": "https://localhost:8080/"
        },
        "outputId": "4a92f49f-0e94-4df1-a0dd-b50c33512328"
      },
      "execution_count": null,
      "outputs": [
        {
          "output_type": "stream",
          "name": "stdout",
          "text": [
            "[\n",
            "  {\n",
            "    \"name\": \"John\",\n",
            "    \"age\": 30,\n",
            "    \"city\": \"New York\"\n",
            "  }\n",
            "]\n"
          ]
        }
      ]
    },
    {
      "cell_type": "code",
      "source": [
        "import pprint\n",
        "pp = pprint.PrettyPrinter(indent=2)\n",
        "pp.pprint(data)"
      ],
      "metadata": {
        "id": "qFo3ju8R4Z2f",
        "colab": {
          "base_uri": "https://localhost:8080/"
        },
        "outputId": "28d795a7-822b-4a40-c743-65eb57e64ee0"
      },
      "execution_count": null,
      "outputs": [
        {
          "output_type": "stream",
          "name": "stdout",
          "text": [
            "[{'age': 30, 'city': 'New York', 'name': 'John'}]\n"
          ]
        }
      ]
    },
    {
      "cell_type": "code",
      "source": [],
      "metadata": {
        "id": "vhFY_Bm6EVmv"
      },
      "execution_count": null,
      "outputs": []
    }
  ]
}