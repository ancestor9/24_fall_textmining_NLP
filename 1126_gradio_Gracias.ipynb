{
  "nbformat": 4,
  "nbformat_minor": 0,
  "metadata": {
    "colab": {
      "provenance": [],
      "authorship_tag": "ABX9TyPQQS5LPP4zCxo9P9Wf4O1W",
      "include_colab_link": true
    },
    "kernelspec": {
      "name": "python3",
      "display_name": "Python 3"
    },
    "language_info": {
      "name": "python"
    }
  },
  "cells": [
    {
      "cell_type": "markdown",
      "metadata": {
        "id": "view-in-github",
        "colab_type": "text"
      },
      "source": [
        "<a href=\"https://colab.research.google.com/github/ancestor9/24_fall_textmining_NLP/blob/main/1126_gradio_Gracias.ipynb\" target=\"_parent\"><img src=\"https://colab.research.google.com/assets/colab-badge.svg\" alt=\"Open In Colab\"/></a>"
      ]
    },
    {
      "cell_type": "code",
      "source": [
        "# 먼저 Colab에서 Gradio를 설치해야 합니다. 아래 코드를 실행하여 설치하십시오.\n",
        "!pip install gradio --quiet"
      ],
      "metadata": {
        "id": "RoZoiUTkrURo"
      },
      "execution_count": null,
      "outputs": []
    },
    {
      "cell_type": "code",
      "source": [
        "import gradio as gr"
      ],
      "metadata": {
        "id": "pyTL_GnRr1UT"
      },
      "execution_count": null,
      "outputs": []
    },
    {
      "cell_type": "markdown",
      "source": [
        "## **1. Basic**"
      ],
      "metadata": {
        "id": "wlK2FFHbtQYb"
      }
    },
    {
      "cell_type": "code",
      "source": [
        "# 1. 간단한 인사말 반환 예제\n",
        "def greet(name):\n",
        "    return f\"Hello hhhhhhhhhh {name}!\""
      ],
      "metadata": {
        "id": "ZRVlUYx1rHwU"
      },
      "execution_count": null,
      "outputs": []
    },
    {
      "cell_type": "code",
      "source": [
        "from google.colab import userdata\n",
        "myngrok = userdata.get('ngrok')"
      ],
      "metadata": {
        "id": "DKy0Cm9ZSFk7"
      },
      "execution_count": null,
      "outputs": []
    },
    {
      "cell_type": "code",
      "source": [
        "interface_1 = gr.Interface(fn=greet,\n",
        "                           inputs=\"text\",\n",
        "                           outputs=\"text\")\n",
        "interface_1.launch()"
      ],
      "metadata": {
        "colab": {
          "base_uri": "https://localhost:8080/",
          "height": 630
        },
        "id": "gRq-mkc5SDBS",
        "outputId": "f21844f3-d7b4-4ada-962a-09cfd6257610"
      },
      "execution_count": null,
      "outputs": [
        {
          "output_type": "stream",
          "name": "stdout",
          "text": [
            "Running Gradio in a Colab notebook requires sharing enabled. Automatically setting `share=True` (you can turn this off by setting `share=False` in `launch()` explicitly).\n",
            "\n",
            "Colab notebook detected. To show errors in colab notebook, set debug=True in launch()\n",
            "* Running on public URL: https://ef06f37bb10654a6b9.gradio.live\n",
            "\n",
            "This share link expires in 72 hours. For free permanent hosting and GPU upgrades, run `gradio deploy` from the terminal in the working directory to deploy to Hugging Face Spaces (https://huggingface.co/spaces)\n"
          ]
        },
        {
          "output_type": "display_data",
          "data": {
            "text/plain": [
              "<IPython.core.display.HTML object>"
            ],
            "text/html": [
              "<div><iframe src=\"https://ef06f37bb10654a6b9.gradio.live\" width=\"100%\" height=\"500\" allow=\"autoplay; camera; microphone; clipboard-read; clipboard-write;\" frameborder=\"0\" allowfullscreen></iframe></div>"
            ]
          },
          "metadata": {}
        },
        {
          "output_type": "execute_result",
          "data": {
            "text/plain": []
          },
          "metadata": {},
          "execution_count": 21
        }
      ]
    },
    {
      "cell_type": "markdown",
      "source": [
        "## <font color='orange'> **Try to run on public URL with Mobile Phone**\n",
        "<img src ='https://images.unsplash.com/photo-1522125670776-3c7abb882bc2?w=500&auto=format&fit=crop&q=60&ixlib=rb-4.0.3&ixid=M3wxMjA3fDB8MHxzZWFyY2h8OHx8bW9iaWwlMjBwaG9uZXxlbnwwfHwwfHx8MA%3D%3D'>"
      ],
      "metadata": {
        "id": "9mxJtR21sPyS"
      }
    },
    {
      "cell_type": "code",
      "source": [
        "from google.colab import userdata\n",
        "myngrok=userdata.get('ngrok')"
      ],
      "metadata": {
        "id": "o78OuAM8QaXK"
      },
      "execution_count": null,
      "outputs": []
    },
    {
      "cell_type": "code",
      "source": [
        "# prompt: ngrok으로 외부 url에 공개 하려면\n",
        "\n",
        "import gradio as gr\n",
        "import time\n",
        "\n",
        "# 먼저 Colab에서 Gradio를 설치해야 합니다. 아래 코드를 실행하여 설치하십시오.\n",
        "# !pip install gradio --quiet\n",
        "\n",
        "# ngrok 설치 (처음 실행 시에만)\n",
        "!pip install pyngrok --quiet\n",
        "\n",
        "from pyngrok import ngrok\n",
        "from google.colab import userdata\n",
        "myngrok=userdata.get('ngrok')\n",
        "\n",
        "# ## **1. Basic**\n",
        "\n",
        "# 1. 간단한 인사말 반환 예제\n",
        "def greet(name):\n",
        "    return f\"Hello cold cold ~~{name}!\"\n",
        "\n",
        "interface_1 = gr.Interface(fn=greet,\n",
        "                           inputs=\"text\",\n",
        "                           outputs=\"text\")\n",
        "\n",
        "ngrok.set_auth_token(myngrok)\n",
        "# 기존 ngrok 터널들을 종료합니다.\n",
        "ngrok.kill()\n",
        "time.sleep(5) # ngrok process가 완전히 종료될 때까지 기다립니다.\n",
        "\n",
        "\n",
        "# ngrok 터널 생성\n",
        "ngrok_tunnel = ngrok.connect(addr=8080) # Gradio의 기본 포트는 7860입니다.\n",
        "print(\"Public URL:\", ngrok_tunnel.public_url)\n",
        "\n",
        "interface_1.launch(server_name=\"0.0.0.0\", server_port=8080) # server_name을 명시적으로 0.0.0.0으로 설정해야 합니다."
      ],
      "metadata": {
        "colab": {
          "base_uri": "https://localhost:8080/",
          "height": 371
        },
        "id": "1YmaG740P8Zv",
        "outputId": "d9d0d66b-d653-455f-9c05-07305654e077"
      },
      "execution_count": null,
      "outputs": [
        {
          "output_type": "stream",
          "name": "stdout",
          "text": [
            "Public URL: https://a645-34-56-210-194.ngrok-free.app\n"
          ]
        },
        {
          "output_type": "error",
          "ename": "OSError",
          "evalue": "Cannot find empty port in range: 8080-8080. You can specify a different port by setting the GRADIO_SERVER_PORT environment variable or passing the `server_port` parameter to `launch()`.",
          "traceback": [
            "\u001b[0;31m---------------------------------------------------------------------------\u001b[0m",
            "\u001b[0;31mOSError\u001b[0m                                   Traceback (most recent call last)",
            "\u001b[0;32m<ipython-input-23-13d392922d75>\u001b[0m in \u001b[0;36m<cell line: 36>\u001b[0;34m()\u001b[0m\n\u001b[1;32m     34\u001b[0m \u001b[0mprint\u001b[0m\u001b[0;34m(\u001b[0m\u001b[0;34m\"Public URL:\"\u001b[0m\u001b[0;34m,\u001b[0m \u001b[0mngrok_tunnel\u001b[0m\u001b[0;34m.\u001b[0m\u001b[0mpublic_url\u001b[0m\u001b[0;34m)\u001b[0m\u001b[0;34m\u001b[0m\u001b[0;34m\u001b[0m\u001b[0m\n\u001b[1;32m     35\u001b[0m \u001b[0;34m\u001b[0m\u001b[0m\n\u001b[0;32m---> 36\u001b[0;31m \u001b[0minterface_1\u001b[0m\u001b[0;34m.\u001b[0m\u001b[0mlaunch\u001b[0m\u001b[0;34m(\u001b[0m\u001b[0mserver_name\u001b[0m\u001b[0;34m=\u001b[0m\u001b[0;34m\"0.0.0.0\"\u001b[0m\u001b[0;34m,\u001b[0m \u001b[0mserver_port\u001b[0m\u001b[0;34m=\u001b[0m\u001b[0;36m8080\u001b[0m\u001b[0;34m)\u001b[0m \u001b[0;31m# server_name을 명시적으로 0.0.0.0으로 설정해야 합니다.\u001b[0m\u001b[0;34m\u001b[0m\u001b[0;34m\u001b[0m\u001b[0m\n\u001b[0m",
            "\u001b[0;32m/usr/local/lib/python3.10/dist-packages/gradio/blocks.py\u001b[0m in \u001b[0;36mlaunch\u001b[0;34m(self, inline, inbrowser, share, debug, max_threads, auth, auth_message, prevent_thread_lock, show_error, server_name, server_port, height, width, favicon_path, ssl_keyfile, ssl_certfile, ssl_keyfile_password, ssl_verify, quiet, show_api, allowed_paths, blocked_paths, root_path, app_kwargs, state_session_capacity, share_server_address, share_server_protocol, auth_dependency, max_file_size, enable_monitoring, strict_cors, node_server_name, node_port, ssr_mode, _frontend)\u001b[0m\n\u001b[1;32m   2480\u001b[0m                     \u001b[0mlocal_url\u001b[0m\u001b[0;34m,\u001b[0m\u001b[0;34m\u001b[0m\u001b[0;34m\u001b[0m\u001b[0m\n\u001b[1;32m   2481\u001b[0m                     \u001b[0mserver\u001b[0m\u001b[0;34m,\u001b[0m\u001b[0;34m\u001b[0m\u001b[0;34m\u001b[0m\u001b[0m\n\u001b[0;32m-> 2482\u001b[0;31m                 \u001b[0;34m)\u001b[0m \u001b[0;34m=\u001b[0m \u001b[0mhttp_server\u001b[0m\u001b[0;34m.\u001b[0m\u001b[0mstart_server\u001b[0m\u001b[0;34m(\u001b[0m\u001b[0;34m\u001b[0m\u001b[0;34m\u001b[0m\u001b[0m\n\u001b[0m\u001b[1;32m   2483\u001b[0m                     \u001b[0mapp\u001b[0m\u001b[0;34m=\u001b[0m\u001b[0mself\u001b[0m\u001b[0;34m.\u001b[0m\u001b[0mapp\u001b[0m\u001b[0;34m,\u001b[0m\u001b[0;34m\u001b[0m\u001b[0;34m\u001b[0m\u001b[0m\n\u001b[1;32m   2484\u001b[0m                     \u001b[0mserver_name\u001b[0m\u001b[0;34m=\u001b[0m\u001b[0mserver_name\u001b[0m\u001b[0;34m,\u001b[0m\u001b[0;34m\u001b[0m\u001b[0;34m\u001b[0m\u001b[0m\n",
            "\u001b[0;32m/usr/local/lib/python3.10/dist-packages/gradio/http_server.py\u001b[0m in \u001b[0;36mstart_server\u001b[0;34m(app, server_name, server_port, ssl_keyfile, ssl_certfile, ssl_keyfile_password)\u001b[0m\n\u001b[1;32m    154\u001b[0m             \u001b[0;32mpass\u001b[0m\u001b[0;34m\u001b[0m\u001b[0;34m\u001b[0m\u001b[0m\n\u001b[1;32m    155\u001b[0m     \u001b[0;32melse\u001b[0m\u001b[0;34m:\u001b[0m\u001b[0;34m\u001b[0m\u001b[0;34m\u001b[0m\u001b[0m\n\u001b[0;32m--> 156\u001b[0;31m         raise OSError(\n\u001b[0m\u001b[1;32m    157\u001b[0m             \u001b[0;34mf\"Cannot find empty port in range: {min(server_ports)}-{max(server_ports)}. You can specify a different port by setting the GRADIO_SERVER_PORT environment variable or passing the `server_port` parameter to `launch()`.\"\u001b[0m\u001b[0;34m\u001b[0m\u001b[0;34m\u001b[0m\u001b[0m\n\u001b[1;32m    158\u001b[0m         )\n",
            "\u001b[0;31mOSError\u001b[0m: Cannot find empty port in range: 8080-8080. You can specify a different port by setting the GRADIO_SERVER_PORT environment variable or passing the `server_port` parameter to `launch()`."
          ]
        }
      ]
    },
    {
      "cell_type": "code",
      "source": [
        "\n",
        "# 2. 두 숫자의 합을 계산하는 예제\n",
        "def add_numbers(a, b):\n",
        "    return a + b\n",
        "\n",
        "interface_2 = gr.Interface(fn=add_numbers, inputs=[\"number\", \"number\"], outputs=\"number\")\n",
        "interface_2.launch()\n"
      ],
      "metadata": {
        "colab": {
          "base_uri": "https://localhost:8080/",
          "height": 649
        },
        "id": "sAyG8iWorNL-",
        "outputId": "0890d67f-248e-4bad-b876-79fe70f6a73f"
      },
      "execution_count": null,
      "outputs": [
        {
          "output_type": "stream",
          "name": "stdout",
          "text": [
            "Running Gradio in a Colab notebook requires sharing enabled. Automatically setting `share=True` (you can turn this off by setting `share=False` in `launch()` explicitly).\n",
            "\n",
            "Colab notebook detected. To show errors in colab notebook, set debug=True in launch()\n",
            "* Running on public URL: https://955952bcb7fe8a885f.gradio.live\n",
            "\n",
            "This share link expires in 72 hours. For free permanent hosting and GPU upgrades, run `gradio deploy` from the terminal in the working directory to deploy to Hugging Face Spaces (https://huggingface.co/spaces)\n"
          ]
        },
        {
          "output_type": "display_data",
          "data": {
            "text/plain": [
              "<IPython.core.display.HTML object>"
            ],
            "text/html": [
              "<div><iframe src=\"https://955952bcb7fe8a885f.gradio.live\" width=\"100%\" height=\"500\" allow=\"autoplay; camera; microphone; clipboard-read; clipboard-write;\" frameborder=\"0\" allowfullscreen></iframe></div>"
            ]
          },
          "metadata": {}
        },
        {
          "output_type": "execute_result",
          "data": {
            "text/plain": []
          },
          "metadata": {},
          "execution_count": 5
        }
      ]
    },
    {
      "cell_type": "code",
      "source": [
        "\n",
        "# 3. 이미지에 필터를 적용하는 예제 (흑백 변환)\n",
        "def image_to_grayscale(img):\n",
        "    return img.convert(\"L\")\n",
        "\n",
        "interface_3 = gr.Interface(fn=image_to_grayscale, inputs=\"image\", outputs=\"image\")\n",
        "interface_3.launch()\n"
      ],
      "metadata": {
        "colab": {
          "base_uri": "https://localhost:8080/",
          "height": 649
        },
        "id": "oaBO2mLXrOSv",
        "outputId": "3bba5f64-52c8-46c6-dfc8-c9b36825a018"
      },
      "execution_count": null,
      "outputs": [
        {
          "output_type": "stream",
          "name": "stdout",
          "text": [
            "Running Gradio in a Colab notebook requires sharing enabled. Automatically setting `share=True` (you can turn this off by setting `share=False` in `launch()` explicitly).\n",
            "\n",
            "Colab notebook detected. To show errors in colab notebook, set debug=True in launch()\n",
            "* Running on public URL: https://9c098c836ac215284d.gradio.live\n",
            "\n",
            "This share link expires in 72 hours. For free permanent hosting and GPU upgrades, run `gradio deploy` from the terminal in the working directory to deploy to Hugging Face Spaces (https://huggingface.co/spaces)\n"
          ]
        },
        {
          "output_type": "display_data",
          "data": {
            "text/plain": [
              "<IPython.core.display.HTML object>"
            ],
            "text/html": [
              "<div><iframe src=\"https://9c098c836ac215284d.gradio.live\" width=\"100%\" height=\"500\" allow=\"autoplay; camera; microphone; clipboard-read; clipboard-write;\" frameborder=\"0\" allowfullscreen></iframe></div>"
            ]
          },
          "metadata": {}
        },
        {
          "output_type": "execute_result",
          "data": {
            "text/plain": []
          },
          "metadata": {},
          "execution_count": 6
        }
      ]
    },
    {
      "cell_type": "code",
      "source": [
        "\n",
        "# 4. 텍스트를 대문자로 변환하는 예제\n",
        "def uppercase_text(text):\n",
        "    return text.upper()\n",
        "\n",
        "interface_4 = gr.Interface(fn=uppercase_text, inputs=\"text\", outputs=\"text\")\n",
        "interface_4.launch()\n"
      ],
      "metadata": {
        "colab": {
          "base_uri": "https://localhost:8080/",
          "height": 649
        },
        "id": "_h13CD3KrPPP",
        "outputId": "9723e588-bace-4dc1-fbac-d7f528147c0a"
      },
      "execution_count": null,
      "outputs": [
        {
          "output_type": "stream",
          "name": "stdout",
          "text": [
            "Running Gradio in a Colab notebook requires sharing enabled. Automatically setting `share=True` (you can turn this off by setting `share=False` in `launch()` explicitly).\n",
            "\n",
            "Colab notebook detected. To show errors in colab notebook, set debug=True in launch()\n",
            "* Running on public URL: https://9c4095509a6fa6eb67.gradio.live\n",
            "\n",
            "This share link expires in 72 hours. For free permanent hosting and GPU upgrades, run `gradio deploy` from the terminal in the working directory to deploy to Hugging Face Spaces (https://huggingface.co/spaces)\n"
          ]
        },
        {
          "output_type": "display_data",
          "data": {
            "text/plain": [
              "<IPython.core.display.HTML object>"
            ],
            "text/html": [
              "<div><iframe src=\"https://9c4095509a6fa6eb67.gradio.live\" width=\"100%\" height=\"500\" allow=\"autoplay; camera; microphone; clipboard-read; clipboard-write;\" frameborder=\"0\" allowfullscreen></iframe></div>"
            ]
          },
          "metadata": {}
        },
        {
          "output_type": "execute_result",
          "data": {
            "text/plain": []
          },
          "metadata": {},
          "execution_count": 7
        }
      ]
    },
    {
      "cell_type": "code",
      "source": [
        "\n",
        "# 5. 문장의 감정 분석 결과를 반환하는 예제 (간단한 긍정/부정 판단)\n",
        "def sentiment_analysis(text):\n",
        "    if \"good\" in text.lower() or \"happy\" in text.lower():\n",
        "        return \"Positive\"\n",
        "    elif \"bad\" in text.lower() or \"sad\" in text.lower():\n",
        "        return \"Negative\"\n",
        "    else:\n",
        "        return \"Neutral\"\n",
        "\n",
        "interface_5 = gr.Interface(fn=sentiment_analysis, inputs=\"text\", outputs=\"text\")\n",
        "interface_5.launch()\n"
      ],
      "metadata": {
        "colab": {
          "base_uri": "https://localhost:8080/",
          "height": 649
        },
        "id": "6DSHprYLrQCe",
        "outputId": "5a198e16-8383-4691-9e5b-0bf3cf2e836a"
      },
      "execution_count": null,
      "outputs": [
        {
          "output_type": "stream",
          "name": "stdout",
          "text": [
            "Running Gradio in a Colab notebook requires sharing enabled. Automatically setting `share=True` (you can turn this off by setting `share=False` in `launch()` explicitly).\n",
            "\n",
            "Colab notebook detected. To show errors in colab notebook, set debug=True in launch()\n",
            "* Running on public URL: https://07ba3d41b6a28ee70c.gradio.live\n",
            "\n",
            "This share link expires in 72 hours. For free permanent hosting and GPU upgrades, run `gradio deploy` from the terminal in the working directory to deploy to Hugging Face Spaces (https://huggingface.co/spaces)\n"
          ]
        },
        {
          "output_type": "display_data",
          "data": {
            "text/plain": [
              "<IPython.core.display.HTML object>"
            ],
            "text/html": [
              "<div><iframe src=\"https://07ba3d41b6a28ee70c.gradio.live\" width=\"100%\" height=\"500\" allow=\"autoplay; camera; microphone; clipboard-read; clipboard-write;\" frameborder=\"0\" allowfullscreen></iframe></div>"
            ]
          },
          "metadata": {}
        },
        {
          "output_type": "execute_result",
          "data": {
            "text/plain": []
          },
          "metadata": {},
          "execution_count": 8
        }
      ]
    },
    {
      "cell_type": "markdown",
      "source": [
        "## **2. Intermediate**"
      ],
      "metadata": {
        "id": "OTCHa0Yss0C-"
      }
    },
    {
      "cell_type": "code",
      "source": [
        "# 먼저 Colab에서 Gradio와 SQLite3를 설치해야 합니다. 아래 코드를 실행하여 설치하십시오.\n",
        "# !pip install gradio sqlite-utils pydantic\n",
        "\n",
        "import gradio as gr\n",
        "import sqlite3\n",
        "from pydantic import BaseModel\n",
        "import pandas as pd\n",
        "\n",
        "# 1. 데이터베이스 생성 및 데이터 삽입 예제\n",
        "conn = sqlite3.connect(\"example.db\")\n",
        "cursor = conn.cursor()\n",
        "\n",
        "# 테이블 생성\n",
        "cursor.execute('''CREATE TABLE IF NOT EXISTS sales (\n",
        "                    id INTEGER PRIMARY KEY,\n",
        "                    product TEXT,\n",
        "                    category TEXT,\n",
        "                    quantity INTEGER,\n",
        "                    price REAL\n",
        "                )''')\n",
        "\n",
        "# 데이터 삽입\n",
        "cursor.executemany('''INSERT INTO sales (product, category, quantity, price) VALUES (?, ?, ?, ?)''',\n",
        "                   [\n",
        "                       (\"Product A\", \"Category 1\", 10, 100.0),\n",
        "                       (\"Product B\", \"Category 1\", 15, 150.0),\n",
        "                       (\"Product C\", \"Category 2\", 7, 200.0),\n",
        "                       (\"Product D\", \"Category 2\", 3, 300.0),\n",
        "                       (\"Product E\", \"Category 1\", 20, 120.0)\n",
        "                   ])\n",
        "conn.commit()"
      ],
      "metadata": {
        "id": "FA85B4vGtN43"
      },
      "execution_count": null,
      "outputs": []
    },
    {
      "cell_type": "code",
      "source": [
        "# prompt: Sale의 모든 데이터를 보여줘\n",
        "\n",
        "def show_all_sales():\n",
        "    conn = sqlite3.connect(\"example.db\")\n",
        "    cursor = conn.cursor()\n",
        "    cursor.execute(\"SELECT * FROM sales\")\n",
        "    rows = cursor.fetchall()\n",
        "    conn.close()\n",
        "\n",
        "    # pandas DataFrame을 사용하여 데이터를 표 형식으로 변환\n",
        "    df = pd.DataFrame(rows, columns=[\"id\", \"product\", \"category\", \"quantity\", \"price\"])\n",
        "\n",
        "    return df\n",
        "\n",
        "show_all_sales()"
      ],
      "metadata": {
        "colab": {
          "base_uri": "https://localhost:8080/",
          "height": 206
        },
        "id": "pQQfLRgkvYPD",
        "outputId": "7dd7e72b-854d-4ed7-c3ee-bc7005f0f9de"
      },
      "execution_count": null,
      "outputs": [
        {
          "output_type": "execute_result",
          "data": {
            "text/plain": [
              "   id    product    category  quantity  price\n",
              "0   1  Product A  Category 1        10  100.0\n",
              "1   2  Product B  Category 1        15  150.0\n",
              "2   3  Product C  Category 2         7  200.0\n",
              "3   4  Product D  Category 2         3  300.0\n",
              "4   5  Product E  Category 1        20  120.0"
            ],
            "text/html": [
              "\n",
              "  <div id=\"df-a4c48c06-ce2a-4bbf-b78b-5059c52bd4ce\" class=\"colab-df-container\">\n",
              "    <div>\n",
              "<style scoped>\n",
              "    .dataframe tbody tr th:only-of-type {\n",
              "        vertical-align: middle;\n",
              "    }\n",
              "\n",
              "    .dataframe tbody tr th {\n",
              "        vertical-align: top;\n",
              "    }\n",
              "\n",
              "    .dataframe thead th {\n",
              "        text-align: right;\n",
              "    }\n",
              "</style>\n",
              "<table border=\"1\" class=\"dataframe\">\n",
              "  <thead>\n",
              "    <tr style=\"text-align: right;\">\n",
              "      <th></th>\n",
              "      <th>id</th>\n",
              "      <th>product</th>\n",
              "      <th>category</th>\n",
              "      <th>quantity</th>\n",
              "      <th>price</th>\n",
              "    </tr>\n",
              "  </thead>\n",
              "  <tbody>\n",
              "    <tr>\n",
              "      <th>0</th>\n",
              "      <td>1</td>\n",
              "      <td>Product A</td>\n",
              "      <td>Category 1</td>\n",
              "      <td>10</td>\n",
              "      <td>100.0</td>\n",
              "    </tr>\n",
              "    <tr>\n",
              "      <th>1</th>\n",
              "      <td>2</td>\n",
              "      <td>Product B</td>\n",
              "      <td>Category 1</td>\n",
              "      <td>15</td>\n",
              "      <td>150.0</td>\n",
              "    </tr>\n",
              "    <tr>\n",
              "      <th>2</th>\n",
              "      <td>3</td>\n",
              "      <td>Product C</td>\n",
              "      <td>Category 2</td>\n",
              "      <td>7</td>\n",
              "      <td>200.0</td>\n",
              "    </tr>\n",
              "    <tr>\n",
              "      <th>3</th>\n",
              "      <td>4</td>\n",
              "      <td>Product D</td>\n",
              "      <td>Category 2</td>\n",
              "      <td>3</td>\n",
              "      <td>300.0</td>\n",
              "    </tr>\n",
              "    <tr>\n",
              "      <th>4</th>\n",
              "      <td>5</td>\n",
              "      <td>Product E</td>\n",
              "      <td>Category 1</td>\n",
              "      <td>20</td>\n",
              "      <td>120.0</td>\n",
              "    </tr>\n",
              "  </tbody>\n",
              "</table>\n",
              "</div>\n",
              "    <div class=\"colab-df-buttons\">\n",
              "\n",
              "  <div class=\"colab-df-container\">\n",
              "    <button class=\"colab-df-convert\" onclick=\"convertToInteractive('df-a4c48c06-ce2a-4bbf-b78b-5059c52bd4ce')\"\n",
              "            title=\"Convert this dataframe to an interactive table.\"\n",
              "            style=\"display:none;\">\n",
              "\n",
              "  <svg xmlns=\"http://www.w3.org/2000/svg\" height=\"24px\" viewBox=\"0 -960 960 960\">\n",
              "    <path d=\"M120-120v-720h720v720H120Zm60-500h600v-160H180v160Zm220 220h160v-160H400v160Zm0 220h160v-160H400v160ZM180-400h160v-160H180v160Zm440 0h160v-160H620v160ZM180-180h160v-160H180v160Zm440 0h160v-160H620v160Z\"/>\n",
              "  </svg>\n",
              "    </button>\n",
              "\n",
              "  <style>\n",
              "    .colab-df-container {\n",
              "      display:flex;\n",
              "      gap: 12px;\n",
              "    }\n",
              "\n",
              "    .colab-df-convert {\n",
              "      background-color: #E8F0FE;\n",
              "      border: none;\n",
              "      border-radius: 50%;\n",
              "      cursor: pointer;\n",
              "      display: none;\n",
              "      fill: #1967D2;\n",
              "      height: 32px;\n",
              "      padding: 0 0 0 0;\n",
              "      width: 32px;\n",
              "    }\n",
              "\n",
              "    .colab-df-convert:hover {\n",
              "      background-color: #E2EBFA;\n",
              "      box-shadow: 0px 1px 2px rgba(60, 64, 67, 0.3), 0px 1px 3px 1px rgba(60, 64, 67, 0.15);\n",
              "      fill: #174EA6;\n",
              "    }\n",
              "\n",
              "    .colab-df-buttons div {\n",
              "      margin-bottom: 4px;\n",
              "    }\n",
              "\n",
              "    [theme=dark] .colab-df-convert {\n",
              "      background-color: #3B4455;\n",
              "      fill: #D2E3FC;\n",
              "    }\n",
              "\n",
              "    [theme=dark] .colab-df-convert:hover {\n",
              "      background-color: #434B5C;\n",
              "      box-shadow: 0px 1px 3px 1px rgba(0, 0, 0, 0.15);\n",
              "      filter: drop-shadow(0px 1px 2px rgba(0, 0, 0, 0.3));\n",
              "      fill: #FFFFFF;\n",
              "    }\n",
              "  </style>\n",
              "\n",
              "    <script>\n",
              "      const buttonEl =\n",
              "        document.querySelector('#df-a4c48c06-ce2a-4bbf-b78b-5059c52bd4ce button.colab-df-convert');\n",
              "      buttonEl.style.display =\n",
              "        google.colab.kernel.accessAllowed ? 'block' : 'none';\n",
              "\n",
              "      async function convertToInteractive(key) {\n",
              "        const element = document.querySelector('#df-a4c48c06-ce2a-4bbf-b78b-5059c52bd4ce');\n",
              "        const dataTable =\n",
              "          await google.colab.kernel.invokeFunction('convertToInteractive',\n",
              "                                                    [key], {});\n",
              "        if (!dataTable) return;\n",
              "\n",
              "        const docLinkHtml = 'Like what you see? Visit the ' +\n",
              "          '<a target=\"_blank\" href=https://colab.research.google.com/notebooks/data_table.ipynb>data table notebook</a>'\n",
              "          + ' to learn more about interactive tables.';\n",
              "        element.innerHTML = '';\n",
              "        dataTable['output_type'] = 'display_data';\n",
              "        await google.colab.output.renderOutput(dataTable, element);\n",
              "        const docLink = document.createElement('div');\n",
              "        docLink.innerHTML = docLinkHtml;\n",
              "        element.appendChild(docLink);\n",
              "      }\n",
              "    </script>\n",
              "  </div>\n",
              "\n",
              "\n",
              "<div id=\"df-c7d3b190-204a-46af-9178-49f520e081e6\">\n",
              "  <button class=\"colab-df-quickchart\" onclick=\"quickchart('df-c7d3b190-204a-46af-9178-49f520e081e6')\"\n",
              "            title=\"Suggest charts\"\n",
              "            style=\"display:none;\">\n",
              "\n",
              "<svg xmlns=\"http://www.w3.org/2000/svg\" height=\"24px\"viewBox=\"0 0 24 24\"\n",
              "     width=\"24px\">\n",
              "    <g>\n",
              "        <path d=\"M19 3H5c-1.1 0-2 .9-2 2v14c0 1.1.9 2 2 2h14c1.1 0 2-.9 2-2V5c0-1.1-.9-2-2-2zM9 17H7v-7h2v7zm4 0h-2V7h2v10zm4 0h-2v-4h2v4z\"/>\n",
              "    </g>\n",
              "</svg>\n",
              "  </button>\n",
              "\n",
              "<style>\n",
              "  .colab-df-quickchart {\n",
              "      --bg-color: #E8F0FE;\n",
              "      --fill-color: #1967D2;\n",
              "      --hover-bg-color: #E2EBFA;\n",
              "      --hover-fill-color: #174EA6;\n",
              "      --disabled-fill-color: #AAA;\n",
              "      --disabled-bg-color: #DDD;\n",
              "  }\n",
              "\n",
              "  [theme=dark] .colab-df-quickchart {\n",
              "      --bg-color: #3B4455;\n",
              "      --fill-color: #D2E3FC;\n",
              "      --hover-bg-color: #434B5C;\n",
              "      --hover-fill-color: #FFFFFF;\n",
              "      --disabled-bg-color: #3B4455;\n",
              "      --disabled-fill-color: #666;\n",
              "  }\n",
              "\n",
              "  .colab-df-quickchart {\n",
              "    background-color: var(--bg-color);\n",
              "    border: none;\n",
              "    border-radius: 50%;\n",
              "    cursor: pointer;\n",
              "    display: none;\n",
              "    fill: var(--fill-color);\n",
              "    height: 32px;\n",
              "    padding: 0;\n",
              "    width: 32px;\n",
              "  }\n",
              "\n",
              "  .colab-df-quickchart:hover {\n",
              "    background-color: var(--hover-bg-color);\n",
              "    box-shadow: 0 1px 2px rgba(60, 64, 67, 0.3), 0 1px 3px 1px rgba(60, 64, 67, 0.15);\n",
              "    fill: var(--button-hover-fill-color);\n",
              "  }\n",
              "\n",
              "  .colab-df-quickchart-complete:disabled,\n",
              "  .colab-df-quickchart-complete:disabled:hover {\n",
              "    background-color: var(--disabled-bg-color);\n",
              "    fill: var(--disabled-fill-color);\n",
              "    box-shadow: none;\n",
              "  }\n",
              "\n",
              "  .colab-df-spinner {\n",
              "    border: 2px solid var(--fill-color);\n",
              "    border-color: transparent;\n",
              "    border-bottom-color: var(--fill-color);\n",
              "    animation:\n",
              "      spin 1s steps(1) infinite;\n",
              "  }\n",
              "\n",
              "  @keyframes spin {\n",
              "    0% {\n",
              "      border-color: transparent;\n",
              "      border-bottom-color: var(--fill-color);\n",
              "      border-left-color: var(--fill-color);\n",
              "    }\n",
              "    20% {\n",
              "      border-color: transparent;\n",
              "      border-left-color: var(--fill-color);\n",
              "      border-top-color: var(--fill-color);\n",
              "    }\n",
              "    30% {\n",
              "      border-color: transparent;\n",
              "      border-left-color: var(--fill-color);\n",
              "      border-top-color: var(--fill-color);\n",
              "      border-right-color: var(--fill-color);\n",
              "    }\n",
              "    40% {\n",
              "      border-color: transparent;\n",
              "      border-right-color: var(--fill-color);\n",
              "      border-top-color: var(--fill-color);\n",
              "    }\n",
              "    60% {\n",
              "      border-color: transparent;\n",
              "      border-right-color: var(--fill-color);\n",
              "    }\n",
              "    80% {\n",
              "      border-color: transparent;\n",
              "      border-right-color: var(--fill-color);\n",
              "      border-bottom-color: var(--fill-color);\n",
              "    }\n",
              "    90% {\n",
              "      border-color: transparent;\n",
              "      border-bottom-color: var(--fill-color);\n",
              "    }\n",
              "  }\n",
              "</style>\n",
              "\n",
              "  <script>\n",
              "    async function quickchart(key) {\n",
              "      const quickchartButtonEl =\n",
              "        document.querySelector('#' + key + ' button');\n",
              "      quickchartButtonEl.disabled = true;  // To prevent multiple clicks.\n",
              "      quickchartButtonEl.classList.add('colab-df-spinner');\n",
              "      try {\n",
              "        const charts = await google.colab.kernel.invokeFunction(\n",
              "            'suggestCharts', [key], {});\n",
              "      } catch (error) {\n",
              "        console.error('Error during call to suggestCharts:', error);\n",
              "      }\n",
              "      quickchartButtonEl.classList.remove('colab-df-spinner');\n",
              "      quickchartButtonEl.classList.add('colab-df-quickchart-complete');\n",
              "    }\n",
              "    (() => {\n",
              "      let quickchartButtonEl =\n",
              "        document.querySelector('#df-c7d3b190-204a-46af-9178-49f520e081e6 button');\n",
              "      quickchartButtonEl.style.display =\n",
              "        google.colab.kernel.accessAllowed ? 'block' : 'none';\n",
              "    })();\n",
              "  </script>\n",
              "</div>\n",
              "\n",
              "    </div>\n",
              "  </div>\n"
            ],
            "application/vnd.google.colaboratory.intrinsic+json": {
              "type": "dataframe",
              "summary": "{\n  \"name\": \"show_all_sales()\",\n  \"rows\": 5,\n  \"fields\": [\n    {\n      \"column\": \"id\",\n      \"properties\": {\n        \"dtype\": \"number\",\n        \"std\": 1,\n        \"min\": 1,\n        \"max\": 5,\n        \"num_unique_values\": 5,\n        \"samples\": [\n          2,\n          5,\n          3\n        ],\n        \"semantic_type\": \"\",\n        \"description\": \"\"\n      }\n    },\n    {\n      \"column\": \"product\",\n      \"properties\": {\n        \"dtype\": \"string\",\n        \"num_unique_values\": 5,\n        \"samples\": [\n          \"Product B\",\n          \"Product E\",\n          \"Product C\"\n        ],\n        \"semantic_type\": \"\",\n        \"description\": \"\"\n      }\n    },\n    {\n      \"column\": \"category\",\n      \"properties\": {\n        \"dtype\": \"category\",\n        \"num_unique_values\": 2,\n        \"samples\": [\n          \"Category 2\",\n          \"Category 1\"\n        ],\n        \"semantic_type\": \"\",\n        \"description\": \"\"\n      }\n    },\n    {\n      \"column\": \"quantity\",\n      \"properties\": {\n        \"dtype\": \"number\",\n        \"std\": 6,\n        \"min\": 3,\n        \"max\": 20,\n        \"num_unique_values\": 5,\n        \"samples\": [\n          15,\n          20\n        ],\n        \"semantic_type\": \"\",\n        \"description\": \"\"\n      }\n    },\n    {\n      \"column\": \"price\",\n      \"properties\": {\n        \"dtype\": \"number\",\n        \"std\": 79.87490219086344,\n        \"min\": 100.0,\n        \"max\": 300.0,\n        \"num_unique_values\": 5,\n        \"samples\": [\n          150.0,\n          120.0\n        ],\n        \"semantic_type\": \"\",\n        \"description\": \"\"\n      }\n    }\n  ]\n}"
            }
          },
          "metadata": {},
          "execution_count": 10
        }
      ]
    },
    {
      "cell_type": "code",
      "source": [
        "# 2. 데이터 그룹화 예제 (Category별 총 판매 수량)\n",
        "def groupby_category():\n",
        "    conn = sqlite3.connect(\"example.db\")  # 함수 내에서 데이터베이스 연결 생성\n",
        "    df = pd.read_sql_query(\"SELECT * FROM sales\", conn)\n",
        "    conn.close()  # 함수 종료 전에 연결 종료\n",
        "    grouped = df.groupby(\"category\")[\"quantity\"].sum().reset_index()\n",
        "    return grouped\n",
        "\n",
        "interface_1 = gr.Interface(fn=groupby_category, inputs=None, outputs=\"dataframe\")\n",
        "interface_1.launch()"
      ],
      "metadata": {
        "colab": {
          "base_uri": "https://localhost:8080/",
          "height": 649
        },
        "id": "olrbGEHKte2s",
        "outputId": "f92fa96e-5471-4188-e500-94d7f4e064c0"
      },
      "execution_count": null,
      "outputs": [
        {
          "output_type": "stream",
          "name": "stdout",
          "text": [
            "Running Gradio in a Colab notebook requires sharing enabled. Automatically setting `share=True` (you can turn this off by setting `share=False` in `launch()` explicitly).\n",
            "\n",
            "Colab notebook detected. To show errors in colab notebook, set debug=True in launch()\n",
            "* Running on public URL: https://0a6bcf819a980b7867.gradio.live\n",
            "\n",
            "This share link expires in 72 hours. For free permanent hosting and GPU upgrades, run `gradio deploy` from the terminal in the working directory to deploy to Hugging Face Spaces (https://huggingface.co/spaces)\n"
          ]
        },
        {
          "output_type": "display_data",
          "data": {
            "text/plain": [
              "<IPython.core.display.HTML object>"
            ],
            "text/html": [
              "<div><iframe src=\"https://0a6bcf819a980b7867.gradio.live\" width=\"100%\" height=\"500\" allow=\"autoplay; camera; microphone; clipboard-read; clipboard-write;\" frameborder=\"0\" allowfullscreen></iframe></div>"
            ]
          },
          "metadata": {}
        },
        {
          "output_type": "execute_result",
          "data": {
            "text/plain": []
          },
          "metadata": {},
          "execution_count": 11
        }
      ]
    },
    {
      "cell_type": "code",
      "source": [
        "# 3. 피벗 테이블 생성 예제 (Category별 평균 가격)\n",
        "def pivot_table_category():\n",
        "    conn = sqlite3.connect(\"example.db\")  # 함수 내에서 데이터베이스 연결 생성\n",
        "    df = pd.read_sql_query(\"SELECT * FROM sales\", conn)\n",
        "    conn.close()  # 함수 종료 전에 연결 종료\n",
        "    pivot = df.pivot_table(values=\"price\", index=\"category\", aggfunc=\"mean\").reset_index()\n",
        "    return pivot\n",
        "\n",
        "interface_2 = gr.Interface(fn=pivot_table_category, inputs=None, outputs=\"dataframe\")\n",
        "interface_2.launch()"
      ],
      "metadata": {
        "colab": {
          "base_uri": "https://localhost:8080/",
          "height": 649
        },
        "id": "abLqjjK6tlJf",
        "outputId": "48146429-159c-4a37-af6e-dc6b4232b3ec"
      },
      "execution_count": null,
      "outputs": [
        {
          "output_type": "stream",
          "name": "stdout",
          "text": [
            "Running Gradio in a Colab notebook requires sharing enabled. Automatically setting `share=True` (you can turn this off by setting `share=False` in `launch()` explicitly).\n",
            "\n",
            "Colab notebook detected. To show errors in colab notebook, set debug=True in launch()\n",
            "* Running on public URL: https://203e8e589e0c46ee49.gradio.live\n",
            "\n",
            "This share link expires in 72 hours. For free permanent hosting and GPU upgrades, run `gradio deploy` from the terminal in the working directory to deploy to Hugging Face Spaces (https://huggingface.co/spaces)\n"
          ]
        },
        {
          "output_type": "display_data",
          "data": {
            "text/plain": [
              "<IPython.core.display.HTML object>"
            ],
            "text/html": [
              "<div><iframe src=\"https://203e8e589e0c46ee49.gradio.live\" width=\"100%\" height=\"500\" allow=\"autoplay; camera; microphone; clipboard-read; clipboard-write;\" frameborder=\"0\" allowfullscreen></iframe></div>"
            ]
          },
          "metadata": {}
        },
        {
          "output_type": "execute_result",
          "data": {
            "text/plain": []
          },
          "metadata": {},
          "execution_count": 13
        }
      ]
    },
    {
      "cell_type": "code",
      "source": [
        "# 3. 피벗 테이블 생성 예제 (Category별 평균 가격)\n",
        "def pivot_table_category():\n",
        "    with sqlite3.connect(\"example.db\") as conn:  # with 구문을 사용해 데이터베이스 연결 관리\n",
        "        df = pd.read_sql_query(\"SELECT * FROM sales\", conn)\n",
        "    # with 블록이 끝나면 연결이 자동으로 종료됨\n",
        "    pivot = df.pivot_table(values=\"price\", index=\"category\", aggfunc=\"mean\").reset_index()\n",
        "    return pivot\n",
        "\n",
        "interface_2 = gr.Interface(fn=pivot_table_category, inputs=None, outputs=\"dataframe\")\n",
        "interface_2.launch()\n"
      ],
      "metadata": {
        "colab": {
          "base_uri": "https://localhost:8080/",
          "height": 649
        },
        "id": "3rFSK1NdvRq1",
        "outputId": "2b2c23b8-15bf-48c5-c173-96c44565af7d"
      },
      "execution_count": null,
      "outputs": [
        {
          "output_type": "stream",
          "name": "stdout",
          "text": [
            "Running Gradio in a Colab notebook requires sharing enabled. Automatically setting `share=True` (you can turn this off by setting `share=False` in `launch()` explicitly).\n",
            "\n",
            "Colab notebook detected. To show errors in colab notebook, set debug=True in launch()\n",
            "* Running on public URL: https://7b33552004c8822273.gradio.live\n",
            "\n",
            "This share link expires in 72 hours. For free permanent hosting and GPU upgrades, run `gradio deploy` from the terminal in the working directory to deploy to Hugging Face Spaces (https://huggingface.co/spaces)\n"
          ]
        },
        {
          "output_type": "display_data",
          "data": {
            "text/plain": [
              "<IPython.core.display.HTML object>"
            ],
            "text/html": [
              "<div><iframe src=\"https://7b33552004c8822273.gradio.live\" width=\"100%\" height=\"500\" allow=\"autoplay; camera; microphone; clipboard-read; clipboard-write;\" frameborder=\"0\" allowfullscreen></iframe></div>"
            ]
          },
          "metadata": {}
        },
        {
          "output_type": "execute_result",
          "data": {
            "text/plain": []
          },
          "metadata": {},
          "execution_count": 14
        }
      ]
    },
    {
      "cell_type": "code",
      "source": [
        "# prompt: port에서 러닝 중인 모든 app 제거\n",
        "\n",
        "import os\n",
        "import psutil\n",
        "\n",
        "def find_gradio_processes():\n",
        "    \"\"\"Finds and returns a list of Gradio processes.\"\"\"\n",
        "    gradio_processes = []\n",
        "    for proc in psutil.process_iter(['pid', 'name', 'cmdline']):\n",
        "        try:\n",
        "            if 'gradio' in proc.info['name'].lower() or (proc.info['cmdline'] and any('gradio' in cmd.lower() for cmd in proc.info['cmdline'])):\n",
        "                gradio_processes.append(proc)\n",
        "        except (psutil.NoSuchProcess, psutil.AccessDenied, psutil.ZombieProcess):\n",
        "            pass\n",
        "    return gradio_processes\n",
        "\n",
        "\n",
        "def kill_gradio_processes():\n",
        "    \"\"\"Kills all running Gradio processes.\"\"\"\n",
        "    gradio_processes = find_gradio_processes()\n",
        "    for proc in gradio_processes:\n",
        "      try:\n",
        "        print(f\"Killing process: {proc.info}\")\n",
        "        proc.kill()\n",
        "      except Exception as e:\n",
        "        print(f\"Error killing process {proc.info}: {e}\")\n",
        "\n",
        "# Kill all Gradio processes.\n",
        "kill_gradio_processes()\n",
        "\n",
        "print(\"All running Gradio apps have been terminated.\")"
      ],
      "metadata": {
        "id": "dNzTqU9_0z8u",
        "colab": {
          "base_uri": "https://localhost:8080/"
        },
        "outputId": "a91611e9-b383-4647-8b16-b977b3a6157c"
      },
      "execution_count": null,
      "outputs": [
        {
          "output_type": "stream",
          "name": "stdout",
          "text": [
            "Killing process: {'pid': 946, 'name': 'frpc_linux_amd64_v0.3', 'cmdline': ['/usr/local/lib/python3.10/dist-packages/gradio/frpc_linux_amd64_v0.3', 'http', '-n', 'aYnO7PmUy1RTEQEQ1JZkhU4aL7pyMW6X99Es3_gCC20', '-l', '7860', '-i', '127.0.0.1', '--uc', '--sd', 'random', '--ue', '--server_addr', 'gradio-live.com:7000', '--disable_log_color', '--tls_enable', '--tls_trusted_ca_file', '.gradio/certificate.pem']}\n",
            "Killing process: {'pid': 992, 'name': 'frpc_linux_amd64_v0.3', 'cmdline': ['/usr/local/lib/python3.10/dist-packages/gradio/frpc_linux_amd64_v0.3', 'http', '-n', '0tn_4qx6AQwbsOVAIXdq4vA6xvROVbY9KrcB2G5rEm4', '-l', '7861', '-i', '127.0.0.1', '--uc', '--sd', 'random', '--ue', '--server_addr', 'gradio-live.com:7000', '--disable_log_color', '--tls_enable', '--tls_trusted_ca_file', '.gradio/certificate.pem']}\n",
            "Killing process: {'pid': 1118, 'name': 'frpc_linux_amd64_v0.3', 'cmdline': ['/usr/local/lib/python3.10/dist-packages/gradio/frpc_linux_amd64_v0.3', 'http', '-n', 'WyWTyuWBamM0MY-oF5PWiYuu3gTR3bKsbsK4Ns6jS10', '-l', '7862', '-i', '127.0.0.1', '--uc', '--sd', 'random', '--ue', '--server_addr', 'gradio-live.com:7000', '--disable_log_color', '--tls_enable', '--tls_trusted_ca_file', '.gradio/certificate.pem']}\n",
            "Killing process: {'pid': 1208, 'name': 'frpc_linux_amd64_v0.3', 'cmdline': ['/usr/local/lib/python3.10/dist-packages/gradio/frpc_linux_amd64_v0.3', 'http', '-n', 'XHEm76lksVsEgZ9XiPHm7VM6drPw_L7gjTYAPQBix54', '-l', '7863', '-i', '127.0.0.1', '--uc', '--sd', 'random', '--ue', '--server_addr', 'gradio-live.com:7000', '--disable_log_color', '--tls_enable', '--tls_trusted_ca_file', '.gradio/certificate.pem']}\n",
            "Killing process: {'pid': 1326, 'name': 'frpc_linux_amd64_v0.3', 'cmdline': ['/usr/local/lib/python3.10/dist-packages/gradio/frpc_linux_amd64_v0.3', 'http', '-n', 'LVHEB14Z1ManHeFQW9XkVNDWf0staSC_fg3LHf82jQg', '-l', '7864', '-i', '127.0.0.1', '--uc', '--sd', 'random', '--ue', '--server_addr', 'gradio-live.com:7000', '--disable_log_color', '--tls_enable', '--tls_trusted_ca_file', '.gradio/certificate.pem']}\n",
            "Killing process: {'pid': 1472, 'name': 'frpc_linux_amd64_v0.3', 'cmdline': ['/usr/local/lib/python3.10/dist-packages/gradio/frpc_linux_amd64_v0.3', 'http', '-n', 'N6j1tA--5r-IbEI6igveuB_cekgKkLyjZNcsJAiVU3c', '-l', '7865', '-i', '127.0.0.1', '--uc', '--sd', 'random', '--ue', '--server_addr', 'gradio-live.com:7000', '--disable_log_color', '--tls_enable', '--tls_trusted_ca_file', '.gradio/certificate.pem']}\n",
            "Killing process: {'pid': 1846, 'name': 'frpc_linux_amd64_v0.3', 'cmdline': ['/usr/local/lib/python3.10/dist-packages/gradio/frpc_linux_amd64_v0.3', 'http', '-n', '8Y-P_2aXMtGIfT_k27llOKNOien-_kdhU7CK8V9lPP8', '-l', '7866', '-i', '127.0.0.1', '--uc', '--sd', 'random', '--ue', '--server_addr', 'gradio-live.com:7000', '--disable_log_color', '--tls_enable', '--tls_trusted_ca_file', '.gradio/certificate.pem']}\n",
            "Killing process: {'pid': 1919, 'name': 'frpc_linux_amd64_v0.3', 'cmdline': ['/usr/local/lib/python3.10/dist-packages/gradio/frpc_linux_amd64_v0.3', 'http', '-n', 'v5EYVSwPyqHJ3QVYxnk5wiV4kE8ErzUmszSPn015U9Q', '-l', '7867', '-i', '127.0.0.1', '--uc', '--sd', 'random', '--ue', '--server_addr', 'gradio-live.com:7000', '--disable_log_color', '--tls_enable', '--tls_trusted_ca_file', '.gradio/certificate.pem']}\n",
            "Killing process: {'pid': 2177, 'name': 'frpc_linux_amd64_v0.3', 'cmdline': ['/usr/local/lib/python3.10/dist-packages/gradio/frpc_linux_amd64_v0.3', 'http', '-n', 'pYqvkkR4Qjep3DsA2wC6i0CtJ--FwnnZuYtSeau9zkg', '-l', '7868', '-i', '127.0.0.1', '--uc', '--sd', 'random', '--ue', '--server_addr', 'gradio-live.com:7000', '--disable_log_color', '--tls_enable', '--tls_trusted_ca_file', '.gradio/certificate.pem']}\n",
            "Killing process: {'pid': 2319, 'name': 'frpc_linux_amd64_v0.3', 'cmdline': ['/usr/local/lib/python3.10/dist-packages/gradio/frpc_linux_amd64_v0.3', 'http', '-n', 'zS8lM1xjMJyzFlehm0u35-ZyXQ6kOPAkwEOAfRpo_DI', '-l', '7869', '-i', '127.0.0.1', '--uc', '--sd', 'random', '--ue', '--server_addr', 'gradio-live.com:7000', '--disable_log_color', '--tls_enable', '--tls_trusted_ca_file', '.gradio/certificate.pem']}\n",
            "All running Gradio apps have been terminated.\n"
          ]
        }
      ]
    },
    {
      "cell_type": "code",
      "source": [],
      "metadata": {
        "id": "fOVGVP15Fr0Y"
      },
      "execution_count": null,
      "outputs": []
    },
    {
      "cell_type": "code",
      "source": [
        "! pip install pyngrok"
      ],
      "metadata": {
        "colab": {
          "base_uri": "https://localhost:8080/"
        },
        "id": "bFiiKAtmFr3u",
        "outputId": "2b97710a-dd11-4082-d450-06060a1ed76d"
      },
      "execution_count": null,
      "outputs": [
        {
          "output_type": "stream",
          "name": "stdout",
          "text": [
            "Collecting pyngrok\n",
            "  Downloading pyngrok-7.2.1-py3-none-any.whl.metadata (8.3 kB)\n",
            "Requirement already satisfied: PyYAML>=5.1 in /usr/local/lib/python3.10/dist-packages (from pyngrok) (6.0.2)\n",
            "Downloading pyngrok-7.2.1-py3-none-any.whl (22 kB)\n",
            "Installing collected packages: pyngrok\n",
            "Successfully installed pyngrok-7.2.1\n"
          ]
        }
      ]
    },
    {
      "cell_type": "code",
      "source": [
        "import gradio as gr\n",
        "from pyngrok import ngrok\n",
        "\n",
        "# 간단한 텍스트 반전 함수\n",
        "def reverse_text(text):\n",
        "    return text[::-1]\n",
        "\n",
        "# Gradio 인터페이스 정의\n",
        "interface = gr.Interface(fn=reverse_text, inputs=\"text\",\n",
        "                         outputs=\"text\", title=\"Text Reverser\", description=\"입력한 텍스트를 반전시켜줍니다.\")\n",
        "\n",
        "# 로컬에서 애플리케이션 실행\n",
        "# server = interface.launch(share=False, server_name=\"0.0.0.0\", server_port=7860, inbrowser=False)\n",
        "\n",
        "server = interface.launch(share=False, server_name=\"0.0.0.0\", server_port=8080, inbrowser=False)\n",
        "\n",
        "\n",
        "# Ngrok을 사용하여 외부에서 접근 가능한 URL 생성\n",
        "public_url = ngrok.connect(8080)\n",
        "print(f\"공개된 URL: {public_url}\")\n",
        "\n",
        "# 프로그램 유지\n",
        "input(\"Press Enter to exit...\\n\")\n"
      ],
      "metadata": {
        "colab": {
          "base_uri": "https://localhost:8080/",
          "height": 388
        },
        "id": "t-GVKlMRFuhJ",
        "outputId": "e7039bc8-5329-457d-c35f-c5d76c8ef9c3"
      },
      "execution_count": null,
      "outputs": [
        {
          "output_type": "error",
          "ename": "OSError",
          "evalue": "Cannot find empty port in range: 8080-8080. You can specify a different port by setting the GRADIO_SERVER_PORT environment variable or passing the `server_port` parameter to `launch()`.",
          "traceback": [
            "\u001b[0;31m---------------------------------------------------------------------------\u001b[0m",
            "\u001b[0;31mOSError\u001b[0m                                   Traceback (most recent call last)",
            "\u001b[0;32m<ipython-input-35-8dfab106f844>\u001b[0m in \u001b[0;36m<cell line: 15>\u001b[0;34m()\u001b[0m\n\u001b[1;32m     13\u001b[0m \u001b[0;31m# server = interface.launch(share=False, server_name=\"0.0.0.0\", server_port=7860, inbrowser=False)\u001b[0m\u001b[0;34m\u001b[0m\u001b[0;34m\u001b[0m\u001b[0m\n\u001b[1;32m     14\u001b[0m \u001b[0;34m\u001b[0m\u001b[0m\n\u001b[0;32m---> 15\u001b[0;31m \u001b[0mserver\u001b[0m \u001b[0;34m=\u001b[0m \u001b[0minterface\u001b[0m\u001b[0;34m.\u001b[0m\u001b[0mlaunch\u001b[0m\u001b[0;34m(\u001b[0m\u001b[0mshare\u001b[0m\u001b[0;34m=\u001b[0m\u001b[0;32mFalse\u001b[0m\u001b[0;34m,\u001b[0m \u001b[0mserver_name\u001b[0m\u001b[0;34m=\u001b[0m\u001b[0;34m\"0.0.0.0\"\u001b[0m\u001b[0;34m,\u001b[0m \u001b[0mserver_port\u001b[0m\u001b[0;34m=\u001b[0m\u001b[0;36m8080\u001b[0m\u001b[0;34m,\u001b[0m \u001b[0minbrowser\u001b[0m\u001b[0;34m=\u001b[0m\u001b[0;32mFalse\u001b[0m\u001b[0;34m)\u001b[0m\u001b[0;34m\u001b[0m\u001b[0;34m\u001b[0m\u001b[0m\n\u001b[0m\u001b[1;32m     16\u001b[0m \u001b[0;34m\u001b[0m\u001b[0m\n\u001b[1;32m     17\u001b[0m \u001b[0;34m\u001b[0m\u001b[0m\n",
            "\u001b[0;32m/usr/local/lib/python3.10/dist-packages/gradio/blocks.py\u001b[0m in \u001b[0;36mlaunch\u001b[0;34m(self, inline, inbrowser, share, debug, max_threads, auth, auth_message, prevent_thread_lock, show_error, server_name, server_port, height, width, favicon_path, ssl_keyfile, ssl_certfile, ssl_keyfile_password, ssl_verify, quiet, show_api, allowed_paths, blocked_paths, root_path, app_kwargs, state_session_capacity, share_server_address, share_server_protocol, auth_dependency, max_file_size, enable_monitoring, strict_cors, node_server_name, node_port, ssr_mode, _frontend)\u001b[0m\n\u001b[1;32m   2480\u001b[0m                     \u001b[0mlocal_url\u001b[0m\u001b[0;34m,\u001b[0m\u001b[0;34m\u001b[0m\u001b[0;34m\u001b[0m\u001b[0m\n\u001b[1;32m   2481\u001b[0m                     \u001b[0mserver\u001b[0m\u001b[0;34m,\u001b[0m\u001b[0;34m\u001b[0m\u001b[0;34m\u001b[0m\u001b[0m\n\u001b[0;32m-> 2482\u001b[0;31m                 \u001b[0;34m)\u001b[0m \u001b[0;34m=\u001b[0m \u001b[0mhttp_server\u001b[0m\u001b[0;34m.\u001b[0m\u001b[0mstart_server\u001b[0m\u001b[0;34m(\u001b[0m\u001b[0;34m\u001b[0m\u001b[0;34m\u001b[0m\u001b[0m\n\u001b[0m\u001b[1;32m   2483\u001b[0m                     \u001b[0mapp\u001b[0m\u001b[0;34m=\u001b[0m\u001b[0mself\u001b[0m\u001b[0;34m.\u001b[0m\u001b[0mapp\u001b[0m\u001b[0;34m,\u001b[0m\u001b[0;34m\u001b[0m\u001b[0;34m\u001b[0m\u001b[0m\n\u001b[1;32m   2484\u001b[0m                     \u001b[0mserver_name\u001b[0m\u001b[0;34m=\u001b[0m\u001b[0mserver_name\u001b[0m\u001b[0;34m,\u001b[0m\u001b[0;34m\u001b[0m\u001b[0;34m\u001b[0m\u001b[0m\n",
            "\u001b[0;32m/usr/local/lib/python3.10/dist-packages/gradio/http_server.py\u001b[0m in \u001b[0;36mstart_server\u001b[0;34m(app, server_name, server_port, ssl_keyfile, ssl_certfile, ssl_keyfile_password)\u001b[0m\n\u001b[1;32m    154\u001b[0m             \u001b[0;32mpass\u001b[0m\u001b[0;34m\u001b[0m\u001b[0;34m\u001b[0m\u001b[0m\n\u001b[1;32m    155\u001b[0m     \u001b[0;32melse\u001b[0m\u001b[0;34m:\u001b[0m\u001b[0;34m\u001b[0m\u001b[0;34m\u001b[0m\u001b[0m\n\u001b[0;32m--> 156\u001b[0;31m         raise OSError(\n\u001b[0m\u001b[1;32m    157\u001b[0m             \u001b[0;34mf\"Cannot find empty port in range: {min(server_ports)}-{max(server_ports)}. You can specify a different port by setting the GRADIO_SERVER_PORT environment variable or passing the `server_port` parameter to `launch()`.\"\u001b[0m\u001b[0;34m\u001b[0m\u001b[0;34m\u001b[0m\u001b[0m\n\u001b[1;32m    158\u001b[0m         )\n",
            "\u001b[0;31mOSError\u001b[0m: Cannot find empty port in range: 8080-8080. You can specify a different port by setting the GRADIO_SERVER_PORT environment variable or passing the `server_port` parameter to `launch()`."
          ]
        }
      ]
    },
    {
      "cell_type": "code",
      "source": [
        "!lsof -i :8080"
      ],
      "metadata": {
        "colab": {
          "base_uri": "https://localhost:8080/"
        },
        "id": "9YpEHpO7PWY_",
        "outputId": "0d69cf3b-b8f3-41c8-d532-32c222880ba8"
      },
      "execution_count": null,
      "outputs": [
        {
          "output_type": "stream",
          "name": "stdout",
          "text": [
            "COMMAND PID USER   FD   TYPE DEVICE SIZE/OFF NODE NAME\n",
            "node      7 root   21u  IPv6  18896      0t0  TCP *:8080 (LISTEN)\n",
            "node      7 root   28u  IPv6  84924      0t0  TCP 7b658736a20c:8080->172.28.0.1:59554 (ESTABLISHED)\n",
            "node      7 root   29u  IPv6  36577      0t0  TCP 7b658736a20c:8080->172.28.0.1:41268 (ESTABLISHED)\n",
            "node      7 root   32u  IPv6 186595      0t0  TCP 7b658736a20c:8080->172.28.0.1:44666 (ESTABLISHED)\n",
            "node      7 root   33u  IPv6 187483      0t0  TCP 7b658736a20c:8080->172.28.0.1:48798 (ESTABLISHED)\n"
          ]
        }
      ]
    },
    {
      "cell_type": "code",
      "source": [],
      "metadata": {
        "id": "13DXOBwVPgtd"
      },
      "execution_count": null,
      "outputs": []
    },
    {
      "source": [
        "! pip install pyngrok\n",
        "\n",
        "import gradio as gr\n",
        "from pyngrok import ngrok\n",
        "\n",
        "# 간단한 텍스트 반전 함수\n",
        "def reverse_text(text):\n",
        "    return text[::-1]\n",
        "\n",
        "# Gradio 인터페이스 정의\n",
        "# interface was assigned the first interface you created\n",
        "# change the name to avoid confusion\n",
        "interface_1 = gr.Interface(fn=reverse_text, inputs=\"text\",\n",
        "                         outputs=\"text\", title=\"Text Reverser\", description=\"입력한 텍스트를 반전시켜줍니다.\")\n",
        "\n",
        "\n",
        "# 로컬에서 애플리케이션 실행\n",
        "# Add try-except block to close the server if already running\n",
        "try:\n",
        "  server = interface_1.launch(share=False, server_name=\"0.0.0.0\", server_port=7860, inbrowser=False)\n",
        "except OSError as e:\n",
        "  # print the error for debugging\n",
        "  print(e)\n",
        "  # if the error is because the port is in use\n",
        "  if \"Cannot find empty port\" in str(e):\n",
        "    # Try closing any existing interfaces on that port\n",
        "    try:\n",
        "      gr.close_all()\n",
        "      print(\"Closed existing gradio interfaces.\")\n",
        "    except Exception as e:\n",
        "      print(f\"Error closing existing interfaces: {e}\")\n",
        "\n",
        "    # Try launching the interface again\n",
        "    server = interface_1.launch(share=False, server_name=\"0.0.0.0\", server_port=7860, inbrowser=False)\n",
        "  else:\n",
        "    # If it's a different error, re-raise it\n",
        "    raise e\n",
        "\n",
        "# Ngrok을 사용하여 외부에서 접근 가능한 URL 생성\n",
        "public_url = ngrok.connect(7860)\n",
        "print(f\"공개된 URL: {public_url}\")\n",
        "\n",
        "# 프로그램 유지\n",
        "input(\"Press Enter to exit...\\n\")"
      ],
      "cell_type": "code",
      "metadata": {
        "colab": {
          "base_uri": "https://localhost:8080/",
          "height": 1000
        },
        "id": "yjkQxtmvF9Sl",
        "outputId": "b4dd3471-319f-4b49-94f2-f1edc83f1f18"
      },
      "execution_count": null,
      "outputs": [
        {
          "output_type": "stream",
          "name": "stdout",
          "text": [
            "Requirement already satisfied: pyngrok in /usr/local/lib/python3.10/dist-packages (7.2.1)\n",
            "Requirement already satisfied: PyYAML>=5.1 in /usr/local/lib/python3.10/dist-packages (from pyngrok) (6.0.2)\n",
            "Cannot find empty port in range: 7860-7860. You can specify a different port by setting the GRADIO_SERVER_PORT environment variable or passing the `server_port` parameter to `launch()`.\n",
            "Closing server running on port: 7863\n",
            "Closing server running on port: 7861\n",
            "Closing server running on port: 7862\n",
            "Closing server running on port: 7860\n",
            "Closing server running on port: 7864\n",
            "Closed existing gradio interfaces.\n",
            "Colab notebook detected. To show errors in colab notebook, set debug=True in launch()\n",
            "Note: opening Chrome Inspector may crash demo inside Colab notebooks.\n",
            "\n",
            "To create a public link, set `share=True` in `launch()`.\n"
          ]
        },
        {
          "output_type": "display_data",
          "data": {
            "text/plain": [
              "<IPython.core.display.Javascript object>"
            ],
            "application/javascript": [
              "(async (port, path, width, height, cache, element) => {\n",
              "                        if (!google.colab.kernel.accessAllowed && !cache) {\n",
              "                            return;\n",
              "                        }\n",
              "                        element.appendChild(document.createTextNode(''));\n",
              "                        const url = await google.colab.kernel.proxyPort(port, {cache});\n",
              "\n",
              "                        const external_link = document.createElement('div');\n",
              "                        external_link.innerHTML = `\n",
              "                            <div style=\"font-family: monospace; margin-bottom: 0.5rem\">\n",
              "                                Running on <a href=${new URL(path, url).toString()} target=\"_blank\">\n",
              "                                    https://localhost:${port}${path}\n",
              "                                </a>\n",
              "                            </div>\n",
              "                        `;\n",
              "                        element.appendChild(external_link);\n",
              "\n",
              "                        const iframe = document.createElement('iframe');\n",
              "                        iframe.src = new URL(path, url).toString();\n",
              "                        iframe.height = height;\n",
              "                        iframe.allow = \"autoplay; camera; microphone; clipboard-read; clipboard-write;\"\n",
              "                        iframe.width = width;\n",
              "                        iframe.style.border = 0;\n",
              "                        element.appendChild(iframe);\n",
              "                    })(7860, \"/\", \"100%\", 500, false, window.element)"
            ]
          },
          "metadata": {}
        },
        {
          "output_type": "stream",
          "name": "stdout",
          "text": []
        },
        {
          "output_type": "stream",
          "name": "stderr",
          "text": [
            "ERROR:pyngrok.process.ngrok:t=2024-11-19T11:04:04+0000 lvl=eror msg=\"failed to reconnect session\" obj=tunnels.session err=\"authentication failed: Usage of ngrok requires a verified account and authtoken.\\n\\nSign up for an account: https://dashboard.ngrok.com/signup\\nInstall your authtoken: https://dashboard.ngrok.com/get-started/your-authtoken\\r\\n\\r\\nERR_NGROK_4018\\r\\n\"\n",
            "ERROR:pyngrok.process.ngrok:t=2024-11-19T11:04:04+0000 lvl=eror msg=\"session closing\" obj=tunnels.session err=\"authentication failed: Usage of ngrok requires a verified account and authtoken.\\n\\nSign up for an account: https://dashboard.ngrok.com/signup\\nInstall your authtoken: https://dashboard.ngrok.com/get-started/your-authtoken\\r\\n\\r\\nERR_NGROK_4018\\r\\n\"\n",
            "ERROR:pyngrok.process.ngrok:t=2024-11-19T11:04:04+0000 lvl=eror msg=\"terminating with error\" obj=app err=\"authentication failed: Usage of ngrok requires a verified account and authtoken.\\n\\nSign up for an account: https://dashboard.ngrok.com/signup\\nInstall your authtoken: https://dashboard.ngrok.com/get-started/your-authtoken\\r\\n\\r\\nERR_NGROK_4018\\r\\n\"\n"
          ]
        },
        {
          "output_type": "error",
          "ename": "PyngrokNgrokError",
          "evalue": "The ngrok process errored on start: authentication failed: Usage of ngrok requires a verified account and authtoken.\\n\\nSign up for an account: https://dashboard.ngrok.com/signup\\nInstall your authtoken: https://dashboard.ngrok.com/get-started/your-authtoken\\r\\n\\r\\nERR_NGROK_4018\\r\\n.",
          "traceback": [
            "\u001b[0;31m---------------------------------------------------------------------------\u001b[0m",
            "\u001b[0;31mPyngrokNgrokError\u001b[0m                         Traceback (most recent call last)",
            "\u001b[0;32m<ipython-input-11-f6880e6402eb>\u001b[0m in \u001b[0;36m<cell line: 40>\u001b[0;34m()\u001b[0m\n\u001b[1;32m     38\u001b[0m \u001b[0;34m\u001b[0m\u001b[0m\n\u001b[1;32m     39\u001b[0m \u001b[0;31m# Ngrok을 사용하여 외부에서 접근 가능한 URL 생성\u001b[0m\u001b[0;34m\u001b[0m\u001b[0;34m\u001b[0m\u001b[0m\n\u001b[0;32m---> 40\u001b[0;31m \u001b[0mpublic_url\u001b[0m \u001b[0;34m=\u001b[0m \u001b[0mngrok\u001b[0m\u001b[0;34m.\u001b[0m\u001b[0mconnect\u001b[0m\u001b[0;34m(\u001b[0m\u001b[0;36m7860\u001b[0m\u001b[0;34m)\u001b[0m\u001b[0;34m\u001b[0m\u001b[0;34m\u001b[0m\u001b[0m\n\u001b[0m\u001b[1;32m     41\u001b[0m \u001b[0mprint\u001b[0m\u001b[0;34m(\u001b[0m\u001b[0;34mf\"공개된 URL: {public_url}\"\u001b[0m\u001b[0;34m)\u001b[0m\u001b[0;34m\u001b[0m\u001b[0;34m\u001b[0m\u001b[0m\n\u001b[1;32m     42\u001b[0m \u001b[0;34m\u001b[0m\u001b[0m\n",
            "\u001b[0;32m/usr/local/lib/python3.10/dist-packages/pyngrok/ngrok.py\u001b[0m in \u001b[0;36mconnect\u001b[0;34m(addr, proto, name, pyngrok_config, **options)\u001b[0m\n\u001b[1;32m    314\u001b[0m             \u001b[0moptions\u001b[0m\u001b[0;34m.\u001b[0m\u001b[0mpop\u001b[0m\u001b[0;34m(\u001b[0m\u001b[0;34m\"auth\"\u001b[0m\u001b[0;34m)\u001b[0m\u001b[0;34m\u001b[0m\u001b[0;34m\u001b[0m\u001b[0m\n\u001b[1;32m    315\u001b[0m \u001b[0;34m\u001b[0m\u001b[0m\n\u001b[0;32m--> 316\u001b[0;31m     \u001b[0mapi_url\u001b[0m \u001b[0;34m=\u001b[0m \u001b[0mget_ngrok_process\u001b[0m\u001b[0;34m(\u001b[0m\u001b[0mpyngrok_config\u001b[0m\u001b[0;34m)\u001b[0m\u001b[0;34m.\u001b[0m\u001b[0mapi_url\u001b[0m\u001b[0;34m\u001b[0m\u001b[0;34m\u001b[0m\u001b[0m\n\u001b[0m\u001b[1;32m    317\u001b[0m \u001b[0;34m\u001b[0m\u001b[0m\n\u001b[1;32m    318\u001b[0m     \u001b[0mlogger\u001b[0m\u001b[0;34m.\u001b[0m\u001b[0mdebug\u001b[0m\u001b[0;34m(\u001b[0m\u001b[0;34mf\"Creating tunnel with options: {options}\"\u001b[0m\u001b[0;34m)\u001b[0m\u001b[0;34m\u001b[0m\u001b[0;34m\u001b[0m\u001b[0m\n",
            "\u001b[0;32m/usr/local/lib/python3.10/dist-packages/pyngrok/ngrok.py\u001b[0m in \u001b[0;36mget_ngrok_process\u001b[0;34m(pyngrok_config)\u001b[0m\n\u001b[1;32m    154\u001b[0m     \u001b[0minstall_ngrok\u001b[0m\u001b[0;34m(\u001b[0m\u001b[0mpyngrok_config\u001b[0m\u001b[0;34m)\u001b[0m\u001b[0;34m\u001b[0m\u001b[0;34m\u001b[0m\u001b[0m\n\u001b[1;32m    155\u001b[0m \u001b[0;34m\u001b[0m\u001b[0m\n\u001b[0;32m--> 156\u001b[0;31m     \u001b[0;32mreturn\u001b[0m \u001b[0mprocess\u001b[0m\u001b[0;34m.\u001b[0m\u001b[0mget_process\u001b[0m\u001b[0;34m(\u001b[0m\u001b[0mpyngrok_config\u001b[0m\u001b[0;34m)\u001b[0m\u001b[0;34m\u001b[0m\u001b[0;34m\u001b[0m\u001b[0m\n\u001b[0m\u001b[1;32m    157\u001b[0m \u001b[0;34m\u001b[0m\u001b[0m\n\u001b[1;32m    158\u001b[0m \u001b[0;34m\u001b[0m\u001b[0m\n",
            "\u001b[0;32m/usr/local/lib/python3.10/dist-packages/pyngrok/process.py\u001b[0m in \u001b[0;36mget_process\u001b[0;34m(pyngrok_config)\u001b[0m\n\u001b[1;32m    233\u001b[0m         \u001b[0;32mreturn\u001b[0m \u001b[0m_current_processes\u001b[0m\u001b[0;34m[\u001b[0m\u001b[0mpyngrok_config\u001b[0m\u001b[0;34m.\u001b[0m\u001b[0mngrok_path\u001b[0m\u001b[0;34m]\u001b[0m\u001b[0;34m\u001b[0m\u001b[0;34m\u001b[0m\u001b[0m\n\u001b[1;32m    234\u001b[0m \u001b[0;34m\u001b[0m\u001b[0m\n\u001b[0;32m--> 235\u001b[0;31m     \u001b[0;32mreturn\u001b[0m \u001b[0m_start_process\u001b[0m\u001b[0;34m(\u001b[0m\u001b[0mpyngrok_config\u001b[0m\u001b[0;34m)\u001b[0m\u001b[0;34m\u001b[0m\u001b[0;34m\u001b[0m\u001b[0m\n\u001b[0m\u001b[1;32m    236\u001b[0m \u001b[0;34m\u001b[0m\u001b[0m\n\u001b[1;32m    237\u001b[0m \u001b[0;34m\u001b[0m\u001b[0m\n",
            "\u001b[0;32m/usr/local/lib/python3.10/dist-packages/pyngrok/process.py\u001b[0m in \u001b[0;36m_start_process\u001b[0;34m(pyngrok_config)\u001b[0m\n\u001b[1;32m    396\u001b[0m \u001b[0;34m\u001b[0m\u001b[0m\n\u001b[1;32m    397\u001b[0m         \u001b[0;32mif\u001b[0m \u001b[0mngrok_process\u001b[0m\u001b[0;34m.\u001b[0m\u001b[0mstartup_error\u001b[0m \u001b[0;32mis\u001b[0m \u001b[0;32mnot\u001b[0m \u001b[0;32mNone\u001b[0m\u001b[0;34m:\u001b[0m\u001b[0;34m\u001b[0m\u001b[0;34m\u001b[0m\u001b[0m\n\u001b[0;32m--> 398\u001b[0;31m             raise PyngrokNgrokError(f\"The ngrok process errored on start: {ngrok_process.startup_error}.\",\n\u001b[0m\u001b[1;32m    399\u001b[0m                                     \u001b[0mngrok_process\u001b[0m\u001b[0;34m.\u001b[0m\u001b[0mlogs\u001b[0m\u001b[0;34m,\u001b[0m\u001b[0;34m\u001b[0m\u001b[0;34m\u001b[0m\u001b[0m\n\u001b[1;32m    400\u001b[0m                                     ngrok_process.startup_error)\n",
            "\u001b[0;31mPyngrokNgrokError\u001b[0m: The ngrok process errored on start: authentication failed: Usage of ngrok requires a verified account and authtoken.\\n\\nSign up for an account: https://dashboard.ngrok.com/signup\\nInstall your authtoken: https://dashboard.ngrok.com/get-started/your-authtoken\\r\\n\\r\\nERR_NGROK_4018\\r\\n."
          ]
        }
      ]
    },
    {
      "cell_type": "code",
      "source": [],
      "metadata": {
        "id": "RVQ_EAbJFz2z"
      },
      "execution_count": null,
      "outputs": []
    }
  ]
}