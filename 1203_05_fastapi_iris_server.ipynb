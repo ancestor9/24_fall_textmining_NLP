{
  "cells": [
    {
      "cell_type": "markdown",
      "metadata": {
        "id": "view-in-github",
        "colab_type": "text"
      },
      "source": [
        "<a href=\"https://colab.research.google.com/github/ancestor9/24_fall_textmining_NLP/blob/main/1203_05_fastapi_iris_server.ipynb\" target=\"_parent\"><img src=\"https://colab.research.google.com/assets/colab-badge.svg\" alt=\"Open In Colab\"/></a>"
      ]
    },
    {
      "cell_type": "code",
      "execution_count": null,
      "id": "4acb68b1",
      "metadata": {
        "colab": {
          "base_uri": "https://localhost:8080/"
        },
        "id": "4acb68b1",
        "outputId": "fd4dc3f7-5552-4483-c739-9bed1c4d359d"
      },
      "outputs": [
        {
          "name": "stdout",
          "output_type": "stream",
          "text": [
            "\u001b[?25l   \u001b[90m━━━━━━━━━━━━━━━━━━━━━━━━━━━━━━━━━━━━━━━━\u001b[0m \u001b[32m0.0/94.9 kB\u001b[0m \u001b[31m?\u001b[0m eta \u001b[36m-:--:--\u001b[0m\r\u001b[2K   \u001b[90m━━━━━━━━━━━━━━━━━━━━━━━━━━━━━━━━━━━━━━━━\u001b[0m \u001b[32m94.9/94.9 kB\u001b[0m \u001b[31m4.4 MB/s\u001b[0m eta \u001b[36m0:00:00\u001b[0m\n",
            "\u001b[?25h\u001b[?25l   \u001b[90m━━━━━━━━━━━━━━━━━━━━━━━━━━━━━━━━━━━━━━━━\u001b[0m \u001b[32m0.0/63.8 kB\u001b[0m \u001b[31m?\u001b[0m eta \u001b[36m-:--:--\u001b[0m\r\u001b[2K   \u001b[90m━━━━━━━━━━━━━━━━━━━━━━━━━━━━━━━━━━━━━━━━\u001b[0m \u001b[32m63.8/63.8 kB\u001b[0m \u001b[31m4.1 MB/s\u001b[0m eta \u001b[36m0:00:00\u001b[0m\n",
            "\u001b[?25h\u001b[?25l   \u001b[90m━━━━━━━━━━━━━━━━━━━━━━━━━━━━━━━━━━━━━━━━\u001b[0m \u001b[32m0.0/73.2 kB\u001b[0m \u001b[31m?\u001b[0m eta \u001b[36m-:--:--\u001b[0m\r\u001b[2K   \u001b[90m━━━━━━━━━━━━━━━━━━━━━━━━━━━━━━━━━━━━━━━━\u001b[0m \u001b[32m73.2/73.2 kB\u001b[0m \u001b[31m3.7 MB/s\u001b[0m eta \u001b[36m0:00:00\u001b[0m\n",
            "\u001b[?25h"
          ]
        }
      ],
      "source": [
        "# 1. 필요한 라이브러리 설치 및 임포트\n",
        "!pip install fastapi uvicorn pyngrok nest-asyncio --quiet\n",
        "\n",
        "# 런타임을 다시 시작한 후 아래의 코드를 실행해 주세요.\n",
        "import pandas as pd\n",
        "from fastapi import FastAPI\n",
        "from pyngrok import ngrok, conf\n",
        "import nest_asyncio\n",
        "import uvicorn"
      ]
    },
    {
      "cell_type": "code",
      "execution_count": null,
      "id": "f5fdc0be",
      "metadata": {
        "colab": {
          "base_uri": "https://localhost:8080/"
        },
        "id": "f5fdc0be",
        "outputId": "ee8dcc1c-1cbe-49d3-ef2b-3b4441c38ca2"
      },
      "outputs": [
        {
          "name": "stdout",
          "output_type": "stream",
          "text": [
            "Model saved to iris_model.pkl\n"
          ]
        }
      ],
      "source": [
        "# prompt: iris 데이터를 학습해서 iris_model.pkl로 저장해줘\n",
        "\n",
        "import joblib\n",
        "from sklearn.datasets import load_iris\n",
        "from sklearn.model_selection import train_test_split\n",
        "from sklearn.ensemble import RandomForestClassifier\n",
        "\n",
        "# 2. Iris 데이터 로드 및 전처리\n",
        "iris = load_iris()\n",
        "iris_df = pd.DataFrame(data=iris.data, columns=iris.feature_names)\n",
        "iris_df['target'] = iris.target\n",
        "\n",
        "X = iris_df.drop('target', axis=1)\n",
        "y = iris_df['target']\n",
        "X_train, X_test, y_train, y_test = train_test_split(X, y, test_size=0.2, random_state=42)\n",
        "\n",
        "# 3. 모델 학습 (RandomForestClassifier 사용)\n",
        "model = RandomForestClassifier()\n",
        "model.fit(X_train, y_train)\n",
        "\n",
        "# 4. 모델 저장\n",
        "filename = 'iris_model.pkl'\n",
        "joblib.dump(model, filename)\n",
        "\n",
        "print(f\"Model saved to {filename}\")"
      ]
    },
    {
      "cell_type": "code",
      "execution_count": null,
      "id": "1a96b6be",
      "metadata": {
        "id": "1a96b6be"
      },
      "outputs": [],
      "source": [
        "# server.py\n",
        "from fastapi import FastAPI\n",
        "from pydantic import BaseModel\n",
        "import joblib\n",
        "import numpy as np\n",
        "import uvicorn\n",
        "from pyngrok import ngrok\n",
        "import nest_asyncio # Import nest_asyncio\n",
        "\n",
        "# 모델 로드\n",
        "model = joblib.load(\"iris_model.pkl\")\n",
        "\n",
        "# FastAPI 애플리케이션 생성\n",
        "app = FastAPI()\n",
        "\n",
        "# 요청 Body를 위한 모델 정의\n",
        "class IrisRequest(BaseModel):\n",
        "    sepal_length: float\n",
        "    sepal_width: float\n",
        "    petal_length: float\n",
        "    petal_width: float\n",
        "\n",
        "# 예측 경로 정의\n",
        "@app.post(\"/predict\")\n",
        "async def predict_iris(data: IrisRequest):\n",
        "    # 입력 데이터를 배열로 변환\n",
        "    input_data = np.array([[data.sepal_length, data.sepal_width, data.petal_length, data.petal_width]])\n",
        "    # 예측 수행\n",
        "    prediction = model.predict(input_data)\n",
        "    # 예측 결과 반환\n",
        "    return {\"prediction\": int(prediction[0])}"
      ]
    },
    {
      "cell_type": "code",
      "execution_count": null,
      "id": "0d667392",
      "metadata": {
        "colab": {
          "background_save": true,
          "base_uri": "https://localhost:8080/"
        },
        "id": "0d667392",
        "outputId": "2e71e2df-085f-466b-f81c-feba0775fcca"
      },
      "outputs": [
        {
          "name": "stderr",
          "output_type": "stream",
          "text": [
            "INFO:     Started server process [544]\n",
            "INFO:     Waiting for application startup.\n",
            "INFO:     Application startup complete.\n",
            "INFO:     Uvicorn running on http://0.0.0.0:8000 (Press CTRL+C to quit)\n"
          ]
        },
        {
          "name": "stdout",
          "output_type": "stream",
          "text": [
            "FastAPI 앱에 접근 가능한 주소: NgrokTunnel: \"https://01d9-35-196-92-24.ngrok-free.app\" -> \"http://localhost:8000\"\n",
            "INFO:     35.232.74.112:0 - \"POST /predict HTTP/1.1\" 200 OK\n"
          ]
        },
        {
          "name": "stderr",
          "output_type": "stream",
          "text": [
            "/usr/local/lib/python3.10/dist-packages/sklearn/base.py:493: UserWarning: X does not have valid feature names, but RandomForestClassifier was fitted with feature names\n",
            "  warnings.warn(\n"
          ]
        },
        {
          "name": "stdout",
          "output_type": "stream",
          "text": [
            "INFO:     35.232.74.112:0 - \"POST /predict HTTP/1.1\" 200 OK\n"
          ]
        },
        {
          "name": "stderr",
          "output_type": "stream",
          "text": [
            "/usr/local/lib/python3.10/dist-packages/sklearn/base.py:493: UserWarning: X does not have valid feature names, but RandomForestClassifier was fitted with feature names\n",
            "  warnings.warn(\n"
          ]
        },
        {
          "name": "stdout",
          "output_type": "stream",
          "text": [
            "INFO:     35.232.74.112:0 - \"POST /predict HTTP/1.1\" 200 OK\n"
          ]
        },
        {
          "name": "stderr",
          "output_type": "stream",
          "text": [
            "/usr/local/lib/python3.10/dist-packages/sklearn/base.py:493: UserWarning: X does not have valid feature names, but RandomForestClassifier was fitted with feature names\n",
            "  warnings.warn(\n"
          ]
        },
        {
          "name": "stdout",
          "output_type": "stream",
          "text": [
            "INFO:     35.232.74.112:0 - \"POST /predict HTTP/1.1\" 200 OK\n",
            "INFO:     35.232.74.112:0 - \"POST /predict HTTP/1.1\" 200 OK\n"
          ]
        },
        {
          "name": "stderr",
          "output_type": "stream",
          "text": [
            "/usr/local/lib/python3.10/dist-packages/sklearn/base.py:493: UserWarning: X does not have valid feature names, but RandomForestClassifier was fitted with feature names\n",
            "  warnings.warn(\n",
            "/usr/local/lib/python3.10/dist-packages/sklearn/base.py:493: UserWarning: X does not have valid feature names, but RandomForestClassifier was fitted with feature names\n",
            "  warnings.warn(\n"
          ]
        },
        {
          "name": "stdout",
          "output_type": "stream",
          "text": [
            "INFO:     35.232.74.112:0 - \"POST /predict HTTP/1.1\" 200 OK\n",
            "INFO:     35.232.74.112:0 - \"POST /predict HTTP/1.1\" 200 OK\n"
          ]
        },
        {
          "name": "stderr",
          "output_type": "stream",
          "text": [
            "/usr/local/lib/python3.10/dist-packages/sklearn/base.py:493: UserWarning: X does not have valid feature names, but RandomForestClassifier was fitted with feature names\n",
            "  warnings.warn(\n",
            "/usr/local/lib/python3.10/dist-packages/sklearn/base.py:493: UserWarning: X does not have valid feature names, but RandomForestClassifier was fitted with feature names\n",
            "  warnings.warn(\n"
          ]
        },
        {
          "name": "stdout",
          "output_type": "stream",
          "text": [
            "INFO:     35.232.74.112:0 - \"POST /predict HTTP/1.1\" 200 OK\n",
            "INFO:     35.232.74.112:0 - \"POST /predict HTTP/1.1\" 200 OK\n"
          ]
        },
        {
          "name": "stderr",
          "output_type": "stream",
          "text": [
            "/usr/local/lib/python3.10/dist-packages/sklearn/base.py:493: UserWarning: X does not have valid feature names, but RandomForestClassifier was fitted with feature names\n",
            "  warnings.warn(\n",
            "/usr/local/lib/python3.10/dist-packages/sklearn/base.py:493: UserWarning: X does not have valid feature names, but RandomForestClassifier was fitted with feature names\n",
            "  warnings.warn(\n"
          ]
        },
        {
          "name": "stdout",
          "output_type": "stream",
          "text": [
            "INFO:     35.232.74.112:0 - \"POST /predict HTTP/1.1\" 200 OK\n",
            "INFO:     35.232.74.112:0 - \"POST /predict HTTP/1.1\" 200 OK\n"
          ]
        },
        {
          "name": "stderr",
          "output_type": "stream",
          "text": [
            "/usr/local/lib/python3.10/dist-packages/sklearn/base.py:493: UserWarning: X does not have valid feature names, but RandomForestClassifier was fitted with feature names\n",
            "  warnings.warn(\n",
            "/usr/local/lib/python3.10/dist-packages/sklearn/base.py:493: UserWarning: X does not have valid feature names, but RandomForestClassifier was fitted with feature names\n",
            "  warnings.warn(\n"
          ]
        },
        {
          "name": "stdout",
          "output_type": "stream",
          "text": [
            "INFO:     35.232.74.112:0 - \"POST /predict HTTP/1.1\" 200 OK\n",
            "INFO:     35.232.74.112:0 - \"POST /predict HTTP/1.1\" 200 OK\n"
          ]
        },
        {
          "name": "stderr",
          "output_type": "stream",
          "text": [
            "/usr/local/lib/python3.10/dist-packages/sklearn/base.py:493: UserWarning: X does not have valid feature names, but RandomForestClassifier was fitted with feature names\n",
            "  warnings.warn(\n",
            "/usr/local/lib/python3.10/dist-packages/sklearn/base.py:493: UserWarning: X does not have valid feature names, but RandomForestClassifier was fitted with feature names\n",
            "  warnings.warn(\n"
          ]
        }
      ],
      "source": [
        "from google.colab import userdata\n",
        "YOUR_AUTHTOKEN = userdata.get('ngrok')\n",
        "\n",
        "# 6-1. ngrok의 모든 기존 터널 종료\n",
        "ngrok.kill()\n",
        "\n",
        "# 6-2. ngrok 인증 설정\n",
        "conf.get_default().auth_token = YOUR_AUTHTOKEN  # YOUR_AUTHTOKEN을 실제 ngrok 토큰으로 변경하세요\n",
        "\n",
        "# 6-3. ngrok을 이용한 외부 URL 생성\n",
        "public_url = ngrok.connect(8000, bind_tls=True)  # bind_tls=True for HTTPS\n",
        "print(f\"FastAPI 앱에 접근 가능한 주소: {public_url}\")\n",
        "\n",
        "# 7. FastAPI 앱 실행 - Uvicorn 설정\n",
        "nest_asyncio.apply()\n",
        "uvicorn.run(app, host='0.0.0.0', port=8000)"
      ]
    },
    {
      "cell_type": "code",
      "execution_count": null,
      "id": "b642f6b5",
      "metadata": {
        "id": "b642f6b5"
      },
      "outputs": [],
      "source": [
        "# prompt: public_url의 주소만 가져오는 코드\n",
        "\n",
        "import re\n",
        "\n",
        "# public_url 출력 문자열에서 URL 부분만 추출하는 정규 표현식\n",
        "url_pattern = r\"http[s]?://(?:[a-zA-Z]|[0-9]|[$-_@.&+]|[!*\\\\(\\\\),]|(?:%[0-9a-fA-F][0-9a-fA-F]))+\"\n",
        "\n",
        "# public_url 출력 문자열 (실제 출력값으로 대체해야 함)\n",
        "public_url_output = f\"FastAPI 앱에 접근 가능한 주소: {public_url}\"  # public_url 변수는 위 코드에서 정의되어 있습니다.\n",
        "\n",
        "# 정규 표현식을 사용하여 URL 추출\n",
        "match = re.search(url_pattern, public_url_output)\n",
        "\n",
        "if match:\n",
        "  extracted_url = match.group(0)\n",
        "  print(extracted_url) # 추출된 URL 출력\n",
        "else:\n",
        "  print(\"URL not found in the output string.\")"
      ]
    }
  ],
  "metadata": {
    "colab": {
      "provenance": [],
      "include_colab_link": true
    },
    "kernelspec": {
      "display_name": "Python 3",
      "name": "python3"
    },
    "language_info": {
      "name": "python"
    }
  },
  "nbformat": 4,
  "nbformat_minor": 5
}