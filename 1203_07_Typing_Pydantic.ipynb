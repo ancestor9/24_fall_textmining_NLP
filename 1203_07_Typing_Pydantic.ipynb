{
  "nbformat": 4,
  "nbformat_minor": 0,
  "metadata": {
    "colab": {
      "provenance": [],
      "authorship_tag": "ABX9TyMgKNDoC1irabimzRBsJo8T",
      "include_colab_link": true
    },
    "kernelspec": {
      "name": "python3",
      "display_name": "Python 3"
    },
    "language_info": {
      "name": "python"
    }
  },
  "cells": [
    {
      "cell_type": "markdown",
      "metadata": {
        "id": "view-in-github",
        "colab_type": "text"
      },
      "source": [
        "<a href=\"https://colab.research.google.com/github/ancestor9/24_fall_textmining_NLP/blob/main/1203_07_Typing_Pydantic.ipynb\" target=\"_parent\"><img src=\"https://colab.research.google.com/assets/colab-badge.svg\" alt=\"Open In Colab\"/></a>"
      ]
    },
    {
      "cell_type": "markdown",
      "source": [
        "### **1. Pydantic**"
      ],
      "metadata": {
        "id": "F034bmE0hNcb"
      }
    },
    {
      "cell_type": "markdown",
      "source": [
        "#### vars() 함수는 객체의 속성을 사전 형태로 반환하는 파이썬 내장 함수입니다. 특히, vars()는 객체의 __dict__ 속성을 반환하며, 주로 클래스 인스턴스, 모듈 또는 다른 객체에서 사용할 수 있습니다. 객체의 내부 속성을 확인하거나 조작할 때 유용"
      ],
      "metadata": {
        "id": "wUwHuk2vdYAZ"
      }
    },
    {
      "cell_type": "code",
      "source": [
        "print(vars())"
      ],
      "metadata": {
        "colab": {
          "base_uri": "https://localhost:8080/"
        },
        "id": "syldHowNdP53",
        "outputId": "42dc305e-f1d9-4441-a957-ab6ee7643ac4"
      },
      "execution_count": 1,
      "outputs": [
        {
          "output_type": "stream",
          "name": "stdout",
          "text": [
            "{'__name__': '__main__', '__doc__': 'Automatically created module for IPython interactive environment', '__package__': None, '__loader__': None, '__spec__': None, '__builtin__': <module 'builtins' (built-in)>, '__builtins__': <module 'builtins' (built-in)>, '_ih': ['', 'print(vars())'], '_oh': {}, '_dh': ['/content'], 'In': ['', 'print(vars())'], 'Out': {}, 'get_ipython': <bound method InteractiveShell.get_ipython of <google.colab._shell.Shell object at 0x79fc3d4e21d0>>, 'exit': <IPython.core.autocall.ZMQExitAutocall object at 0x79fc3d4e2bc0>, 'quit': <IPython.core.autocall.ZMQExitAutocall object at 0x79fc3d4e2bc0>, '_': '', '__': '', '___': '', '_i': '', '_ii': '', '_iii': '', '_i1': 'print(vars())'}\n"
          ]
        }
      ]
    },
    {
      "cell_type": "code",
      "source": [
        "import builtins\n",
        "\n",
        "# 내장 함수의 사용 예\n",
        "print(\"Hello, World!\")  # print()는 내장 함수입니다.\n",
        "print(len(\"Hello\"))     # len()도 내장 함수로 문자열의 길이를 반환합니다.\n",
        "\n",
        "# __builtin__을 통해 직접 호출하기\n",
        "print(builtins.abs(-10))  # abs()는 절대값을 반환하는 내장 함수\n",
        "print(builtins.max([1, 2, 3, 4]))  # max()는 리스트에서 가장 큰 값을 반환합니다.\n",
        "\n",
        "# 사용자 정의 코드에서 __builtin__에 있는 함수를 확인할 수 있습니다.\n",
        "all_builtins = dir(builtins)\n",
        "print(f\"총 내장 함수의 개수: {len(all_builtins)}\")\n",
        "print(\"몇 가지 내장 함수 목록:\", all_builtins[140:158])\n"
      ],
      "metadata": {
        "colab": {
          "base_uri": "https://localhost:8080/"
        },
        "id": "22RDnJqKMO2l",
        "outputId": "28d22718-bcba-45e8-9c96-9529134ec85f"
      },
      "execution_count": 6,
      "outputs": [
        {
          "output_type": "stream",
          "name": "stdout",
          "text": [
            "Hello, World!\n",
            "5\n",
            "10\n",
            "4\n",
            "총 내장 함수의 개수: 158\n",
            "몇 가지 내장 함수 목록: ['property', 'range', 'repr', 'reversed', 'round', 'runfile', 'set', 'setattr', 'slice', 'sorted', 'staticmethod', 'str', 'sum', 'super', 'tuple', 'type', 'vars', 'zip']\n"
          ]
        }
      ]
    },
    {
      "cell_type": "markdown",
      "source": [
        "- **vars()는 __dict__ 속성을 직접 참조하는 것과 동일한 역할을 하므로, 클래스 내부에서 인스턴스의 상태를 쉽게 살펴보고 관리할 수 있는 방법을 제공**"
      ],
      "metadata": {
        "id": "8xy-i5oWMsvh"
      }
    },
    {
      "cell_type": "code",
      "source": [
        "a = 10; b = 20\n",
        "print(vars())"
      ],
      "metadata": {
        "colab": {
          "base_uri": "https://localhost:8080/"
        },
        "id": "auAsE07jdMi9",
        "outputId": "e618e1a6-6776-456c-9638-0147774a4c77"
      },
      "execution_count": 7,
      "outputs": [
        {
          "output_type": "stream",
          "name": "stdout",
          "text": [
            "{'__name__': '__main__', '__doc__': 'Automatically created module for IPython interactive environment', '__package__': None, '__loader__': None, '__spec__': None, '__builtin__': <module 'builtins' (built-in)>, '__builtins__': <module 'builtins' (built-in)>, '_ih': ['', 'print(vars())', 'import builtins\\n\\n# 내장 함수의 사용 예\\nprint(\"Hello, World!\")  # print()는 내장 함수입니다.\\nprint(len(\"Hello\"))     # len()도 내장 함수로 문자열의 길이를 반환합니다.\\n\\n# __builtin__을 통해 직접 호출하기\\nprint(builtins.abs(-10))  # abs()는 절대값을 반환하는 내장 함수\\nprint(builtins.max([1, 2, 3, 4]))  # max()는 리스트에서 가장 큰 값을 반환합니다.\\n\\n# 사용자 정의 코드에서 __builtin__에 있는 함수를 확인할 수 있습니다.\\nall_builtins = dir(builtins)\\nprint(f\"총 내장 함수의 개수: {len(all_builtins)}\")\\nprint(\"몇 가지 내장 함수 목록:\", all_builtins[:10])', 'import builtins\\n\\n# 내장 함수의 사용 예\\nprint(\"Hello, World!\")  # print()는 내장 함수입니다.\\nprint(len(\"Hello\"))     # len()도 내장 함수로 문자열의 길이를 반환합니다.\\n\\n# __builtin__을 통해 직접 호출하기\\nprint(builtins.abs(-10))  # abs()는 절대값을 반환하는 내장 함수\\nprint(builtins.max([1, 2, 3, 4]))  # max()는 리스트에서 가장 큰 값을 반환합니다.\\n\\n# 사용자 정의 코드에서 __builtin__에 있는 함수를 확인할 수 있습니다.\\nall_builtins = dir(builtins)\\nprint(f\"총 내장 함수의 개수: {len(all_builtins)}\")\\nprint(\"몇 가지 내장 함수 목록:\", all_builtins[10:20])', 'import builtins\\n\\n# 내장 함수의 사용 예\\nprint(\"Hello, World!\")  # print()는 내장 함수입니다.\\nprint(len(\"Hello\"))     # len()도 내장 함수로 문자열의 길이를 반환합니다.\\n\\n# __builtin__을 통해 직접 호출하기\\nprint(builtins.abs(-10))  # abs()는 절대값을 반환하는 내장 함수\\nprint(builtins.max([1, 2, 3, 4]))  # max()는 리스트에서 가장 큰 값을 반환합니다.\\n\\n# 사용자 정의 코드에서 __builtin__에 있는 함수를 확인할 수 있습니다.\\nall_builtins = dir(builtins)\\nprint(f\"총 내장 함수의 개수: {len(all_builtins)}\")\\nprint(\"몇 가지 내장 함수 목록:\", all_builtins[100:120])', 'import builtins\\n\\n# 내장 함수의 사용 예\\nprint(\"Hello, World!\")  # print()는 내장 함수입니다.\\nprint(len(\"Hello\"))     # len()도 내장 함수로 문자열의 길이를 반환합니다.\\n\\n# __builtin__을 통해 직접 호출하기\\nprint(builtins.abs(-10))  # abs()는 절대값을 반환하는 내장 함수\\nprint(builtins.max([1, 2, 3, 4]))  # max()는 리스트에서 가장 큰 값을 반환합니다.\\n\\n# 사용자 정의 코드에서 __builtin__에 있는 함수를 확인할 수 있습니다.\\nall_builtins = dir(builtins)\\nprint(f\"총 내장 함수의 개수: {len(all_builtins)}\")\\nprint(\"몇 가지 내장 함수 목록:\", all_builtins[150:158])', 'import builtins\\n\\n# 내장 함수의 사용 예\\nprint(\"Hello, World!\")  # print()는 내장 함수입니다.\\nprint(len(\"Hello\"))     # len()도 내장 함수로 문자열의 길이를 반환합니다.\\n\\n# __builtin__을 통해 직접 호출하기\\nprint(builtins.abs(-10))  # abs()는 절대값을 반환하는 내장 함수\\nprint(builtins.max([1, 2, 3, 4]))  # max()는 리스트에서 가장 큰 값을 반환합니다.\\n\\n# 사용자 정의 코드에서 __builtin__에 있는 함수를 확인할 수 있습니다.\\nall_builtins = dir(builtins)\\nprint(f\"총 내장 함수의 개수: {len(all_builtins)}\")\\nprint(\"몇 가지 내장 함수 목록:\", all_builtins[140:158])', 'a = 10; b = 20\\nprint(vars())'], '_oh': {}, '_dh': ['/content'], 'In': ['', 'print(vars())', 'import builtins\\n\\n# 내장 함수의 사용 예\\nprint(\"Hello, World!\")  # print()는 내장 함수입니다.\\nprint(len(\"Hello\"))     # len()도 내장 함수로 문자열의 길이를 반환합니다.\\n\\n# __builtin__을 통해 직접 호출하기\\nprint(builtins.abs(-10))  # abs()는 절대값을 반환하는 내장 함수\\nprint(builtins.max([1, 2, 3, 4]))  # max()는 리스트에서 가장 큰 값을 반환합니다.\\n\\n# 사용자 정의 코드에서 __builtin__에 있는 함수를 확인할 수 있습니다.\\nall_builtins = dir(builtins)\\nprint(f\"총 내장 함수의 개수: {len(all_builtins)}\")\\nprint(\"몇 가지 내장 함수 목록:\", all_builtins[:10])', 'import builtins\\n\\n# 내장 함수의 사용 예\\nprint(\"Hello, World!\")  # print()는 내장 함수입니다.\\nprint(len(\"Hello\"))     # len()도 내장 함수로 문자열의 길이를 반환합니다.\\n\\n# __builtin__을 통해 직접 호출하기\\nprint(builtins.abs(-10))  # abs()는 절대값을 반환하는 내장 함수\\nprint(builtins.max([1, 2, 3, 4]))  # max()는 리스트에서 가장 큰 값을 반환합니다.\\n\\n# 사용자 정의 코드에서 __builtin__에 있는 함수를 확인할 수 있습니다.\\nall_builtins = dir(builtins)\\nprint(f\"총 내장 함수의 개수: {len(all_builtins)}\")\\nprint(\"몇 가지 내장 함수 목록:\", all_builtins[10:20])', 'import builtins\\n\\n# 내장 함수의 사용 예\\nprint(\"Hello, World!\")  # print()는 내장 함수입니다.\\nprint(len(\"Hello\"))     # len()도 내장 함수로 문자열의 길이를 반환합니다.\\n\\n# __builtin__을 통해 직접 호출하기\\nprint(builtins.abs(-10))  # abs()는 절대값을 반환하는 내장 함수\\nprint(builtins.max([1, 2, 3, 4]))  # max()는 리스트에서 가장 큰 값을 반환합니다.\\n\\n# 사용자 정의 코드에서 __builtin__에 있는 함수를 확인할 수 있습니다.\\nall_builtins = dir(builtins)\\nprint(f\"총 내장 함수의 개수: {len(all_builtins)}\")\\nprint(\"몇 가지 내장 함수 목록:\", all_builtins[100:120])', 'import builtins\\n\\n# 내장 함수의 사용 예\\nprint(\"Hello, World!\")  # print()는 내장 함수입니다.\\nprint(len(\"Hello\"))     # len()도 내장 함수로 문자열의 길이를 반환합니다.\\n\\n# __builtin__을 통해 직접 호출하기\\nprint(builtins.abs(-10))  # abs()는 절대값을 반환하는 내장 함수\\nprint(builtins.max([1, 2, 3, 4]))  # max()는 리스트에서 가장 큰 값을 반환합니다.\\n\\n# 사용자 정의 코드에서 __builtin__에 있는 함수를 확인할 수 있습니다.\\nall_builtins = dir(builtins)\\nprint(f\"총 내장 함수의 개수: {len(all_builtins)}\")\\nprint(\"몇 가지 내장 함수 목록:\", all_builtins[150:158])', 'import builtins\\n\\n# 내장 함수의 사용 예\\nprint(\"Hello, World!\")  # print()는 내장 함수입니다.\\nprint(len(\"Hello\"))     # len()도 내장 함수로 문자열의 길이를 반환합니다.\\n\\n# __builtin__을 통해 직접 호출하기\\nprint(builtins.abs(-10))  # abs()는 절대값을 반환하는 내장 함수\\nprint(builtins.max([1, 2, 3, 4]))  # max()는 리스트에서 가장 큰 값을 반환합니다.\\n\\n# 사용자 정의 코드에서 __builtin__에 있는 함수를 확인할 수 있습니다.\\nall_builtins = dir(builtins)\\nprint(f\"총 내장 함수의 개수: {len(all_builtins)}\")\\nprint(\"몇 가지 내장 함수 목록:\", all_builtins[140:158])', 'a = 10; b = 20\\nprint(vars())'], 'Out': {}, 'get_ipython': <bound method InteractiveShell.get_ipython of <google.colab._shell.Shell object at 0x79fc3d4e21d0>>, 'exit': <IPython.core.autocall.ZMQExitAutocall object at 0x79fc3d4e2bc0>, 'quit': <IPython.core.autocall.ZMQExitAutocall object at 0x79fc3d4e2bc0>, '_': '', '__': '', '___': '', '_i': 'import builtins\\n\\n# 내장 함수의 사용 예\\nprint(\"Hello, World!\")  # print()는 내장 함수입니다.\\nprint(len(\"Hello\"))     # len()도 내장 함수로 문자열의 길이를 반환합니다.\\n\\n# __builtin__을 통해 직접 호출하기\\nprint(builtins.abs(-10))  # abs()는 절대값을 반환하는 내장 함수\\nprint(builtins.max([1, 2, 3, 4]))  # max()는 리스트에서 가장 큰 값을 반환합니다.\\n\\n# 사용자 정의 코드에서 __builtin__에 있는 함수를 확인할 수 있습니다.\\nall_builtins = dir(builtins)\\nprint(f\"총 내장 함수의 개수: {len(all_builtins)}\")\\nprint(\"몇 가지 내장 함수 목록:\", all_builtins[140:158])', '_ii': 'import builtins\\n\\n# 내장 함수의 사용 예\\nprint(\"Hello, World!\")  # print()는 내장 함수입니다.\\nprint(len(\"Hello\"))     # len()도 내장 함수로 문자열의 길이를 반환합니다.\\n\\n# __builtin__을 통해 직접 호출하기\\nprint(builtins.abs(-10))  # abs()는 절대값을 반환하는 내장 함수\\nprint(builtins.max([1, 2, 3, 4]))  # max()는 리스트에서 가장 큰 값을 반환합니다.\\n\\n# 사용자 정의 코드에서 __builtin__에 있는 함수를 확인할 수 있습니다.\\nall_builtins = dir(builtins)\\nprint(f\"총 내장 함수의 개수: {len(all_builtins)}\")\\nprint(\"몇 가지 내장 함수 목록:\", all_builtins[150:158])', '_iii': 'import builtins\\n\\n# 내장 함수의 사용 예\\nprint(\"Hello, World!\")  # print()는 내장 함수입니다.\\nprint(len(\"Hello\"))     # len()도 내장 함수로 문자열의 길이를 반환합니다.\\n\\n# __builtin__을 통해 직접 호출하기\\nprint(builtins.abs(-10))  # abs()는 절대값을 반환하는 내장 함수\\nprint(builtins.max([1, 2, 3, 4]))  # max()는 리스트에서 가장 큰 값을 반환합니다.\\n\\n# 사용자 정의 코드에서 __builtin__에 있는 함수를 확인할 수 있습니다.\\nall_builtins = dir(builtins)\\nprint(f\"총 내장 함수의 개수: {len(all_builtins)}\")\\nprint(\"몇 가지 내장 함수 목록:\", all_builtins[100:120])', '_i1': 'print(vars())', '_i2': 'import builtins\\n\\n# 내장 함수의 사용 예\\nprint(\"Hello, World!\")  # print()는 내장 함수입니다.\\nprint(len(\"Hello\"))     # len()도 내장 함수로 문자열의 길이를 반환합니다.\\n\\n# __builtin__을 통해 직접 호출하기\\nprint(builtins.abs(-10))  # abs()는 절대값을 반환하는 내장 함수\\nprint(builtins.max([1, 2, 3, 4]))  # max()는 리스트에서 가장 큰 값을 반환합니다.\\n\\n# 사용자 정의 코드에서 __builtin__에 있는 함수를 확인할 수 있습니다.\\nall_builtins = dir(builtins)\\nprint(f\"총 내장 함수의 개수: {len(all_builtins)}\")\\nprint(\"몇 가지 내장 함수 목록:\", all_builtins[:10])', 'builtins': <module 'builtins' (built-in)>, 'all_builtins': ['ArithmeticError', 'AssertionError', 'AttributeError', 'BaseException', 'BlockingIOError', 'BrokenPipeError', 'BufferError', 'BytesWarning', 'ChildProcessError', 'ConnectionAbortedError', 'ConnectionError', 'ConnectionRefusedError', 'ConnectionResetError', 'DeprecationWarning', 'EOFError', 'Ellipsis', 'EncodingWarning', 'EnvironmentError', 'Exception', 'False', 'FileExistsError', 'FileNotFoundError', 'FloatingPointError', 'FutureWarning', 'GeneratorExit', 'IOError', 'ImportError', 'ImportWarning', 'IndentationError', 'IndexError', 'InterruptedError', 'IsADirectoryError', 'KeyError', 'KeyboardInterrupt', 'LookupError', 'MemoryError', 'ModuleNotFoundError', 'NameError', 'None', 'NotADirectoryError', 'NotImplemented', 'NotImplementedError', 'OSError', 'OverflowError', 'PendingDeprecationWarning', 'PermissionError', 'ProcessLookupError', 'RecursionError', 'ReferenceError', 'ResourceWarning', 'RuntimeError', 'RuntimeWarning', 'StopAsyncIteration', 'StopIteration', 'SyntaxError', 'SyntaxWarning', 'SystemError', 'SystemExit', 'TabError', 'TimeoutError', 'True', 'TypeError', 'UnboundLocalError', 'UnicodeDecodeError', 'UnicodeEncodeError', 'UnicodeError', 'UnicodeTranslateError', 'UnicodeWarning', 'UserWarning', 'ValueError', 'Warning', 'ZeroDivisionError', '__IPYTHON__', '__build_class__', '__debug__', '__doc__', '__import__', '__loader__', '__name__', '__package__', '__spec__', 'abs', 'aiter', 'all', 'anext', 'any', 'ascii', 'bin', 'bool', 'breakpoint', 'bytearray', 'bytes', 'callable', 'chr', 'classmethod', 'compile', 'complex', 'copyright', 'credits', 'delattr', 'dict', 'dir', 'display', 'divmod', 'enumerate', 'eval', 'exec', 'execfile', 'filter', 'float', 'format', 'frozenset', 'get_ipython', 'getattr', 'globals', 'hasattr', 'hash', 'help', 'hex', 'id', 'input', 'int', 'isinstance', 'issubclass', 'iter', 'len', 'license', 'list', 'locals', 'map', 'max', 'memoryview', 'min', 'next', 'object', 'oct', 'open', 'ord', 'pow', 'print', 'property', 'range', 'repr', 'reversed', 'round', 'runfile', 'set', 'setattr', 'slice', 'sorted', 'staticmethod', 'str', 'sum', 'super', 'tuple', 'type', 'vars', 'zip'], '_i3': 'import builtins\\n\\n# 내장 함수의 사용 예\\nprint(\"Hello, World!\")  # print()는 내장 함수입니다.\\nprint(len(\"Hello\"))     # len()도 내장 함수로 문자열의 길이를 반환합니다.\\n\\n# __builtin__을 통해 직접 호출하기\\nprint(builtins.abs(-10))  # abs()는 절대값을 반환하는 내장 함수\\nprint(builtins.max([1, 2, 3, 4]))  # max()는 리스트에서 가장 큰 값을 반환합니다.\\n\\n# 사용자 정의 코드에서 __builtin__에 있는 함수를 확인할 수 있습니다.\\nall_builtins = dir(builtins)\\nprint(f\"총 내장 함수의 개수: {len(all_builtins)}\")\\nprint(\"몇 가지 내장 함수 목록:\", all_builtins[10:20])', '_i4': 'import builtins\\n\\n# 내장 함수의 사용 예\\nprint(\"Hello, World!\")  # print()는 내장 함수입니다.\\nprint(len(\"Hello\"))     # len()도 내장 함수로 문자열의 길이를 반환합니다.\\n\\n# __builtin__을 통해 직접 호출하기\\nprint(builtins.abs(-10))  # abs()는 절대값을 반환하는 내장 함수\\nprint(builtins.max([1, 2, 3, 4]))  # max()는 리스트에서 가장 큰 값을 반환합니다.\\n\\n# 사용자 정의 코드에서 __builtin__에 있는 함수를 확인할 수 있습니다.\\nall_builtins = dir(builtins)\\nprint(f\"총 내장 함수의 개수: {len(all_builtins)}\")\\nprint(\"몇 가지 내장 함수 목록:\", all_builtins[100:120])', '_i5': 'import builtins\\n\\n# 내장 함수의 사용 예\\nprint(\"Hello, World!\")  # print()는 내장 함수입니다.\\nprint(len(\"Hello\"))     # len()도 내장 함수로 문자열의 길이를 반환합니다.\\n\\n# __builtin__을 통해 직접 호출하기\\nprint(builtins.abs(-10))  # abs()는 절대값을 반환하는 내장 함수\\nprint(builtins.max([1, 2, 3, 4]))  # max()는 리스트에서 가장 큰 값을 반환합니다.\\n\\n# 사용자 정의 코드에서 __builtin__에 있는 함수를 확인할 수 있습니다.\\nall_builtins = dir(builtins)\\nprint(f\"총 내장 함수의 개수: {len(all_builtins)}\")\\nprint(\"몇 가지 내장 함수 목록:\", all_builtins[150:158])', '_i6': 'import builtins\\n\\n# 내장 함수의 사용 예\\nprint(\"Hello, World!\")  # print()는 내장 함수입니다.\\nprint(len(\"Hello\"))     # len()도 내장 함수로 문자열의 길이를 반환합니다.\\n\\n# __builtin__을 통해 직접 호출하기\\nprint(builtins.abs(-10))  # abs()는 절대값을 반환하는 내장 함수\\nprint(builtins.max([1, 2, 3, 4]))  # max()는 리스트에서 가장 큰 값을 반환합니다.\\n\\n# 사용자 정의 코드에서 __builtin__에 있는 함수를 확인할 수 있습니다.\\nall_builtins = dir(builtins)\\nprint(f\"총 내장 함수의 개수: {len(all_builtins)}\")\\nprint(\"몇 가지 내장 함수 목록:\", all_builtins[140:158])', '_i7': 'a = 10; b = 20\\nprint(vars())', 'a': 10, 'b': 20}\n"
          ]
        }
      ]
    },
    {
      "cell_type": "markdown",
      "source": [
        "# **[Pydantic](https://docs.pydantic.dev/latest/)**"
      ],
      "metadata": {
        "id": "F4JFmlzTMxiA"
      }
    },
    {
      "cell_type": "code",
      "execution_count": 8,
      "metadata": {
        "id": "M8ZE9cNhyHEv"
      },
      "outputs": [],
      "source": [
        "from pydantic import BaseModel\n",
        "\n",
        "class Sale(BaseModel):\n",
        "    product: str\n",
        "    category: str\n",
        "    quantity: int\n",
        "    price: float\n",
        "\n",
        "# 데이터 인스턴스 생성\n",
        "data = {\"product\": \"Laptop\", \"category\": \"Electronics\", \"quantity\": 5, \"price\": 999.99}\n",
        "sale = Sale(**data)"
      ]
    },
    {
      "cell_type": "code",
      "source": [
        "sale"
      ],
      "metadata": {
        "colab": {
          "base_uri": "https://localhost:8080/"
        },
        "id": "uVB7OwOVb1Kx",
        "outputId": "fe1293b9-517b-4755-c04e-e18b9b23de59"
      },
      "execution_count": 9,
      "outputs": [
        {
          "output_type": "execute_result",
          "data": {
            "text/plain": [
              "Sale(product='Laptop', category='Electronics', quantity=5, price=999.99)"
            ]
          },
          "metadata": {},
          "execution_count": 9
        }
      ]
    },
    {
      "cell_type": "code",
      "source": [
        "vars(sale)"
      ],
      "metadata": {
        "colab": {
          "base_uri": "https://localhost:8080/"
        },
        "id": "ARr3acagco9x",
        "outputId": "8e8bc97b-fdb9-4b7f-efcb-a068ce62430c"
      },
      "execution_count": 10,
      "outputs": [
        {
          "output_type": "execute_result",
          "data": {
            "text/plain": [
              "{'product': 'Laptop',\n",
              " 'category': 'Electronics',\n",
              " 'quantity': 5,\n",
              " 'price': 999.99}"
            ]
          },
          "metadata": {},
          "execution_count": 10
        }
      ]
    },
    {
      "cell_type": "code",
      "source": [
        "type(sale)"
      ],
      "metadata": {
        "colab": {
          "base_uri": "https://localhost:8080/",
          "height": 186
        },
        "id": "yflaqRAFb3Yp",
        "outputId": "6e71d9d3-728a-489b-eed3-e408785e5998"
      },
      "execution_count": 11,
      "outputs": [
        {
          "output_type": "execute_result",
          "data": {
            "text/plain": [
              "__main__.Sale"
            ],
            "text/html": [
              "<div style=\"max-width:800px; border: 1px solid var(--colab-border-color);\"><style>\n",
              "      pre.function-repr-contents {\n",
              "        overflow-x: auto;\n",
              "        padding: 8px 12px;\n",
              "        max-height: 500px;\n",
              "      }\n",
              "\n",
              "      pre.function-repr-contents.function-repr-contents-collapsed {\n",
              "        cursor: pointer;\n",
              "        max-height: 100px;\n",
              "      }\n",
              "    </style>\n",
              "    <pre style=\"white-space: initial; background:\n",
              "         var(--colab-secondary-surface-color); padding: 8px 12px;\n",
              "         border-bottom: 1px solid var(--colab-border-color);\"><b>Sale</b><br/>def __init__(self, /, **data: Any) -&gt; None</pre><pre class=\"function-repr-contents function-repr-contents-collapsed\" style=\"\"><a class=\"filepath\" style=\"display:none\" href=\"#\"></a>Usage docs: https://docs.pydantic.dev/2.9/concepts/models/\n",
              "\n",
              "A base class for creating Pydantic models.\n",
              "\n",
              "Attributes:\n",
              "    __class_vars__: The names of the class variables defined on the model.\n",
              "    __private_attributes__: Metadata about the private attributes of the model.\n",
              "    __signature__: The synthesized `__init__` [`Signature`][inspect.Signature] of the model.\n",
              "\n",
              "    __pydantic_complete__: Whether model building is completed, or if there are still undefined fields.\n",
              "    __pydantic_core_schema__: The core schema of the model.\n",
              "    __pydantic_custom_init__: Whether the model has a custom `__init__` function.\n",
              "    __pydantic_decorators__: Metadata containing the decorators defined on the model.\n",
              "        This replaces `Model.__validators__` and `Model.__root_validators__` from Pydantic V1.\n",
              "    __pydantic_generic_metadata__: Metadata for generic models; contains data used for a similar purpose to\n",
              "        __args__, __origin__, __parameters__ in typing-module generics. May eventually be replaced by these.\n",
              "    __pydantic_parent_namespace__: Parent namespace of the model, used for automatic rebuilding of models.\n",
              "    __pydantic_post_init__: The name of the post-init method for the model, if defined.\n",
              "    __pydantic_root_model__: Whether the model is a [`RootModel`][pydantic.root_model.RootModel].\n",
              "    __pydantic_serializer__: The `pydantic-core` `SchemaSerializer` used to dump instances of the model.\n",
              "    __pydantic_validator__: The `pydantic-core` `SchemaValidator` used to validate instances of the model.\n",
              "\n",
              "    __pydantic_extra__: A dictionary containing extra values, if [`extra`][pydantic.config.ConfigDict.extra]\n",
              "        is set to `&#x27;allow&#x27;`.\n",
              "    __pydantic_fields_set__: The names of fields explicitly set during instantiation.\n",
              "    __pydantic_private__: Values of private attributes set on the model instance.</pre></div>"
            ]
          },
          "metadata": {},
          "execution_count": 11
        }
      ]
    },
    {
      "cell_type": "code",
      "source": [
        "# 데이터 검증 및 접근\n",
        "print(sale.product)  # \"Laptop\""
      ],
      "metadata": {
        "colab": {
          "base_uri": "https://localhost:8080/"
        },
        "id": "vmaxU3fNboBE",
        "outputId": "0cb330f5-7f4a-45f0-f03b-3fc3b3cce09c"
      },
      "execution_count": 13,
      "outputs": [
        {
          "output_type": "stream",
          "name": "stdout",
          "text": [
            "Laptop\n"
          ]
        }
      ]
    },
    {
      "cell_type": "code",
      "source": [
        "print(sale.dict())   # {\"product\": \"Laptop\", \"category\": \"Electronics\", \"quantity\": 5, \"price\": 999.99}"
      ],
      "metadata": {
        "colab": {
          "base_uri": "https://localhost:8080/"
        },
        "id": "X9udDIQ5bm2K",
        "outputId": "2ff96afc-0368-4744-e264-5b3f95f69427"
      },
      "execution_count": 14,
      "outputs": [
        {
          "output_type": "stream",
          "name": "stdout",
          "text": [
            "{'product': 'Laptop', 'category': 'Electronics', 'quantity': 5, 'price': 999.99}\n"
          ]
        }
      ]
    },
    {
      "cell_type": "code",
      "source": [
        "# 유효성 검사 예시 (유효하지 않은 데이터 입력)\n",
        "invalid_data = {\"product\": \"Laptop\", \"category\": \"Electronics\", \"quantity\": \"Five\", \"price\": 999.99}\n",
        "try:\n",
        "    sale = Sale(**invalid_data)  # 이 경우 자동으로 오류가 발생합니다 (quantity는 정수여야 합니다)\n",
        "except Exception as e:\n",
        "    print(e)"
      ],
      "metadata": {
        "colab": {
          "base_uri": "https://localhost:8080/"
        },
        "id": "7uG0njAJbyGu",
        "outputId": "7337013b-0fc8-49c1-c0a7-af75a15ab899"
      },
      "execution_count": 15,
      "outputs": [
        {
          "output_type": "stream",
          "name": "stdout",
          "text": [
            "1 validation error for Sale\n",
            "quantity\n",
            "  Input should be a valid integer, unable to parse string as an integer [type=int_parsing, input_value='Five', input_type=str]\n",
            "    For further information visit https://errors.pydantic.dev/2.9/v/int_parsing\n"
          ]
        }
      ]
    },
    {
      "cell_type": "markdown",
      "source": [
        "## **Class로 데이터 정의**"
      ],
      "metadata": {
        "id": "8b6hYrbGNYda"
      }
    },
    {
      "cell_type": "code",
      "source": [
        "class Sale:\n",
        "    def __init__(self, product, category, quantity, price):\n",
        "        self.product = product\n",
        "        self.category = category\n",
        "        self.quantity = quantity\n",
        "        self.price = price\n",
        "\n",
        "# 데이터 인스턴스 생성\n",
        "sale = Sale(\"Laptop\", \"Electronics\", 5, 999.99)\n",
        "\n",
        "# 데이터 접근\n",
        "print(sale.product)  # \"Laptop\""
      ],
      "metadata": {
        "colab": {
          "base_uri": "https://localhost:8080/"
        },
        "id": "XCv2rci5yL5D",
        "outputId": "c52949c9-26a7-4eed-808e-d0fd84bb0b8f"
      },
      "execution_count": 16,
      "outputs": [
        {
          "output_type": "stream",
          "name": "stdout",
          "text": [
            "Laptop\n"
          ]
        }
      ]
    },
    {
      "cell_type": "code",
      "source": [
        "sale"
      ],
      "metadata": {
        "colab": {
          "base_uri": "https://localhost:8080/"
        },
        "id": "5Dmc0tAkcXB9",
        "outputId": "943df800-ad3c-4a7c-d923-e2bbcdc44a17"
      },
      "execution_count": 17,
      "outputs": [
        {
          "output_type": "execute_result",
          "data": {
            "text/plain": [
              "<__main__.Sale at 0x79fc382d90f0>"
            ]
          },
          "metadata": {},
          "execution_count": 17
        }
      ]
    },
    {
      "cell_type": "code",
      "source": [
        "\n",
        "print(vars(sale))    # {'product': 'Laptop', 'category': 'Electronics', 'quantity': 5, 'price': 999.99}\n"
      ],
      "metadata": {
        "colab": {
          "base_uri": "https://localhost:8080/"
        },
        "id": "9lVjOKqhcGlR",
        "outputId": "cd026bec-09ed-44fc-c23f-d38eb003c568"
      },
      "execution_count": 18,
      "outputs": [
        {
          "output_type": "stream",
          "name": "stdout",
          "text": [
            "{'product': 'Laptop', 'category': 'Electronics', 'quantity': 5, 'price': 999.99}\n"
          ]
        }
      ]
    },
    {
      "cell_type": "code",
      "source": [
        "\n",
        "# 유효성 검사 직접 구현\n",
        "invalid_data = Sale(\"Laptop\", \"Electronics\", \"Five\", 999.99)  # 이 경우 오류가 발생하지 않습니다\n"
      ],
      "metadata": {
        "id": "rP5UkINhcIrn"
      },
      "execution_count": 20,
      "outputs": []
    },
    {
      "cell_type": "markdown",
      "source": [
        "### **2. Typing**\n",
        "- Python의 typing 모듈은 타입 힌트를 제공하여 코드의 가독성과 안정성을 향상"
      ],
      "metadata": {
        "id": "E6cZJ74rf1x9"
      }
    },
    {
      "cell_type": "code",
      "source": [
        "\n",
        "from typing import List, Dict, Tuple\n",
        "\n",
        "# 함수가 문자열의 리스트를 입력받고, 정수를 반환\n",
        "def sum_lengths(strings: List[str]) -> int:\n",
        "    return sum(len(s) for s in strings)"
      ],
      "metadata": {
        "id": "l5DcM0sIf-Vd"
      },
      "execution_count": 21,
      "outputs": []
    },
    {
      "cell_type": "code",
      "source": [
        "sum_lengths('ancestor9')"
      ],
      "metadata": {
        "colab": {
          "base_uri": "https://localhost:8080/"
        },
        "id": "1WakRLSRgLVh",
        "outputId": "cc69f09a-2976-4383-8b38-487b7f02484e"
      },
      "execution_count": 22,
      "outputs": [
        {
          "output_type": "execute_result",
          "data": {
            "text/plain": [
              "9"
            ]
          },
          "metadata": {},
          "execution_count": 22
        }
      ]
    },
    {
      "cell_type": "code",
      "source": [
        "# 문자열과 정수의 튜플 리스트를 입력받아 딕셔너리를 반환\n",
        "def create_dict(pairs: List[Tuple[str, int]]) -> Dict[str, int]:\n",
        "    return {key: value for key, value in pairs}\n"
      ],
      "metadata": {
        "id": "J6ilCwN0gEUI"
      },
      "execution_count": 23,
      "outputs": []
    },
    {
      "cell_type": "code",
      "source": [
        "create_dict([('ancestor', 23)])"
      ],
      "metadata": {
        "colab": {
          "base_uri": "https://localhost:8080/"
        },
        "id": "WKiOM3umgRqn",
        "outputId": "8d9f4f62-f117-4afa-b923-4da525993414"
      },
      "execution_count": 24,
      "outputs": [
        {
          "output_type": "execute_result",
          "data": {
            "text/plain": [
              "{'ancestor': 23}"
            ]
          },
          "metadata": {},
          "execution_count": 24
        }
      ]
    },
    {
      "cell_type": "code",
      "source": [
        "create_dict([('ancestor9', 23), ('ancestor8', 33)])"
      ],
      "metadata": {
        "colab": {
          "base_uri": "https://localhost:8080/"
        },
        "id": "DNaoxb1kglu5",
        "outputId": "dfe7f89b-aaf0-423d-af26-4d6a110682bc"
      },
      "execution_count": 25,
      "outputs": [
        {
          "output_type": "execute_result",
          "data": {
            "text/plain": [
              "{'ancestor9': 23, 'ancestor8': 33}"
            ]
          },
          "metadata": {},
          "execution_count": 25
        }
      ]
    },
    {
      "cell_type": "code",
      "source": [
        "from typing import Union\n",
        "\n",
        "def process_number(value: Union[int, float]) -> float:\n",
        "    return value * 2.5"
      ],
      "metadata": {
        "id": "cQPZIOmvgxW3"
      },
      "execution_count": 26,
      "outputs": []
    },
    {
      "cell_type": "code",
      "source": [
        "process_number(10)"
      ],
      "metadata": {
        "colab": {
          "base_uri": "https://localhost:8080/"
        },
        "id": "V7_hcpHug0T_",
        "outputId": "974298ac-4ba4-4171-9cf7-96da2db0308a"
      },
      "execution_count": 27,
      "outputs": [
        {
          "output_type": "execute_result",
          "data": {
            "text/plain": [
              "25.0"
            ]
          },
          "metadata": {},
          "execution_count": 27
        }
      ]
    },
    {
      "cell_type": "code",
      "source": [
        "process_number(10.0)"
      ],
      "metadata": {
        "colab": {
          "base_uri": "https://localhost:8080/"
        },
        "id": "jcdSSLAjhDmQ",
        "outputId": "f3810288-352b-4c6b-b0ad-092eeec0fdef"
      },
      "execution_count": 28,
      "outputs": [
        {
          "output_type": "execute_result",
          "data": {
            "text/plain": [
              "25.0"
            ]
          },
          "metadata": {},
          "execution_count": 28
        }
      ]
    },
    {
      "cell_type": "markdown",
      "source": [
        "### **3. 예제**"
      ],
      "metadata": {
        "id": "5eF2x_pYyRqj"
      }
    },
    {
      "cell_type": "code",
      "source": [
        "from typing import List, Optional\n",
        "from pydantic import BaseModel\n",
        "\n",
        "# Pydantic 모델 정의\n",
        "class User(BaseModel):\n",
        "    id: int\n",
        "    name: str\n",
        "    email: str\n",
        "\n",
        "# 임시 데이터베이스로 사용할 리스트\n",
        "users_db: List[User] = []"
      ],
      "metadata": {
        "id": "vE0MJxeaeuRy"
      },
      "execution_count": 29,
      "outputs": []
    },
    {
      "cell_type": "markdown",
      "source": [
        "### create_user: 함수 이름으로, 사용자를 생성하는 역할\n",
        "- user: 함수의 매개변수로, 호출될 때 전달되어야 하는 입력 데이터로, u**ser가 함수에 전달되는 사용자 정보 객체**\n",
        "- User: user 매개변수가 기대하는 데이터 타입을 나타내며, Pydantic 모델 클래스로 사용자 정보를 정의하기 위해 id, name, email 속성을 가진 객체를 의미\n",
        "- 타입 힌트의 의미\n",
        "> - **타입 힌트 (user: User)**는 user 매개변수가 User 클래스의 인스턴스임을 명시\n",
        "이를 통해 create_user 함\n",
        "> - create_use라는 함수는 user라는 매개변수가 User 객체이고, 함수 호출 시 Pydantic은 이 매개변수로 전달되는 데이터를 검증\n",
        "> - create_user를 호출할 때는 아래와 같이 User 객체를 만들어 전달"
      ],
      "metadata": {
        "id": "EOTruyzrkVAO"
      }
    },
    {
      "cell_type": "code",
      "source": [
        "def create_user(user: User):\n",
        "    # 이메일 중복 검사\n",
        "    if any(existing_user.email == user.email for existing_user in users_db):\n",
        "        return {\"success\": False, \"message\": \"Email already registered\"}\n",
        "    users_db.append(user)\n",
        "    return {\"success\": True, \"user\": user}"
      ],
      "metadata": {
        "id": "0F4KJLGHkSFS"
      },
      "execution_count": 30,
      "outputs": []
    },
    {
      "cell_type": "code",
      "source": [
        "user_data= User(id = 100, name='ancestor9', email='zoro')\n",
        "user_data"
      ],
      "metadata": {
        "colab": {
          "base_uri": "https://localhost:8080/"
        },
        "id": "rTJz-ENhe9L3",
        "outputId": "d0880d40-7fa4-463d-ca8a-83bd209a0dc6"
      },
      "execution_count": 31,
      "outputs": [
        {
          "output_type": "execute_result",
          "data": {
            "text/plain": [
              "User(id=100, name='ancestor9', email='zoro')"
            ]
          },
          "metadata": {},
          "execution_count": 31
        }
      ]
    },
    {
      "cell_type": "code",
      "source": [
        "create_user(user_data)"
      ],
      "metadata": {
        "colab": {
          "base_uri": "https://localhost:8080/"
        },
        "id": "sJQwzrgEhgt0",
        "outputId": "f2d1b095-260f-41c5-a561-4f03f8817c43"
      },
      "execution_count": 32,
      "outputs": [
        {
          "output_type": "execute_result",
          "data": {
            "text/plain": [
              "{'success': True, 'user': User(id=100, name='ancestor9', email='zoro')}"
            ]
          },
          "metadata": {},
          "execution_count": 32
        }
      ]
    },
    {
      "cell_type": "code",
      "source": [
        "# prompt: faker로 100개 가상데이터(name과 email을 생성)를 User를 통해 만들어봐\n",
        "! pip install faker --quiet\n",
        "\n",
        "from faker import Faker\n",
        "\n",
        "fake = Faker()\n",
        "\n",
        "class User(BaseModel):\n",
        "    name: str\n",
        "    email: str\n",
        "\n",
        "users: List[User] = []\n",
        "\n",
        "for _ in range(100):\n",
        "    users.append(User(name=fake.name(),\n",
        "                      email=fake.email()))"
      ],
      "metadata": {
        "id": "o-c8A4wsh_A7",
        "colab": {
          "base_uri": "https://localhost:8080/"
        },
        "outputId": "bb3feced-6f1d-4339-df12-71ab156680cb"
      },
      "execution_count": 33,
      "outputs": [
        {
          "output_type": "stream",
          "name": "stdout",
          "text": [
            "\u001b[2K   \u001b[90m━━━━━━━━━━━━━━━━━━━━━━━━━━━━━━━━━━━━━━━━\u001b[0m \u001b[32m1.9/1.9 MB\u001b[0m \u001b[31m8.1 MB/s\u001b[0m eta \u001b[36m0:00:00\u001b[0m\n",
            "\u001b[?25h"
          ]
        }
      ]
    },
    {
      "cell_type": "code",
      "source": [
        "import pandas as pd\n",
        "pd.DataFrame(users)"
      ],
      "metadata": {
        "colab": {
          "base_uri": "https://localhost:8080/",
          "height": 423
        },
        "id": "wVKFijSiig2k",
        "outputId": "c9aa9402-e27e-4f94-bdab-598f936207ff"
      },
      "execution_count": 34,
      "outputs": [
        {
          "output_type": "execute_result",
          "data": {
            "text/plain": [
              "                            0                                      1\n",
              "0   (name, Cynthia Rodriguez)     (email, henrybrittany@example.net)\n",
              "1       (name, Gregory Doyle)       (email, garciajames@example.com)\n",
              "2      (name, Kristina Scott)     (email, fishermichael@example.net)\n",
              "3      (name, Brandon Hodges)  (email, mcgrathalexandra@example.net)\n",
              "4    (name, Laura Wilkins MD)    (email, arnoldfernando@example.org)\n",
              "..                        ...                                    ...\n",
              "95      (name, Monica Bryant)           (email, susan49@example.com)\n",
              "96         (name, Jesse King)    (email, jeremiahfowler@example.org)\n",
              "97     (name, Randy Sheppard)           (email, kevin23@example.org)\n",
              "98    (name, Lucas Blackwell)       (email, rwilliamson@example.org)\n",
              "99      (name, Jordan Norris)         (email, suzanne00@example.org)\n",
              "\n",
              "[100 rows x 2 columns]"
            ],
            "text/html": [
              "\n",
              "  <div id=\"df-33e99bc2-0ed8-4944-8477-32e33e099161\" class=\"colab-df-container\">\n",
              "    <div>\n",
              "<style scoped>\n",
              "    .dataframe tbody tr th:only-of-type {\n",
              "        vertical-align: middle;\n",
              "    }\n",
              "\n",
              "    .dataframe tbody tr th {\n",
              "        vertical-align: top;\n",
              "    }\n",
              "\n",
              "    .dataframe thead th {\n",
              "        text-align: right;\n",
              "    }\n",
              "</style>\n",
              "<table border=\"1\" class=\"dataframe\">\n",
              "  <thead>\n",
              "    <tr style=\"text-align: right;\">\n",
              "      <th></th>\n",
              "      <th>0</th>\n",
              "      <th>1</th>\n",
              "    </tr>\n",
              "  </thead>\n",
              "  <tbody>\n",
              "    <tr>\n",
              "      <th>0</th>\n",
              "      <td>(name, Cynthia Rodriguez)</td>\n",
              "      <td>(email, henrybrittany@example.net)</td>\n",
              "    </tr>\n",
              "    <tr>\n",
              "      <th>1</th>\n",
              "      <td>(name, Gregory Doyle)</td>\n",
              "      <td>(email, garciajames@example.com)</td>\n",
              "    </tr>\n",
              "    <tr>\n",
              "      <th>2</th>\n",
              "      <td>(name, Kristina Scott)</td>\n",
              "      <td>(email, fishermichael@example.net)</td>\n",
              "    </tr>\n",
              "    <tr>\n",
              "      <th>3</th>\n",
              "      <td>(name, Brandon Hodges)</td>\n",
              "      <td>(email, mcgrathalexandra@example.net)</td>\n",
              "    </tr>\n",
              "    <tr>\n",
              "      <th>4</th>\n",
              "      <td>(name, Laura Wilkins MD)</td>\n",
              "      <td>(email, arnoldfernando@example.org)</td>\n",
              "    </tr>\n",
              "    <tr>\n",
              "      <th>...</th>\n",
              "      <td>...</td>\n",
              "      <td>...</td>\n",
              "    </tr>\n",
              "    <tr>\n",
              "      <th>95</th>\n",
              "      <td>(name, Monica Bryant)</td>\n",
              "      <td>(email, susan49@example.com)</td>\n",
              "    </tr>\n",
              "    <tr>\n",
              "      <th>96</th>\n",
              "      <td>(name, Jesse King)</td>\n",
              "      <td>(email, jeremiahfowler@example.org)</td>\n",
              "    </tr>\n",
              "    <tr>\n",
              "      <th>97</th>\n",
              "      <td>(name, Randy Sheppard)</td>\n",
              "      <td>(email, kevin23@example.org)</td>\n",
              "    </tr>\n",
              "    <tr>\n",
              "      <th>98</th>\n",
              "      <td>(name, Lucas Blackwell)</td>\n",
              "      <td>(email, rwilliamson@example.org)</td>\n",
              "    </tr>\n",
              "    <tr>\n",
              "      <th>99</th>\n",
              "      <td>(name, Jordan Norris)</td>\n",
              "      <td>(email, suzanne00@example.org)</td>\n",
              "    </tr>\n",
              "  </tbody>\n",
              "</table>\n",
              "<p>100 rows × 2 columns</p>\n",
              "</div>\n",
              "    <div class=\"colab-df-buttons\">\n",
              "\n",
              "  <div class=\"colab-df-container\">\n",
              "    <button class=\"colab-df-convert\" onclick=\"convertToInteractive('df-33e99bc2-0ed8-4944-8477-32e33e099161')\"\n",
              "            title=\"Convert this dataframe to an interactive table.\"\n",
              "            style=\"display:none;\">\n",
              "\n",
              "  <svg xmlns=\"http://www.w3.org/2000/svg\" height=\"24px\" viewBox=\"0 -960 960 960\">\n",
              "    <path d=\"M120-120v-720h720v720H120Zm60-500h600v-160H180v160Zm220 220h160v-160H400v160Zm0 220h160v-160H400v160ZM180-400h160v-160H180v160Zm440 0h160v-160H620v160ZM180-180h160v-160H180v160Zm440 0h160v-160H620v160Z\"/>\n",
              "  </svg>\n",
              "    </button>\n",
              "\n",
              "  <style>\n",
              "    .colab-df-container {\n",
              "      display:flex;\n",
              "      gap: 12px;\n",
              "    }\n",
              "\n",
              "    .colab-df-convert {\n",
              "      background-color: #E8F0FE;\n",
              "      border: none;\n",
              "      border-radius: 50%;\n",
              "      cursor: pointer;\n",
              "      display: none;\n",
              "      fill: #1967D2;\n",
              "      height: 32px;\n",
              "      padding: 0 0 0 0;\n",
              "      width: 32px;\n",
              "    }\n",
              "\n",
              "    .colab-df-convert:hover {\n",
              "      background-color: #E2EBFA;\n",
              "      box-shadow: 0px 1px 2px rgba(60, 64, 67, 0.3), 0px 1px 3px 1px rgba(60, 64, 67, 0.15);\n",
              "      fill: #174EA6;\n",
              "    }\n",
              "\n",
              "    .colab-df-buttons div {\n",
              "      margin-bottom: 4px;\n",
              "    }\n",
              "\n",
              "    [theme=dark] .colab-df-convert {\n",
              "      background-color: #3B4455;\n",
              "      fill: #D2E3FC;\n",
              "    }\n",
              "\n",
              "    [theme=dark] .colab-df-convert:hover {\n",
              "      background-color: #434B5C;\n",
              "      box-shadow: 0px 1px 3px 1px rgba(0, 0, 0, 0.15);\n",
              "      filter: drop-shadow(0px 1px 2px rgba(0, 0, 0, 0.3));\n",
              "      fill: #FFFFFF;\n",
              "    }\n",
              "  </style>\n",
              "\n",
              "    <script>\n",
              "      const buttonEl =\n",
              "        document.querySelector('#df-33e99bc2-0ed8-4944-8477-32e33e099161 button.colab-df-convert');\n",
              "      buttonEl.style.display =\n",
              "        google.colab.kernel.accessAllowed ? 'block' : 'none';\n",
              "\n",
              "      async function convertToInteractive(key) {\n",
              "        const element = document.querySelector('#df-33e99bc2-0ed8-4944-8477-32e33e099161');\n",
              "        const dataTable =\n",
              "          await google.colab.kernel.invokeFunction('convertToInteractive',\n",
              "                                                    [key], {});\n",
              "        if (!dataTable) return;\n",
              "\n",
              "        const docLinkHtml = 'Like what you see? Visit the ' +\n",
              "          '<a target=\"_blank\" href=https://colab.research.google.com/notebooks/data_table.ipynb>data table notebook</a>'\n",
              "          + ' to learn more about interactive tables.';\n",
              "        element.innerHTML = '';\n",
              "        dataTable['output_type'] = 'display_data';\n",
              "        await google.colab.output.renderOutput(dataTable, element);\n",
              "        const docLink = document.createElement('div');\n",
              "        docLink.innerHTML = docLinkHtml;\n",
              "        element.appendChild(docLink);\n",
              "      }\n",
              "    </script>\n",
              "  </div>\n",
              "\n",
              "\n",
              "<div id=\"df-fa57e532-35d4-4fba-ae56-9df312746b9b\">\n",
              "  <button class=\"colab-df-quickchart\" onclick=\"quickchart('df-fa57e532-35d4-4fba-ae56-9df312746b9b')\"\n",
              "            title=\"Suggest charts\"\n",
              "            style=\"display:none;\">\n",
              "\n",
              "<svg xmlns=\"http://www.w3.org/2000/svg\" height=\"24px\"viewBox=\"0 0 24 24\"\n",
              "     width=\"24px\">\n",
              "    <g>\n",
              "        <path d=\"M19 3H5c-1.1 0-2 .9-2 2v14c0 1.1.9 2 2 2h14c1.1 0 2-.9 2-2V5c0-1.1-.9-2-2-2zM9 17H7v-7h2v7zm4 0h-2V7h2v10zm4 0h-2v-4h2v4z\"/>\n",
              "    </g>\n",
              "</svg>\n",
              "  </button>\n",
              "\n",
              "<style>\n",
              "  .colab-df-quickchart {\n",
              "      --bg-color: #E8F0FE;\n",
              "      --fill-color: #1967D2;\n",
              "      --hover-bg-color: #E2EBFA;\n",
              "      --hover-fill-color: #174EA6;\n",
              "      --disabled-fill-color: #AAA;\n",
              "      --disabled-bg-color: #DDD;\n",
              "  }\n",
              "\n",
              "  [theme=dark] .colab-df-quickchart {\n",
              "      --bg-color: #3B4455;\n",
              "      --fill-color: #D2E3FC;\n",
              "      --hover-bg-color: #434B5C;\n",
              "      --hover-fill-color: #FFFFFF;\n",
              "      --disabled-bg-color: #3B4455;\n",
              "      --disabled-fill-color: #666;\n",
              "  }\n",
              "\n",
              "  .colab-df-quickchart {\n",
              "    background-color: var(--bg-color);\n",
              "    border: none;\n",
              "    border-radius: 50%;\n",
              "    cursor: pointer;\n",
              "    display: none;\n",
              "    fill: var(--fill-color);\n",
              "    height: 32px;\n",
              "    padding: 0;\n",
              "    width: 32px;\n",
              "  }\n",
              "\n",
              "  .colab-df-quickchart:hover {\n",
              "    background-color: var(--hover-bg-color);\n",
              "    box-shadow: 0 1px 2px rgba(60, 64, 67, 0.3), 0 1px 3px 1px rgba(60, 64, 67, 0.15);\n",
              "    fill: var(--button-hover-fill-color);\n",
              "  }\n",
              "\n",
              "  .colab-df-quickchart-complete:disabled,\n",
              "  .colab-df-quickchart-complete:disabled:hover {\n",
              "    background-color: var(--disabled-bg-color);\n",
              "    fill: var(--disabled-fill-color);\n",
              "    box-shadow: none;\n",
              "  }\n",
              "\n",
              "  .colab-df-spinner {\n",
              "    border: 2px solid var(--fill-color);\n",
              "    border-color: transparent;\n",
              "    border-bottom-color: var(--fill-color);\n",
              "    animation:\n",
              "      spin 1s steps(1) infinite;\n",
              "  }\n",
              "\n",
              "  @keyframes spin {\n",
              "    0% {\n",
              "      border-color: transparent;\n",
              "      border-bottom-color: var(--fill-color);\n",
              "      border-left-color: var(--fill-color);\n",
              "    }\n",
              "    20% {\n",
              "      border-color: transparent;\n",
              "      border-left-color: var(--fill-color);\n",
              "      border-top-color: var(--fill-color);\n",
              "    }\n",
              "    30% {\n",
              "      border-color: transparent;\n",
              "      border-left-color: var(--fill-color);\n",
              "      border-top-color: var(--fill-color);\n",
              "      border-right-color: var(--fill-color);\n",
              "    }\n",
              "    40% {\n",
              "      border-color: transparent;\n",
              "      border-right-color: var(--fill-color);\n",
              "      border-top-color: var(--fill-color);\n",
              "    }\n",
              "    60% {\n",
              "      border-color: transparent;\n",
              "      border-right-color: var(--fill-color);\n",
              "    }\n",
              "    80% {\n",
              "      border-color: transparent;\n",
              "      border-right-color: var(--fill-color);\n",
              "      border-bottom-color: var(--fill-color);\n",
              "    }\n",
              "    90% {\n",
              "      border-color: transparent;\n",
              "      border-bottom-color: var(--fill-color);\n",
              "    }\n",
              "  }\n",
              "</style>\n",
              "\n",
              "  <script>\n",
              "    async function quickchart(key) {\n",
              "      const quickchartButtonEl =\n",
              "        document.querySelector('#' + key + ' button');\n",
              "      quickchartButtonEl.disabled = true;  // To prevent multiple clicks.\n",
              "      quickchartButtonEl.classList.add('colab-df-spinner');\n",
              "      try {\n",
              "        const charts = await google.colab.kernel.invokeFunction(\n",
              "            'suggestCharts', [key], {});\n",
              "      } catch (error) {\n",
              "        console.error('Error during call to suggestCharts:', error);\n",
              "      }\n",
              "      quickchartButtonEl.classList.remove('colab-df-spinner');\n",
              "      quickchartButtonEl.classList.add('colab-df-quickchart-complete');\n",
              "    }\n",
              "    (() => {\n",
              "      let quickchartButtonEl =\n",
              "        document.querySelector('#df-fa57e532-35d4-4fba-ae56-9df312746b9b button');\n",
              "      quickchartButtonEl.style.display =\n",
              "        google.colab.kernel.accessAllowed ? 'block' : 'none';\n",
              "    })();\n",
              "  </script>\n",
              "</div>\n",
              "\n",
              "    </div>\n",
              "  </div>\n"
            ],
            "application/vnd.google.colaboratory.intrinsic+json": {
              "type": "dataframe",
              "summary": "{\n  \"name\": \"pd\",\n  \"rows\": 100,\n  \"fields\": [\n    {\n      \"column\": 0,\n      \"properties\": {\n        \"dtype\": \"string\",\n        \"num_unique_values\": 100,\n        \"samples\": [\n          [\n            \"name\",\n            \"Andrew Walton\"\n          ],\n          [\n            \"name\",\n            \"Charles Jones\"\n          ],\n          [\n            \"name\",\n            \"Robert Haney\"\n          ]\n        ],\n        \"semantic_type\": \"\",\n        \"description\": \"\"\n      }\n    },\n    {\n      \"column\": 1,\n      \"properties\": {\n        \"dtype\": \"string\",\n        \"num_unique_values\": 100,\n        \"samples\": [\n          [\n            \"email\",\n            \"seanjones@example.net\"\n          ],\n          [\n            \"email\",\n            \"ernest75@example.com\"\n          ],\n          [\n            \"email\",\n            \"moorejohn@example.net\"\n          ]\n        ],\n        \"semantic_type\": \"\",\n        \"description\": \"\"\n      }\n    }\n  ]\n}"
            }
          },
          "metadata": {},
          "execution_count": 34
        }
      ]
    },
    {
      "cell_type": "code",
      "source": [
        "[user.dict() for user in users][:10]"
      ],
      "metadata": {
        "colab": {
          "base_uri": "https://localhost:8080/"
        },
        "id": "_HztLwjnjsTo",
        "outputId": "0ef96763-714c-4583-ee83-459358241b64"
      },
      "execution_count": 35,
      "outputs": [
        {
          "output_type": "execute_result",
          "data": {
            "text/plain": [
              "[{'name': 'Cynthia Rodriguez', 'email': 'henrybrittany@example.net'},\n",
              " {'name': 'Gregory Doyle', 'email': 'garciajames@example.com'},\n",
              " {'name': 'Kristina Scott', 'email': 'fishermichael@example.net'},\n",
              " {'name': 'Brandon Hodges', 'email': 'mcgrathalexandra@example.net'},\n",
              " {'name': 'Laura Wilkins MD', 'email': 'arnoldfernando@example.org'},\n",
              " {'name': 'David Kramer Jr.', 'email': 'tyler30@example.net'},\n",
              " {'name': 'Andrew Ramirez', 'email': 'reyesterrence@example.net'},\n",
              " {'name': 'David King', 'email': 'jeffreyskinner@example.com'},\n",
              " {'name': 'Joseph Williams', 'email': 'kevin73@example.com'},\n",
              " {'name': 'Todd Green', 'email': 'owatson@example.com'}]"
            ]
          },
          "metadata": {},
          "execution_count": 35
        }
      ]
    },
    {
      "cell_type": "code",
      "source": [
        "pd.DataFrame([user.dict() for user in users])"
      ],
      "metadata": {
        "colab": {
          "base_uri": "https://localhost:8080/",
          "height": 423
        },
        "id": "E3kSW2aLjGoc",
        "outputId": "db81d33b-fd29-45b8-f211-fc938a867f19"
      },
      "execution_count": 36,
      "outputs": [
        {
          "output_type": "execute_result",
          "data": {
            "text/plain": [
              "                 name                         email\n",
              "0   Cynthia Rodriguez     henrybrittany@example.net\n",
              "1       Gregory Doyle       garciajames@example.com\n",
              "2      Kristina Scott     fishermichael@example.net\n",
              "3      Brandon Hodges  mcgrathalexandra@example.net\n",
              "4    Laura Wilkins MD    arnoldfernando@example.org\n",
              "..                ...                           ...\n",
              "95      Monica Bryant           susan49@example.com\n",
              "96         Jesse King    jeremiahfowler@example.org\n",
              "97     Randy Sheppard           kevin23@example.org\n",
              "98    Lucas Blackwell       rwilliamson@example.org\n",
              "99      Jordan Norris         suzanne00@example.org\n",
              "\n",
              "[100 rows x 2 columns]"
            ],
            "text/html": [
              "\n",
              "  <div id=\"df-33f3448b-6d32-4163-8fd6-72bcece38fc7\" class=\"colab-df-container\">\n",
              "    <div>\n",
              "<style scoped>\n",
              "    .dataframe tbody tr th:only-of-type {\n",
              "        vertical-align: middle;\n",
              "    }\n",
              "\n",
              "    .dataframe tbody tr th {\n",
              "        vertical-align: top;\n",
              "    }\n",
              "\n",
              "    .dataframe thead th {\n",
              "        text-align: right;\n",
              "    }\n",
              "</style>\n",
              "<table border=\"1\" class=\"dataframe\">\n",
              "  <thead>\n",
              "    <tr style=\"text-align: right;\">\n",
              "      <th></th>\n",
              "      <th>name</th>\n",
              "      <th>email</th>\n",
              "    </tr>\n",
              "  </thead>\n",
              "  <tbody>\n",
              "    <tr>\n",
              "      <th>0</th>\n",
              "      <td>Cynthia Rodriguez</td>\n",
              "      <td>henrybrittany@example.net</td>\n",
              "    </tr>\n",
              "    <tr>\n",
              "      <th>1</th>\n",
              "      <td>Gregory Doyle</td>\n",
              "      <td>garciajames@example.com</td>\n",
              "    </tr>\n",
              "    <tr>\n",
              "      <th>2</th>\n",
              "      <td>Kristina Scott</td>\n",
              "      <td>fishermichael@example.net</td>\n",
              "    </tr>\n",
              "    <tr>\n",
              "      <th>3</th>\n",
              "      <td>Brandon Hodges</td>\n",
              "      <td>mcgrathalexandra@example.net</td>\n",
              "    </tr>\n",
              "    <tr>\n",
              "      <th>4</th>\n",
              "      <td>Laura Wilkins MD</td>\n",
              "      <td>arnoldfernando@example.org</td>\n",
              "    </tr>\n",
              "    <tr>\n",
              "      <th>...</th>\n",
              "      <td>...</td>\n",
              "      <td>...</td>\n",
              "    </tr>\n",
              "    <tr>\n",
              "      <th>95</th>\n",
              "      <td>Monica Bryant</td>\n",
              "      <td>susan49@example.com</td>\n",
              "    </tr>\n",
              "    <tr>\n",
              "      <th>96</th>\n",
              "      <td>Jesse King</td>\n",
              "      <td>jeremiahfowler@example.org</td>\n",
              "    </tr>\n",
              "    <tr>\n",
              "      <th>97</th>\n",
              "      <td>Randy Sheppard</td>\n",
              "      <td>kevin23@example.org</td>\n",
              "    </tr>\n",
              "    <tr>\n",
              "      <th>98</th>\n",
              "      <td>Lucas Blackwell</td>\n",
              "      <td>rwilliamson@example.org</td>\n",
              "    </tr>\n",
              "    <tr>\n",
              "      <th>99</th>\n",
              "      <td>Jordan Norris</td>\n",
              "      <td>suzanne00@example.org</td>\n",
              "    </tr>\n",
              "  </tbody>\n",
              "</table>\n",
              "<p>100 rows × 2 columns</p>\n",
              "</div>\n",
              "    <div class=\"colab-df-buttons\">\n",
              "\n",
              "  <div class=\"colab-df-container\">\n",
              "    <button class=\"colab-df-convert\" onclick=\"convertToInteractive('df-33f3448b-6d32-4163-8fd6-72bcece38fc7')\"\n",
              "            title=\"Convert this dataframe to an interactive table.\"\n",
              "            style=\"display:none;\">\n",
              "\n",
              "  <svg xmlns=\"http://www.w3.org/2000/svg\" height=\"24px\" viewBox=\"0 -960 960 960\">\n",
              "    <path d=\"M120-120v-720h720v720H120Zm60-500h600v-160H180v160Zm220 220h160v-160H400v160Zm0 220h160v-160H400v160ZM180-400h160v-160H180v160Zm440 0h160v-160H620v160ZM180-180h160v-160H180v160Zm440 0h160v-160H620v160Z\"/>\n",
              "  </svg>\n",
              "    </button>\n",
              "\n",
              "  <style>\n",
              "    .colab-df-container {\n",
              "      display:flex;\n",
              "      gap: 12px;\n",
              "    }\n",
              "\n",
              "    .colab-df-convert {\n",
              "      background-color: #E8F0FE;\n",
              "      border: none;\n",
              "      border-radius: 50%;\n",
              "      cursor: pointer;\n",
              "      display: none;\n",
              "      fill: #1967D2;\n",
              "      height: 32px;\n",
              "      padding: 0 0 0 0;\n",
              "      width: 32px;\n",
              "    }\n",
              "\n",
              "    .colab-df-convert:hover {\n",
              "      background-color: #E2EBFA;\n",
              "      box-shadow: 0px 1px 2px rgba(60, 64, 67, 0.3), 0px 1px 3px 1px rgba(60, 64, 67, 0.15);\n",
              "      fill: #174EA6;\n",
              "    }\n",
              "\n",
              "    .colab-df-buttons div {\n",
              "      margin-bottom: 4px;\n",
              "    }\n",
              "\n",
              "    [theme=dark] .colab-df-convert {\n",
              "      background-color: #3B4455;\n",
              "      fill: #D2E3FC;\n",
              "    }\n",
              "\n",
              "    [theme=dark] .colab-df-convert:hover {\n",
              "      background-color: #434B5C;\n",
              "      box-shadow: 0px 1px 3px 1px rgba(0, 0, 0, 0.15);\n",
              "      filter: drop-shadow(0px 1px 2px rgba(0, 0, 0, 0.3));\n",
              "      fill: #FFFFFF;\n",
              "    }\n",
              "  </style>\n",
              "\n",
              "    <script>\n",
              "      const buttonEl =\n",
              "        document.querySelector('#df-33f3448b-6d32-4163-8fd6-72bcece38fc7 button.colab-df-convert');\n",
              "      buttonEl.style.display =\n",
              "        google.colab.kernel.accessAllowed ? 'block' : 'none';\n",
              "\n",
              "      async function convertToInteractive(key) {\n",
              "        const element = document.querySelector('#df-33f3448b-6d32-4163-8fd6-72bcece38fc7');\n",
              "        const dataTable =\n",
              "          await google.colab.kernel.invokeFunction('convertToInteractive',\n",
              "                                                    [key], {});\n",
              "        if (!dataTable) return;\n",
              "\n",
              "        const docLinkHtml = 'Like what you see? Visit the ' +\n",
              "          '<a target=\"_blank\" href=https://colab.research.google.com/notebooks/data_table.ipynb>data table notebook</a>'\n",
              "          + ' to learn more about interactive tables.';\n",
              "        element.innerHTML = '';\n",
              "        dataTable['output_type'] = 'display_data';\n",
              "        await google.colab.output.renderOutput(dataTable, element);\n",
              "        const docLink = document.createElement('div');\n",
              "        docLink.innerHTML = docLinkHtml;\n",
              "        element.appendChild(docLink);\n",
              "      }\n",
              "    </script>\n",
              "  </div>\n",
              "\n",
              "\n",
              "<div id=\"df-2951c1b8-519c-4a04-8bf8-ccd3501a904a\">\n",
              "  <button class=\"colab-df-quickchart\" onclick=\"quickchart('df-2951c1b8-519c-4a04-8bf8-ccd3501a904a')\"\n",
              "            title=\"Suggest charts\"\n",
              "            style=\"display:none;\">\n",
              "\n",
              "<svg xmlns=\"http://www.w3.org/2000/svg\" height=\"24px\"viewBox=\"0 0 24 24\"\n",
              "     width=\"24px\">\n",
              "    <g>\n",
              "        <path d=\"M19 3H5c-1.1 0-2 .9-2 2v14c0 1.1.9 2 2 2h14c1.1 0 2-.9 2-2V5c0-1.1-.9-2-2-2zM9 17H7v-7h2v7zm4 0h-2V7h2v10zm4 0h-2v-4h2v4z\"/>\n",
              "    </g>\n",
              "</svg>\n",
              "  </button>\n",
              "\n",
              "<style>\n",
              "  .colab-df-quickchart {\n",
              "      --bg-color: #E8F0FE;\n",
              "      --fill-color: #1967D2;\n",
              "      --hover-bg-color: #E2EBFA;\n",
              "      --hover-fill-color: #174EA6;\n",
              "      --disabled-fill-color: #AAA;\n",
              "      --disabled-bg-color: #DDD;\n",
              "  }\n",
              "\n",
              "  [theme=dark] .colab-df-quickchart {\n",
              "      --bg-color: #3B4455;\n",
              "      --fill-color: #D2E3FC;\n",
              "      --hover-bg-color: #434B5C;\n",
              "      --hover-fill-color: #FFFFFF;\n",
              "      --disabled-bg-color: #3B4455;\n",
              "      --disabled-fill-color: #666;\n",
              "  }\n",
              "\n",
              "  .colab-df-quickchart {\n",
              "    background-color: var(--bg-color);\n",
              "    border: none;\n",
              "    border-radius: 50%;\n",
              "    cursor: pointer;\n",
              "    display: none;\n",
              "    fill: var(--fill-color);\n",
              "    height: 32px;\n",
              "    padding: 0;\n",
              "    width: 32px;\n",
              "  }\n",
              "\n",
              "  .colab-df-quickchart:hover {\n",
              "    background-color: var(--hover-bg-color);\n",
              "    box-shadow: 0 1px 2px rgba(60, 64, 67, 0.3), 0 1px 3px 1px rgba(60, 64, 67, 0.15);\n",
              "    fill: var(--button-hover-fill-color);\n",
              "  }\n",
              "\n",
              "  .colab-df-quickchart-complete:disabled,\n",
              "  .colab-df-quickchart-complete:disabled:hover {\n",
              "    background-color: var(--disabled-bg-color);\n",
              "    fill: var(--disabled-fill-color);\n",
              "    box-shadow: none;\n",
              "  }\n",
              "\n",
              "  .colab-df-spinner {\n",
              "    border: 2px solid var(--fill-color);\n",
              "    border-color: transparent;\n",
              "    border-bottom-color: var(--fill-color);\n",
              "    animation:\n",
              "      spin 1s steps(1) infinite;\n",
              "  }\n",
              "\n",
              "  @keyframes spin {\n",
              "    0% {\n",
              "      border-color: transparent;\n",
              "      border-bottom-color: var(--fill-color);\n",
              "      border-left-color: var(--fill-color);\n",
              "    }\n",
              "    20% {\n",
              "      border-color: transparent;\n",
              "      border-left-color: var(--fill-color);\n",
              "      border-top-color: var(--fill-color);\n",
              "    }\n",
              "    30% {\n",
              "      border-color: transparent;\n",
              "      border-left-color: var(--fill-color);\n",
              "      border-top-color: var(--fill-color);\n",
              "      border-right-color: var(--fill-color);\n",
              "    }\n",
              "    40% {\n",
              "      border-color: transparent;\n",
              "      border-right-color: var(--fill-color);\n",
              "      border-top-color: var(--fill-color);\n",
              "    }\n",
              "    60% {\n",
              "      border-color: transparent;\n",
              "      border-right-color: var(--fill-color);\n",
              "    }\n",
              "    80% {\n",
              "      border-color: transparent;\n",
              "      border-right-color: var(--fill-color);\n",
              "      border-bottom-color: var(--fill-color);\n",
              "    }\n",
              "    90% {\n",
              "      border-color: transparent;\n",
              "      border-bottom-color: var(--fill-color);\n",
              "    }\n",
              "  }\n",
              "</style>\n",
              "\n",
              "  <script>\n",
              "    async function quickchart(key) {\n",
              "      const quickchartButtonEl =\n",
              "        document.querySelector('#' + key + ' button');\n",
              "      quickchartButtonEl.disabled = true;  // To prevent multiple clicks.\n",
              "      quickchartButtonEl.classList.add('colab-df-spinner');\n",
              "      try {\n",
              "        const charts = await google.colab.kernel.invokeFunction(\n",
              "            'suggestCharts', [key], {});\n",
              "      } catch (error) {\n",
              "        console.error('Error during call to suggestCharts:', error);\n",
              "      }\n",
              "      quickchartButtonEl.classList.remove('colab-df-spinner');\n",
              "      quickchartButtonEl.classList.add('colab-df-quickchart-complete');\n",
              "    }\n",
              "    (() => {\n",
              "      let quickchartButtonEl =\n",
              "        document.querySelector('#df-2951c1b8-519c-4a04-8bf8-ccd3501a904a button');\n",
              "      quickchartButtonEl.style.display =\n",
              "        google.colab.kernel.accessAllowed ? 'block' : 'none';\n",
              "    })();\n",
              "  </script>\n",
              "</div>\n",
              "\n",
              "    </div>\n",
              "  </div>\n"
            ],
            "application/vnd.google.colaboratory.intrinsic+json": {
              "type": "dataframe",
              "summary": "{\n  \"name\": \"pd\",\n  \"rows\": 100,\n  \"fields\": [\n    {\n      \"column\": \"name\",\n      \"properties\": {\n        \"dtype\": \"string\",\n        \"num_unique_values\": 100,\n        \"samples\": [\n          \"Andrew Walton\",\n          \"Charles Jones\",\n          \"Robert Haney\"\n        ],\n        \"semantic_type\": \"\",\n        \"description\": \"\"\n      }\n    },\n    {\n      \"column\": \"email\",\n      \"properties\": {\n        \"dtype\": \"string\",\n        \"num_unique_values\": 100,\n        \"samples\": [\n          \"seanjones@example.net\",\n          \"ernest75@example.com\",\n          \"moorejohn@example.net\"\n        ],\n        \"semantic_type\": \"\",\n        \"description\": \"\"\n      }\n    }\n  ]\n}"
            }
          },
          "metadata": {},
          "execution_count": 36
        }
      ]
    },
    {
      "cell_type": "code",
      "source": [],
      "metadata": {
        "id": "DtYCoyNojp63"
      },
      "execution_count": null,
      "outputs": []
    }
  ]
}