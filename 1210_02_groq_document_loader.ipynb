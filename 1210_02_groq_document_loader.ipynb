{
  "nbformat": 4,
  "nbformat_minor": 0,
  "metadata": {
    "colab": {
      "provenance": [],
      "authorship_tag": "ABX9TyM/J9oSGnuXe6k8GyQFzEho",
      "include_colab_link": true
    },
    "kernelspec": {
      "name": "python3",
      "display_name": "Python 3"
    },
    "language_info": {
      "name": "python"
    }
  },
  "cells": [
    {
      "cell_type": "markdown",
      "metadata": {
        "id": "view-in-github",
        "colab_type": "text"
      },
      "source": [
        "<a href=\"https://colab.research.google.com/github/ancestor9/24_fall_textmining_NLP/blob/main/1210_02_groq_document_loader.ipynb\" target=\"_parent\"><img src=\"https://colab.research.google.com/assets/colab-badge.svg\" alt=\"Open In Colab\"/></a>"
      ]
    },
    {
      "cell_type": "markdown",
      "source": [
        "# **[Groq API](https://wikidocs.net/259655)**\n",
        "\n",
        "- https://console.groq.com/playground"
      ],
      "metadata": {
        "id": "UmjMoIobUZr7"
      }
    },
    {
      "cell_type": "code",
      "source": [
        "from google.colab import userdata\n",
        "groq_key = userdata.get('groq')"
      ],
      "metadata": {
        "id": "GuxZqRXkU-aA"
      },
      "execution_count": null,
      "outputs": []
    },
    {
      "cell_type": "code",
      "source": [
        "!pip install langchain-groq --quiet"
      ],
      "metadata": {
        "colab": {
          "base_uri": "https://localhost:8080/"
        },
        "id": "V-dOigfFVNyr",
        "outputId": "997f96d3-5a78-494a-d0f6-e208017ae7e4"
      },
      "execution_count": null,
      "outputs": [
        {
          "output_type": "stream",
          "name": "stdout",
          "text": [
            "\u001b[?25l   \u001b[90m━━━━━━━━━━━━━━━━━━━━━━━━━━━━━━━━━━━━━━━━\u001b[0m \u001b[32m0.0/108.8 kB\u001b[0m \u001b[31m?\u001b[0m eta \u001b[36m-:--:--\u001b[0m\r\u001b[2K   \u001b[90m━━━━━━━━━━━━━━━━━━━━━━━━━━━━━━━━━━━━━━━━\u001b[0m \u001b[32m108.8/108.8 kB\u001b[0m \u001b[31m2.9 MB/s\u001b[0m eta \u001b[36m0:00:00\u001b[0m\n",
            "\u001b[?25h"
          ]
        }
      ]
    },
    {
      "cell_type": "code",
      "execution_count": null,
      "metadata": {
        "id": "0ptXYOaAUUAR"
      },
      "outputs": [],
      "source": [
        "from langchain_groq import ChatGroq\n",
        "from langchain_core.prompts import ChatPromptTemplate\n",
        "\n",
        "# ChatGroq 모델 초기화\n",
        "llm = ChatGroq(\n",
        "    model=\"gemma2-9b-it\", # google/gemma-2-9b-it\n",
        "    temperature=0.7,\n",
        "    max_tokens=300,\n",
        "    api_key=groq_key\n",
        ")"
      ]
    },
    {
      "source": [
        "!pip install langchain-community --quiet # This line installs the necessary package.\n",
        "!pip install langchain --quiet # This line installs langchain (if not already installed)\n",
        "!pip install pypdf --quiet\n",
        "from langchain.document_loaders import PyPDFLoader"
      ],
      "cell_type": "code",
      "metadata": {
        "colab": {
          "base_uri": "https://localhost:8080/"
        },
        "id": "ucbqYPBKnpRn",
        "outputId": "0c85c740-7523-4d19-fd53-acc8b541cb4c"
      },
      "execution_count": null,
      "outputs": [
        {
          "output_type": "stream",
          "name": "stdout",
          "text": [
            "\u001b[2K   \u001b[90m━━━━━━━━━━━━━━━━━━━━━━━━━━━━━━━━━━━━━━━━\u001b[0m \u001b[32m2.4/2.4 MB\u001b[0m \u001b[31m25.9 MB/s\u001b[0m eta \u001b[36m0:00:00\u001b[0m\n",
            "\u001b[2K   \u001b[90m━━━━━━━━━━━━━━━━━━━━━━━━━━━━━━━━━━━━━━━━\u001b[0m \u001b[32m1.0/1.0 MB\u001b[0m \u001b[31m15.4 MB/s\u001b[0m eta \u001b[36m0:00:00\u001b[0m\n",
            "\u001b[2K   \u001b[90m━━━━━━━━━━━━━━━━━━━━━━━━━━━━━━━━━━━━━━━━\u001b[0m \u001b[32m409.5/409.5 kB\u001b[0m \u001b[31m10.2 MB/s\u001b[0m eta \u001b[36m0:00:00\u001b[0m\n",
            "\u001b[2K   \u001b[90m━━━━━━━━━━━━━━━━━━━━━━━━━━━━━━━━━━━━━━━━\u001b[0m \u001b[32m3.1/3.1 MB\u001b[0m \u001b[31m51.5 MB/s\u001b[0m eta \u001b[36m0:00:00\u001b[0m\n",
            "\u001b[2K   \u001b[90m━━━━━━━━━━━━━━━━━━━━━━━━━━━━━━━━━━━━━━━━\u001b[0m \u001b[32m49.5/49.5 kB\u001b[0m \u001b[31m3.0 MB/s\u001b[0m eta \u001b[36m0:00:00\u001b[0m\n",
            "\u001b[2K   \u001b[90m━━━━━━━━━━━━━━━━━━━━━━━━━━━━━━━━━━━━━━━━\u001b[0m \u001b[32m298.0/298.0 kB\u001b[0m \u001b[31m4.4 MB/s\u001b[0m eta \u001b[36m0:00:00\u001b[0m\n",
            "\u001b[?25h"
          ]
        }
      ]
    },
    {
      "cell_type": "markdown",
      "source": [
        "##  **[PDF 파일 다운로드](https://spri.kr/posts/view/23669)**"
      ],
      "metadata": {
        "id": "E9l8rIGdb1_0"
      }
    },
    {
      "source": [
        "# PDF 파일 로딩\n",
        "pdf_loader = PyPDFLoader(\"/content/SPRI_AI_Brief_2023년12월호_F.pdf\")  # \"example.pdf\" 파일을 로드하는 예시 코드입니다.\n",
        "documents = pdf_loader.load()  # PDF 파일을 Document 객체로 로드\n",
        "\n",
        "# Document 데이터를 기반으로 Groq 모델 사용\n",
        "prompt_template = ChatPromptTemplate.from_template(\"다음 문서를 요약하세요: {document}\")\n",
        "from langchain.schema import HumanMessage # Import HumanMessage\n",
        "for document in documents:\n",
        "    prompt = prompt_template.format(document=document.page_content)  # Access the page_content attribute\n",
        "    # Wrap the prompt in a HumanMessage\n",
        "    message = HumanMessage(content=prompt)\n",
        "    response = llm([message]) # Pass a list of messages to llm\n",
        "    print(response)  # Groq 모델의 응답 출력"
      ],
      "cell_type": "code",
      "metadata": {
        "colab": {
          "base_uri": "https://localhost:8080/"
        },
        "id": "wGFIdCLmoL76",
        "outputId": "f9d3e123-4b00-415c-fa97-e33414580791"
      },
      "execution_count": null,
      "outputs": [
        {
          "output_type": "stream",
          "name": "stderr",
          "text": [
            "<ipython-input-5-a00c0a6faf94>:12: LangChainDeprecationWarning: The method `BaseChatModel.__call__` was deprecated in langchain-core 0.1.7 and will be removed in 1.0. Use :meth:`~invoke` instead.\n",
            "  response = llm([message]) # Pass a list of messages to llm\n"
          ]
        },
        {
          "output_type": "stream",
          "name": "stdout",
          "text": [
            "content='죄송합니다. 저는 문서를 읽고 요약할 수 없습니다. 저는 텍스트를 생성하고 처리할 수 있는 대형 언어 모델이지만, 실제 파일을 열고 읽는 기능은 없습니다. \\n\\n단, 문서의 내용을 복사해서 제공해주시면 요약해 드릴 수 있습니다. \\n\\n' additional_kwargs={} response_metadata={'token_usage': {'completion_tokens': 77, 'prompt_tokens': 29, 'total_tokens': 106, 'completion_time': 0.14, 'prompt_time': 0.00018068, 'queue_time': 0.01346766, 'total_time': 0.14018068}, 'model_name': 'gemma2-9b-it', 'system_fingerprint': 'fp_10c08bf97d', 'finish_reason': 'stop', 'logprobs': None} id='run-94f89e8b-3079-41e4-8588-c43337efb9b7-0' usage_metadata={'input_tokens': 29, 'output_tokens': 77, 'total_tokens': 106}\n",
            "content='## 2023년 12월 인공지능 산업 동향 요약\\n\\n**1. 정책/법제:**\\n\\n* 미국은 AI 개발 및 사용 안전성을 위한 행정명령을 발표하고, G7는 AI 기업을 위한 국제 행동강령에 합의했습니다.\\n* 영국은 AI 안전성 정상회의를 개최하여 28개국과 함께 AI 위험에 대한 공동 대응을 선언했습니다.\\n* 미국 법원은 예술가들의 AI 기업에 대한 저작권 소송을 기각했고, 미국 연방거래위원회는 저작권청에 AI 관련 소비자 보호 및 경쟁 측면 의견서를 제출했습니다.\\n* EU AI 법 3자 협상은 기반모델 규제 관련 견해차로 어려움을 겪고 있습니다.\\n\\n**2. 기업/산업:**\\n\\n* 미국 프런티어 모델 포럼은 AI 안전을 위한 1,000만 달러 규모의 기금을 조성했습니다.\\n* 코히어는 데이터 출처 탐색기를 공개하여 데이터 투명성 확보를 위한 노력을 강화했습니다.\\n* 알리바바 클라우드, 삼성전자는 각각' additional_kwargs={} response_metadata={'token_usage': {'completion_tokens': 300, 'prompt_tokens': 885, 'total_tokens': 1185, 'completion_time': 0.545454545, 'prompt_time': 0.02820214, 'queue_time': 0.0030420099999999978, 'total_time': 0.573656685}, 'model_name': 'gemma2-9b-it', 'system_fingerprint': 'fp_10c08bf97d', 'finish_reason': 'length', 'logprobs': None} id='run-de7e8276-ccde-4b12-bb6f-819aee5da51b-0' usage_metadata={'input_tokens': 885, 'output_tokens': 300, 'total_tokens': 1185}\n",
            "content='문서가 제공되지 않았습니다. 인공지능 산업 동향 브리프를 요약해 드리기 위해서는 먼저 문서의 내용을 입력해주셔야 합니다. \\n\\n문서를 입력해주시면, 최대한 정확하고 간결하게 요약해 드리겠습니다. 😊 \\n' additional_kwargs={} response_metadata={'token_usage': {'completion_tokens': 74, 'prompt_tokens': 32, 'total_tokens': 106, 'completion_time': 0.134545455, 'prompt_time': 0.000303189, 'queue_time': 0.013662061, 'total_time': 0.134848644}, 'model_name': 'gemma2-9b-it', 'system_fingerprint': 'fp_10c08bf97d', 'finish_reason': 'stop', 'logprobs': None} id='run-08750828-a984-4a7c-b126-b42d930cd377-0' usage_metadata={'input_tokens': 32, 'output_tokens': 74, 'total_tokens': 106}\n",
            "content='## 바이든 행정명령: 안전하고 신뢰할 수 있는 AI 개발 및 사용을 위한 7가지 핵심 전략\\n\\n미국 바이든 대통령은 안전하고 신뢰할 수 있는 AI 개발과 사용을 보장하기 위해 2023년 10월 30일 행정명령을 발표했습니다. \\n\\n**핵심 내용은 다음 7가지입니다:**\\n\\n1. **AI 안전 및 보안 기준 마련:** 강력한 AI 시스템 개발 기업에게 안전 테스트 결과와 시스템 정보 공유 의무, AI 시스템 안전성 및 신뢰성 확인을 위한 표준 및 표시 표준 마련 추진. 특히 1026 FLOPS 이상의 컴퓨팅 성능을 갖춘 모델이나 1,000Gbit/s 이상 네트워킹을 사용하는 클러스터에게 정보 공유 요구.\\n2. **개인정보보호 강화:** AI 개발 및 사용 과정에서 개인정보 보호 기준 강화 및 개인정보 유출 방지 조치 강화.\\n3. **형평성 및 시민권 향상:** 법률, 주택, 보건 분야에서 AI의 무책임한 사용으로 인한 차별 및 편견 방지 조치 확대. 형' additional_kwargs={} response_metadata={'token_usage': {'completion_tokens': 300, 'prompt_tokens': 956, 'total_tokens': 1256, 'completion_time': 0.545454545, 'prompt_time': 0.030701742, 'queue_time': 0.003259917999999997, 'total_time': 0.576156287}, 'model_name': 'gemma2-9b-it', 'system_fingerprint': 'fp_10c08bf97d', 'finish_reason': 'length', 'logprobs': None} id='run-aab86ce9-980d-4fd3-9415-655a1224c535-0' usage_metadata={'input_tokens': 956, 'output_tokens': 300, 'total_tokens': 1256}\n",
            "content=\"G7 국가들은 2023년 10월 30일 '히로시마 AI 프로세스'를 통해 첨단 AI 시스템 개발 기업을 위한 **'AI 국제 행동강령'**에 합의했습니다. \\n\\n이 행동강령은 기업의 자발적 채택을 목표로 하며, **AI 수명주기 전반에 걸친 위험 평가 및 완화, 투명성과 책임성 보장, 정보 공유 및 이해관계자 협력, 보안 통제, 콘텐츠 인증 및 출처 확인 등**을 요구합니다.\\n\\nG7는 빠르게 발전하는 AI 기술에 대응하기 위해 **이 행동강령을 이해관계자 협의를 통한 개정**으로 지속적으로 발전시켜 나갈 계획입니다.\\n\\n\\n**핵심 내용:**\\n\\n* **위험 관리:** AI 수명주기 전반에 걸쳐 위험 평가 및 완화 조치 채택\\n* **투명성 및 책임성:** AI 시스템의 성능과 한계 공개, 적절한 사용 영역 제시\\n* **협력 및 정보 공유:** 산업계, 정부, 시민사회, 학계 간 정보 공유 및 위험 기반 접근 방식을 토대로 AI 거버넌스\" additional_kwargs={} response_metadata={'token_usage': {'completion_tokens': 300, 'prompt_tokens': 954, 'total_tokens': 1254, 'completion_time': 0.545454545, 'prompt_time': 0.039068882, 'queue_time': 0.0030036069999999984, 'total_time': 0.584523427}, 'model_name': 'gemma2-9b-it', 'system_fingerprint': 'fp_10c08bf97d', 'finish_reason': 'length', 'logprobs': None} id='run-bd564a87-603e-4cf8-a1e9-191fd70bc8b6-0' usage_metadata={'input_tokens': 954, 'output_tokens': 300, 'total_tokens': 1254}\n",
            "content='## 영국 AI 안전성 정상회의 주요 내용 요약\\n\\n**1. 정책/법제:**\\n\\n* 28개국 참석, AI 위험에 대한 공동 대응 선언(블레츨리 선언) 발표\\n* AI 안전 보장을 위해 국가, 국제기구, 기업, 시민사회, 학계 협력 강조\\n* 첨단 AI 개발 기업은 안전 평가 등 적절한 조치 취하여 AI 시스템 안전 책임짐\\n* 첨단 AI 개발 기업의 투명성 향상, 안전 평가지표 및 테스트 도구 개발, 공공부문 역량 구축 등 협력 분야 합의\\n\\n**2. 기업/산업:**\\n\\n* 첨단 AI 개발 기업은 안전 평가 포함한 적절한 조치 취해야 함\\n* 정부 주도의 외부 안전 테스트에 대한 합의 (영국 AI 안전 연구소 출범)\\n* 테스트 결과 공유 및 공동 표준 개발 노력\\n\\n**3. 기술/연구:**\\n\\n* 영국 AI 안전 연구소 출범, 첨단 AI 모델 안전성 시험 계획 수립 및 테스트 수행 주도\\n* 튜링상 수상자 요슈아 벤지오 교수 주' additional_kwargs={} response_metadata={'token_usage': {'completion_tokens': 300, 'prompt_tokens': 897, 'total_tokens': 1197, 'completion_time': 0.545454545, 'prompt_time': 0.050300182, 'queue_time': 0.031885458000000005, 'total_time': 0.595754727}, 'model_name': 'gemma2-9b-it', 'system_fingerprint': 'fp_10c08bf97d', 'finish_reason': 'length', 'logprobs': None} id='run-8884b673-876a-411a-91d8-7676c1843029-0' usage_metadata={'input_tokens': 897, 'output_tokens': 300, 'total_tokens': 1197}\n",
            "content='## 미국 법원, 예술가들의 AI 저작권 침해 소송 기각\\n\\n미국 캘리포니아 북부지방법원은 이미지 생성 AI 서비스 제공 기업 (미드저니, 스태빌리티AI, 디비언트아트)에 대한 예술가 3인의 저작권 침해 소송을 기각했습니다. \\n\\n**기각 사유:**\\n\\n* **저작권 미등록:** 소송을 제기한 캘리 맥커넌과 칼라 오르티즈는 작품에 대한 저작권을 미국 저작권청에 등록하지 않았습니다. 사라 앤더슨은 고소장에 언급된 수백 개 작품 중 16개 작품만 저작권을 보유하고 있습니다.\\n* **증거 부족:** 생성 AI 모델 훈련 데이터에 포함된 작품과 생성된 이미지 간의 실질적 유사성을 입증하기 어렵다는 점이 제기되었습니다. AI는 다양한 작품들을 참고하여 새로운 이미지를 생성하기 때문에 특정 작품과의 유사성을 입증하는 것이 어렵다는 판단입니다.\\n\\n**판결의  ramification:**\\n\\n* 판사는 원고 측이 소송을 수정하여 저작권이 침해된 특정 이미지를 중' additional_kwargs={} response_metadata={'token_usage': {'completion_tokens': 300, 'prompt_tokens': 862, 'total_tokens': 1162, 'completion_time': 0.545454545, 'prompt_time': 0.035708854, 'queue_time': 0.002746556000000004, 'total_time': 0.581163399}, 'model_name': 'gemma2-9b-it', 'system_fingerprint': 'fp_10c08bf97d', 'finish_reason': 'length', 'logprobs': None} id='run-1d4a0f0f-a877-4b84-a17e-c3c56125573f-0' usage_metadata={'input_tokens': 862, 'output_tokens': 300, 'total_tokens': 1162}\n",
            "content='## 미국 FTC, 생성 AI에 대한 소비자 보호와 경쟁 측면 의견서 제출\\n\\n**핵심 내용:**\\n\\n* 미국 연방거래위원회(FTC)는 저작권청이 발표한 저작권과 AI 관련 질의공고에 대한 의견서를 제출하며, 생성 AI로 인한 소비자, 창작자, 경쟁 시장에 미치는 영향에 대한 우려를 표명했습니다.\\n\\n**1. 정책/법제:**\\n\\n* FTC는 생성 AI의 개발과 배포가 소비자 개인정보 침해, 차별 및 편견 자동화, 사기 등의 위험을 초래할 수 있다고 지적하며, 저작권법에 대한 추가적인 규제 필요성을 강조했습니다.\\n* 특히, 생성 AI로 인해 창작자의 권리 침해 및 소비자의 오해 가능성을 제기하며, 불공정 경쟁, 기만 행위, 창작물 가치 저하 등의 문제 발생 가능성을 경고했습니다.\\n\\n**2. 기업/산업:**\\n\\n* FTC는 일부 빅테크 기업이 막대한 재원을 활용하여 생성 AI 시장을 장악하고 저작권이 있는 데이터에 대한 독점 라이선스를 확보하려는 경' additional_kwargs={} response_metadata={'token_usage': {'completion_tokens': 300, 'prompt_tokens': 962, 'total_tokens': 1262, 'completion_time': 0.545454545, 'prompt_time': 0.031000211, 'queue_time': 0.003157699, 'total_time': 0.576454756}, 'model_name': 'gemma2-9b-it', 'system_fingerprint': 'fp_10c08bf97d', 'finish_reason': 'length', 'logprobs': None} id='run-971594d2-a3dd-405f-93a8-24461db386b2-0' usage_metadata={'input_tokens': 962, 'output_tokens': 300, 'total_tokens': 1262}\n",
            "content=\"EU의 AI 법 최종협상에서 기반모델 규제가 핵심 쟁점으로 난항을 겪고 있습니다. 유럽의회, 집행위원회, 이사회는 강력한 AI 모델에 대한 규제 강화를 주장하는 반면, 프랑스, 독일, 이탈리아는 기반모델 전반에 대한 규제에 반대하고 있습니다. \\n\\n이들 국가는 기반모델 개발기업에 자발적인 행동강령 준수를 의무화하는 방안을 제시하며, 기반모델의 기능과 한계를 요약한 '모델 카드' 작성을 요구합니다. AI 감독기관은 모델 카드를 토대로 행동강령 준수 여부를 확인하고 위반 시 영향 평가 후 제재하는 방식을 제안했습니다. \\n\\n이러한 견해 차이는 기업들의 로비 활동과 미국과 중국의 경쟁에 대한 우려 때문으로 분석됩니다.  협상은 아직 미결이고 향후 쟁점 해결과 합의가 이루어질지 기대됩니다. \\n\\n\\n\" additional_kwargs={} response_metadata={'token_usage': {'completion_tokens': 259, 'prompt_tokens': 922, 'total_tokens': 1181, 'completion_time': 0.470909091, 'prompt_time': 0.029642226, 'queue_time': 0.0029932429999999996, 'total_time': 0.500551317}, 'model_name': 'gemma2-9b-it', 'system_fingerprint': 'fp_10c08bf97d', 'finish_reason': 'stop', 'logprobs': None} id='run-77721ffa-38db-4719-b5ca-21c3f01811c8-0' usage_metadata={'input_tokens': 922, 'output_tokens': 259, 'total_tokens': 1181}\n",
            "content='## 미국 프런티어 모델 포럼, 1,000만 달러 규모의 AI 안전 기금 조성: 주요 내용 요약\\n\\n**1.  정책/법제:**\\n\\n* 프런티어 모델 포럼은 AI 안전 연구를 위한 기금 조성을 통해 AI 기술의 안전한 개발과 활용을 위한 정책적 노력에 기여할 계획입니다.\\n* 백악관 주재 AI 안전 서약에서 약속한 외부자의 AI 시스템 취약점 발견과 신고를 촉진하기 위한 노력도 이 기금을 통해 이루어질 예정입니다.\\n\\n**2. 기업/산업:**\\n\\n* 구글, 앤스로픽, 마이크로소프트, 오픈AI가 출범한 프런티어 모델 포럼이 1,000만 달러 규모의 AI 안전 기금을 조성했습니다.\\n* 기금은 AI 안전 연구를 지원하기 위해 자선단체와 함께 조성되었으며, 포럼은 이를 통해 AI 시스템의 안전성을 높이고 관련 산업의 발전에 기여할 예정입니다.\\n\\n**3. 기술/연구:**\\n\\n* AI 레드팀 활동을 지원하기 위한 새로운 모델 평가 기법 개발에 기금이 집중' additional_kwargs={} response_metadata={'token_usage': {'completion_tokens': 300, 'prompt_tokens': 817, 'total_tokens': 1117, 'completion_time': 0.545454545, 'prompt_time': 0.026086709, 'queue_time': 0.003271659999999999, 'total_time': 0.571541254}, 'model_name': 'gemma2-9b-it', 'system_fingerprint': 'fp_10c08bf97d', 'finish_reason': 'length', 'logprobs': None} id='run-7f616582-8339-40e8-9675-c1ff92341d53-0' usage_metadata={'input_tokens': 817, 'output_tokens': 300, 'total_tokens': 1117}\n",
            "content=\"## 코히어, 데이터 출처 탐색기 플랫폼 출시: AI 데이터 투명성 문제 해결을 위한 첫걸음\\n\\nAI 모델 훈련 데이터 출처 불분명으로 인한 데이터 투명성 문제 해결을 위해 코히어가 MIT, 하버드 로스쿨, 카네기멜론대 등 12개 기관과 협력하여 '데이터 출처 탐색기(Data Provenance Explorer)' 플랫폼을 출시했습니다. \\n\\n**주요 내용:**\\n\\n* 플랫폼은 2,000여 개의 미세조정 데이터셋에 대한 광범위한 감사를 통해 원본 데이터 출처, 재라이선스 상태, 작성자 정보 등을 제공합니다.\\n* 대화형 플랫폼으로, 개발자들은 쉽게 데이터셋의 라이선스 상태를 파악하고 주요 데이터셋 구성 및 데이터 계보도 추적할 수 있습니다.\\n* 연구진은 오픈소스 데이터셋 분석 결과, 데이터 라이선스 누락 (72~83%) 및 데이터셋 원저작자 의도보다 광범위한 사용을 허용하는 라이선스 할당 문제 등 데이터 출처 입증과 관련된 구조적 문제가 존재함을 발견했습니다.\\n\\n**결론:**\\n\\n데이터 출처 탐색기 플랫폼\" additional_kwargs={} response_metadata={'token_usage': {'completion_tokens': 300, 'prompt_tokens': 810, 'total_tokens': 1110, 'completion_time': 0.545454545, 'prompt_time': 0.025889959, 'queue_time': 0.0031425510000000004, 'total_time': 0.571344504}, 'model_name': 'gemma2-9b-it', 'system_fingerprint': 'fp_10c08bf97d', 'finish_reason': 'length', 'logprobs': None} id='run-3a66f1c9-4363-41fc-9fda-68f58c4c8c49-0' usage_metadata={'input_tokens': 810, 'output_tokens': 300, 'total_tokens': 1110}\n",
            "content=\"## 알리바바 클라우드, 통이치엔원 2.0 공개 및 산업별 AI 모델 출시\\n\\n알리바바 클라우드는 10월 31일 열린 기술 컨퍼런스에서 **최신 챗봇 모델 '통이치엔원 2.0'**을 공개했습니다. 통이치엔원 2.0은 **지침 이해, 광고문구 작성, 추론, 암기 등에서 1.0 버전보다 성능이 향상**되었으며, **MMLU, GSM8k, ARC-C 등 주요 벤치마크 테스트에서 라마, GPT-3.5를 능가**했습니다.  \\n\\n**주요 내용:**\\n\\n* **통이치엔원 2.0:** \\n    * 뛰어난 성능을 보여주는 LLM 모델\\n    * 알리바바 클라우드 웹사이트, 앱, API를 통해 사용 가능\\n* **산업별 AI 모델:**\\n    * 고객지원, 법률 상담, 의료, 금융, 문서관리, 오디오/동영상 관리, 코드 개발, 캐릭터 제작 등 다양한 분야에 특화된 모델 출시\\n* **'젠AI' 플랫폼 출시:**\\n    * 모델\" additional_kwargs={} response_metadata={'token_usage': {'completion_tokens': 300, 'prompt_tokens': 829, 'total_tokens': 1129, 'completion_time': 0.545454545, 'prompt_time': 0.033679821, 'queue_time': 0.0039831280000000024, 'total_time': 0.579134366}, 'model_name': 'gemma2-9b-it', 'system_fingerprint': 'fp_10c08bf97d', 'finish_reason': 'length', 'logprobs': None} id='run-79007d68-51d9-40a3-a816-c1cb61e7c16a-0' usage_metadata={'input_tokens': 829, 'output_tokens': 300, 'total_tokens': 1129}\n",
            "content=\"삼성전자는 2023년 11월 8일 자체 개발 생성 AI 모델 '삼성 가우스'를 공개했습니다. \\n\\n삼성 가우스는 텍스트 생성(언어 모델), 코드 생성(코드 모델), 이미지 생성(이미지 모델)의 3가지 모델로 구성되어 다양한 분야에 활용될 수 있습니다. 특히 온디바이스 작동이 가능한 모델로 설계되어 사용자 정보 유출 위험이 적습니다. \\n\\n삼성전자는 삼성 가우스를 삼성 스마트폰 등 다양한 제품에 단계적으로 탑재할 계획입니다. 예를 들어, 코딩 어시스턴트 'code.i'는 삼성 가우스 기반으로 개발되었으며, 대화형 인터페이스를 통해 사내 소프트웨어 개발을 지원합니다. \\n\\nTechRepublic은 온디바이스 AI가 주요 기술 트렌드로 부상하며, 2024년부터 삼성 가우스를 탑재한 삼성 스마트폰이 Meta의 Llama2 탑재 기기 및 Google 어시스턴트 적용 기기와 경쟁할 것으로 예상했습니다. \\n\\n\\n\" additional_kwargs={} response_metadata={'token_usage': {'completion_tokens': 276, 'prompt_tokens': 775, 'total_tokens': 1051, 'completion_time': 0.501818182, 'prompt_time': 0.024695494, 'queue_time': 0.003073346000000001, 'total_time': 0.526513676}, 'model_name': 'gemma2-9b-it', 'system_fingerprint': 'fp_10c08bf97d', 'finish_reason': 'stop', 'logprobs': None} id='run-f445be32-d4bc-459b-b90d-b85a0fa31f1f-0' usage_metadata={'input_tokens': 775, 'output_tokens': 276, 'total_tokens': 1051}\n",
            "content=\"## Google, Anthropic에 20억 달러 투자: 생성 AI 경쟁 가열\\n\\n**핵심 내용**:\\n\\n* **구글이 앤스로픽에 최대 20억 달러 투자**: 5억 달러 우선 투자 후 15억 달러 추가 투자 예정. 아마존은 앤스로픽에 최대 40억 달러 투자를 계획 중.\\n* **구글과 앤스로픽, 클라우드 서비스 계약 체결**: 앤스로픽은 구글 클라우드 서비스를 4년간 30억 달러 규모로 사용.\\n* **마이크로소프트, 오픈AI와의 협력 강화**: 30억 달러 투자에 더해 100억 달러 추가 투자, 오픈AI 지분 49% 확보. 오픈AI는 마이크로소프트 애저 클라우드 플랫폼 사용.\\n* **구글, 클라우드 경쟁력 강화 위해 생성 AI 투자 확대**: 앤스로픽 외에도 런웨이, 허깅 페이스 등에 투자. 자체 차세대 LLM '제미니' 개발에도 수십억 달러 투자. 2024년 제미니\" additional_kwargs={} response_metadata={'token_usage': {'completion_tokens': 300, 'prompt_tokens': 906, 'total_tokens': 1206, 'completion_time': 0.545454545, 'prompt_time': 0.029029697, 'queue_time': 0.002704533000000002, 'total_time': 0.574484242}, 'model_name': 'gemma2-9b-it', 'system_fingerprint': 'fp_10c08bf97d', 'finish_reason': 'length', 'logprobs': None} id='run-14a5446a-9dda-4f6b-85e1-152ab58fea08-0' usage_metadata={'input_tokens': 906, 'output_tokens': 300, 'total_tokens': 1206}\n",
            "content='## AI 소프트웨어 시장, 2027년 2,500억 달러 규모로 급성장 예상!\\n\\nIDC는 AI 소프트웨어 시장이 2022년 640억 달러에서 2027년 **2,510억 달러**로 급성장할 전망이라고 발표했습니다. 2027년까지 연평균 성장률은 **31.4%**에 달하며, 특히 **AI 애플리케이션**이 2027년까지 21.1%의 연평균 성장률을 기록하며 최대 시장을 차지할 전망입니다.\\n\\n**핵심 내용:**\\n\\n* **AI 투자 증가:** 기업들은 AI 도입을 **사업 성공과 경쟁력 확보**에 필수적이라고 인식하며 투자 의지가 확고합니다.\\n* **AI 애플리케이션:** 협업, 콘텐츠 관리, CRM 등 다양한 분야를 포함하며 2023년 전체 매출의 약 3분의 1을 차지하는 최대 시장입니다.\\n* **AI 플랫폼:** AI 비서를 포함한 AI 모델과 애플리케이션 개발을 지원하는 플랫폼이 두' additional_kwargs={} response_metadata={'token_usage': {'completion_tokens': 300, 'prompt_tokens': 953, 'total_tokens': 1253, 'completion_time': 0.545454545, 'prompt_time': 0.038368974, 'queue_time': 0.002536845000000003, 'total_time': 0.583823519}, 'model_name': 'gemma2-9b-it', 'system_fingerprint': 'fp_10c08bf97d', 'finish_reason': 'length', 'logprobs': None} id='run-f1269f82-fc71-48df-be82-e48ec4826693-0' usage_metadata={'input_tokens': 953, 'output_tokens': 300, 'total_tokens': 1253}\n",
            "content='## 빌 게이츠, AI 에이전트로 인한 컴퓨터 사용 방식 변화 전망: 5년 내 일상언어로 모든 작업 처리 가능\\n\\n**핵심 내용:**\\n\\n- 빌 게이츠는 AI 에이전트가 5년 내에 보급되면서 컴퓨터 사용 방식을 완전히 변화시킬 것이라고 예상합니다.\\n- 에이전트는 사용자의 지식을 바탕으로 일상 언어를 통해 다양한 작업을 수행할 수 있습니다.\\n- 이는 키보드 입력에서 아이콘 클릭으로 바뀐 이후 최대 혁신으로, 모든 작업을 일상어로 말만 하면 처리 가능하도록 만들 것입니다.\\n- AI 에이전트는 온라인 사용자에게 개인 비서처럼 작동하며, 사용자에 대한 학습을 통해 맞춤형 대응이 가능합니다.\\n\\n**AI 에이전트의 영향:**\\n\\n- **의료:** 환자 분류, 건강 문제 조언, 치료 필요 여부 결정을 지원하여 의료진의 의사결정과 생산성 향상에 기여.\\n- **교육:** 1대 1 가정교사 역할을 수행하여 모든 학생에게 평등한 교육 기회 제공, 시청각 기반 맞' additional_kwargs={} response_metadata={'token_usage': {'completion_tokens': 300, 'prompt_tokens': 951, 'total_tokens': 1251, 'completion_time': 0.545454545, 'prompt_time': 0.030756092, 'queue_time': 0.002851468000000003, 'total_time': 0.576210637}, 'model_name': 'gemma2-9b-it', 'system_fingerprint': 'fp_10c08bf97d', 'finish_reason': 'length', 'logprobs': None} id='run-4bead965-610b-45c5-8071-895f53cca380-0' usage_metadata={'input_tokens': 951, 'output_tokens': 300, 'total_tokens': 1251}\n",
            "content='## 유튜브, 2024년부터 AI 콘텐츠 라벨 의무화 및 개인 모방 콘텐츠 삭제 요청 시스템 도입\\n\\n**유튜브는 몇 달 안에 AI 생성 콘텐츠에 라벨 표시를 의무화하는 새로운 규칙을 시행합니다.** \\n\\n* **현실적으로 변경되거나 합성된 콘텐츠 (예: 사실이 아닌 사건 묘사, non-existent 행동 표현)**에는 AI 라벨이 필수입니다. \\n* **특히 선거, 분쟁, 공중 보건, 공직자 관련 주제**는 라벨 표시의 중요성이 더욱 강조됩니다.\\n* **라벨 표시 미준수**는 콘텐츠 삭제 및 유튜브 파트너 프로그램 정지에 이를 수 있습니다.\\n* 라벨은 **동영상 설명 패널**에 표시되며, **민감한 주제 콘텐츠**는 플레이어에 더욱 눈에 띄게 표시됩니다.\\n* **사실적인 폭력, 충격, 혐오감 유발 콘텐츠**는 라벨 지정 여부와 관계없이 삭제됩니다.\\n\\n**또한 유튜브는 AI가 신원 파악 가능한 개인의 얼굴이나 음성을 모방한 콘텐츠에 대해 개인정보 침해 신고 절차를 마련' additional_kwargs={} response_metadata={'token_usage': {'completion_tokens': 300, 'prompt_tokens': 787, 'total_tokens': 1087, 'completion_time': 0.545454545, 'prompt_time': 0.025028702, 'queue_time': 0.002963707999999999, 'total_time': 0.570483247}, 'model_name': 'gemma2-9b-it', 'system_fingerprint': 'fp_10c08bf97d', 'finish_reason': 'length', 'logprobs': None} id='run-c2d44b64-f625-474a-bf15-c7fa21b620d0-0' usage_metadata={'input_tokens': 787, 'output_tokens': 300, 'total_tokens': 1087}\n",
            "content='## 영국, AI 안전 연구소 설립 발표: 첨단 AI 평가, 연구, 정보 공유 활성화\\n\\n영국 과학혁신기술부는 첨단 AI 시스템의 안전성을 보장하기 위해 **AI 안전 연구소(AI Safety Institute)** 설립을 발표했습니다. \\n\\n연구소는 다음과 같은 핵심 기능을 수행할 계획입니다.\\n\\n* **첨단 AI 시스템 평가 개발 및 시행:** 사이버범죄, 허위 정보 유포 등 악용 가능성, 사회적 영향, 시스템 안전 및 보안, 인간 통제력 상실 가능성 등을 평가하여 AI 시스템의 안전성을 객관적으로 평가하고 지침을 마련합니다.\\n* **AI 안전 연구 촉진:** 외부 연구자를 통해 AI 시스템 거버넌스 도구 개발, 편향된 훈련 데이터 분석 기술, 민감한 정보를 포함하는 AI 시스템 미세 조정 방법 등 AI 안전 기초 연구를 수행합니다.\\n* **정보 교류 활성화:** 정책 입안자, 국제 파트너, 학계, 시민사회, 일반 대중과 정보 공유 채널을 구축하여 AI 안전성에 대한 투명하고 적극적인 소통을 활성화합니다' additional_kwargs={} response_metadata={'token_usage': {'completion_tokens': 300, 'prompt_tokens': 838, 'total_tokens': 1138, 'completion_time': 0.545454545, 'prompt_time': 0.033854981, 'queue_time': 0.002816708000000001, 'total_time': 0.579309526}, 'model_name': 'gemma2-9b-it', 'system_fingerprint': 'fp_10c08bf97d', 'finish_reason': 'length', 'logprobs': None} id='run-b01e7b59-f797-4ce2-a869-0fa49161ac09-0' usage_metadata={'input_tokens': 838, 'output_tokens': 300, 'total_tokens': 1138}\n",
            "content='구글 딥마인드 연구진은 범용 AI(AGI)의 발전을 측정하고 비교하기 위한 새로운 프레임워크를 제시했습니다. 이 프레임워크는 AGI를 **성능, 범용성, 자율성** 세 가지 기준으로 0~5단계까지 분류합니다. \\n\\n**핵심 내용:**\\n\\n* **프레임워크 목적**: AGI의 성능, 범용성, 자율성 수준을 정의하여 모델 간 비교, 위험 평가, AGI 달성 진행 상황 측정에 공통 기준 제공\\n* **AGI 개념 정의 위한 6가지 원칙**: \\n    * 기능에 중점, 범용성과 성능 평가, 인지 및 메타인지 작업 중심, 잠재력에 초점, 생태학적 타당성 갖춘 벤치마크 사용, 단계별 접근 방식\\n* **분류**: \\n    * **특수 AI**: 특정 과업에 집중, 현재 5단계까지 달성 (예: 알파폴드)\\n    * **범용 AI**: 다양한 목적에 활용 가능, 현재 1단계 (예: 챗GPT, 바드)\\n\\n**현재 AGI' additional_kwargs={} response_metadata={'token_usage': {'completion_tokens': 300, 'prompt_tokens': 1046, 'total_tokens': 1346, 'completion_time': 0.545454545, 'prompt_time': 0.033617152, 'queue_time': 0.003064707, 'total_time': 0.579071697}, 'model_name': 'gemma2-9b-it', 'system_fingerprint': 'fp_10c08bf97d', 'finish_reason': 'length', 'logprobs': None} id='run-3870b22c-c701-41bb-8d2a-dd0f8088a216-0' usage_metadata={'input_tokens': 1046, 'output_tokens': 300, 'total_tokens': 1346}\n",
            "content='갈릴레오가 발표한 LLM 환각 지수에 따르면, GPT-4가 모든 작업 유형에서 가장 우수한 성능을 보이며, GPT-3.5 터보도 거의 동등한 성능을 보였다. \\n\\n오픈소스 모델 중에서는 라마2가 RAG 없는 질문과 답변 및 긴 형식 텍스트 생성에서 가장 우수했으며, 특히 긴 형식 텍스트 생성에서는 GPT-4에 준하는 성능을 보였다. 하지만 RAG 포함 질문과 답변에서는 제퍼가 라마2를 능가했다. \\n\\n환각 지수는 생성 AI의 신뢰성을 평가하기 위한 중요한 지표이며, 이를 통해 덜 환각적인 AI 시스템 개발을 위한 노력이 필요함을 보여준다. \\n\\n\\n' additional_kwargs={} response_metadata={'token_usage': {'completion_tokens': 194, 'prompt_tokens': 700, 'total_tokens': 894, 'completion_time': 0.352727273, 'prompt_time': 0.024398253, 'queue_time': 0.0030137269999999973, 'total_time': 0.377125526}, 'model_name': 'gemma2-9b-it', 'system_fingerprint': 'fp_10c08bf97d', 'finish_reason': 'stop', 'logprobs': None} id='run-1b872dc3-5e2d-447f-bfd4-45f94b84ec18-0' usage_metadata={'input_tokens': 700, 'output_tokens': 194, 'total_tokens': 894}\n",
            "content=\"## 옥스퍼드 연구: AI 기술, 근로자 임금에 큰 영향 미침\\n\\n**옥스퍼드 인터넷 연구소의 최신 연구에 따르면, 특정 기술의 경제적 가치는 다른 기술과의 조합 가능성, 즉 '상보성'에 따라 달라집니다.** \\n\\n연구는 962개 기술과 25,000명의 근로자 데이터를 분석했으며, **AI 기술은 높은 상보성을 가지고 있어 경제적 가치가 높게 평가되었습니다.** \\n\\n**AI 기술을 가진 근로자는 평균 21%, 최대 40% 높은 임금을 받을 수 있습니다.** 특히, 머신러닝, 텐서플로우, 딥러닝 등은 시간당 임금에서 큰 프리미엄을 보였습니다.\\n\\n**주요 연구 결과:**\\n\\n* **AI 기술의 상보성이 높아 경제적 가치 증가:** 데이터 분석 기술은 다양한 고부가가치 기술과 결합 가능하여 높은 경제적 가치를 가지지만, 사진 리터칭 기술은 특정 기술과만 결합 가능하여 가치가 낮게 평가됨.\\n* **AI 기술 숙련 근로자에게 높은 임금 프리미엄:** 머\" additional_kwargs={} response_metadata={'token_usage': {'completion_tokens': 300, 'prompt_tokens': 628, 'total_tokens': 928, 'completion_time': 0.545454545, 'prompt_time': 0.020050729, 'queue_time': 0.0030581010000000006, 'total_time': 0.565505274}, 'model_name': 'gemma2-9b-it', 'system_fingerprint': 'fp_10c08bf97d', 'finish_reason': 'length', 'logprobs': None} id='run-c093b0ee-59ad-4cbc-892e-66c2036bb5d8-0' usage_metadata={'input_tokens': 628, 'output_tokens': 300, 'total_tokens': 928}\n",
            "content=\"## 인공지능 관련 주요 행사 요약\\n\\n본 문서는 2024년에 개최되는 인공지능 및 관련 분야의 주요 행사들을 소개합니다.\\n\\n**1. CES 2024**\\n\\n*  **개요:** 세계 최대 가전·IT·소비재 전시회로, 5G, AR&VR, 디지털헬스, 교통·모빌리티 등 주요 카테고리 중심으로 최신 기술 제품군을 전시합니다. AI를 주요 주제로, 모든 산업을 포괄하는 '올 온(All on)'을 강조합니다.\\n    *  **기간:** 2024년 1월 9일 ~ 12일\\n    *  **장소:** 미국, 라스베가스\\n    *  **홈페이지:** https://www.ces.tech/\\n\\n**2. AIMLA 2024**\\n\\n*  **개요:** 인공지능 및 머신러닝의 이론, 방법론 및 실용적 접근에 관한 지식과 최신 연구 결과를 공유하는 국제 컨퍼런스입니다.\\n    *  **기간:** 2024년 1월 27일 ~ 28일\\n    *  **장소:**\" additional_kwargs={} response_metadata={'token_usage': {'completion_tokens': 300, 'prompt_tokens': 538, 'total_tokens': 838, 'completion_time': 0.545454545, 'prompt_time': 0.01703594, 'queue_time': 0.003040330000000001, 'total_time': 0.562490485}, 'model_name': 'gemma2-9b-it', 'system_fingerprint': 'fp_10c08bf97d', 'finish_reason': 'length', 'logprobs': None} id='run-b60e06b5-296c-44fd-be10-2326f2ffd985-0' usage_metadata={'input_tokens': 538, 'output_tokens': 300, 'total_tokens': 838}\n",
            "content='제공된 웹사이트 주소는 한국사회과학연구원(Spri)의 보고서 페이지입니다. 보고서와 관련된 문의는 AI정책연구실(jayoo@spri.kr, 031-739-7352)로 연락하시기 바랍니다. \\n\\n\\n페이지 내용은 더 자세히 요약되지 않았습니다. \\n' additional_kwargs={} response_metadata={'token_usage': {'completion_tokens': 93, 'prompt_tokens': 76, 'total_tokens': 169, 'completion_time': 0.169090909, 'prompt_time': 0.002260932, 'queue_time': 0.012511738, 'total_time': 0.171351841}, 'model_name': 'gemma2-9b-it', 'system_fingerprint': 'fp_10c08bf97d', 'finish_reason': 'stop', 'logprobs': None} id='run-b77b55b2-1c46-42f1-84d5-c5b1bd630ae9-0' usage_metadata={'input_tokens': 76, 'output_tokens': 93, 'total_tokens': 169}\n"
          ]
        }
      ]
    },
    {
      "cell_type": "code",
      "source": [
        "# 로드된 문서의 수 확인\n",
        "len(documents)"
      ],
      "metadata": {
        "colab": {
          "base_uri": "https://localhost:8080/"
        },
        "id": "sU1uA0VCoznM",
        "outputId": "7aba81ca-fdfd-4b70-d6b5-b9134571b5d7"
      },
      "execution_count": null,
      "outputs": [
        {
          "output_type": "execute_result",
          "data": {
            "text/plain": [
              "23"
            ]
          },
          "metadata": {},
          "execution_count": 6
        }
      ]
    },
    {
      "cell_type": "code",
      "source": [
        "from langchain_text_splitters import CharacterTextSplitter\n",
        "# 문열 분할기 설정\n",
        "text_splitter = CharacterTextSplitter(chunk_size=200,\n",
        "                                      chunk_overlap=0)\n",
        "# 문서 분할\n",
        "docs = pdf_loader.load_and_split(text_splitter=text_splitter)"
      ],
      "metadata": {
        "id": "1EmhLGfTozqk"
      },
      "execution_count": null,
      "outputs": []
    },
    {
      "cell_type": "code",
      "source": [
        "# 로드된 문서의 수 확인\n",
        "print(f\"로드된 문서의 수: {len(docs)}\")"
      ],
      "metadata": {
        "colab": {
          "base_uri": "https://localhost:8080/"
        },
        "id": "q9Nx6Dg4mRcd",
        "outputId": "b0176d46-1350-4904-dc6d-7b7e8cbe7461"
      },
      "execution_count": null,
      "outputs": [
        {
          "output_type": "stream",
          "name": "stdout",
          "text": [
            "로드된 문서의 수: 23\n"
          ]
        }
      ]
    },
    {
      "cell_type": "code",
      "source": [
        "# 첫 번째 문서 확인\n",
        "print(f\"첫 번째 문서: {docs[0]}\")"
      ],
      "metadata": {
        "colab": {
          "base_uri": "https://localhost:8080/"
        },
        "id": "WvmTvP7TqFD7",
        "outputId": "7c01f57c-8033-4397-84af-16276f54d2bb"
      },
      "execution_count": null,
      "outputs": [
        {
          "output_type": "stream",
          "name": "stdout",
          "text": [
            "첫 번째 문서: page_content='2023년 12월호' metadata={'source': '/content/SPRI_AI_Brief_2023년12월호_F.pdf', 'page': 0}\n"
          ]
        }
      ]
    },
    {
      "cell_type": "code",
      "source": [],
      "metadata": {
        "id": "r9JtZrTHp9Em"
      },
      "execution_count": null,
      "outputs": []
    }
  ]
}