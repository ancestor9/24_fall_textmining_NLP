{
  "cells": [
    {
      "cell_type": "markdown",
      "metadata": {
        "id": "view-in-github",
        "colab_type": "text"
      },
      "source": [
        "<a href=\"https://colab.research.google.com/github/ancestor9/24_fall_textmining_NLP/blob/main/Ch_05_BOW_%EA%B8%B0%EB%B0%98%EC%9D%98_%EB%AC%B8%EC%84%9C%EB%B6%84%EB%A5%98.ipynb\" target=\"_parent\"><img src=\"https://colab.research.google.com/assets/colab-badge.svg\" alt=\"Open In Colab\"/></a>"
      ]
    },
    {
      "cell_type": "markdown",
      "metadata": {
        "id": "0mKF8mkCsVjg"
      },
      "source": [
        "# Chapter 5. BOW 기반의 문서 분류\n"
      ]
    },
    {
      "cell_type": "markdown",
      "metadata": {
        "id": "2a4u0DRrsVjk"
      },
      "source": [
        "## 1. 20 뉴스그룹 데이터 준비 및 특성 추출\n",
        "\n",
        " http://scikit-learn.org/0.19/datasets/twenty_newsgroups.html"
      ]
    },
    {
      "cell_type": "code",
      "execution_count": null,
      "metadata": {
        "colab": {
          "base_uri": "https://localhost:8080/"
        },
        "id": "m7ch3RoJsVjl",
        "outputId": "27c4d156-8306-47c1-9c77-a0e1af92f9d0"
      },
      "outputs": [
        {
          "output_type": "stream",
          "name": "stdout",
          "text": [
            "#Train set size: 2034\n",
            "#Test set size: 1353\n",
            "#Selected categories: ['alt.atheism', 'comp.graphics', 'sci.space', 'talk.religion.misc']\n",
            "#Train labels: {0, 1, 2, 3}\n"
          ]
        }
      ],
      "source": [
        "from sklearn.datasets import fetch_20newsgroups\n",
        "\n",
        "#20개의 토픽 중 선택하고자 하는 토픽을 리스트로 생성\n",
        "categories = ['alt.atheism', 'talk.religion.misc', 'comp.graphics', 'sci.space']\n",
        "\n",
        "#학습 데이터셋을 가져옴\n",
        "newsgroups_train = fetch_20newsgroups(subset='train',\n",
        "#메일 내용에서 hint가 되는 부분을 삭제 - 순수하게 내용만으로 분류\n",
        "                                      remove=('headers', 'footers', 'quotes'),\n",
        "                                      categories=categories)\n",
        "#검증 데이터셋을 가져옴\n",
        "newsgroups_test = fetch_20newsgroups(subset='test',\n",
        "                                     remove=('headers', 'footers', 'quotes'),\n",
        "                                     categories=categories)\n",
        "\n",
        "print('#Train set size:', len(newsgroups_train.data))\n",
        "print('#Test set size:', len(newsgroups_test.data))\n",
        "print('#Selected categories:', newsgroups_train.target_names)\n",
        "print('#Train labels:', set(newsgroups_train.target))"
      ]
    },
    {
      "cell_type": "code",
      "execution_count": null,
      "metadata": {
        "colab": {
          "base_uri": "https://localhost:8080/"
        },
        "id": "rkiNd056sVjo",
        "outputId": "dc703efc-66b3-48b6-fc37-8c438e71c67f"
      },
      "outputs": [
        {
          "output_type": "stream",
          "name": "stdout",
          "text": [
            "#Train set text samples: Hi,\n",
            "\n",
            "I've noticed that if you only save a model (with all your mapping planes\n",
            "positioned carefully) to a .3DS file that when you reload it after restarting\n",
            "3DS, they are given a default position and orientation.  But if you save\n",
            "to a .PRJ file their positions/orientation are preserved.  Does anyone\n",
            "know why this information is not stored in the .3DS file?  Nothing is\n",
            "explicitly said in the manual about saving texture rules in the .PRJ file. \n",
            "I'd like to be able to read the texture rule information, does anyone have \n",
            "the format for the .PRJ file?\n",
            "\n",
            "Is the .CEL file format available from somewhere?\n",
            "\n",
            "Rych\n",
            "#Train set label smaples: 1\n",
            "#Test set text samples: TRry the SKywatch project in  Arizona.\n",
            "#Test set label smaples: 2\n"
          ]
        }
      ],
      "source": [
        "print('#Train set text samples:', newsgroups_train.data[0])\n",
        "print('#Train set label smaples:', newsgroups_train.target[0])\n",
        "print('#Test set text samples:', newsgroups_test.data[0])\n",
        "print('#Test set label smaples:', newsgroups_test.target[0])"
      ]
    },
    {
      "cell_type": "code",
      "execution_count": null,
      "metadata": {
        "colab": {
          "base_uri": "https://localhost:8080/"
        },
        "id": "Kt_zAc8jsVjp",
        "outputId": "b669a6a9-8e94-43c1-db22-0b990110b151"
      },
      "outputs": [
        {
          "output_type": "stream",
          "name": "stdout",
          "text": [
            "Train set dimension: (2034, 2000)\n",
            "Test set dimension: (1353, 2000)\n"
          ]
        }
      ],
      "source": [
        "X_train = newsgroups_train.data   #학습 데이터셋 문서\n",
        "y_train = newsgroups_train.target #학습 데이터셋 라벨\n",
        "\n",
        "X_test = newsgroups_test.data     #검증 데이터셋 문서\n",
        "y_test = newsgroups_test.target   #검증 데이터셋 라벨\n",
        "\n",
        "from sklearn.feature_extraction.text import CountVectorizer\n",
        "\n",
        "cv = CountVectorizer(max_features=2000, min_df=5, max_df=0.5)\n",
        "\n",
        "X_train_cv = cv.fit_transform(X_train) # train set을 변환\n",
        "print('Train set dimension:', X_train_cv.shape)\n",
        "X_test_cv = cv.transform(X_test) # test set을 변환\n",
        "print('Test set dimension:', X_test_cv.shape)"
      ]
    },
    {
      "cell_type": "code",
      "execution_count": null,
      "metadata": {
        "colab": {
          "base_uri": "https://localhost:8080/"
        },
        "id": "q7lgcMp3sVjp",
        "outputId": "40cbd197-e68d-49d9-d644-826df7782039"
      },
      "outputs": [
        {
          "output_type": "stream",
          "name": "stdout",
          "text": [
            "00 : 0, 000 : 0, 01 : 0, 04 : 0, 05 : 0, 10 : 0, 100 : 0, 1000 : 0, 11 : 0, 12 : 0, 128 : 0, 129 : 0, 13 : 0, 130 : 0, 14 : 0, 15 : 0, 16 : 0, 17 : 0, 18 : 0, 19 : 0, 1987 : 0, 1988 : 0, 1989 : 0, 1990 : 0, 1991 : 0, 1992 : 0, 1993 : 0, 20 : 0, 200 : 0, 202 : 0, 21 : 0, 22 : 0, 23 : 0, 24 : 0, 25 : 0, 256 : 0, 26 : 0, 27 : 0, 28 : 0, 2d : 0, 30 : 0, 300 : 0, 31 : 0, 32 : 0, 33 : 0, 34 : 0, 35 : 0, 39 : 0, 3d : 0, 40 : 0, 400 : 0, 42 : 0, 45 : 0, 50 : 0, 500 : 0, 60 : 0, 600 : 0, 65 : 0, 70 : 0, 75 : 0, 80 : 0, 800 : 0, 90 : 0, 900 : 0, 91 : 0, 92 : 0, 93 : 0, 95 : 0, _the : 0, ability : 0, able : 1, abortion : 0, about : 1, above : 0, absolute : 0, absolutely : 0, ac : 0, accept : 0, acceptable : 0, accepted : 0, access : 0, according : 0, account : 0, accurate : 0, across : 0, act : 0, action : 0, actions : 0, active : 0, activities : 0, activity : 0, acts : 0, actual : 0, actually : 0, ad : 0, add : 0, added : 0, addition : 0, additional : 0, address : 0, "
          ]
        }
      ],
      "source": [
        "for word, count in zip(cv.get_feature_names_out()[:100], X_train_cv[0].toarray()[0, :100]):\n",
        "    print(word, ':', count, end=', ')"
      ]
    },
    {
      "cell_type": "code",
      "source": [
        "X_train_cv[0].shape"
      ],
      "metadata": {
        "colab": {
          "base_uri": "https://localhost:8080/"
        },
        "id": "RaahNNTPtPzQ",
        "outputId": "f5d3411d-6dfa-4790-be23-6d4781e1eb5c"
      },
      "execution_count": null,
      "outputs": [
        {
          "output_type": "execute_result",
          "data": {
            "text/plain": [
              "(1, 2000)"
            ]
          },
          "metadata": {},
          "execution_count": 8
        }
      ]
    },
    {
      "cell_type": "code",
      "source": [
        "for word, count in zip(cv.get_feature_names_out()[600:700], X_train_cv[0].toarray()[0, 600:700]):\n",
        "    print(word, ':', count, end=', ')"
      ],
      "metadata": {
        "colab": {
          "base_uri": "https://localhost:8080/"
        },
        "id": "kDQYo43stD3t",
        "outputId": "b9171e0b-1e95-4e86-9e7b-fec373883507"
      },
      "execution_count": null,
      "outputs": [
        {
          "output_type": "stream",
          "name": "stdout",
          "text": [
            "enough : 0, enter : 0, entire : 0, entirely : 0, environment : 0, equipment : 0, error : 0, errors : 0, esa : 0, especially : 0, essentially : 0, established : 0, et : 0, etc : 0, eternal : 0, european : 0, even : 0, event : 0, events : 0, eventually : 0, ever : 0, every : 0, everyone : 0, everything : 0, evidence : 0, evil : 0, evolution : 0, ex : 0, exactly : 0, example : 0, examples : 0, excellent : 0, except : 0, excuse : 0, exist : 0, existence : 0, existing : 0, exists : 0, expect : 0, expected : 0, expensive : 0, experience : 0, experiment : 0, explain : 0, explanation : 0, exploration : 0, export : 0, extended : 0, external : 0, extra : 0, eye : 0, face : 0, facility : 0, fact : 0, factor : 0, facts : 0, failed : 0, fair : 0, fairly : 0, faith : 0, fall : 0, fallacy : 0, false : 0, family : 0, faq : 0, far : 0, fast : 0, faster : 0, father : 0, fax : 0, fbi : 0, fear : 0, features : 0, federal : 0, fee : 0, feel : 0, feet : 0, few : 0, fi : 0, fiction : 0, field : 0, figure : 0, file : 6, files : 0, film : 0, final : 0, finally : 0, find : 0, fine : 0, fire : 0, first : 0, fit : 0, fits : 0, five : 0, flat : 0, flight : 0, fly : 0, flying : 0, folks : 0, follow : 0, "
          ]
        }
      ]
    },
    {
      "cell_type": "code",
      "source": [
        "X_train_cv[0].toarray()"
      ],
      "metadata": {
        "colab": {
          "base_uri": "https://localhost:8080/"
        },
        "id": "wnS0uBB-tpfQ",
        "outputId": "01896767-6b7b-4765-b7ae-cd84f7f81322"
      },
      "execution_count": null,
      "outputs": [
        {
          "output_type": "execute_result",
          "data": {
            "text/plain": [
              "array([[0, 0, 0, ..., 0, 0, 0]])"
            ]
          },
          "metadata": {},
          "execution_count": 18
        }
      ]
    },
    {
      "cell_type": "code",
      "source": [
        "type(X_train_cv[0].toarray())"
      ],
      "metadata": {
        "colab": {
          "base_uri": "https://localhost:8080/"
        },
        "id": "09Ii7gBWuKEd",
        "outputId": "fe90039f-8891-4755-d1bf-e50f82f4528b"
      },
      "execution_count": null,
      "outputs": [
        {
          "output_type": "execute_result",
          "data": {
            "text/plain": [
              "numpy.ndarray"
            ]
          },
          "metadata": {},
          "execution_count": 19
        }
      ]
    },
    {
      "cell_type": "code",
      "source": [
        "# 시각화\n",
        "arr_1d= X_train_cv[0].toarray()\n",
        "plt.plot(arr_1d)  # 선 그래프\n",
        "plt.title(\"1D Array Visualization\")\n",
        "plt.xlabel(\"Index\")\n",
        "plt.ylabel(\"Value\")\n",
        "plt.show()"
      ],
      "metadata": {
        "colab": {
          "base_uri": "https://localhost:8080/",
          "height": 472
        },
        "id": "ubbLlj3auWLS",
        "outputId": "d76fb6cf-f2fe-4bc0-dbde-d1f006efe9b5"
      },
      "execution_count": null,
      "outputs": [
        {
          "output_type": "display_data",
          "data": {
            "text/plain": [
              "<Figure size 640x480 with 1 Axes>"
            ],
            "image/png": "[encoded data removed]"
          },
          "metadata": {}
        }
      ]
    },
    {
      "cell_type": "code",
      "source": [
        "arr_1d.reshape(20,100)"
      ],
      "metadata": {
        "colab": {
          "base_uri": "https://localhost:8080/"
        },
        "id": "y-w9DiqhulWK",
        "outputId": "c537e4c2-d92f-4a9e-cfa2-d0792f9fb64d"
      },
      "execution_count": null,
      "outputs": [
        {
          "output_type": "execute_result",
          "data": {
            "text/plain": [
              "array([[0, 0, 0, ..., 0, 0, 0],\n",
              "       [0, 0, 0, ..., 0, 0, 0],\n",
              "       [0, 0, 0, ..., 0, 0, 0],\n",
              "       ...,\n",
              "       [0, 0, 0, ..., 0, 0, 0],\n",
              "       [0, 0, 0, ..., 0, 0, 0],\n",
              "       [0, 0, 0, ..., 0, 0, 0]])"
            ]
          },
          "metadata": {},
          "execution_count": 27
        }
      ]
    },
    {
      "cell_type": "code",
      "source": [
        "# 히트맵 시각화\n",
        "arr_2d = arr_1d.reshape(20,100)\n",
        "plt.imshow(arr_2d, cmap='viridis', interpolation='none')\n",
        "# plt.colorbar()  # 색상 막대 추가\n",
        "plt.title(\"2D Array Visualization\")\n",
        "plt.show()"
      ],
      "metadata": {
        "colab": {
          "base_uri": "https://localhost:8080/",
          "height": 182
        },
        "id": "_MZl6OilujH8",
        "outputId": "452efd6a-4757-4328-d9ba-198b7fac5124"
      },
      "execution_count": null,
      "outputs": [
        {
          "output_type": "display_data",
          "data": {
            "text/plain": [
              "<Figure size 640x480 with 1 Axes>"
            ],
            "image/png": "[encoded data removed]"
          },
          "metadata": {}
        }
      ]
    },
    {
      "cell_type": "markdown",
      "metadata": {
        "id": "qD_AnQ-6sVjq"
      },
      "source": [
        "## 2. 머신러닝과 문서 분류 과정에 대한 이해\n"
      ]
    },
    {
      "cell_type": "markdown",
      "metadata": {
        "id": "d8tmW_jmsVjq"
      },
      "source": [
        "## 3. 나이브 베이즈 분류기(Naive Bayse Classifier)를 이용한 문서 분류\n",
        "\n",
        "1. http://scikit-learn.org/stable/modules/generated/sklearn.naive_bayes.MultinomialNB.html"
      ]
    },
    {
      "cell_type": "code",
      "execution_count": null,
      "metadata": {
        "colab": {
          "base_uri": "https://localhost:8080/"
        },
        "id": "WwBZeqFcsVjr",
        "outputId": "ef996c89-9c4a-4340-af3c-93adfcf6a313"
      },
      "outputs": [
        {
          "output_type": "stream",
          "name": "stdout",
          "text": [
            "Train set score: 0.824\n",
            "Test set score: 0.732\n"
          ]
        }
      ],
      "source": [
        "from sklearn.naive_bayes import MultinomialNB #sklearn이 제공하는 MultinomialNB 를 사용\n",
        "NB_clf = MultinomialNB() # 분류기 선언\n",
        "\n",
        "NB_clf.fit(X_train_cv, y_train) #train set을 이용하여 분류기(classifier)를 학습\n",
        "\n",
        "print('Train set score: {:.3f}'.format(NB_clf.score(X_train_cv, y_train))) #train set에 대한 예측정확도를 확인\n",
        "print('Test set score: {:.3f}'.format(NB_clf.score(X_test_cv, y_test))) #test set에 대한 예측정확도를 확인"
      ]
    },
    {
      "cell_type": "code",
      "source": [
        "# prompt: cndusion matrix\n",
        "\n",
        "from sklearn.metrics import confusion_matrix\n",
        "\n",
        "y_pred = NB_clf.predict(X_test_cv)\n",
        "cm = confusion_matrix(y_test, y_pred)\n",
        "\n",
        "print(\"Confusion Matrix:\")\n",
        "print(cm)\n"
      ],
      "metadata": {
        "colab": {
          "base_uri": "https://localhost:8080/"
        },
        "id": "yVx8SRxlvqfH",
        "outputId": "f587bebb-2036-4134-db15-28af7fcd2cc3"
      },
      "execution_count": null,
      "outputs": [
        {
          "output_type": "stream",
          "name": "stdout",
          "text": [
            "Confusion Matrix:\n",
            "[[204   9  30  76]\n",
            " [ 14 341  24  10]\n",
            " [ 41  30 302  21]\n",
            " [ 85   6  16 144]]\n"
          ]
        }
      ]
    },
    {
      "cell_type": "code",
      "source": [
        "# prompt: cndusion matrix 시각화\n",
        "\n",
        "import matplotlib.pyplot as plt\n",
        "import seaborn as sns\n",
        "\n",
        "plt.figure(figsize=(8, 6))\n",
        "sns.heatmap(cm, annot=True, fmt='d', cmap='Blues', xticklabels=newsgroups_train.target_names, yticklabels=newsgroups_train.target_names)\n",
        "plt.xlabel('Predicted')\n",
        "plt.ylabel('True')\n",
        "plt.title('Confusion Matrix')\n",
        "plt.show()\n"
      ],
      "metadata": {
        "colab": {
          "base_uri": "https://localhost:8080/",
          "height": 564
        },
        "id": "n9-DhwFCv1Fj",
        "outputId": "9b364551-bef6-473d-f11a-a926b1b0bd35"
      },
      "execution_count": null,
      "outputs": [
        {
          "output_type": "display_data",
          "data": {
            "text/plain": [
              "<Figure size 800x600 with 2 Axes>"
            ],
            "image/png": "[encoded data removed]"
          },
          "metadata": {}
        }
      ]
    },
    {
      "cell_type": "code",
      "source": [
        "# prompt: classification report\n",
        "\n",
        "from sklearn.metrics import classification_report\n",
        "\n",
        "print(classification_report(y_test, y_pred, target_names=newsgroups_train.target_names))\n"
      ],
      "metadata": {
        "colab": {
          "base_uri": "https://localhost:8080/"
        },
        "id": "eh6XL1aIv7cj",
        "outputId": "cf7c8dd6-91d6-4a6c-ca18-8b2de12f5c74"
      },
      "execution_count": null,
      "outputs": [
        {
          "output_type": "stream",
          "name": "stdout",
          "text": [
            "                    precision    recall  f1-score   support\n",
            "\n",
            "       alt.atheism       0.59      0.64      0.62       319\n",
            "     comp.graphics       0.88      0.88      0.88       389\n",
            "         sci.space       0.81      0.77      0.79       394\n",
            "talk.religion.misc       0.57      0.57      0.57       251\n",
            "\n",
            "          accuracy                           0.73      1353\n",
            "         macro avg       0.72      0.71      0.71      1353\n",
            "      weighted avg       0.74      0.73      0.73      1353\n",
            "\n"
          ]
        }
      ]
    },
    {
      "cell_type": "code",
      "execution_count": null,
      "metadata": {
        "colab": {
          "base_uri": "https://localhost:8080/"
        },
        "id": "h-tNw6yZsVjr",
        "outputId": "cfaa9413-1f55-4a8a-e25f-a9909e56da78"
      },
      "outputs": [
        {
          "output_type": "stream",
          "name": "stdout",
          "text": [
            "#First document and label in test data: TRry the SKywatch project in  Arizona. 2\n",
            "#Second document and label in test data: The Vatican library recently made a tour of the US.\n",
            " Can anyone help me in finding a FTP site where this collection is \n",
            " available. 1\n",
            "#Predicted labels: [2 1]\n",
            "#Predicted categories: sci.space comp.graphics\n"
          ]
        }
      ],
      "source": [
        "print('#First document and label in test data:', X_test[0], y_test[0])\n",
        "print('#Second document and label in test data:', X_test[1], y_test[1])\n",
        "\n",
        "pred = NB_clf.predict(X_test_cv[:2])\n",
        "\n",
        "print('#Predicted labels:', pred)\n",
        "print('#Predicted categories:', newsgroups_train.target_names[pred[0]], newsgroups_train.target_names[pred[1]])"
      ]
    },
    {
      "cell_type": "code",
      "execution_count": null,
      "metadata": {
        "colab": {
          "base_uri": "https://localhost:8080/"
        },
        "id": "HYdUC_GOsVjr",
        "outputId": "e73c0654-afef-4ff3-ebaf-49ede1e8f788"
      },
      "outputs": [
        {
          "output_type": "stream",
          "name": "stdout",
          "text": [
            "Train set score: 0.862\n",
            "Test set score: 0.741\n"
          ]
        }
      ],
      "source": [
        "from sklearn.feature_extraction.text import TfidfVectorizer\n",
        "\n",
        "#CountVectorizer와 동일한 인수를 사용\n",
        "tfidf = TfidfVectorizer(max_features=2000, min_df=5, max_df=0.5)\n",
        "X_train_tfidf = tfidf.fit_transform(X_train) # train set을 변환\n",
        "X_test_tfidf = tfidf.transform(X_test) # test set을 변환\n",
        "\n",
        "NB_clf.fit(X_train_tfidf, y_train) #tfidf train set을 이용하여 분류기(classifier)를 새로 학습\n",
        "print('Train set score: {:.3f}'.format(NB_clf.score(X_train_tfidf, y_train))) #train set에 대한 예측정확도를 확인\n",
        "print('Test set score: {:.3f}'.format(NB_clf.score(X_test_tfidf, y_test))) #test set에 대한 예측정확도를 확인"
      ]
    },
    {
      "cell_type": "markdown",
      "metadata": {
        "id": "9nuquj8UsVjs"
      },
      "source": [
        "## 4. 로지스틱 회귀분석을 이용한 문서 분류\n",
        "\n",
        "1: http://scikit-learn.org/stable/modules/generated/sklearn.linear_model.LogisticRegression.html"
      ]
    },
    {
      "cell_type": "code",
      "execution_count": null,
      "metadata": {
        "colab": {
          "base_uri": "https://localhost:8080/"
        },
        "id": "xd2hDoG6sVjs",
        "outputId": "a3faac7b-5d6a-48c2-8aec-e47154c47464"
      },
      "outputs": [
        {
          "output_type": "stream",
          "name": "stdout",
          "text": [
            "Train set score: 0.929\n",
            "Test set score: 0.735\n"
          ]
        }
      ],
      "source": [
        "from sklearn.linear_model import LogisticRegression #sklearn이 제공하는 logistic regression을 사용\n",
        "\n",
        "#count vector에 대해 regression을 해서 NB와 비교\n",
        "LR_clf = LogisticRegression() #분류기 선언\n",
        "LR_clf.fit(X_train_tfidf, y_train) # train data를 이용하여 분류기를 학습\n",
        "print('Train set score: {:.3f}'.format(LR_clf.score(X_train_tfidf, y_train))) # train data에 대한 예측정확도\n",
        "print('Test set score: {:.3f}'.format(LR_clf.score(X_test_tfidf, y_test))) # test data에 대한 예측정확도"
      ]
    },
    {
      "cell_type": "markdown",
      "metadata": {
        "id": "OqmCLanJsVjt"
      },
      "source": [
        "### 릿지 회귀(ridge regression)\n"
      ]
    },
    {
      "cell_type": "code",
      "execution_count": null,
      "metadata": {
        "colab": {
          "base_uri": "https://localhost:8080/"
        },
        "id": "vJiDMaQjsVjt",
        "outputId": "38e54e71-2a2d-4f48-837c-e5db1594184d"
      },
      "outputs": [
        {
          "output_type": "stream",
          "name": "stdout",
          "text": [
            "Train set score: 0.960\n",
            "Test set score: 0.735\n"
          ]
        }
      ],
      "source": [
        "from sklearn.linear_model import RidgeClassifier\n",
        "\n",
        "ridge_clf = RidgeClassifier() #릿지 분류기 선언\n",
        "ridge_clf.fit(X_train_tfidf, y_train) #학습\n",
        "print('Train set score: {:.3f}'.format(ridge_clf.score(X_train_tfidf, y_train)))\n",
        "print('Test set score: {:.3f}'.format(ridge_clf.score(X_test_tfidf, y_test)))"
      ]
    },
    {
      "cell_type": "code",
      "execution_count": null,
      "metadata": {
        "colab": {
          "base_uri": "https://localhost:8080/"
        },
        "id": "DoDbiAQAsVjt",
        "outputId": "ecb584cb-a12b-40ee-f617-da899a01c74d"
      },
      "outputs": [
        {
          "output_type": "stream",
          "name": "stdout",
          "text": [
            "Max alpha 1.600 at max validation score 0.826\n"
          ]
        }
      ],
      "source": [
        "import numpy as np\n",
        "from sklearn.model_selection import train_test_split\n",
        "\n",
        "X_train_ridge, X_val_ridge, y_train_ridge, y_val_ridge = train_test_split(\n",
        "    X_train_tfidf, y_train, test_size=0.2, random_state=42)\n",
        "\n",
        "max_score = 0\n",
        "max_alpha = 0\n",
        "for alpha in np.arange(0.1, 10, 0.1): # alpha를 0.1부터 10까지 0.1씩 증가\n",
        "    ridge_clf = RidgeClassifier(alpha=alpha) #릿지 분류기 선언\n",
        "    ridge_clf.fit(X_train_ridge, y_train_ridge) #학습\n",
        "    score = ridge_clf.score(X_val_ridge, y_val_ridge) #검정 데이터셋에 대해 정확도를 측정\n",
        "    if score > max_score: #정확도가 이전의 정확도 최대값보다 크면 최대값을 변경한다.\n",
        "        max_score = score\n",
        "        max_alpha = alpha\n",
        "print('Max alpha {:.3f} at max validation score {:.3f}'.format(max_alpha, max_score))"
      ]
    },
    {
      "cell_type": "code",
      "execution_count": null,
      "metadata": {
        "colab": {
          "base_uri": "https://localhost:8080/"
        },
        "id": "Fd4vlg7wsVjt",
        "outputId": "25f1d015-2de7-4366-e5c7-26f04856b719"
      },
      "outputs": [
        {
          "output_type": "stream",
          "name": "stdout",
          "text": [
            "Train set score: 0.947\n",
            "Test set score: 0.739\n"
          ]
        }
      ],
      "source": [
        "ridge_clf = RidgeClassifier(alpha=1.6) #릿지 분류기 선언\n",
        "ridge_clf.fit(X_train_tfidf, y_train) #학습\n",
        "\n",
        "print('Train set score: {:.3f}'.format(ridge_clf.score(X_train_tfidf, y_train)))\n",
        "print('Test set score: {:.3f}'.format(ridge_clf.score(X_test_tfidf, y_test)))"
      ]
    },
    {
      "cell_type": "code",
      "execution_count": null,
      "metadata": {
        "colab": {
          "base_uri": "https://localhost:8080/"
        },
        "id": "RH2NlP1psVju",
        "outputId": "ebacf0e5-4c90-4163-d8b9-152d75c64a82"
      },
      "outputs": [
        {
          "output_type": "stream",
          "name": "stdout",
          "text": [
            "alt.atheism: bobby, religion, atheism, atheists, motto, punishment, islam, deletion, islamic, satan\n",
            "comp.graphics: graphics, computer, 3d, file, image, hi, 42, using, screen, looking\n",
            "sci.space: space, orbit, nasa, spacecraft, moon, sci, launch, flight, funding, idea\n",
            "talk.religion.misc: christian, christians, fbi, blood, order, jesus, objective, children, christ, hudson\n"
          ]
        }
      ],
      "source": [
        "top10_features(ridge_clf, tfidf, newsgroups_train.target_names)"
      ]
    },
    {
      "cell_type": "markdown",
      "metadata": {
        "id": "8JU8HTYCsVju"
      },
      "source": [
        "### 라쏘 회귀분석(lasso regression)을 이용한 특성 선택(feature selection)\n",
        "\n",
        "1. http://scikit-learn.org/stable/modules/generated/sklearn.linear_model.Lasso.html"
      ]
    },
    {
      "cell_type": "code",
      "execution_count": null,
      "metadata": {
        "colab": {
          "base_uri": "https://localhost:8080/"
        },
        "id": "Hx46XxOlsVju",
        "outputId": "614074e0-eadc-4115-f2d2-598ee74cffa1"
      },
      "outputs": [
        {
          "output_type": "stream",
          "name": "stdout",
          "text": [
            "#Train set score: 0.819\n",
            "#Test set score: 0.724\n",
            "#Used features count: 437 out of 2000\n"
          ]
        }
      ],
      "source": [
        "lasso_clf = LogisticRegression(penalty='l1', solver='liblinear', C=1) # Lasso는 동일한 LogisticRegression을 사용하면서 매개변수로 지정\n",
        "lasso_clf.fit(X_train_tfidf, y_train) # train data로 학습\n",
        "\n",
        "print('#Train set score: {:.3f}'.format(lasso_clf.score(X_train_tfidf, y_train)))\n",
        "print('#Test set score: {:.3f}'.format(lasso_clf.score(X_test_tfidf, y_test)))\n",
        "\n",
        "# 계수(coefficient) 중에서 0이 아닌 것들의 개수를 출력\n",
        "print('#Used features count: {}'.format(np.sum(lasso_clf.coef_ != 0)), 'out of', X_train_tfidf.shape[1])"
      ]
    },
    {
      "cell_type": "code",
      "execution_count": null,
      "metadata": {
        "colab": {
          "base_uri": "https://localhost:8080/"
        },
        "id": "eKsWsG6TsVju",
        "outputId": "ac8070f3-5843-4de4-922b-18c63b5c3c03"
      },
      "outputs": [
        {
          "output_type": "stream",
          "name": "stdout",
          "text": [
            "alt.atheism: bobby, atheism, atheists, islam, religion, islamic, motto, atheist, satan, vice\n",
            "comp.graphics: graphics, image, 3d, file, computer, hi, video, files, looking, sphere\n",
            "sci.space: space, orbit, launch, nasa, spacecraft, flight, moon, dc, shuttle, solar\n",
            "talk.religion.misc: fbi, christian, christians, christ, order, jesus, children, objective, context, blood\n"
          ]
        }
      ],
      "source": [
        "top10_features(lasso_clf, tfidf, newsgroups_train.target_names)"
      ]
    },
    {
      "cell_type": "markdown",
      "metadata": {
        "id": "xdygfL_csVju"
      },
      "source": [
        "## 5. 결정트리 등을 이용한 기타 문서 분류 방법\n",
        "\n",
        "1. https://scikit-learn.org/stable/modules/generated/sklearn.tree.DecisionTreeClassifier.html\n",
        "2. https://scikit-learn.org/stable/modules/generated/sklearn.ensemble.RandomForestClassifier.html\n",
        "3. https://scikit-learn.org/stable/modules/generated/sklearn.ensemble.GradientBoostingClassifier.html"
      ]
    },
    {
      "cell_type": "code",
      "execution_count": null,
      "metadata": {
        "id": "ZpF80PvnsVju",
        "outputId": "8f61c379-c9d8-4f2b-d96e-a8b2e1176b60"
      },
      "outputs": [
        {
          "name": "stdout",
          "output_type": "stream",
          "text": [
            "#Decision Tree train set score: 0.977\n",
            "#Decision Tree test set score: 0.536\n",
            "#Random Forest train set score: 0.977\n",
            "#Random Forest test set score: 0.685\n",
            "#Gradient Boosting train set score: 0.933\n",
            "#Gradient Boosting test set score: 0.696\n"
          ]
        }
      ],
      "source": [
        "from sklearn.tree import DecisionTreeClassifier\n",
        "from sklearn.ensemble import RandomForestClassifier\n",
        "from sklearn.ensemble import GradientBoostingClassifier\n",
        "\n",
        "tree = DecisionTreeClassifier(random_state=7)\n",
        "tree.fit(X_train_tfidf, y_train)\n",
        "print('#Decision Tree train set score: {:.3f}'.format(tree.score(X_train_tfidf, y_train)))\n",
        "print('#Decision Tree test set score: {:.3f}'.format(tree.score(X_test_tfidf, y_test)))\n",
        "\n",
        "forest = RandomForestClassifier(random_state=7)\n",
        "forest.fit(X_train_tfidf, y_train)\n",
        "print('#Random Forest train set score: {:.3f}'.format(forest.score(X_train_tfidf, y_train)))\n",
        "print('#Random Forest test set score: {:.3f}'.format(forest.score(X_test_tfidf, y_test)))\n",
        "\n",
        "gb = GradientBoostingClassifier(random_state=7)\n",
        "gb.fit(X_train_tfidf, y_train)\n",
        "print('#Gradient Boosting train set score: {:.3f}'.format(gb.score(X_train_tfidf, y_train)))\n",
        "print('#Gradient Boosting test set score: {:.3f}'.format(gb.score(X_test_tfidf, y_test)))"
      ]
    },
    {
      "cell_type": "code",
      "execution_count": null,
      "metadata": {
        "id": "Ib-zZFxbsVjv",
        "outputId": "fce91150-db60-4be5-9e63-4af51b4965cd"
      },
      "outputs": [
        {
          "name": "stdout",
          "output_type": "stream",
          "text": [
            "space: 0.126, graphics: 0.080, atheism: 0.024, thanks: 0.023, file: 0.021, orbit: 0.020, jesus: 0.018, god: 0.018, hi: 0.017, nasa: 0.015, image: 0.015, files: 0.014, christ: 0.010, moon: 0.010, bobby: 0.010, launch: 0.010, looking: 0.010, christian: 0.010, atheists: 0.009, christians: 0.009, fbi: 0.009, 3d: 0.008, you: 0.008, not: 0.008, islamic: 0.007, religion: 0.007, spacecraft: 0.007, flight: 0.007, computer: 0.007, islam: 0.007, ftp: 0.006, color: 0.006, software: 0.005, atheist: 0.005, card: 0.005, people: 0.005, koresh: 0.005, his: 0.005, kent: 0.004, sphere: 0.004, "
          ]
        }
      ],
      "source": [
        "sorted_feature_importances = sorted(zip(tfidf.get_feature_names_out(), gb.feature_importances_), key=lambda x: x[1], reverse=True)\n",
        "for feature, value in sorted_feature_importances[:40]:\n",
        "    print('%s: %.3f' % (feature, value), end=', ')"
      ]
    },
    {
      "cell_type": "markdown",
      "metadata": {
        "id": "6OjSnWynsVjv"
      },
      "source": [
        "## 6. 성능을 높이기 위한 방법들\n",
        "\n"
      ]
    },
    {
      "cell_type": "code",
      "execution_count": null,
      "metadata": {
        "id": "DLcWbjHfsVjv",
        "outputId": "752aebf7-872d-435f-d223-5426063591ed"
      },
      "outputs": [
        {
          "name": "stdout",
          "output_type": "stream",
          "text": [
            "#Train set score: 0.930\n",
            "#Test set score: 0.751\n"
          ]
        }
      ],
      "source": [
        "# 필요한 library들을 import\n",
        "from nltk.corpus import stopwords\n",
        "cachedStopWords = stopwords.words(\"english\")\n",
        "\n",
        "from nltk.tokenize import RegexpTokenizer\n",
        "from nltk.stem.porter import PorterStemmer\n",
        "import re\n",
        "\n",
        "RegTok = RegexpTokenizer(\"[\\w']{3,}\") # 정규포현식으로 토크나이저를 정의\n",
        "english_stops = set(stopwords.words('english')) #영어 불용어를 가져옴\n",
        "\n",
        "def tokenizer(text):\n",
        "    tokens = RegTok.tokenize(text.lower()) #이렇게 해도 되는지 확인\n",
        "    # stopwords 제외\n",
        "    words = [word for word in tokens if (word not in english_stops) and len(word) > 2]\n",
        "    # portr stemmer 적용\n",
        "    features = (list(map(lambda token: PorterStemmer().stem(token),words)))\n",
        "    return features\n",
        "\n",
        "tfidf = TfidfVectorizer(tokenizer=tokenizer, max_features=2000, min_df=5, max_df=0.5) # 새로 정의한 토크나이저 사용\n",
        "X_train_tfidf = tfidf.fit_transform(X_train) # train set을 변환\n",
        "X_test_tfidf = tfidf.transform(X_test) # test set을 변환\n",
        "\n",
        "#tfidf vector를 이용해서 분류기 학습\n",
        "LR_clf = LogisticRegression() #분류기 선언\n",
        "LR_clf.fit(X_train_tfidf, y_train) # train data를 이용하여 분류기를 학습\n",
        "print('#Train set score: {:.3f}'.format(LR_clf.score(X_train_tfidf, y_train))) # train data에 대한 예측정확도\n",
        "print('#Test set score: {:.3f}'.format(LR_clf.score(X_test_tfidf, y_test))) # test data에 대한 예측정확도"
      ]
    },
    {
      "cell_type": "code",
      "execution_count": null,
      "metadata": {
        "id": "U5Udb8H2sVjv",
        "outputId": "279514a0-4b1e-4107-95f2-efc1cf685fd3"
      },
      "outputs": [
        {
          "data": {
            "text/plain": [
              "2000"
            ]
          },
          "execution_count": 59,
          "metadata": {},
          "output_type": "execute_result"
        }
      ],
      "source": [
        "len(LR_clf.coef_[0])"
      ]
    },
    {
      "cell_type": "code",
      "execution_count": null,
      "metadata": {
        "id": "jIFL9TVbsVjv",
        "outputId": "d20d9c16-ef86-41b5-9838-a3f82ae5e394"
      },
      "outputs": [
        {
          "name": "stdout",
          "output_type": "stream",
          "text": [
            "#Train set dimension: (2034, 20085)\n",
            "#Test set dimension: (1353, 20085)\n",
            "#Train set score: 0.968\n",
            "#Test set score: 0.768\n",
            "#Train set score: 0.971\n",
            "#Test set score: 0.793\n"
          ]
        }
      ],
      "source": [
        "from sklearn.feature_extraction.text import TfidfVectorizer\n",
        "\n",
        "tfidf = TfidfVectorizer(tokenizer=tokenizer)\n",
        "\n",
        "X_train_tfidf = tfidf.fit_transform(X_train) # train set을 변환\n",
        "print('#Train set dimension:', X_train_tfidf.shape) # 실제로 몇개의 특성이 사용되었는지 확인\n",
        "X_test_tfidf = tfidf.transform(X_test) # test set을 변환\n",
        "print('#Test set dimension:', X_test_tfidf.shape)\n",
        "\n",
        "ridge_clf = RidgeClassifier(alpha=2.4)\n",
        "ridge_clf.fit(X_train_tfidf, y_train) #학습\n",
        "print('#Train set score: {:.3f}'.format(ridge_clf.score(X_train_tfidf, y_train)))\n",
        "print('#Test set score: {:.3f}'.format(ridge_clf.score(X_test_tfidf, y_test)))\n",
        "\n",
        "NB_clf = MultinomialNB(alpha=0.01) # 분류기 선언\n",
        "NB_clf.fit(X_train_tfidf, y_train) #train set을 이용하여 분류기(classifier)를 학습\n",
        "print('#Train set score: {:.3f}'.format(NB_clf.score(X_train_tfidf, y_train))) #train set에 대한 예측정확도를 확인\n",
        "print('#Test set score: {:.3f}'.format(NB_clf.score(X_test_tfidf, y_test))) #test set에 대한 예측정확도를 확인"
      ]
    },
    {
      "cell_type": "markdown",
      "metadata": {
        "id": "JjPy0_jOsVjw"
      },
      "source": [
        "## 7. 카운트 기반의 문제점과 N-gram\n"
      ]
    },
    {
      "cell_type": "code",
      "execution_count": null,
      "metadata": {
        "id": "UTWDHnedsVjw",
        "outputId": "3af118ae-aee9-4510-e6b5-a834718ca459"
      },
      "outputs": [
        {
          "name": "stdout",
          "output_type": "stream",
          "text": [
            "(2034, 11483)\n"
          ]
        }
      ],
      "source": [
        "cachedStopWords = stopwords.words(\"english\")\n",
        "tfidf = TfidfVectorizer(token_pattern= \"[a-zA-Z']{3,}\", # 토큰화를 위한 정규식\n",
        "                        decode_error ='ignore',\n",
        "                        lowercase=True,\n",
        "                        stop_words = stopwords.words('english'),\n",
        "                        max_df=0.5,\n",
        "                        min_df=2)\n",
        "X_train_tfidf = tfidf.fit_transform(X_train)\n",
        "X_test_tfidf = tfidf.transform(X_test)\n",
        "\n",
        "print(X_train_tfidf.shape)"
      ]
    },
    {
      "cell_type": "code",
      "execution_count": null,
      "metadata": {
        "id": "4dQSwhQtsVjw",
        "outputId": "08b70cd7-67d4-478b-9c6e-002b946bbcac"
      },
      "outputs": [
        {
          "name": "stdout",
          "output_type": "stream",
          "text": [
            "Train set score: 0.976\n",
            "Test set score: 0.766\n"
          ]
        }
      ],
      "source": [
        "from sklearn.linear_model import RidgeClassifier\n",
        "ridge_clf = RidgeClassifier() #릿지 분류기 선언\n",
        "ridge_clf.fit(X_train_tfidf, y_train) #학습\n",
        "print('Train set score: {:.3f}'.format(ridge_clf.score(X_train_tfidf, y_train)))\n",
        "print('Test set score: {:.3f}'.format(ridge_clf.score(X_test_tfidf, y_test)))"
      ]
    },
    {
      "cell_type": "code",
      "execution_count": null,
      "metadata": {
        "id": "rvE-ylsrsVjw",
        "outputId": "15428dab-ff8f-4510-9ed4-21a69bfcf165"
      },
      "outputs": [
        {
          "name": "stdout",
          "output_type": "stream",
          "text": [
            "(2034, 26550)\n"
          ]
        }
      ],
      "source": [
        "tfidf = TfidfVectorizer(token_pattern= \"[a-zA-Z']{3,}\",\n",
        "                        decode_error ='ignore',\n",
        "                        lowercase=True,\n",
        "                        stop_words = stopwords.words('english'),\n",
        "                        ngram_range=(1, 2), # 바이그램 설정\n",
        "                        max_df=0.5,\n",
        "                        min_df=2)\n",
        "X_train_tfidf = tfidf.fit_transform(X_train)\n",
        "X_test_tfidf = tfidf.transform(X_test)\n",
        "\n",
        "print(X_train_tfidf.shape)"
      ]
    },
    {
      "cell_type": "code",
      "execution_count": null,
      "metadata": {
        "id": "fk902vOPsVjw",
        "outputId": "302e0dee-6746-4e14-eca9-75b9abe67079"
      },
      "outputs": [
        {
          "name": "stdout",
          "output_type": "stream",
          "text": [
            "bi-gram samples: [\"'cause can't\", \"'em better\", \"'expected errors'\", \"'karla' next\", \"'nodis' password\", \"'official doctrine\", \"'ok see\", \"'sci astro'\", \"'what's moonbase\", 'aas american']\n",
            "Train set score: 0.976\n",
            "Test set score: 0.773\n"
          ]
        }
      ],
      "source": [
        "bigram_features = [f for f in tfidf.get_feature_names_out() if len(f.split()) > 1]\n",
        "print('bi-gram samples:', bigram_features[:10])\n",
        "\n",
        "ridge_clf.fit(X_train_tfidf, y_train) #학습\n",
        "print('Train set score: {:.3f}'.format(ridge_clf.score(X_train_tfidf, y_train)))\n",
        "print('Test set score: {:.3f}'.format(ridge_clf.score(X_test_tfidf, y_test)))"
      ]
    },
    {
      "cell_type": "code",
      "execution_count": null,
      "metadata": {
        "id": "IyjtKqp3sVjx",
        "outputId": "074a462f-4943-4910-8b72-71fcb38a86b3"
      },
      "outputs": [
        {
          "name": "stdout",
          "output_type": "stream",
          "text": [
            "(2034, 32943)\n",
            "tri-gram samples: [\"'em better shots\", \"'expected errors' basically\", \"'karla' next one\", \"'nodis' password also\", \"'official doctrine think\", \"'ok see warning\", \"'what's moonbase good\", 'aas american astronautical', 'ability means infallible', 'able accept donations']\n",
            "Train set score: 0.976\n",
            "Test set score: 0.775\n"
          ]
        }
      ],
      "source": [
        "tfidf = TfidfVectorizer(token_pattern= \"[a-zA-Z']{3,}\",\n",
        "                        decode_error ='ignore',\n",
        "                        lowercase=True,\n",
        "                        stop_words = stopwords.words('english'),\n",
        "                        ngram_range=(1, 3),\n",
        "                        max_df=0.5,\n",
        "                        min_df=2)\n",
        "X_train_tfidf = tfidf.fit_transform(X_train)\n",
        "X_test_tfidf = tfidf.transform(X_test)\n",
        "print(X_train_tfidf.shape)\n",
        "\n",
        "trigram_features = [f for f in tfidf.get_feature_names_out() if len(f.split()) > 2]\n",
        "print('tri-gram samples:', trigram_features[:10])\n",
        "\n",
        "ridge_clf.fit(X_train_tfidf, y_train) #학습\n",
        "print('Train set score: {:.3f}'.format(ridge_clf.score(X_train_tfidf, y_train)))\n",
        "print('Test set score: {:.3f}'.format(ridge_clf.score(X_test_tfidf, y_test)))"
      ]
    },
    {
      "cell_type": "markdown",
      "metadata": {
        "id": "43SVhj8PsVjx"
      },
      "source": [
        "## 8. 한글 문서의 분류\n"
      ]
    },
    {
      "cell_type": "code",
      "execution_count": null,
      "metadata": {
        "id": "QesGJ0O2sVjx",
        "outputId": "e555f8c1-b879-4ef9-a4d2-891151ecc371"
      },
      "outputs": [
        {
          "data": {
            "text/html": [
              "<div>\n",
              "<style scoped>\n",
              "    .dataframe tbody tr th:only-of-type {\n",
              "        vertical-align: middle;\n",
              "    }\n",
              "\n",
              "    .dataframe tbody tr th {\n",
              "        vertical-align: top;\n",
              "    }\n",
              "\n",
              "    .dataframe thead th {\n",
              "        text-align: right;\n",
              "    }\n",
              "</style>\n",
              "<table border=\"1\" class=\"dataframe\">\n",
              "  <thead>\n",
              "    <tr style=\"text-align: right;\">\n",
              "      <th></th>\n",
              "      <th>review</th>\n",
              "      <th>rating</th>\n",
              "      <th>date</th>\n",
              "      <th>title</th>\n",
              "    </tr>\n",
              "  </thead>\n",
              "  <tbody>\n",
              "    <tr>\n",
              "      <th>0</th>\n",
              "      <td>돈 들인건 티가 나지만 보는 내내 하품만</td>\n",
              "      <td>1</td>\n",
              "      <td>2018.10.29</td>\n",
              "      <td>인피니티 워</td>\n",
              "    </tr>\n",
              "    <tr>\n",
              "      <th>1</th>\n",
              "      <td>몰입할수밖에 없다. 어렵게 생각할 필요없다. 내가 전투에 참여한듯 손에 땀이남.</td>\n",
              "      <td>10</td>\n",
              "      <td>2018.10.26</td>\n",
              "      <td>인피니티 워</td>\n",
              "    </tr>\n",
              "    <tr>\n",
              "      <th>2</th>\n",
              "      <td>이전 작품에 비해 더 화려하고 스케일도 커졌지만.... 전국 맛집의 음식들을 한데 ...</td>\n",
              "      <td>8</td>\n",
              "      <td>2018.10.24</td>\n",
              "      <td>인피니티 워</td>\n",
              "    </tr>\n",
              "    <tr>\n",
              "      <th>3</th>\n",
              "      <td>이 정도면 볼만하다고 할 수 있음!</td>\n",
              "      <td>8</td>\n",
              "      <td>2018.10.22</td>\n",
              "      <td>인피니티 워</td>\n",
              "    </tr>\n",
              "    <tr>\n",
              "      <th>4</th>\n",
              "      <td>재미있다</td>\n",
              "      <td>10</td>\n",
              "      <td>2018.10.20</td>\n",
              "      <td>인피니티 워</td>\n",
              "    </tr>\n",
              "  </tbody>\n",
              "</table>\n",
              "</div>"
            ],
            "text/plain": [
              "                                              review  rating        date  \\\n",
              "0                             돈 들인건 티가 나지만 보는 내내 하품만       1  2018.10.29   \n",
              "1       몰입할수밖에 없다. 어렵게 생각할 필요없다. 내가 전투에 참여한듯 손에 땀이남.      10  2018.10.26   \n",
              "2  이전 작품에 비해 더 화려하고 스케일도 커졌지만.... 전국 맛집의 음식들을 한데 ...       8  2018.10.24   \n",
              "3                                이 정도면 볼만하다고 할 수 있음!       8  2018.10.22   \n",
              "4                                               재미있다      10  2018.10.20   \n",
              "\n",
              "    title  \n",
              "0  인피니티 워  \n",
              "1  인피니티 워  \n",
              "2  인피니티 워  \n",
              "3  인피니티 워  \n",
              "4  인피니티 워  "
            ]
          },
          "execution_count": 66,
          "metadata": {},
          "output_type": "execute_result"
        }
      ],
      "source": [
        "import pandas as pd\n",
        "df = pd.read_csv('./data/daum_movie_review.csv')\n",
        "df.head(5)"
      ]
    },
    {
      "cell_type": "code",
      "execution_count": null,
      "metadata": {
        "id": "xxCknubfsVjx",
        "outputId": "6befd8a9-e0be-41b8-8943-35032fdd809a"
      },
      "outputs": [
        {
          "data": {
            "text/plain": [
              "신과함께      4947\n",
              "택시운전사     2322\n",
              "인피니티 워    2042\n",
              "범죄도시      1939\n",
              "곤지암       1547\n",
              "라라랜드      1150\n",
              "코코         778\n",
              "Name: title, dtype: int64"
            ]
          },
          "execution_count": 67,
          "metadata": {},
          "output_type": "execute_result"
        }
      ],
      "source": [
        "df.title.value_counts()"
      ]
    },
    {
      "cell_type": "code",
      "execution_count": null,
      "metadata": {
        "id": "Ju5ffNvxsVjx",
        "outputId": "47ad5103-fac5-464c-a871-0434916a8bef"
      },
      "outputs": [
        {
          "name": "stdout",
          "output_type": "stream",
          "text": [
            "#Train set size: 11043\n",
            "#Test set size: 3682\n"
          ]
        }
      ],
      "source": [
        "from sklearn.model_selection import train_test_split\n",
        "\n",
        "# split data and labels into a training and a test set\n",
        "X_train, X_test, y_train, y_test = train_test_split(df.review, df.title, random_state=0)\n",
        "# 비율을 지정하지 않으면 75:25로 분할됨\n",
        "print('#Train set size:', len(X_train)) # 실제로 몇개의 특성이 사용되었는지 확인\n",
        "print('#Test set size:', len(X_test))"
      ]
    },
    {
      "cell_type": "code",
      "execution_count": null,
      "metadata": {
        "scrolled": true,
        "id": "uv7AoBCMsVj2",
        "outputId": "aa5cd32a-64d9-477f-c9eb-cd6022e5fc83"
      },
      "outputs": [
        {
          "name": "stdout",
          "output_type": "stream",
          "text": [
            "['몰입', '할수밖에', '없다', '.', '어렵게', '생각', '할', '필요없다', '.', '내', '가', '전투', '에', '참여', '한', '듯', '손', '에', '땀', '이남', '.']\n",
            "['몰입', '생각', '내', '전투', '참여', '듯', '손', '땀', '이남']\n"
          ]
        }
      ],
      "source": [
        "from konlpy.tag import Okt #konlpy에서 Twitter 형태소 분석기를 import\n",
        "#from konlpy.tag import Twitter #konlpy에서 Twitter 형태소 분석기를 import\n",
        "okt = Okt()\n",
        "\n",
        "print(okt.morphs(X_train[1])) #둘째 리뷰에 대해 형태소 단위로 tokenize\n",
        "print(okt.nouns(X_train[1])) #둘째 리뷰에서 명사만 추출"
      ]
    },
    {
      "cell_type": "code",
      "execution_count": null,
      "metadata": {
        "id": "oSR1MHtCsVj3",
        "outputId": "045d6449-6434-4841-ac8d-136d4f7cbacc"
      },
      "outputs": [
        {
          "name": "stdout",
          "output_type": "stream",
          "text": [
            "#Train set score: 0.756\n",
            "#Test set score: 0.694\n"
          ]
        }
      ],
      "source": [
        "from sklearn.feature_extraction.text import TfidfVectorizer\n",
        "from sklearn.linear_model import LogisticRegression\n",
        "\n",
        "#Twitter 형태소분석기에서 명사만 추출하는 함수를 tokenizer로 이용\n",
        "tfidf = TfidfVectorizer(tokenizer=okt.nouns, max_features=2000, min_df=5, max_df=0.5)\n",
        "\n",
        "X_train_tfidf = tfidf.fit_transform(X_train) # train data 변환 -> tfidf vector\n",
        "X_test_tfidf = tfidf.transform(X_test) # test data 변환 -> tfidf vector\n",
        "\n",
        "# logistic regression 분류기 선언\n",
        "clf = LogisticRegression(max_iter=1000) # 충분한 학습을 위해 max_iter를 1,000으로 설정, 기본은 100\n",
        "clf.fit(X_train_tfidf, y_train) # 분류기 학습\n",
        "print('#Train set score: {:.3f}'.format(clf.score(X_train_tfidf, y_train))) # train data 예측정확도\n",
        "print('#Test set score: {:.3f}'.format(clf.score(X_test_tfidf, y_test))) # test data 예측정확도"
      ]
    },
    {
      "cell_type": "code",
      "execution_count": null,
      "metadata": {
        "id": "nP_5DBgKsVj3",
        "outputId": "e5d9de7f-2d28-4140-fd9d-e8da14578c65"
      },
      "outputs": [
        {
          "name": "stdout",
          "output_type": "stream",
          "text": [
            "실제영화제목, 예측한 제목, 리뷰\n",
            "('범죄도시', '신과함께', '오랜만에 잼나는 영화 봤습니다.  다음에 더 재미있는 영화 기대하겠습니다.')\n",
            "('범죄도시', '범죄도시', '조연들이 눈에 박힌다. 간만에 집중 ㅎ')\n",
            "('코코', '코코', '대감동을 선사. 인사이드 아웃을 잇는 픽사의 감동스토리. 신과함께의 멕시코판이라고나할까요??')\n",
            "('신과함께', '신과함께', '돈이 안아까웠던 영화ᆞᆞ  정말 좋았다')\n",
            "('신과함께', '신과함께', '역시 김용화감독이 영화는 잘 만들어요. 이제 VFX 제작 부문도 헐리우드 수준 이상입니다.')\n",
            "('택시운전사', '택시운전사', '민주화를 위해 힘써주신 분들께 감사하는 마음으로 살아야겠다.')\n",
            "('신과함께', '신과함께', '잠만 자다 왔음')\n",
            "('신과함께', '신과함께', '오랜만에 잼있고 좋은 영화를 봤다')\n",
            "('범죄도시', '신과함께', '잼남')\n",
            "('범죄도시', '인피니티 워', '대박~~')\n"
          ]
        }
      ],
      "source": [
        "print('실제영화제목, 예측한 제목, 리뷰')\n",
        "for content in zip(y_test[:10], clf.predict(X_test_tfidf[:10]), X_test[:10]):\n",
        "    print(content)"
      ]
    },
    {
      "cell_type": "markdown",
      "metadata": {
        "id": "RnjulqdusVj3"
      },
      "source": [
        "### 성능을 개선하기 위한 노력\n"
      ]
    },
    {
      "cell_type": "code",
      "execution_count": null,
      "metadata": {
        "id": "yRfjGZbAsVj4",
        "outputId": "853d2af1-bcb2-4350-bd9a-1cdac89a4f72"
      },
      "outputs": [
        {
          "name": "stdout",
          "output_type": "stream",
          "text": [
            "#Train set score: 0.777\n",
            "#Test set score: 0.695\n"
          ]
        }
      ],
      "source": [
        "tfidf = TfidfVectorizer(tokenizer=okt.morphs, max_features=2000, min_df=5, max_df=0.5) # 명사 대신 모든 형태소를 사용\n",
        "X_train_tfidf = tfidf.fit_transform(X_train)\n",
        "X_test_tfidf = tfidf.transform(X_test)\n",
        "\n",
        "clf = LogisticRegression(max_iter=1000) # 충분한 학습을 위해 max_iter를 1,000으로 설정, 기본은 100\n",
        "clf.fit(X_train_tfidf, y_train)\n",
        "print('#Train set score: {:.3f}'.format(clf.score(X_train_tfidf, y_train))) # train data 예측정확도\n",
        "print('#Test set score: {:.3f}'.format(clf.score(X_test_tfidf, y_test))) # test data 예측정확도"
      ]
    },
    {
      "cell_type": "code",
      "execution_count": null,
      "metadata": {
        "id": "EDPBYyMNsVj4",
        "outputId": "da5d6172-bb70-41fd-ce54-ed800f5a4516"
      },
      "outputs": [
        {
          "name": "stdout",
          "output_type": "stream",
          "text": [
            "#Train set score: 0.784\n",
            "#Test set score: 0.712\n"
          ]
        }
      ],
      "source": [
        "def twit_tokenizer(text): #전체를 다 사용하는 대신, 명사, 동사, 형용사를 사용\n",
        "    target_tags = ['Noun', 'Verb', 'Adjective']\n",
        "    result = []\n",
        "    for word, tag in okt.pos(text, norm=True, stem=True):\n",
        "        if tag in target_tags:\n",
        "            result.append(word)\n",
        "    return result\n",
        "\n",
        "tfidf = TfidfVectorizer(tokenizer=twit_tokenizer, max_features=2000, min_df=5, max_df=0.5) #명사, 동사, 형용사를 이용하여 tfidf 생성\n",
        "X_train_tfidf = tfidf.fit_transform(X_train)\n",
        "X_test_tfidf = tfidf.transform(X_test)\n",
        "\n",
        "clf = LogisticRegression(max_iter=1000) # 충분한 학습을 위해 max_iter를 1,000으로 설정, 기본은 100\n",
        "clf.fit(X_train_tfidf, y_train)\n",
        "print('#Train set score: {:.3f}'.format(clf.score(X_train_tfidf, y_train))) # train data 예측정확도\n",
        "print('#Test set score: {:.3f}'.format(clf.score(X_test_tfidf, y_test))) # test data 예측정확도"
      ]
    },
    {
      "cell_type": "code",
      "execution_count": null,
      "metadata": {
        "id": "lb3UEyMmsVj4",
        "outputId": "58cdea8e-2db3-4ae5-a183-d65b1b70a9c6"
      },
      "outputs": [
        {
          "name": "stdout",
          "output_type": "stream",
          "text": [
            "['몰입/Noun', '하다/Verb', '없다/Adjective', './Punctuation', '어렵다/Adjective', '생각/Noun', '하다/Verb', '필요없다/Adjective', './Punctuation', '내/Noun', '가/Josa', '전투/Noun', '에/Josa', '참여/Noun', '한/Determiner', '듯/Noun', '손/Noun', '에/Josa', '땀/Noun', '이남/Noun', './Punctuation']\n"
          ]
        }
      ],
      "source": [
        "# 모든 형태소를 다 사용하고 품사를 알 수 있도록 하면?\n",
        "def twit_tokenizer2(text):\n",
        "    result = []\n",
        "    for word, tag in okt.pos(text, norm=True, stem=True):\n",
        "        result.append('/'.join([word, tag])) #단어의 품사를 구분할 수 있도록 함\n",
        "    return result\n",
        "\n",
        "print(twit_tokenizer2(X_train[1]))"
      ]
    },
    {
      "cell_type": "code",
      "execution_count": null,
      "metadata": {
        "id": "bwKEBR1isVj5",
        "outputId": "55e538b7-695a-4b7d-852b-3dd0ed255855"
      },
      "outputs": [
        {
          "name": "stdout",
          "output_type": "stream",
          "text": [
            "#Train set score: 0.789\n",
            "#Test set score: 0.718\n"
          ]
        }
      ],
      "source": [
        "tfidf = TfidfVectorizer(tokenizer=twit_tokenizer2, max_features=2000, min_df=5, max_df=0.5)\n",
        "X_train_tfidf = tfidf.fit_transform(X_train)\n",
        "X_test_tfidf = tfidf.transform(X_test)\n",
        "\n",
        "clf = LogisticRegression(max_iter=1000) # 충분한 학습을 위해 max_iter를 1,000으로 설정, 기본은 100\n",
        "clf.fit(X_train_tfidf, y_train)\n",
        "print('#Train set score: {:.3f}'.format(clf.score(X_train_tfidf, y_train))) # train data 예측정확도\n",
        "print('#Test set score: {:.3f}'.format(clf.score(X_test_tfidf, y_test))) # test data 예측정확도"
      ]
    },
    {
      "cell_type": "code",
      "execution_count": null,
      "metadata": {
        "id": "Pt5nah5QsVj5",
        "outputId": "22937e2d-4fa6-4d9d-f3a3-7707720563a0"
      },
      "outputs": [
        {
          "name": "stdout",
          "output_type": "stream",
          "text": [
            "#Max alpha 1.600 at max validation score 0.727\n"
          ]
        }
      ],
      "source": [
        "import numpy as np\n",
        "from sklearn.model_selection import train_test_split\n",
        "\n",
        "X_train_ridge, X_val_ridge, y_train_ridge, y_val_ridge = train_test_split(\n",
        "    X_train_tfidf, y_train, test_size=0.2, random_state=42)\n",
        "\n",
        "max_score = 0\n",
        "max_alpha = 0\n",
        "for alpha in np.arange(0.1, 10, 0.1): # alpha를 0.1부터 10까지 0.1씩 증가\n",
        "    ridge_clf = RidgeClassifier(alpha=alpha) #릿지 분류기 선언\n",
        "    ridge_clf.fit(X_train_ridge, y_train_ridge) #학습\n",
        "    score = ridge_clf.score(X_val_ridge, y_val_ridge) #검정 데이터셋에 대해 정확도를 측정\n",
        "    if score > max_score: #정확도가 이전의 정확도 최대값보다 크면 최대값을 변경한다.\n",
        "        max_score = score\n",
        "        max_alpha = alpha\n",
        "print('#Max alpha {:.3f} at max validation score {:.3f}'.format(max_alpha, max_score))"
      ]
    },
    {
      "cell_type": "code",
      "execution_count": null,
      "metadata": {
        "id": "3uNBeunssVj5",
        "outputId": "5a3d8047-355a-45b4-934e-46ee9b4714c3"
      },
      "outputs": [
        {
          "name": "stdout",
          "output_type": "stream",
          "text": [
            "#Ridge Train set score: 0.807\n",
            "#Ridge Test set score: 0.726\n",
            "#Lasso Train set score: 0.703\n",
            "#Lasso Test set score: 0.696\n",
            "#Used features count: 956 out of 2000\n"
          ]
        }
      ],
      "source": [
        "from sklearn.linear_model import RidgeClassifier\n",
        "\n",
        "ridge_clf = RidgeClassifier(alpha=1.6)\n",
        "ridge_clf.fit(X_train_tfidf, y_train)\n",
        "print('#Ridge Train set score: {:.3f}'.format(ridge_clf.score(X_train_tfidf, y_train)))\n",
        "print('#Ridge Test set score: {:.3f}'.format(ridge_clf.score(X_test_tfidf, y_test)))\n",
        "\n",
        "from sklearn.linear_model import LogisticRegression\n",
        "import numpy as np\n",
        "lasso_clf = LogisticRegression(penalty='l1', solver='liblinear', C=0.5)\n",
        "lasso_clf.fit(X_train_tfidf, y_train)\n",
        "print('#Lasso Train set score: {:.3f}'.format(lasso_clf.score(X_train_tfidf, y_train)))\n",
        "print('#Lasso Test set score: {:.3f}'.format(lasso_clf.score(X_test_tfidf, y_test)))\n",
        "print('#Used features count: {}'.format(np.sum(lasso_clf.coef_ != 0)), 'out of', X_train_tfidf.shape[1])"
      ]
    },
    {
      "cell_type": "code",
      "execution_count": null,
      "metadata": {
        "id": "00t27-NfsVj5",
        "outputId": "988e934e-0fc8-4464-8185-a55c1ea8c261"
      },
      "outputs": [
        {
          "name": "stdout",
          "output_type": "stream",
          "text": [
            "Train set score: 0.768\n",
            "Test set score: 0.704\n"
          ]
        }
      ],
      "source": [
        "from sklearn.naive_bayes import MultinomialNB\n",
        "\n",
        "NB_clf = MultinomialNB(alpha=0.1)\n",
        "NB_clf.fit(X_train_tfidf, y_train)\n",
        "print('Train set score: {:.3f}'.format(NB_clf.score(X_train_tfidf, y_train)))\n",
        "print('Test set score: {:.3f}'.format(NB_clf.score(X_test_tfidf, y_test)))"
      ]
    },
    {
      "cell_type": "code",
      "execution_count": null,
      "metadata": {
        "id": "-oLctGLnsVj6"
      },
      "outputs": [],
      "source": []
    }
  ],
  "metadata": {
    "kernelspec": {
      "display_name": "Python 3 (ipykernel)",
      "language": "python",
      "name": "python3"
    },
    "language_info": {
      "codemirror_mode": {
        "name": "ipython",
        "version": 3
      },
      "file_extension": ".py",
      "mimetype": "text/x-python",
      "name": "python",
      "nbconvert_exporter": "python",
      "pygments_lexer": "ipython3",
      "version": "3.8.0"
    },
    "toc": {
      "base_numbering": 1,
      "nav_menu": {},
      "number_sections": true,
      "sideBar": true,
      "skip_h1_title": false,
      "title_cell": "Table of Contents",
      "title_sidebar": "Contents",
      "toc_cell": true,
      "toc_position": {
        "height": "calc(100% - 180px)",
        "left": "10px",
        "top": "150px",
        "width": "165px"
      },
      "toc_section_display": true,
      "toc_window_display": true
    },
    "varInspector": {
      "cols": {
        "lenName": 16,
        "lenType": 16,
        "lenVar": 40
      },
      "kernels_config": {
        "python": {
          "delete_cmd_postfix": "",
          "delete_cmd_prefix": "del ",
          "library": "var_list.py",
          "varRefreshCmd": "print(var_dic_list())"
        },
        "r": {
          "delete_cmd_postfix": ") ",
          "delete_cmd_prefix": "rm(",
          "library": "var_list.r",
          "varRefreshCmd": "cat(var_dic_list()) "
        }
      },
      "types_to_exclude": [
        "module",
        "function",
        "builtin_function_or_method",
        "instance",
        "_Feature"
      ],
      "window_display": false
    },
    "colab": {
      "provenance": [],
      "include_colab_link": true
    }
  },
  "nbformat": 4,
  "nbformat_minor": 0
}