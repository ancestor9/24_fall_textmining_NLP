{
  "cells": [
    {
      "cell_type": "markdown",
      "metadata": {
        "id": "view-in-github",
        "colab_type": "text"
      },
      "source": [
        "<a href=\"https://colab.research.google.com/github/ancestor9/24_fall_textmining_NLP/blob/main/Ch_07_%ED%86%A0%ED%94%BD%EB%AA%A8%EB%8D%B8%EB%A7%81.ipynb\" target=\"_parent\"><img src=\"https://colab.research.google.com/assets/colab-badge.svg\" alt=\"Open In Colab\"/></a>"
      ]
    },
    {
      "cell_type": "markdown",
      "id": "8dda7647",
      "metadata": {
        "id": "8dda7647"
      },
      "source": [
        "# Chapter 7. 토픽 모델링으로 주제 찾기\n",
        "<img src = 'http://i.imgur.com/r5e5qvs.png'>"
      ]
    },
    {
      "cell_type": "markdown",
      "id": "6e8fc0c1",
      "metadata": {
        "id": "6e8fc0c1"
      },
      "source": [
        "## 7.2 사이킷런을 이용한 토픽 모델링\n",
        "\n",
        "### 7.2.1 데이터 준비"
      ]
    },
    {
      "cell_type": "code",
      "execution_count": null,
      "id": "0bdc3f72",
      "metadata": {
        "colab": {
          "base_uri": "https://localhost:8080/"
        },
        "id": "0bdc3f72",
        "outputId": "b7c2eb53-d7af-4902-e42a-e815edbfbd33"
      },
      "outputs": [
        {
          "output_type": "stream",
          "name": "stderr",
          "text": [
            "/usr/local/lib/python3.10/dist-packages/ipykernel/ipkernel.py:283: DeprecationWarning: `should_run_async` will not call `transform_cell` automatically in the future. Please pass the result to `transformed_cell` argument and any exception that happen during thetransform in `preprocessing_exc_tuple` in IPython 7.17 and above.\n",
            "  and should_run_async(code)\n"
          ]
        },
        {
          "output_type": "stream",
          "name": "stdout",
          "text": [
            "#Train set size: 2742\n",
            "#Selected categories: ['comp.graphics', 'rec.autos', 'sci.med', 'sci.space', 'talk.religion.misc']\n"
          ]
        }
      ],
      "source": [
        "from sklearn.datasets import fetch_20newsgroups\n",
        "\n",
        "categories = ['rec.autos', 'talk.religion.misc', 'comp.graphics', 'sci.space', 'sci.med']\n",
        "\n",
        "#학습 데이터셋을 가져옴\n",
        "newsgroups_train = fetch_20newsgroups(subset='train', categories=categories)\n",
        "\n",
        "print('#Train set size:', len(newsgroups_train.data))\n",
        "print('#Selected categories:', newsgroups_train.target_names)"
      ]
    },
    {
      "cell_type": "code",
      "execution_count": null,
      "id": "d0f7a323",
      "metadata": {
        "colab": {
          "base_uri": "https://localhost:8080/"
        },
        "id": "d0f7a323",
        "outputId": "62cc9145-11b2-4de0-8f01-66585c950b91"
      },
      "outputs": [
        {
          "output_type": "stream",
          "name": "stderr",
          "text": [
            "/usr/local/lib/python3.10/dist-packages/ipykernel/ipkernel.py:283: DeprecationWarning: `should_run_async` will not call `transform_cell` automatically in the future. Please pass the result to `transformed_cell` argument and any exception that happen during thetransform in `preprocessing_exc_tuple` in IPython 7.17 and above.\n",
            "  and should_run_async(code)\n",
            "<>:3: DeprecationWarning: invalid escape sequence '\\w'\n",
            "<>:3: DeprecationWarning: invalid escape sequence '\\w'\n",
            "<ipython-input-24-3732477f9434>:3: DeprecationWarning: invalid escape sequence '\\w'\n",
            "  cv = CountVectorizer(token_pattern=\"[\\w']{3,}\", stop_words='english',\n"
          ]
        }
      ],
      "source": [
        "from sklearn.feature_extraction.text import CountVectorizer\n",
        "\n",
        "cv = CountVectorizer(token_pattern=\"[\\w']{3,}\", stop_words='english',\n",
        "                     max_features=2000, min_df=5, max_df=0.5)\n",
        "review_cv = cv.fit_transform(newsgroups_train.data)"
      ]
    },
    {
      "cell_type": "markdown",
      "id": "117b78a8",
      "metadata": {
        "id": "117b78a8"
      },
      "source": [
        "### 7.2.2 LDA 토픽 모델링 실행"
      ]
    },
    {
      "cell_type": "code",
      "execution_count": null,
      "id": "da26c423",
      "metadata": {
        "colab": {
          "base_uri": "https://localhost:8080/"
        },
        "id": "da26c423",
        "outputId": "0bbf9356-9cea-4472-8b18-dea20f5bca85"
      },
      "outputs": [
        {
          "output_type": "stream",
          "name": "stderr",
          "text": [
            "/usr/local/lib/python3.10/dist-packages/ipykernel/ipkernel.py:283: DeprecationWarning: `should_run_async` will not call `transform_cell` automatically in the future. Please pass the result to `transformed_cell` argument and any exception that happen during thetransform in `preprocessing_exc_tuple` in IPython 7.17 and above.\n",
            "  and should_run_async(code)\n"
          ]
        },
        {
          "output_type": "stream",
          "name": "stdout",
          "text": [
            "#shape of review_topics: (2742, 5)\n",
            "#Sample of review_topics: [0.957 0.011 0.011 0.011 0.011]\n",
            "#Sum of topic weights of documents: [0.212 0.162 0.082 0.241 0.302]\n",
            "#shape of topic word distribution: (5, 2000)\n"
          ]
        }
      ],
      "source": [
        "from sklearn.decomposition import LatentDirichletAllocation\n",
        "import numpy as np\n",
        "np.set_printoptions(precision=3)\n",
        "\n",
        "lda = LatentDirichletAllocation(n_components = 5, #추출할 topic의 수\n",
        "                                random_state=0)\n",
        "\n",
        "review_topics = lda.fit_transform(review_cv)\n",
        "print('#shape of review_topics:', review_topics.shape)\n",
        "print('#Sample of review_topics:', review_topics[0])\n",
        "\n",
        "gross_topic_weights = np.mean(review_topics, axis=0)\n",
        "print('#Sum of topic weights of documents:', gross_topic_weights)\n",
        "\n",
        "print('#shape of topic word distribution:', lda.components_.shape)"
      ]
    },
    {
      "cell_type": "code",
      "execution_count": null,
      "id": "3662b1ae",
      "metadata": {
        "colab": {
          "base_uri": "https://localhost:8080/"
        },
        "id": "3662b1ae",
        "outputId": "02f1fdba-5a36-419c-c23e-33c64c6c7d70"
      },
      "outputs": [
        {
          "output_type": "stream",
          "name": "stdout",
          "text": [
            "Topic #0: com, space, posting, nasa, nntp, host, just, like, access, gov\n",
            "Topic #1: com, people, god, jesus, msg, health, food, know, christian, don't\n",
            "Topic #2: space, nasa, data, ___, gov, 1993, information, center, research, satellite\n",
            "Topic #3: graphics, image, com, university, pitt, posting, file, host, computer, nntp\n",
            "Topic #4: com, car, like, just, don't, think, good, it's, time, i'm\n",
            "\n"
          ]
        },
        {
          "output_type": "stream",
          "name": "stderr",
          "text": [
            "/usr/local/lib/python3.10/dist-packages/ipykernel/ipkernel.py:283: DeprecationWarning: `should_run_async` will not call `transform_cell` automatically in the future. Please pass the result to `transformed_cell` argument and any exception that happen during thetransform in `preprocessing_exc_tuple` in IPython 7.17 and above.\n",
            "  and should_run_async(code)\n"
          ]
        }
      ],
      "source": [
        "def print_top_words(model, feature_names, n_top_words):\n",
        "    for topic_idx, topic in enumerate(model.components_):\n",
        "        print(\"Topic #%d: \" % topic_idx, end='')\n",
        "        print(\", \".join([feature_names[i] for i in topic.argsort()[:-n_top_words - 1:-1]]))\n",
        "        #print(\", \".join([feature_names[i]+'('+str(topic[i])+')' for i in topic.argsort()[:-n_top_words - 1:-1]]))\n",
        "        # 위 slicing에서 맨 뒤 -1은 역순을 의미, 역순으로 했을 때 처음부터 n_top_words까지\n",
        "    print()\n",
        "\n",
        "print_top_words(lda,cv.get_feature_names_out(), 10)"
      ]
    },
    {
      "cell_type": "markdown",
      "id": "b79db881",
      "metadata": {
        "id": "b79db881"
      },
      "source": [
        "### 2.3 최적의 토픽 수 선택하기\n"
      ]
    },
    {
      "cell_type": "code",
      "execution_count": null,
      "id": "967db96b",
      "metadata": {
        "colab": {
          "base_uri": "https://localhost:8080/",
          "height": 650
        },
        "id": "967db96b",
        "outputId": "77787c01-16b7-472f-df4a-4a25e3458e58"
      },
      "outputs": [
        {
          "output_type": "stream",
          "name": "stderr",
          "text": [
            "/usr/local/lib/python3.10/dist-packages/ipykernel/ipkernel.py:283: DeprecationWarning: `should_run_async` will not call `transform_cell` automatically in the future. Please pass the result to `transformed_cell` argument and any exception that happen during thetransform in `preprocessing_exc_tuple` in IPython 7.17 and above.\n",
            "  and should_run_async(code)\n"
          ]
        },
        {
          "output_type": "stream",
          "name": "stdout",
          "text": [
            "n_components: 3, perplexity: 1137.190\n",
            "n_components: 4, perplexity: 1108.387\n",
            "n_components: 5, perplexity: 1084.245\n",
            "n_components: 6, perplexity: 1060.164\n",
            "n_components: 7, perplexity: 1014.163\n",
            "n_components: 8, perplexity: 1008.310\n",
            "n_components: 9, perplexity: 1001.226\n",
            "n_components: 10, perplexity: 989.262\n"
          ]
        },
        {
          "output_type": "display_data",
          "data": {
            "text/plain": [
              "<Figure size 640x480 with 1 Axes>"
            ],
            "image/png": "[encoded data removed]"
          },
          "metadata": {}
        },
        {
          "output_type": "stream",
          "name": "stdout",
          "text": [
            "n_components with minimum perplexity: 10\n"
          ]
        }
      ],
      "source": [
        "import matplotlib.pyplot as plt\n",
        "%matplotlib inline\n",
        "\n",
        "def show_perplexity(cv, start, end):\n",
        "    iter_num = []\n",
        "    per_value = []\n",
        "\n",
        "    for i in range(start, end + 1):\n",
        "        lda = LatentDirichletAllocation(n_components = i,\n",
        "                                        random_state=7)\n",
        "        lda.fit(cv)\n",
        "        iter_num.append(i)\n",
        "        pv = lda.perplexity(cv)\n",
        "        per_value.append(pv)\n",
        "        print(f'n_components: {i}, perplexity: {pv:0.3f}')\n",
        "\n",
        "    plt.plot(iter_num, per_value, 'g-')\n",
        "    plt.show()\n",
        "    return start + per_value.index(min(per_value))\n",
        "\n",
        "print(\"n_components with minimum perplexity:\",\n",
        "      show_perplexity(review_cv, start=3, end=10))"
      ]
    },
    {
      "cell_type": "code",
      "execution_count": null,
      "id": "e30ace14",
      "metadata": {
        "colab": {
          "base_uri": "https://localhost:8080/"
        },
        "id": "e30ace14",
        "outputId": "ad411546-b18e-4e7d-a286-50c739549aec"
      },
      "outputs": [
        {
          "output_type": "stream",
          "name": "stderr",
          "text": [
            "/usr/local/lib/python3.10/dist-packages/ipykernel/ipkernel.py:283: DeprecationWarning: `should_run_async` will not call `transform_cell` automatically in the future. Please pass the result to `transformed_cell` argument and any exception that happen during thetransform in `preprocessing_exc_tuple` in IPython 7.17 and above.\n",
            "  and should_run_async(code)\n"
          ]
        },
        {
          "output_type": "stream",
          "name": "stdout",
          "text": [
            "Topic #0: com, msg, health, medical, food, people, university, like, know, use\n",
            "Topic #1: com, nasa, access, posting, space, gov, nntp, host, just, people\n",
            "Topic #2: graphics, image, data, software, university, program, available, use, information, file\n",
            "Topic #3: com, car, just, don't, like, think, people, good, know, i'm\n",
            "Topic #4: space, launch, orbit, henry, nasa, toronto, earth, uiuc, lunar, moon\n",
            "\n"
          ]
        }
      ],
      "source": [
        "lda = LatentDirichletAllocation(n_components = 5, #추출할 topic의 수를 지정\n",
        "                                random_state=7)\n",
        "\n",
        "review_topics = lda.fit_transform(review_cv)\n",
        "\n",
        "print_top_words(lda, cv.get_feature_names_out(), 10)"
      ]
    },
    {
      "cell_type": "markdown",
      "id": "c521513b",
      "metadata": {
        "id": "c521513b"
      },
      "source": [
        "## 7.3 Gensim을 이용한 토픽 모델링\n"
      ]
    },
    {
      "cell_type": "markdown",
      "id": "47e1acaf",
      "metadata": {
        "id": "47e1acaf"
      },
      "source": [
        "### 7.3.1 Gensim 사용법과 시각화"
      ]
    },
    {
      "cell_type": "code",
      "execution_count": null,
      "id": "e387f2f6",
      "metadata": {
        "colab": {
          "base_uri": "https://localhost:8080/"
        },
        "id": "e387f2f6",
        "outputId": "6360c61b-b451-414a-c4c0-9d1531404c00"
      },
      "outputs": [
        {
          "output_type": "stream",
          "name": "stderr",
          "text": [
            "[nltk_data] Downloading package stopwords to /root/nltk_data...\n",
            "[nltk_data]   Unzipping corpora/stopwords.zip.\n"
          ]
        },
        {
          "output_type": "execute_result",
          "data": {
            "text/plain": [
              "True"
            ]
          },
          "metadata": {},
          "execution_count": 10
        }
      ],
      "source": [
        "!pip install --upgrade gensim --quiet\n",
        "import nltk\n",
        "nltk.download('stopwords')"
      ]
    },
    {
      "cell_type": "code",
      "execution_count": null,
      "id": "5efd2068",
      "metadata": {
        "colab": {
          "base_uri": "https://localhost:8080/"
        },
        "id": "5efd2068",
        "outputId": "a60ef93c-0a9c-4ca4-b5e9-fce5d1c27e69"
      },
      "outputs": [
        {
          "output_type": "stream",
          "name": "stderr",
          "text": [
            "/usr/local/lib/python3.10/dist-packages/ipykernel/ipkernel.py:283: DeprecationWarning: `should_run_async` will not call `transform_cell` automatically in the future. Please pass the result to `transformed_cell` argument and any exception that happen during thetransform in `preprocessing_exc_tuple` in IPython 7.17 and above.\n",
            "  and should_run_async(code)\n",
            "<>:7: DeprecationWarning: invalid escape sequence '\\w'\n",
            "<>:7: DeprecationWarning: invalid escape sequence '\\w'\n",
            "<ipython-input-32-d970226f09a5>:7: DeprecationWarning: invalid escape sequence '\\w'\n",
            "  RegTok = RegexpTokenizer(\"[\\w']{3,}\") # 정규포현식으로 토크나이저를 정의\n"
          ]
        }
      ],
      "source": [
        "# 필요한 library들을 import\n",
        "from nltk.corpus import stopwords\n",
        "from nltk.tokenize import RegexpTokenizer\n",
        "\n",
        "cachedStopWords = stopwords.words(\"english\")\n",
        "\n",
        "RegTok = RegexpTokenizer(\"[\\w']{3,}\") # 정규포현식으로 토크나이저를 정의\n",
        "english_stops = set(stopwords.words('english')) #영어 불용어를 가져옴\n",
        "\n",
        "def tokenizer(text):\n",
        "    tokens = RegTok.tokenize(text.lower())\n",
        "    # stopwords 제외\n",
        "    words = [word for word in tokens if (word not in english_stops) and len(word) > 2]\n",
        "    return words\n",
        "\n",
        "texts = [tokenizer(news) for news in newsgroups_train.data]"
      ]
    },
    {
      "cell_type": "code",
      "execution_count": null,
      "id": "990c82b5",
      "metadata": {
        "colab": {
          "base_uri": "https://localhost:8080/"
        },
        "id": "990c82b5",
        "outputId": "5de39257-f23c-4a51-84ad-a8b631001739"
      },
      "outputs": [
        {
          "output_type": "stream",
          "name": "stderr",
          "text": [
            "/usr/local/lib/python3.10/dist-packages/ipykernel/ipkernel.py:283: DeprecationWarning: `should_run_async` will not call `transform_cell` automatically in the future. Please pass the result to `transformed_cell` argument and any exception that happen during thetransform in `preprocessing_exc_tuple` in IPython 7.17 and above.\n",
            "  and should_run_async(code)\n"
          ]
        },
        {
          "output_type": "stream",
          "name": "stdout",
          "text": [
            "#Number of initial unique words in documents: 42677\n",
            "#Number of unique words after removing rare and common words: 2000\n",
            "#Number of unique tokens: 2000\n",
            "#Number of documents: 2742\n"
          ]
        }
      ],
      "source": [
        "from gensim.corpora.dictionary import Dictionary\n",
        "\n",
        "# 토큰화 결과로부터 dictionay 생성\n",
        "dictionary = Dictionary(texts)\n",
        "print('#Number of initial unique words in documents:', len(dictionary))\n",
        "\n",
        "# 문서 빈도수가 너무 적거나 높은 단어를 필터링하고 특성을 단어의 빈도 순으로 선택\n",
        "dictionary.filter_extremes(keep_n=2000, no_below=5, no_above=0.5)\n",
        "print('#Number of unique words after removing rare and common words:', len(dictionary))\n",
        "\n",
        "# 카운트 벡터로 변환\n",
        "corpus = [dictionary.doc2bow(text) for text in texts]\n",
        "print('#Number of unique tokens: %d' % len(dictionary))\n",
        "print('#Number of documents: %d' % len(corpus))"
      ]
    },
    {
      "cell_type": "code",
      "execution_count": null,
      "id": "0a0b12a5",
      "metadata": {
        "colab": {
          "base_uri": "https://localhost:8080/"
        },
        "id": "0a0b12a5",
        "outputId": "7f9e4e76-8f96-481f-d254-870957eedeff"
      },
      "outputs": [
        {
          "output_type": "stream",
          "name": "stderr",
          "text": [
            "/usr/local/lib/python3.10/dist-packages/ipykernel/ipkernel.py:283: DeprecationWarning: `should_run_async` will not call `transform_cell` automatically in the future. Please pass the result to `transformed_cell` argument and any exception that happen during thetransform in `preprocessing_exc_tuple` in IPython 7.17 and above.\n",
            "  and should_run_async(code)\n",
            "WARNING:gensim.models.ldamodel:too few updates, training might not converge; consider increasing the number of passes or iterations to improve accuracy\n"
          ]
        }
      ],
      "source": [
        "from gensim.models import LdaModel\n",
        "\n",
        "num_topics = 5\n",
        "\n",
        "model = LdaModel(corpus= corpus,\n",
        "                       id2word= dictionary,\n",
        "                       num_topics= num_topics,\n",
        "                       random_state=7)"
      ]
    },
    {
      "cell_type": "code",
      "execution_count": null,
      "id": "c01b0331",
      "metadata": {
        "colab": {
          "base_uri": "https://localhost:8080/"
        },
        "id": "c01b0331",
        "outputId": "5c6609e3-82ce-4a7c-93ee-dee4e28ed98f"
      },
      "outputs": [
        {
          "output_type": "stream",
          "name": "stderr",
          "text": [
            "/usr/local/lib/python3.10/dist-packages/ipykernel/ipkernel.py:283: DeprecationWarning: `should_run_async` will not call `transform_cell` automatically in the future. Please pass the result to `transformed_cell` argument and any exception that happen during thetransform in `preprocessing_exc_tuple` in IPython 7.17 and above.\n",
            "  and should_run_async(code)\n"
          ]
        },
        {
          "output_type": "execute_result",
          "data": {
            "text/plain": [
              "[(0,\n",
              "  '0.009*\"space\" + 0.007*\"would\" + 0.007*\"com\" + 0.006*\"___\" + 0.006*\"one\" + 0.005*\"university\" + 0.005*\"nasa\" + 0.005*\"software\" + 0.005*\"people\" + 0.005*\"like\"'),\n",
              " (1,\n",
              "  '0.015*\"space\" + 0.007*\"car\" + 0.007*\"com\" + 0.007*\"would\" + 0.007*\"nasa\" + 0.005*\"one\" + 0.005*\"like\" + 0.005*\"use\" + 0.005*\"get\" + 0.005*\"new\"'),\n",
              " (2,\n",
              "  '0.013*\"com\" + 0.012*\"one\" + 0.010*\"would\" + 0.006*\"people\" + 0.005*\"like\" + 0.005*\"posting\" + 0.005*\"see\" + 0.005*\"get\" + 0.004*\"also\" + 0.004*\"use\"'),\n",
              " (3,\n",
              "  '0.011*\"com\" + 0.010*\"would\" + 0.008*\"university\" + 0.007*\"one\" + 0.007*\"i\\'m\" + 0.006*\"posting\" + 0.006*\"get\" + 0.006*\"also\" + 0.006*\"know\" + 0.006*\"like\"'),\n",
              " (4,\n",
              "  '0.030*\"com\" + 0.008*\"pitt\" + 0.007*\"one\" + 0.007*\"gordon\" + 0.007*\"banks\" + 0.007*\"geb\" + 0.006*\"would\" + 0.006*\"like\" + 0.005*\"reply\" + 0.005*\"jesus\"')]"
            ]
          },
          "metadata": {},
          "execution_count": 37
        }
      ],
      "source": [
        "model.print_topics(num_words=10)"
      ]
    },
    {
      "cell_type": "code",
      "execution_count": null,
      "id": "3c612bb6",
      "metadata": {
        "colab": {
          "base_uri": "https://localhost:8080/"
        },
        "id": "3c612bb6",
        "outputId": "e19abc60-44f5-4608-bf32-f6362047d3bc"
      },
      "outputs": [
        {
          "output_type": "stream",
          "name": "stdout",
          "text": [
            "#topic distribution of the first document:  [(0, 0.0121492315), (1, 0.012041001), (2, 0.012011153), (3, 0.012062555), (4, 0.95173603)]\n"
          ]
        },
        {
          "output_type": "stream",
          "name": "stderr",
          "text": [
            "/usr/local/lib/python3.10/dist-packages/ipykernel/ipkernel.py:283: DeprecationWarning: `should_run_async` will not call `transform_cell` automatically in the future. Please pass the result to `transformed_cell` argument and any exception that happen during thetransform in `preprocessing_exc_tuple` in IPython 7.17 and above.\n",
            "  and should_run_async(code)\n"
          ]
        }
      ],
      "source": [
        "print(\"#topic distribution of the first document: \", model.get_document_topics(corpus)[0])"
      ]
    },
    {
      "cell_type": "code",
      "source": [
        "!pip install pyLDAvis --quiet"
      ],
      "metadata": {
        "colab": {
          "base_uri": "https://localhost:8080/"
        },
        "id": "RnFMvNJqXgtu",
        "outputId": "24fb18b2-11cf-482e-ebe6-730ab5dfa39c"
      },
      "id": "RnFMvNJqXgtu",
      "execution_count": null,
      "outputs": [
        {
          "output_type": "stream",
          "name": "stdout",
          "text": [
            "\u001b[2K   \u001b[90m━━━━━━━━━━━━━━━━━━━━━━━━━━━━━━━━━━━━━━━━\u001b[0m \u001b[32m2.6/2.6 MB\u001b[0m \u001b[31m13.4 MB/s\u001b[0m eta \u001b[36m0:00:00\u001b[0m\n",
            "\u001b[?25h"
          ]
        }
      ]
    },
    {
      "cell_type": "code",
      "execution_count": null,
      "id": "f91053c8",
      "metadata": {
        "scrolled": true,
        "colab": {
          "base_uri": "https://localhost:8080/",
          "height": 916
        },
        "id": "f91053c8",
        "outputId": "59e90501-b230-48ee-e37b-d9ca8ebce362"
      },
      "outputs": [
        {
          "output_type": "stream",
          "name": "stderr",
          "text": [
            "/usr/local/lib/python3.10/dist-packages/ipykernel/ipkernel.py:283: DeprecationWarning: `should_run_async` will not call `transform_cell` automatically in the future. Please pass the result to `transformed_cell` argument and any exception that happen during thetransform in `preprocessing_exc_tuple` in IPython 7.17 and above.\n",
            "  and should_run_async(code)\n"
          ]
        },
        {
          "output_type": "execute_result",
          "data": {
            "text/plain": [
              "PreparedData(topic_coordinates=              x         y  topics  cluster       Freq\n",
              "topic                                                \n",
              "3     -0.005497  0.040729       1        1  28.444669\n",
              "2     -0.001330  0.015071       2        1  21.796542\n",
              "0      0.029485 -0.017346       3        1  20.806797\n",
              "1      0.032759 -0.015602       4        1  16.315414\n",
              "4     -0.055417 -0.022853       5        1  12.636578, topic_info=            Term         Freq        Total Category  logprob  loglift\n",
              "1            com  3128.000000  3128.000000  Default  30.0000  30.0000\n",
              "54         space  1463.000000  1463.000000  Default  29.0000  29.0000\n",
              "458         pitt   406.000000   406.000000  Default  28.0000  28.0000\n",
              "28        gordon   317.000000   317.000000  Default  27.0000  27.0000\n",
              "1627         geb   288.000000   288.000000  Default  26.0000  26.0000\n",
              "...          ...          ...          ...      ...      ...      ...\n",
              "269         good   114.756867   925.555360   Topic5  -5.6390  -0.0190\n",
              "258        think   106.274935   972.568523   Topic5  -5.7158  -0.1453\n",
              "36    university   109.928868  1285.836885   Topic5  -5.6820  -0.3908\n",
              "375         also   102.879523  1133.624377   Topic5  -5.7483  -0.3310\n",
              "429       people   102.647584  1180.973568   Topic5  -5.7505  -0.3742\n",
              "\n",
              "[381 rows x 6 columns], token_table=      Topic      Freq     Term\n",
              "term                          \n",
              "1650      1  0.108728     1991\n",
              "1650      2  0.098844     1991\n",
              "1650      3  0.543642     1991\n",
              "1650      4  0.207572     1991\n",
              "1650      5  0.049422     1991\n",
              "...     ...       ...      ...\n",
              "1685      1  0.069691  zoology\n",
              "1685      2  0.650452  zoology\n",
              "1685      3  0.069691  zoology\n",
              "1685      4  0.069691  zoology\n",
              "1685      5  0.116152  zoology\n",
              "\n",
              "[1347 rows x 3 columns], R=30, lambda_step=0.01, plot_opts={'xlab': 'PC1', 'ylab': 'PC2'}, topic_order=[4, 3, 1, 2, 5])"
            ],
            "text/html": [
              "\n",
              "<link rel=\"stylesheet\" type=\"text/css\" href=\"https://cdn.jsdelivr.net/gh/bmabey/pyLDAvis@3.4.0/pyLDAvis/js/ldavis.v1.0.0.css\">\n",
              "\n",
              "\n",
              "<div id=\"ldavis_el3191389872007666724132067543\" style=\"background-color:white;\"></div>\n",
              "<script type=\"text/javascript\">\n",
              "\n",
              "var ldavis_el3191389872007666724132067543_data = {\"mdsDat\": {\"x\": [-0.005496520497239519, -0.0013299349689696845, 0.02948512510465684, 0.032758788840638146, -0.05541745847908579], \"y\": [0.040729392576728196, 0.01507134678379328, -0.017345566478472765, -0.015602137065602019, -0.0228530358164467], \"topics\": [1, 2, 3, 4, 5], \"cluster\": [1, 1, 1, 1, 1], \"Freq\": [28.44466897822034, 21.796541750749082, 20.806796680590413, 16.315414311297936, 12.63657827914223]}, \"tinfo\": {\"Term\": [\"com\", \"space\", \"pitt\", \"gordon\", \"geb\", \"banks\", \"___\", \"nasa\", \"jesus\", \"msg\", \"alaska\", \"god\", \"car\", \"reply\", \"station\", \"food\", \"pittsburgh\", \"robert\", \"intellect\", \"surrender\", \"1993\", \"chastity\", \"gov\", \"skepticism\", \"n3jxp\", \"dsl\", \"sandvik\", \"one\", \"ibm\", \"cadre\", \"tiff\", \"lehigh\", \"ns1\", \"windows\", \"uoknor\", \"viewer\", \"uokmax\", \"arm\", \"callison\", \"256\", \"colors\", \"ecn\", \"pov\", \"gun\", \"heavy\", \"pro\", \"pl9\", \"favor\", \"hello\", \"vga\", \"setting\", \"purdue\", \"homeopathy\", \"card\", \"video\", \"advance\", \"convert\", \"netters\", \"seattle\", \"significance\", \"newsreader\", \"thank\", \"brian\", \"color\", \"thanks\", \"i'm\", \"water\", \"anyone\", \"version\", \"please\", \"looking\", \"university\", \"mail\", \"netcom\", \"bit\", \"file\", \"good\", \"get\", \"would\", \"read\", \"think\", \"image\", \"also\", \"know\", \"want\", \"posting\", \"nntp\", \"car\", \"help\", \"com\", \"host\", \"like\", \"need\", \"people\", \"one\", \"use\", \"may\", \"time\", \"could\", \"even\", \"much\", \"rec\", \"sandvik\", \"autos\", \"radar\", \"kipling\", \"zoology\", \"kent\", \"man's\", \"engines\", \"vacuum\", \"alink\", \"parts\", \"moral\", \"newton\", \"apple\", \"ksand\", \"morality\", \"film\", \"lewis\", \"newsgroups\", \"toronto\", \"depending\", \"caltech\", \"proper\", \"utzoo\", \"vary\", \"pain\", \"henry\", \"foot\", \"speeds\", \"light\", \"zoo\", \"berkeley\", \"saw\", \"air\", \"object\", \"physical\", \"gas\", \"one\", \"costs\", \"values\", \"sun\", \"see\", \"would\", \"people\", \"com\", \"back\", \"many\", \"distribution\", \"order\", \"enough\", \"could\", \"used\", \"get\", \"time\", \"posting\", \"like\", \"two\", \"better\", \"use\", \"also\", \"even\", \"system\", \"new\", \"world\", \"way\", \"much\", \"car\", \"may\", \"host\", \"good\", \"nntp\", \"know\", \"first\", \"___\", \"_____\", \"____\", \"jet\", \"baalke\", \"routine\", \"magnus\", \"kelvin\", \"sphere\", \"jpl\", \"propulsion\", \"observatory\", \"comp\", \"spacecraft\", \"page\", \"radius\", \"telescope\", \"astronomy\", \"usc\", \"factor\", \"polygon\", \"stanford\", \"maryland\", \"ohio\", \"forwarded\", \"southern\", \"upper\", \"pasadena\", \"digest\", \"programming\", \"among\", \"april\", \"surface\", \"1991\", \"navy\", \"software\", \"flight\", \"points\", \"lab\", \"graphics\", \"1993\", \"health\", \"gif\", \"space\", \"satellite\", \"information\", \"nasa\", \"images\", \"file\", \"image\", \"data\", \"gov\", \"would\", \"send\", \"may\", \"two\", \"available\", \"center\", \"one\", \"university\", \"use\", \"people\", \"know\", \"com\", \"new\", \"system\", \"host\", \"like\", \"posting\", \"also\", \"nntp\", \"think\", \"much\", \"time\", \"world\", \"acad3\", \"jacked\", \"alaska\", \"fairbanks\", \"nsmca\", \"aurora\", \"jsc\", \"van\", \"option\", \"billion\", \"station\", \"profit\", \"uxa\", \"spdcc\", \"factory\", \"urbana\", \"exploration\", \"dyer\", \"500\", \"options\", \"age\", \"lights\", \"josh\", \"russian\", \"uiuc\", \"prices\", \"policy\", \"hopkins\", \"dodge\", \"shall\", \"jim\", \"space\", \"craig\", \"colorado\", \"saturn\", \"dealer\", \"rocket\", \"nasa\", \"car\", \"cso\", \"launch\", \"shuttle\", \"office\", \"well\", \"moon\", \"new\", \"program\", \"research\", \"years\", \"technology\", \"use\", \"much\", \"would\", \"get\", \"1993\", \"like\", \"make\", \"com\", \"one\", \"time\", \"university\", \"also\", \"year\", \"cars\", \"first\", \"host\", \"nntp\", \"posting\", \"could\", \"may\", \"think\", \"see\", \"know\", \"chastity\", \"dsl\", \"n3jxp\", \"skepticism\", \"cadre\", \"intellect\", \"shameful\", \"geb\", \"surrender\", \"gordon\", \"banks\", \"freenet\", \"cleveland\", \"japanese\", \"buffalo\", \"ins\", \"pitt\", \"vnet\", \"harvey\", \"sensitivity\", \"pittsburgh\", \"soon\", \"superstition\", \"msg\", \"faith\", \"temporary\", \"represents\", \"weight\", \"comet\", \"reserve\", \"christ\", \"att\", \"jesus\", \"robert\", \"com\", \"food\", \"ibm\", \"univ\", \"god\", \"reply\", \"science\", \"john\", \"one\", \"like\", \"posting\", \"would\", \"nasa\", \"know\", \"nntp\", \"host\", \"computer\", \"gov\", \"space\", \"good\", \"think\", \"university\", \"also\", \"people\"], \"Freq\": [3128.0, 1463.0, 406.0, 317.0, 288.0, 302.0, 383.0, 852.0, 402.0, 280.0, 197.0, 456.0, 993.0, 670.0, 235.0, 241.0, 155.0, 246.0, 97.0, 100.0, 466.0, 90.0, 540.0, 91.0, 90.0, 87.0, 181.0, 1981.0, 232.0, 87.0, 92.44848671130283, 73.68036976263721, 47.34655337420562, 158.2545572930708, 81.11027043426097, 65.21157891972621, 51.96653569954414, 50.78253701891139, 90.8959330488749, 64.81450704219255, 74.23392308495542, 75.37285703739303, 24.59260517521205, 50.51179350974914, 50.103995558903634, 32.328820431208655, 23.174565012385997, 18.027819180866665, 38.96155020212407, 48.700279375730936, 56.38580051188292, 64.69486714365928, 32.29619828628383, 57.979601147598395, 81.93006882585028, 65.44159125415986, 72.38414261686327, 21.696330734945224, 27.149849873326307, 20.489858880213472, 81.8812878113165, 68.80060253358552, 155.31027765003716, 184.07272732540972, 245.31484314334043, 476.82813447210924, 90.65809917891622, 320.5716116821142, 221.09317957522296, 276.8594087770996, 168.7648238701492, 575.0448387466774, 225.79257796721103, 124.23367660066744, 203.1574431206993, 212.47930981796574, 395.8955524135482, 441.10352040522224, 736.6623519097927, 223.3180132413816, 387.3468931232843, 272.212723306693, 433.55297360508956, 427.97588900291305, 243.73007321026355, 452.4004897089766, 399.3579305697581, 370.9009689327069, 204.9231991579677, 794.013334133318, 381.68274848892895, 426.06310500920273, 227.64767707946018, 375.49401135298314, 495.8819699995747, 324.76706642629784, 275.4665159079507, 255.1970531013322, 226.0901345457244, 221.5528829269552, 222.46143249353958, 111.87741386607574, 131.96236007778214, 104.04578159251822, 141.21877429770095, 11.57754148019999, 28.443997846734543, 78.45554631104811, 16.65027818595167, 57.75685525287897, 31.88010916617551, 13.871012900856634, 64.92358755695244, 84.68378458995996, 51.799152737299394, 105.0085670117529, 12.795682971258628, 100.62011835868483, 32.0618864174486, 31.242179836283118, 28.71637052930387, 100.9681092633213, 21.34977849649415, 44.00080855044509, 18.22511731965309, 13.79135799207103, 21.97418039027664, 67.90145718065259, 89.51874392544016, 31.974925948028858, 23.745783703629645, 94.23755942556167, 42.31359661135313, 97.4745026957322, 86.1017112962761, 81.92444680085632, 66.18491284866417, 46.10830242742858, 67.69423843596049, 676.2277806600769, 66.60175420766724, 74.27454318282487, 98.86876003353703, 258.77548888444096, 557.5071007409055, 343.005473429937, 717.1592915483934, 163.84140337723983, 224.59202230280835, 212.22485824855977, 114.98951142245596, 130.52171000016318, 218.9368769081255, 175.7182298647044, 254.3173539301577, 224.0916804915728, 262.7930742346123, 263.6902683542466, 172.35828103969712, 164.37060458276758, 227.3930552428483, 228.1039786244692, 181.66005129016045, 165.97106339429374, 194.15239798871195, 169.44302865588017, 171.36175721317022, 189.8374196256931, 199.04488820922143, 193.1794333803365, 206.59404960398052, 186.61024734038844, 187.33319654953658, 179.87358091793826, 165.91014376583948, 341.6358610613689, 99.30858521517168, 56.988736210418296, 51.50843377506567, 86.24834809069618, 51.82574445693332, 63.80158702373744, 66.23669283604178, 38.70926828730551, 134.14272505885833, 71.41834846841014, 57.646947974836685, 80.95294021423695, 96.73711402167699, 89.31536614363694, 70.81166570978377, 76.2127912392255, 60.37928417645031, 34.2995673856276, 36.908462207683634, 79.44588224925614, 48.45596024944695, 47.56652668410152, 65.53767722440098, 22.11890150507929, 40.97635898577785, 27.93102203834629, 23.94010796200924, 32.08860749108787, 38.349956919586134, 133.32800886117195, 137.02523203608405, 78.55479723215865, 54.50213850359725, 73.02265034517372, 245.82370228073822, 97.65629227419728, 84.96595560133457, 73.63460290489657, 222.09240245566141, 198.3406790587295, 163.81810074184105, 145.2887131202488, 464.90224858536527, 102.12679072268023, 201.37192802746725, 265.9648820714976, 150.5864342662034, 159.20130964601768, 200.3637383810743, 163.95301259808105, 179.27775500218107, 387.57430063382833, 137.6085470616793, 235.65845389242355, 187.4045800001654, 165.33673123951144, 145.49383950940813, 340.72779763580917, 267.25157946879716, 234.4807646811855, 243.72404528611776, 234.52138915724385, 362.76947057693224, 203.87734733609182, 174.1808182261725, 223.85108105257422, 239.44919748116058, 233.3333830114648, 199.94624890406675, 197.80110585632008, 189.6925148649466, 183.8526845794352, 184.220890282808, 172.8484615897952, 51.84563722327008, 26.29830817830186, 142.29624535161804, 18.99325625422131, 62.31221216336736, 67.12598360647215, 66.54880653362076, 24.799218724771887, 43.240133873805114, 96.2228444630515, 139.33205084633846, 59.658673987877336, 49.311939290907056, 45.47618819936655, 24.70197250700436, 36.0089108436879, 46.83200917332026, 84.54327809774173, 39.26671127709316, 40.97235527650894, 107.45206294154617, 27.22658141854016, 28.31029437515618, 51.55049624973788, 122.81035471093521, 31.599067320302467, 29.494934748476688, 22.86039090046715, 24.93406021732184, 35.44464464247049, 123.80401652043322, 623.5186241046808, 54.80688288934852, 68.99726943289002, 82.2402249815147, 79.21503121532581, 61.80480326799713, 278.89356794314534, 296.72091113550243, 66.65774868187114, 102.94359820711439, 89.81046751847465, 68.26603491203645, 178.46076081387582, 91.44919760335316, 189.5829868700393, 140.2410887308666, 138.23065940470897, 149.9497440953657, 101.9821408257342, 199.80733018996844, 175.55097433188325, 289.5387222572333, 195.31648088971195, 122.40611153702494, 207.2921436912556, 138.26352344159545, 291.42008166756693, 229.00454373061194, 162.14106986388032, 185.92514584359185, 169.141652927926, 118.50744540910728, 112.34670920978118, 131.69049296132965, 157.47084577905912, 155.3648604826037, 159.6304242879697, 134.79693985767787, 137.78032121802283, 136.89417563781936, 132.7127216505888, 127.56105106553514, 72.49273500391567, 69.83437011631968, 71.64243749219894, 71.63264064161596, 68.40336879405112, 75.67834174750185, 68.20485485006827, 220.82051628712725, 74.75248677695623, 234.6062327193353, 223.0093160226636, 56.81893481765824, 72.65466101665693, 65.51603257576727, 37.302665584655834, 39.28317330793192, 250.54712104719522, 35.26807609073446, 29.16421557567306, 48.28631370938627, 86.46632708223427, 79.80534769771965, 32.567811635882954, 152.91815422465243, 49.33971556056607, 24.269370191632163, 14.648582123693938, 44.24542463018627, 34.63640837226122, 23.542258309197297, 68.488790719763, 75.5184817883728, 175.49854249238226, 105.8010503061017, 963.0197740074262, 98.18865698962793, 94.57348389191438, 78.53484493296939, 146.29600913512502, 177.26771546989647, 149.8518000955627, 103.51646081218132, 240.0906058410827, 190.71999338786136, 170.4712255071879, 208.82370176619943, 142.2542523134079, 156.50891032513084, 150.51730977220384, 145.80628681273248, 112.62180700760089, 109.82751081816629, 127.97498196847195, 114.75686681045323, 106.27493538844142, 109.92886765191993, 102.87952277876641, 102.6475838437992], \"Total\": [3128.0, 1463.0, 406.0, 317.0, 288.0, 302.0, 383.0, 852.0, 402.0, 280.0, 197.0, 456.0, 993.0, 670.0, 235.0, 241.0, 155.0, 246.0, 97.0, 100.0, 466.0, 90.0, 540.0, 91.0, 90.0, 87.0, 181.0, 1981.0, 232.0, 87.0, 112.76386896923644, 94.1354684904192, 61.86034730361659, 209.8744427486545, 108.0861002965515, 88.14583115227643, 70.89554622655095, 69.92607360179359, 125.96134614045197, 89.8323954376974, 105.66860234989673, 109.00457870867382, 35.89707814408178, 75.22262958016158, 75.54810046128813, 48.76527560182167, 34.9609080963397, 27.719971383148355, 60.043034252088255, 75.51842933804784, 88.39294462591127, 101.69533743992021, 51.01256543130732, 91.6649430828133, 130.47126198806035, 104.33129827705764, 115.6921385379754, 34.77753208693191, 43.866078332478814, 33.31783285374277, 134.30116906872462, 112.85897757438232, 260.6162765502809, 312.24307084290047, 437.19884463185224, 887.9295861729835, 152.74840180179712, 613.6063472829055, 407.398658402456, 529.5549504736696, 307.66357192665134, 1285.8368852522767, 445.1712610025551, 222.29532055232318, 400.3130664441208, 426.16738727681167, 925.5553600667422, 1094.454323922079, 2180.106177307959, 478.38111567726673, 972.56852273742, 618.3587248760548, 1133.624376840318, 1126.440820468761, 543.4919689779131, 1278.6285967502113, 1090.3744032304223, 993.3957989336799, 447.58264419621196, 3128.381951933637, 1115.4050117372753, 1327.214707923727, 521.694473906976, 1180.9735675505697, 1981.9326978671552, 1057.4082327679266, 924.4413853552483, 919.2197450073984, 765.4160010638968, 730.1287489251283, 865.9568685250632, 147.25172767865152, 181.01962975723458, 146.37153307345483, 208.31011303872108, 17.466289489756907, 43.04696839580308, 119.21747267365045, 25.775533708558022, 90.44119036194775, 50.83857554284241, 22.241945664448494, 106.68690770628888, 139.20172297091358, 85.17649286481739, 174.84845485497482, 22.10831016687064, 175.3447050857183, 57.68198647161553, 56.87480499847114, 52.94616469164237, 187.23323260559076, 39.630044053816796, 82.2028984300284, 34.174844582622086, 25.902612811570254, 41.497130419818795, 128.33361624403983, 170.99685120794578, 61.11814865313524, 45.98713222315555, 183.1956947895461, 81.98144784473432, 198.92033648436362, 175.78511043720687, 167.1225670969795, 133.6512274786212, 91.80263641251813, 141.52520865395894, 1981.9326978671552, 139.23023485444008, 161.52949422512137, 235.2079800436508, 794.2988146269414, 2180.106177307959, 1180.9735675505697, 3128.381951933637, 458.7685550172658, 713.3348158127513, 666.7141853360195, 292.78957003991394, 357.37872399214916, 765.4160010638968, 583.7533897455146, 1094.454323922079, 919.2197450073984, 1278.6285967502113, 1327.214707923727, 624.9356223481516, 573.4018465777069, 1057.4082327679266, 1133.624376840318, 730.1287489251283, 610.9460972063005, 872.6408450540977, 647.7756727339216, 670.6370372363715, 865.9568685250632, 993.3957989336799, 924.4413853552483, 1115.4050117372753, 925.5553600667422, 1090.3744032304223, 1126.440820468761, 640.9591021688931, 383.1602787103803, 128.87097278251858, 76.93596088973028, 70.5825010734627, 120.0622890497512, 72.9435183242808, 89.93466635305214, 95.88841744322318, 56.042966783274025, 197.23818918781538, 111.48320336590584, 90.88023649539998, 127.72334153403888, 155.61383219287376, 144.57771358523797, 116.12971423285758, 125.56880800346708, 103.48468688604335, 59.100708715172075, 63.63931617264743, 138.06754579807438, 84.2319746869417, 82.95283240967935, 114.53134909380276, 38.70972817063459, 73.14983216222441, 49.93313535262544, 42.995377166886, 58.626885035249074, 70.13246894754208, 246.92913179805058, 256.69670568302604, 148.3299531189977, 101.16951853331224, 138.1727939073474, 530.633779635586, 192.62167679992402, 165.38910336525305, 141.84965526997814, 530.0333544895484, 466.54080330437836, 369.57974981556845, 327.20814559053593, 1463.1988356854708, 211.20397298677642, 542.4224926954117, 852.9642997620945, 376.89556070979717, 426.16738727681167, 618.3587248760548, 456.4155833806564, 540.4452993571127, 2180.106177307959, 358.8075069784027, 924.4413853552483, 624.9356223481516, 507.3742347416439, 408.77893251785133, 1981.9326978671552, 1285.8368852522767, 1057.4082327679266, 1180.9735675505697, 1126.440820468761, 3128.381951933637, 872.6408450540977, 610.9460972063005, 1115.4050117372753, 1327.214707923727, 1278.6285967502113, 1133.624376840318, 1090.3744032304223, 972.56852273742, 865.9568685250632, 919.2197450073984, 647.7756727339216, 68.32205006769439, 34.69372932907648, 197.29899355438613, 26.835677731522555, 89.94917166279811, 101.65873482768085, 102.85253927855572, 39.97967886443048, 69.90831242887494, 160.67573898902376, 235.72700067619306, 101.48973130041756, 84.73096324493442, 80.50622200627333, 43.742752503129466, 66.4497986596913, 88.00565533219815, 159.74772083171396, 74.38850756769105, 78.23930517638875, 208.6090374823377, 53.99334457985045, 56.52454058045009, 102.93057562191608, 245.87156550322456, 64.59048760172513, 60.59838469683515, 47.237735380442075, 51.64337564928405, 74.51217678008933, 266.8037588453733, 1463.1988356854708, 117.58438508917921, 152.6773752335296, 186.05815260275597, 182.03346954519915, 141.54247555504023, 852.9642997620945, 993.3957989336799, 157.9689027938623, 292.49317467832964, 242.78012713977523, 167.15132074136156, 738.6629035437911, 266.0717085412549, 872.6408450540977, 533.8546056679593, 527.6655437051162, 619.4939157839187, 324.7156625370483, 1057.4082327679266, 865.9568685250632, 2180.106177307959, 1094.454323922079, 466.54080330437836, 1327.214707923727, 593.4735368401967, 3128.381951933637, 1981.9326978671552, 919.2197450073984, 1285.8368852522767, 1133.624376840318, 458.2608524775933, 411.93056174954637, 640.9591021688931, 1115.4050117372753, 1090.3744032304223, 1278.6285967502113, 765.4160010638968, 924.4413853552483, 972.56852273742, 794.2988146269414, 1126.440820468761, 90.57309790717748, 87.78564599155891, 90.61833677751909, 91.00247167800887, 87.5545068364987, 97.16978839314538, 88.50117540719552, 288.2301587343569, 100.6471211684758, 317.2698755775176, 302.6987118559159, 81.52568416267502, 106.8362185498192, 102.36283703808789, 58.84050412953428, 63.152177782227355, 406.00793605482784, 57.77888924448441, 51.000379290708054, 86.5210824592084, 155.0103239704888, 145.2156605400888, 59.485367432557126, 280.1618160455194, 95.84797078601179, 48.366436912194935, 29.761299604412486, 91.62373611089052, 72.39769899042507, 49.47654338982511, 146.37345461088256, 161.8408012766576, 402.1551186642972, 246.2125634690534, 3128.381951933637, 241.58574299175325, 232.2555554754519, 182.89796891665986, 456.60785533978463, 670.6890295404085, 636.0683440046597, 372.9675300735895, 1981.9326978671552, 1327.214707923727, 1278.6285967502113, 2180.106177307959, 852.9642997620945, 1126.440820468761, 1090.3744032304223, 1115.4050117372753, 534.3097199786225, 540.4452993571127, 1463.1988356854708, 925.5553600667422, 972.56852273742, 1285.8368852522767, 1133.624376840318, 1180.9735675505697], \"Category\": [\"Default\", \"Default\", \"Default\", \"Default\", \"Default\", \"Default\", \"Default\", \"Default\", \"Default\", \"Default\", \"Default\", \"Default\", \"Default\", \"Default\", \"Default\", \"Default\", \"Default\", \"Default\", \"Default\", \"Default\", \"Default\", \"Default\", \"Default\", \"Default\", \"Default\", \"Default\", \"Default\", \"Default\", \"Default\", \"Default\", \"Topic1\", \"Topic1\", \"Topic1\", \"Topic1\", \"Topic1\", \"Topic1\", \"Topic1\", \"Topic1\", \"Topic1\", \"Topic1\", \"Topic1\", \"Topic1\", \"Topic1\", \"Topic1\", \"Topic1\", \"Topic1\", \"Topic1\", \"Topic1\", \"Topic1\", \"Topic1\", \"Topic1\", \"Topic1\", \"Topic1\", \"Topic1\", \"Topic1\", \"Topic1\", \"Topic1\", \"Topic1\", \"Topic1\", \"Topic1\", \"Topic1\", \"Topic1\", \"Topic1\", \"Topic1\", \"Topic1\", \"Topic1\", \"Topic1\", \"Topic1\", \"Topic1\", \"Topic1\", \"Topic1\", \"Topic1\", \"Topic1\", \"Topic1\", \"Topic1\", \"Topic1\", \"Topic1\", \"Topic1\", \"Topic1\", \"Topic1\", \"Topic1\", \"Topic1\", \"Topic1\", \"Topic1\", \"Topic1\", \"Topic1\", \"Topic1\", \"Topic1\", \"Topic1\", \"Topic1\", \"Topic1\", \"Topic1\", \"Topic1\", \"Topic1\", \"Topic1\", \"Topic1\", \"Topic1\", \"Topic1\", \"Topic1\", \"Topic1\", \"Topic1\", \"Topic2\", \"Topic2\", \"Topic2\", \"Topic2\", \"Topic2\", \"Topic2\", \"Topic2\", \"Topic2\", \"Topic2\", \"Topic2\", \"Topic2\", \"Topic2\", \"Topic2\", \"Topic2\", \"Topic2\", \"Topic2\", \"Topic2\", \"Topic2\", \"Topic2\", \"Topic2\", \"Topic2\", \"Topic2\", \"Topic2\", \"Topic2\", \"Topic2\", \"Topic2\", \"Topic2\", \"Topic2\", \"Topic2\", \"Topic2\", \"Topic2\", \"Topic2\", \"Topic2\", \"Topic2\", \"Topic2\", \"Topic2\", \"Topic2\", \"Topic2\", \"Topic2\", \"Topic2\", \"Topic2\", \"Topic2\", \"Topic2\", \"Topic2\", \"Topic2\", \"Topic2\", \"Topic2\", \"Topic2\", \"Topic2\", \"Topic2\", \"Topic2\", \"Topic2\", \"Topic2\", \"Topic2\", \"Topic2\", \"Topic2\", \"Topic2\", \"Topic2\", \"Topic2\", \"Topic2\", \"Topic2\", \"Topic2\", \"Topic2\", \"Topic2\", \"Topic2\", \"Topic2\", \"Topic2\", \"Topic2\", \"Topic2\", \"Topic2\", \"Topic2\", \"Topic2\", \"Topic2\", \"Topic2\", \"Topic3\", \"Topic3\", \"Topic3\", \"Topic3\", \"Topic3\", \"Topic3\", \"Topic3\", \"Topic3\", \"Topic3\", \"Topic3\", \"Topic3\", \"Topic3\", \"Topic3\", \"Topic3\", \"Topic3\", \"Topic3\", \"Topic3\", \"Topic3\", \"Topic3\", \"Topic3\", \"Topic3\", \"Topic3\", \"Topic3\", \"Topic3\", \"Topic3\", \"Topic3\", \"Topic3\", \"Topic3\", \"Topic3\", \"Topic3\", \"Topic3\", \"Topic3\", \"Topic3\", \"Topic3\", \"Topic3\", \"Topic3\", \"Topic3\", \"Topic3\", \"Topic3\", \"Topic3\", \"Topic3\", \"Topic3\", \"Topic3\", \"Topic3\", \"Topic3\", \"Topic3\", \"Topic3\", \"Topic3\", \"Topic3\", \"Topic3\", \"Topic3\", \"Topic3\", \"Topic3\", \"Topic3\", \"Topic3\", \"Topic3\", \"Topic3\", \"Topic3\", \"Topic3\", \"Topic3\", \"Topic3\", \"Topic3\", \"Topic3\", \"Topic3\", \"Topic3\", \"Topic3\", \"Topic3\", \"Topic3\", \"Topic3\", \"Topic3\", \"Topic3\", \"Topic3\", \"Topic3\", \"Topic3\", \"Topic3\", \"Topic4\", \"Topic4\", \"Topic4\", \"Topic4\", \"Topic4\", \"Topic4\", \"Topic4\", \"Topic4\", \"Topic4\", \"Topic4\", \"Topic4\", \"Topic4\", \"Topic4\", \"Topic4\", \"Topic4\", \"Topic4\", \"Topic4\", \"Topic4\", \"Topic4\", \"Topic4\", \"Topic4\", \"Topic4\", \"Topic4\", \"Topic4\", \"Topic4\", \"Topic4\", \"Topic4\", \"Topic4\", \"Topic4\", \"Topic4\", \"Topic4\", \"Topic4\", \"Topic4\", \"Topic4\", \"Topic4\", \"Topic4\", \"Topic4\", \"Topic4\", \"Topic4\", \"Topic4\", \"Topic4\", \"Topic4\", \"Topic4\", \"Topic4\", \"Topic4\", \"Topic4\", \"Topic4\", \"Topic4\", \"Topic4\", \"Topic4\", \"Topic4\", \"Topic4\", \"Topic4\", \"Topic4\", \"Topic4\", \"Topic4\", \"Topic4\", \"Topic4\", \"Topic4\", \"Topic4\", \"Topic4\", \"Topic4\", \"Topic4\", \"Topic4\", \"Topic4\", \"Topic4\", \"Topic4\", \"Topic4\", \"Topic4\", \"Topic4\", \"Topic4\", \"Topic4\", \"Topic4\", \"Topic5\", \"Topic5\", \"Topic5\", \"Topic5\", \"Topic5\", \"Topic5\", \"Topic5\", \"Topic5\", \"Topic5\", \"Topic5\", \"Topic5\", \"Topic5\", \"Topic5\", \"Topic5\", \"Topic5\", \"Topic5\", \"Topic5\", \"Topic5\", \"Topic5\", \"Topic5\", \"Topic5\", \"Topic5\", \"Topic5\", \"Topic5\", \"Topic5\", \"Topic5\", \"Topic5\", \"Topic5\", \"Topic5\", \"Topic5\", \"Topic5\", \"Topic5\", \"Topic5\", \"Topic5\", \"Topic5\", \"Topic5\", \"Topic5\", \"Topic5\", \"Topic5\", \"Topic5\", \"Topic5\", \"Topic5\", \"Topic5\", \"Topic5\", \"Topic5\", \"Topic5\", \"Topic5\", \"Topic5\", \"Topic5\", \"Topic5\", \"Topic5\", \"Topic5\", \"Topic5\", \"Topic5\", \"Topic5\", \"Topic5\", \"Topic5\", \"Topic5\"], \"logprob\": [30.0, 29.0, 28.0, 27.0, 26.0, 25.0, 24.0, 23.0, 22.0, 21.0, 20.0, 19.0, 18.0, 17.0, 16.0, 15.0, 14.0, 13.0, 12.0, 11.0, 10.0, 9.0, 8.0, 7.0, 6.0, 5.0, 4.0, 3.0, 2.0, 1.0, -6.6665, -6.8935, -7.3357, -6.129, -6.7974, -7.0156, -7.2426, -7.2656, -6.6835, -7.0217, -6.886, -6.8707, -7.9907, -7.271, -7.2791, -7.7172, -8.0501, -8.3013, -7.5306, -7.3075, -7.161, -7.0235, -7.7182, -7.1331, -6.7873, -7.012, -6.9112, -8.116, -7.8918, -8.1733, -6.7879, -6.962, -6.1478, -5.9779, -5.6906, -5.026, -6.6861, -5.4231, -5.7946, -5.5697, -6.0647, -4.8387, -5.7736, -6.371, -5.8792, -5.8343, -5.212, -5.1039, -4.5911, -5.7846, -5.2339, -5.5866, -5.1212, -5.1341, -5.6971, -5.0786, -5.2033, -5.2773, -5.8706, -4.5161, -5.2486, -5.1386, -5.7654, -5.2649, -4.9869, -5.4101, -5.5747, -5.6512, -5.7723, -5.7925, -5.7884, -6.2096, -6.0445, -6.2821, -5.9767, -8.4779, -7.579, -6.5644, -8.1146, -6.8707, -7.465, -8.2972, -6.7538, -6.4881, -6.9796, -6.2729, -8.3779, -6.3156, -7.4593, -7.4852, -7.5695, -6.3122, -7.8659, -7.1428, -8.0242, -8.3029, -7.8371, -6.7089, -6.4325, -7.462, -7.7596, -6.3812, -7.1819, -6.3474, -6.4715, -6.5212, -6.7345, -7.096, -6.712, -4.4104, -6.7282, -6.6192, -6.3332, -5.371, -4.6035, -5.0892, -4.3517, -5.8281, -5.5127, -5.5693, -6.1821, -6.0554, -5.5382, -5.7581, -5.3884, -5.5149, -5.3556, -5.3522, -5.7774, -5.8249, -5.5003, -5.4972, -5.7248, -5.8152, -5.6583, -5.7945, -5.7832, -5.6808, -5.6334, -5.6634, -5.5962, -5.698, -5.6941, -5.7347, -5.8155, -5.0468, -6.2823, -6.8377, -6.9388, -6.4233, -6.9326, -6.7247, -6.6873, -7.2244, -5.9816, -6.612, -6.8262, -6.4866, -6.3085, -6.3883, -6.6205, -6.547, -6.7799, -7.3454, -7.2721, -6.5054, -6.9999, -7.0184, -6.6979, -7.7841, -7.1675, -7.5508, -7.705, -7.412, -7.2338, -5.9877, -5.9603, -6.5167, -6.8823, -6.5897, -5.3759, -6.2991, -6.4383, -6.5814, -5.4774, -5.5905, -5.7818, -5.9018, -4.7387, -6.2543, -5.5754, -5.2971, -5.866, -5.8103, -5.5804, -5.7809, -5.6916, -4.9206, -5.9561, -5.4181, -5.6472, -5.7725, -5.9004, -5.0494, -5.2923, -5.4231, -5.3845, -5.423, -4.9867, -5.563, -5.7204, -5.4695, -5.4022, -5.428, -5.5825, -5.5932, -5.6351, -5.6664, -5.6644, -5.7281, -6.6891, -7.3678, -5.6794, -7.6933, -6.5052, -6.4308, -6.4394, -7.4265, -6.8706, -6.0707, -5.7005, -6.5487, -6.7392, -6.8201, -7.4305, -7.0536, -6.7908, -6.2001, -6.967, -6.9244, -5.9603, -7.3331, -7.2941, -6.6948, -5.8267, -7.1842, -7.2531, -7.5079, -7.4211, -7.0694, -5.8186, -4.202, -6.6335, -6.4033, -6.2277, -6.2652, -6.5134, -5.0065, -4.9445, -6.4378, -6.0032, -6.1396, -6.4139, -5.453, -6.1216, -5.3925, -5.694, -5.7084, -5.627, -6.0125, -5.34, -5.4694, -4.969, -5.3627, -5.83, -5.3032, -5.7082, -4.9626, -5.2036, -5.5489, -5.412, -5.5066, -5.8624, -5.9157, -5.7569, -5.5781, -5.5916, -5.5645, -5.7336, -5.7117, -5.7181, -5.7492, -5.7887, -6.0983, -6.1357, -6.1101, -6.1103, -6.1564, -6.0553, -6.1593, -4.9845, -6.0676, -4.9239, -4.9746, -6.342, -6.0961, -6.1995, -6.7628, -6.711, -4.8582, -6.8188, -7.0089, -6.5047, -5.9221, -6.0022, -6.8985, -5.3519, -6.4831, -7.1926, -7.6975, -6.5921, -6.8369, -7.223, -6.1552, -6.0574, -5.2142, -5.7203, -3.5117, -5.7949, -5.8324, -6.0183, -5.3962, -5.2042, -5.3722, -5.7421, -4.9008, -5.131, -5.2433, -5.0403, -5.4242, -5.3287, -5.3677, -5.3995, -5.6578, -5.6829, -5.53, -5.639, -5.7158, -5.682, -5.7483, -5.7505], \"loglift\": [30.0, 29.0, 28.0, 27.0, 26.0, 25.0, 24.0, 23.0, 22.0, 21.0, 20.0, 19.0, 18.0, 17.0, 16.0, 15.0, 14.0, 13.0, 12.0, 11.0, 10.0, 9.0, 8.0, 7.0, 6.0, 5.0, 4.0, 3.0, 2.0, 1.0, 1.0586, 1.0122, 0.9898, 0.9749, 0.9701, 0.9559, 0.9466, 0.9373, 0.9309, 0.9308, 0.9041, 0.8883, 0.879, 0.859, 0.8465, 0.8462, 0.846, 0.827, 0.8247, 0.8185, 0.8076, 0.8049, 0.8001, 0.7992, 0.7919, 0.7908, 0.7883, 0.7854, 0.7774, 0.771, 0.7624, 0.7623, 0.7396, 0.7288, 0.6794, 0.6355, 0.7355, 0.608, 0.646, 0.6087, 0.6567, 0.4525, 0.5784, 0.6754, 0.5789, 0.5612, 0.408, 0.3485, 0.1722, 0.4954, 0.3366, 0.4367, 0.296, 0.2895, 0.4553, 0.2182, 0.2528, 0.272, 0.476, -0.114, 0.1848, 0.121, 0.4279, 0.1114, -0.1283, 0.0767, 0.0465, -0.0243, 0.0377, 0.0646, -0.1019, 1.2487, 1.2073, 1.1821, 1.1347, 1.1122, 1.1091, 1.105, 1.0864, 1.075, 1.0567, 1.0512, 1.0267, 1.0264, 1.0261, 1.0135, 0.9766, 0.968, 0.9361, 0.9243, 0.9116, 0.9059, 0.9049, 0.8984, 0.8947, 0.8931, 0.8877, 0.8868, 0.8762, 0.8756, 0.8625, 0.8587, 0.862, 0.8101, 0.8097, 0.8105, 0.8206, 0.8348, 0.7859, 0.4481, 0.786, 0.7465, 0.6567, 0.4019, 0.1598, 0.2871, 0.0504, 0.4938, 0.3678, 0.3787, 0.5888, 0.5162, 0.2718, 0.3228, 0.064, 0.1119, -0.0588, -0.0926, 0.2353, 0.274, -0.0135, -0.08, 0.1323, 0.2202, 0.0205, 0.1824, 0.159, 0.0058, -0.0842, -0.0422, -0.1628, -0.078, -0.238, -0.3111, 0.1719, 1.4552, 1.3093, 1.2698, 1.2549, 1.2391, 1.2281, 1.2266, 1.1999, 1.1999, 1.1844, 1.1246, 1.1147, 1.1139, 1.0945, 1.0882, 1.0752, 1.0706, 1.0311, 1.0258, 1.0251, 1.0172, 1.017, 1.0137, 1.0117, 1.0102, 0.9904, 0.9889, 0.9844, 0.9672, 0.9663, 0.9536, 0.9422, 0.9342, 0.9513, 0.9322, 0.8004, 0.8906, 0.9038, 0.9142, 0.7, 0.7145, 0.7563, 0.758, 0.4233, 0.8433, 0.579, 0.4045, 0.6525, 0.5852, 0.443, 0.5461, 0.4664, -0.1573, 0.6115, 0.2031, 0.3655, 0.4486, 0.5368, -0.1909, -0.0011, 0.0637, -0.0082, 0.0006, -0.5846, 0.1159, 0.315, -0.0361, -0.1426, -0.1312, -0.1652, -0.1371, -0.0646, 0.0202, -0.0375, 0.2488, 1.5371, 1.536, 1.4863, 1.4674, 1.446, 1.398, 1.3777, 1.3355, 1.3326, 1.3003, 1.2872, 1.2817, 1.2717, 1.2419, 1.2416, 1.2004, 1.1822, 1.1767, 1.1741, 1.1662, 1.1496, 1.1284, 1.1216, 1.1216, 1.1189, 1.0981, 1.093, 1.0873, 1.0849, 1.0701, 1.0452, 0.9601, 1.0497, 1.0188, 0.9966, 0.981, 0.9844, 0.6952, 0.6047, 0.9502, 0.7688, 0.8186, 0.9176, 0.3926, 0.7451, 0.2864, 0.4763, 0.4735, 0.3945, 0.6549, 0.1468, 0.2172, -0.2058, 0.0897, 0.4751, -0.0436, 0.3562, -0.5604, -0.345, 0.078, -0.1208, -0.0894, 0.4606, 0.5138, 0.2305, -0.1447, -0.1354, -0.2676, 0.0764, -0.0905, -0.1477, 0.0238, -0.3652, 1.8459, 1.8398, 1.8336, 1.8292, 1.8217, 1.8186, 1.8081, 1.8022, 1.7711, 1.7667, 1.7631, 1.7075, 1.683, 1.6223, 1.6128, 1.5938, 1.5858, 1.5749, 1.5097, 1.4853, 1.4848, 1.4699, 1.4662, 1.4631, 1.4045, 1.379, 1.3597, 1.3406, 1.3313, 1.3259, 1.3091, 1.3063, 1.2394, 1.2239, 0.8904, 1.1682, 1.1701, 1.2232, 0.9304, 0.7379, 0.6229, 0.7868, -0.0422, 0.1285, 0.0536, -0.2771, 0.2775, 0.0949, 0.0884, 0.0339, 0.5116, 0.4751, -0.368, -0.019, -0.1453, -0.3908, -0.331, -0.3742]}, \"token.table\": {\"Topic\": [1, 2, 3, 4, 5, 1, 2, 3, 4, 5, 1, 2, 3, 4, 5, 1, 2, 3, 4, 5, 1, 2, 3, 4, 5, 1, 2, 3, 4, 5, 1, 2, 3, 4, 5, 1, 2, 3, 4, 5, 1, 2, 3, 4, 5, 1, 2, 3, 4, 5, 1, 2, 3, 4, 5, 1, 2, 3, 4, 5, 1, 2, 4, 5, 1, 2, 3, 4, 5, 1, 2, 3, 4, 5, 1, 2, 3, 4, 5, 1, 2, 3, 4, 5, 1, 2, 3, 4, 5, 1, 2, 3, 4, 5, 1, 2, 3, 4, 5, 1, 2, 3, 4, 5, 1, 2, 3, 4, 5, 1, 2, 3, 4, 5, 1, 2, 3, 4, 5, 1, 2, 3, 4, 5, 1, 2, 3, 4, 5, 1, 2, 3, 4, 5, 1, 2, 3, 4, 5, 1, 2, 3, 4, 5, 1, 2, 3, 4, 5, 1, 2, 3, 4, 5, 1, 2, 3, 4, 5, 1, 2, 3, 4, 5, 1, 2, 3, 4, 5, 1, 2, 3, 4, 5, 1, 2, 3, 4, 5, 1, 2, 3, 4, 5, 1, 2, 3, 4, 5, 1, 2, 3, 4, 5, 1, 2, 3, 4, 5, 1, 2, 3, 4, 5, 1, 2, 3, 4, 5, 1, 2, 3, 4, 5, 1, 2, 3, 4, 5, 1, 2, 3, 4, 5, 1, 2, 3, 4, 5, 1, 2, 3, 4, 5, 1, 2, 3, 4, 5, 1, 2, 3, 4, 5, 1, 2, 3, 4, 5, 1, 2, 3, 4, 5, 1, 2, 3, 4, 5, 1, 2, 3, 4, 5, 1, 2, 3, 4, 5, 1, 2, 3, 4, 5, 1, 2, 3, 4, 5, 1, 2, 3, 4, 5, 1, 2, 3, 4, 5, 1, 2, 3, 4, 5, 1, 2, 3, 4, 5, 1, 2, 3, 4, 5, 1, 2, 3, 4, 5, 1, 2, 3, 4, 5, 1, 2, 3, 4, 5, 1, 2, 3, 4, 5, 1, 2, 3, 4, 5, 1, 2, 3, 4, 5, 1, 2, 3, 4, 5, 1, 2, 3, 4, 5, 1, 2, 3, 4, 5, 1, 2, 3, 4, 5, 1, 2, 3, 4, 5, 1, 2, 3, 4, 5, 1, 2, 3, 4, 5, 1, 2, 3, 4, 5, 1, 2, 3, 4, 5, 1, 2, 3, 4, 5, 1, 2, 3, 4, 5, 1, 2, 3, 4, 5, 1, 2, 3, 4, 5, 1, 2, 3, 4, 5, 1, 2, 3, 4, 5, 1, 2, 3, 4, 5, 1, 2, 3, 4, 5, 1, 2, 3, 4, 5, 1, 2, 3, 4, 5, 1, 2, 3, 4, 5, 1, 2, 3, 4, 5, 1, 2, 3, 4, 5, 1, 2, 3, 4, 5, 1, 2, 3, 4, 5, 1, 2, 3, 4, 5, 1, 2, 3, 4, 5, 1, 2, 3, 4, 5, 1, 2, 3, 4, 5, 1, 2, 3, 4, 5, 1, 2, 3, 4, 5, 1, 2, 3, 4, 5, 1, 2, 3, 4, 5, 1, 2, 3, 4, 5, 1, 2, 3, 4, 5, 1, 2, 3, 4, 5, 1, 2, 3, 4, 5, 1, 2, 3, 4, 5, 1, 2, 3, 4, 5, 1, 2, 3, 4, 5, 1, 2, 3, 4, 5, 1, 2, 3, 4, 5, 1, 2, 3, 4, 5, 1, 2, 3, 4, 5, 1, 2, 3, 4, 5, 1, 2, 3, 4, 5, 1, 2, 3, 4, 5, 1, 2, 3, 4, 5, 1, 2, 3, 4, 5, 1, 2, 3, 4, 5, 1, 2, 3, 4, 5, 1, 2, 3, 4, 5, 1, 2, 3, 4, 5, 1, 2, 3, 4, 5, 1, 2, 4, 5, 1, 2, 3, 4, 5, 1, 2, 3, 4, 5, 1, 2, 3, 4, 5, 1, 2, 3, 4, 5, 1, 2, 3, 4, 5, 1, 2, 3, 4, 5, 1, 2, 3, 4, 5, 1, 2, 3, 4, 5, 1, 2, 3, 4, 5, 1, 2, 3, 4, 5, 1, 2, 3, 4, 5, 1, 2, 3, 4, 5, 1, 2, 3, 4, 5, 1, 2, 3, 4, 5, 1, 2, 3, 4, 5, 1, 2, 3, 4, 5, 1, 2, 3, 4, 5, 1, 2, 3, 4, 5, 1, 2, 3, 4, 5, 1, 2, 3, 4, 5, 1, 2, 3, 4, 5, 1, 2, 3, 4, 5, 1, 2, 3, 4, 5, 1, 2, 3, 4, 5, 1, 2, 3, 4, 5, 1, 2, 3, 4, 5, 1, 2, 3, 4, 5, 1, 2, 3, 4, 5, 1, 2, 3, 4, 5, 1, 2, 3, 4, 5, 1, 2, 3, 4, 5, 1, 2, 3, 4, 5, 1, 2, 3, 4, 5, 1, 2, 3, 4, 5, 1, 2, 3, 4, 5, 1, 2, 3, 4, 5, 1, 2, 3, 4, 5, 1, 2, 3, 4, 5, 1, 2, 3, 4, 5, 1, 2, 3, 4, 5, 1, 2, 3, 4, 5, 1, 2, 3, 4, 5, 1, 2, 3, 4, 5, 1, 2, 3, 4, 5, 1, 2, 3, 4, 5, 1, 2, 3, 4, 5, 1, 2, 3, 4, 5, 1, 2, 3, 4, 5, 1, 2, 3, 4, 5, 1, 2, 3, 4, 1, 2, 3, 4, 5, 1, 2, 3, 4, 5, 1, 2, 3, 4, 5, 1, 2, 3, 4, 5, 1, 2, 3, 4, 5, 1, 2, 3, 4, 5, 1, 2, 3, 4, 5, 1, 2, 3, 4, 5, 1, 2, 3, 4, 5, 1, 2, 3, 4, 5, 1, 2, 3, 4, 5, 1, 2, 3, 4, 5, 1, 2, 3, 4, 5, 1, 2, 3, 4, 5, 1, 2, 3, 4, 5, 1, 2, 3, 4, 5, 1, 2, 3, 4, 5, 1, 2, 3, 4, 5, 1, 2, 3, 4, 5, 1, 2, 3, 4, 5, 1, 2, 3, 4, 5, 1, 2, 3, 4, 5, 1, 2, 3, 4, 5, 1, 2, 3, 4, 5, 1, 2, 3, 4, 5, 1, 2, 3, 4, 5, 1, 2, 3, 4, 5, 1, 2, 3, 4, 5, 1, 2, 3, 4, 5, 1, 2, 3, 4, 5, 1, 2, 3, 4, 5, 1, 2, 3, 4, 5, 1, 2, 3, 4, 5, 1, 2, 3, 4, 5, 1, 2, 3, 4, 5, 1, 2, 3, 4, 5, 1, 2, 3, 4, 5, 1, 2, 3, 4, 5, 1, 2, 3, 4, 5, 1, 2, 3, 4, 5, 1, 2, 3, 4, 5, 1, 2, 3, 4, 5, 1, 2, 3, 4, 5, 1, 2, 3, 4, 5, 1, 2, 3, 4, 5, 1, 2, 3, 4, 5, 1, 2, 3, 4, 5, 1, 2, 3, 4, 5, 1, 2, 3, 4, 5, 1, 2, 3, 4, 5, 1, 2, 3, 4, 5, 1, 2, 3, 4, 5, 1, 2, 3, 4, 5, 1, 2, 3, 4, 5, 1, 2, 3, 4, 5, 1, 2, 3, 4, 5, 1, 2, 3, 4, 5, 1, 2, 3, 4, 5, 1, 2, 3, 4, 5, 1, 2, 3, 4, 5, 1, 2, 3, 4, 5, 1, 2, 3, 4, 5, 1, 2, 3, 4, 5, 1, 2, 3, 4, 5, 1, 2, 3, 4, 5, 1, 2, 3, 4, 5, 1, 2, 3, 4, 5, 1, 2, 3, 4, 5, 1, 2, 3, 4, 5, 1, 2, 3, 4, 5, 1, 2, 3, 4, 5, 1, 2, 3, 4, 5, 1, 2, 3, 4, 5, 1, 2, 3, 4, 5, 1, 2, 3, 4, 5, 1, 2, 3, 4, 5, 1, 2, 3, 4, 5, 1, 2, 3, 4, 5, 1, 2, 3, 4, 5, 1, 2, 3, 4, 5, 1, 2, 3, 4, 5, 1, 2, 3, 4, 5, 1, 2, 3, 4, 5, 1, 2, 3, 4, 5, 1, 2, 3, 4, 5, 1, 2, 3, 4, 5, 1, 2, 3, 4, 5, 1, 2, 3, 4, 5, 1, 2, 3, 4, 5, 1, 2, 3, 4, 5, 1, 2, 3, 4, 5, 1, 2, 3, 4, 5, 1, 2, 3, 4, 5, 1, 2, 3, 4, 5, 1, 2, 3, 4, 5, 1, 2, 3, 4, 5, 1, 2, 3, 4, 5, 1, 2, 3, 4, 5, 1, 2, 3, 4, 5], \"Freq\": [0.10872840119702669, 0.09884400108820608, 0.5436420059851335, 0.20757240228523277, 0.04942200054410304, 0.07930710398305856, 0.12431924408155123, 0.4244001780715025, 0.26149909961981466, 0.10931519738205367, 0.7235697064883488, 0.1335820996593875, 0.10018657474454061, 0.033395524914846875, 0.01113184163828229, 0.20164405081457645, 0.16131524065166117, 0.053771746883887056, 0.5242745321178988, 0.053771746883887056, 0.02348886484343237, 0.028708612586417343, 0.8925768640504301, 0.02348886484343237, 0.03131848645790983, 0.05199129189707613, 0.0389934689228071, 0.7408759095333348, 0.06498911487134516, 0.10398258379415226, 0.04655819592613414, 0.06207759456817885, 0.7682102327812133, 0.054317895247156495, 0.06983729388920121, 0.11709250515863465, 0.02927312628965866, 0.07318281572414666, 0.7611012835311252, 0.02927312628965866, 0.6230153470091864, 0.1341879208942863, 0.12460306940183728, 0.04792425746224511, 0.05750910895469413, 0.1629843098378644, 0.091079467262336, 0.21571452772658525, 0.5129212103721027, 0.014380968515105685, 0.09573811770564393, 0.49065785324142513, 0.14959080891506865, 0.17950897069808236, 0.08377085299243844, 0.11150589064680468, 0.035479147023983304, 0.09123209234738565, 0.7197198396293756, 0.04054759659883806, 0.04496009544697338, 0.6294413362576273, 0.13488028634092014, 0.17984038178789352, 0.38284286123915373, 0.20112482111181348, 0.17642528167702937, 0.14907936301708982, 0.09085902006367012, 0.09314413343019569, 0.15794005233815792, 0.538616075922436, 0.14579081754291498, 0.056696429044466944, 0.5231367006247766, 0.11570936368959231, 0.14830355064440706, 0.1108202356463701, 0.10430139825540716, 0.15441943723434506, 0.6005200336891197, 0.05719238416086854, 0.06863086099304225, 0.12010400673782394, 0.09739119921106613, 0.06233036749508232, 0.5337037716766424, 0.2571127659172146, 0.050643423589754384, 0.729341680049541, 0.02860163451174671, 0.08580490353524013, 0.10010572079111348, 0.05720326902349342, 0.04831632727947437, 0.17393877820610773, 0.5797959273536925, 0.08696938910305387, 0.10629592001484361, 0.06796802730354831, 0.33984013651774153, 0.04325238101134892, 0.080325850449648, 0.4695972795517883, 0.1475524953701826, 0.029510499074036523, 0.10820516327146724, 0.6590678126534824, 0.049184165123394206, 0.1298066611795688, 0.710520671719745, 0.08198315442920134, 0.013663859071533559, 0.054655436286134236, 0.27001765288645513, 0.18132572310623266, 0.32520374252748246, 0.12022683814652382, 0.10248845219047932, 0.016658019898081765, 0.03331603979616353, 0.7162948556175159, 0.041645049745204415, 0.18323821887889943, 0.2593900534345067, 0.35747872910301765, 0.10462792071307833, 0.16566087446237404, 0.11334691410583486, 0.15526990422863748, 0.04955422475382047, 0.01982168990152819, 0.03633976481946835, 0.736706141340131, 0.18600410925259234, 0.4876323945270664, 0.12065131410978963, 0.05027138087907901, 0.15584128072514494, 0.3121719978202792, 0.2860123331984681, 0.19532549584285627, 0.1464941218821422, 0.05929523980943851, 0.09957943931468713, 0.2053825935865422, 0.0684608645288474, 0.5974766358881228, 0.024894859828671782, 0.5071031075832657, 0.1823572751407803, 0.19234945460054909, 0.06994525621838148, 0.04746285243390172, 0.5947441274647163, 0.10360058994546671, 0.04988176552929879, 0.06523000107677533, 0.1841788265697186, 0.08497547860896573, 0.10197057433075887, 0.13596076577434515, 0.050985287165379437, 0.6288185417063464, 0.11421456600371503, 0.04568582640148601, 0.011421456600371502, 0.04568582640148601, 0.7766590488252622, 0.7224438511361362, 0.023816830257235258, 0.00793894341907842, 0.23022935915327417, 0.00793894341907842, 0.060825105872100486, 0.5352609316744843, 0.15814527526746125, 0.07299012704652058, 0.18247531761630145, 0.3734664475108862, 0.20032297319317074, 0.09462492201084448, 0.2989744876300086, 0.0332193875144454, 0.6327391699529098, 0.13091155240405028, 0.09818366430303772, 0.09818366430303772, 0.043637184134683434, 0.20391786334870673, 0.3083043886343542, 0.1480832102889418, 0.2718904844649423, 0.06797262111623557, 0.16879539161912846, 0.19815111190071602, 0.3547149534025163, 0.14433229138447215, 0.13210074126714402, 0.09936725372056412, 0.05520402984475784, 0.011040805968951569, 0.033122417906854704, 0.794938029764513, 0.17762783606575447, 0.2117870353091688, 0.08198207818419437, 0.06831839848682864, 0.46456510971043474, 0.05616072977350951, 0.14040182443377378, 0.04680060814459126, 0.08424109466026426, 0.6832888789110324, 0.5892844939786552, 0.15052375661411302, 0.20817115276419887, 0.03522896431394135, 0.016013165597246068, 0.17684349078376418, 0.0916966248508407, 0.2488908388808533, 0.45193336533628625, 0.03274879458958596, 0.7003026287313463, 0.15141678459056138, 0.11356258844292103, 0.018927098073820172, 0.018927098073820172, 0.25380532562823177, 0.22919196281541834, 0.11603442468897748, 0.09301933218868443, 0.30782686219141964, 0.027625187373213466, 0.0414377810598202, 0.3176896547919549, 0.13812593686606733, 0.48344077903123567, 0.1565884493764979, 0.10961191456354853, 0.6341832199748165, 0.03914711234412448, 0.06263537975059916, 0.28822234416053943, 0.14598274574364986, 0.2133593976253344, 0.14036802475350946, 0.21148782396195426, 0.6223413354604587, 0.1382980745467686, 0.17287259318346074, 0.017287259318346074, 0.043218148295865184, 0.10773522012429218, 0.48121731655517175, 0.13646461215743677, 0.2513821802900151, 0.02872939203314458, 0.2952642741801442, 0.2861189205550955, 0.15547101162582816, 0.17637467705451093, 0.08753409898260912, 0.1445770200448532, 0.1445770200448532, 0.22111779536271667, 0.46774918249805447, 0.017009061181747435, 0.27220547360585146, 0.10761611747208082, 0.11394647732337969, 0.4241341100370244, 0.08229467806688533, 0.2169075807331336, 0.14460505382208907, 0.3593216488912516, 0.15775096780591535, 0.1226951971823786, 0.20325932419154846, 0.21973980993680917, 0.09888291447156412, 0.4339861246251981, 0.04394796198736183, 0.1514002859005688, 0.5299010006519909, 0.17663366688399695, 0.10093352393371254, 0.025233380983428134, 0.05117106252867208, 0.15351318758601626, 0.5458246669725022, 0.17057020842890694, 0.08528510421445347, 0.23548321522643628, 0.3179773352102197, 0.2264838566827508, 0.13049069888343923, 0.08849369234624038, 0.15490854150063496, 0.19363567687579372, 0.1355449738130556, 0.48408919218948426, 0.01936356768757937, 0.10252245567419303, 0.06834830378279536, 0.011391383963799226, 0.03417415189139768, 0.7973968774659459, 0.15649675544564556, 0.18153623631694885, 0.03755922130695494, 0.5320889685151949, 0.09389805326738734, 0.6880444921533561, 0.06421748593431323, 0.036695706248178986, 0.18347853124089494, 0.02752177968613424, 0.06634145322488415, 0.6413007145072135, 0.055284544354070125, 0.2100812685454665, 0.033170726612442074, 0.2770170504111342, 0.3665579151904907, 0.0923390168037114, 0.19866879372919727, 0.06715564858451738, 0.3040559631802215, 0.24927110494955096, 0.1657241961477784, 0.1725723034266122, 0.10956971646134107, 0.10226615512409257, 0.0909032489991934, 0.14771777962368926, 0.5340565878702612, 0.12499196737389091, 0.10999489656692199, 0.09428133991450456, 0.5814015961394448, 0.17284912317659168, 0.04714066995725228, 0.09144371972737267, 0.11430464965921583, 0.09144371972737267, 0.5715232482960791, 0.137165579591059, 0.14905530018723528, 0.03726382504680882, 0.07452765009361764, 0.7080126758893677, 0.03726382504680882, 0.14606464680672387, 0.2503965373829552, 0.0625991343457388, 0.02086637811524627, 0.5112262638235335, 0.6493513197110528, 0.14430029326912283, 0.10822521995184212, 0.10822521995184212, 0.03607507331728071, 0.4974571173891776, 0.0657018834287593, 0.3730928380418832, 0.016425470857189824, 0.044583420898086666, 0.15602791357452242, 0.5547659149316353, 0.12135504389129523, 0.08668217420806802, 0.08668217420806802, 0.23246412992000606, 0.25898688299812755, 0.22934380602846235, 0.20594137684188457, 0.07488777339704893, 0.04153218959000961, 0.20766094795004805, 0.5087693224776177, 0.16612875836003843, 0.07787285548126802, 0.06622907379325846, 0.08692565935365174, 0.35598127163876425, 0.08692565935365174, 0.4056530769837081, 0.08180876073940943, 0.5235760687322204, 0.1308940171830551, 0.16361752147881886, 0.09817051288729133, 0.05166659892789459, 0.15499979678368375, 0.5683325882068404, 0.20666639571157835, 0.025833299463947294, 0.07359643849204256, 0.11039465773806384, 0.04906429232802837, 0.07359643849204256, 0.6991661656744043, 0.21904224904410924, 0.4804797720967558, 0.1695810960341491, 0.07772466901565167, 0.05652703201138303, 0.13530853319185027, 0.05551119310434882, 0.013877798276087205, 0.02775559655217441, 0.7667483547538181, 0.40294052511907064, 0.23207912331121075, 0.10781628563276721, 0.17817098049482716, 0.07857797088489814, 0.42786220907591405, 0.05806701408887405, 0.44314300225719666, 0.04889853818010446, 0.018336951817539172, 0.22338643281574017, 0.28689826175354866, 0.07665220733873437, 0.09198264880648124, 0.31974920775586335, 0.4278512308236692, 0.20204085900006602, 0.11776713171661603, 0.1296518881283846, 0.12424972612303525, 0.13237941334187042, 0.06934159746478927, 0.018911344763124345, 0.040974580320102746, 0.7406943365557035, 0.11286988724402379, 0.1424751035703251, 0.33120835765049605, 0.20908684030450309, 0.2035358622433216, 0.39808815466567143, 0.0660335801578128, 0.4188415655724126, 0.06792025387660745, 0.04905351668866093, 0.6779874658017832, 0.2525835656908604, 0.05317548751386535, 0.013293871878466337, 0.013293871878466337, 0.21568467044722803, 0.15686157850707494, 0.0588230919401531, 0.019607697313384367, 0.5686232220881466, 0.1596407812642408, 0.1839927648469216, 0.44374725639551676, 0.1515234534033472, 0.0622328469335176, 0.6618300088910994, 0.09265620124475393, 0.09265620124475393, 0.07941960106693194, 0.05294640071128796, 0.6495341297420126, 0.0832736063771811, 0.13323777020348976, 0.06661888510174488, 0.06661888510174488, 0.45801597237566655, 0.20778285576066824, 0.17650371618379346, 0.07819784894218697, 0.08266629745316909, 0.08187285263501656, 0.5263254812251065, 0.13450540075752723, 0.1052650962450213, 0.15789764436753195, 0.6272964264675274, 0.1372210932897716, 0.03920602665422046, 0.058809039981330684, 0.11761807996266137, 0.1270170966427021, 0.1058475805355851, 0.2328646771782872, 0.48689887046369146, 0.06350854832135105, 0.3424764959635819, 0.1855828132577525, 0.20082391386346163, 0.14075604677037268, 0.13089415814314911, 0.5372047597331355, 0.12838855892993176, 0.11374775835020269, 0.1295147743591417, 0.09122344976600413, 0.297086542704004, 0.10764005170434926, 0.12486245997704513, 0.06027842895443559, 0.40903219647652717, 0.4398741200821906, 0.11320289855056376, 0.32343685300161074, 0.05660144927528188, 0.0663045548653302, 0.37941545326427295, 0.11674321638900706, 0.4006414926077288, 0.05041184344070759, 0.055718353276571556, 0.21016827571716276, 0.20832469435122275, 0.37055985455394486, 0.11061488195640146, 0.0995533937607613, 0.1425129000465417, 0.06333906668735188, 0.06333906668735188, 0.11084336670286578, 0.6175559002016808, 0.09262138107768983, 0.06174758738512655, 0.020582529128375517, 0.051456322820938795, 0.7821361068782696, 0.11529461021786545, 0.028823652554466363, 0.05764730510893273, 0.7494149664161255, 0.028823652554466363, 0.06838419296053108, 0.03907668169173205, 0.0879225338063971, 0.16607589718986118, 0.6447652479135788, 0.1939550098456194, 0.25114687172317385, 0.06713827263886825, 0.052218656496897525, 0.4351554708074794, 0.028335635172780118, 0.07083908793195029, 0.7367265144922831, 0.08500690551834035, 0.08500690551834035, 0.16116714466875537, 0.093701828295788, 0.2211363147780597, 0.4647610683471085, 0.06371724324113584, 0.24935146494294114, 0.11797273610203667, 0.28420704606399744, 0.06971116224211257, 0.2788446489684503, 0.2299886008183896, 0.07076572332873526, 0.15922287748965433, 0.4953600633011468, 0.05307429249655144, 0.030420072424649176, 0.09126021727394754, 0.6793816174838316, 0.03549008449542404, 0.16224038626479562, 0.038890629517340285, 0.07778125903468057, 0.11667188855202085, 0.6514180444154497, 0.11667188855202085, 0.020857576476160187, 0.05214394119040047, 0.6883000237132862, 0.041715152952320374, 0.1877181882854417, 0.06710425762756643, 0.6542665118687726, 0.016776064406891607, 0.08388032203445803, 0.16776064406891605, 0.05725314472695814, 0.6870377367234977, 0.11450628945391628, 0.05725314472695814, 0.11450628945391628, 0.37995782132779116, 0.15979534541822993, 0.20862170096268906, 0.11363224563074129, 0.1393770512814561, 0.045231860438546885, 0.5880141857011095, 0.13569558131564066, 0.22615930219273442, 0.24674011320919717, 0.04229830512157666, 0.5216790964994454, 0.10574576280394164, 0.0916463277634161, 0.06495878073358571, 0.16068751023571204, 0.34872608604346017, 0.35214496923996463, 0.07179654712659474, 0.7861011496164326, 0.08498390806664136, 0.01062298850833017, 0.03186896552499051, 0.08498390806664136, 0.05274743359701441, 0.5450568138358156, 0.08791238932835736, 0.1934072565223862, 0.1230773450597003, 0.20196981180428575, 0.5131124948541314, 0.10371422768328187, 0.0927969405587259, 0.08733829699644789, 0.12964560825913904, 0.2963328188780321, 0.05556240353963102, 0.5000616318566792, 0.018520801179877006, 0.32097293486630163, 0.19891280470587708, 0.18007636486630538, 0.1559657218716536, 0.14391040037432773, 0.5493012999286458, 0.13976305264456668, 0.15276426684406125, 0.11051032069570389, 0.04550424969823101, 0.12231101138261675, 0.13343019423558192, 0.7116277025897703, 0.01111918285296516, 0.02223836570593032, 0.5076697886809518, 0.13253326341670865, 0.16622816089553288, 0.10333101893506098, 0.087606733444943, 0.27296920577542344, 0.26791422048328595, 0.1095246813296452, 0.23252932343832367, 0.11626466171916183, 0.07759296170600563, 0.6595401745010478, 0.07759296170600563, 0.07759296170600563, 0.11638944255900845, 0.29719564403772136, 0.3154199052287137, 0.19485940811907204, 0.07990637599127415, 0.11355116588233695, 0.14466052154476863, 0.048220173848256206, 0.5786420861790745, 0.13260547808270456, 0.08438530423444836, 0.29747694592266855, 0.20877472932027286, 0.25528930631909014, 0.14927934013573912, 0.08870221660239572, 0.16536895350968034, 0.29691243925601696, 0.1465770269744894, 0.34201306294047523, 0.048859008991496464, 0.1436763825414649, 0.6106246258012258, 0.043102914762439465, 0.09338964865195218, 0.10775728690609866, 0.2851526082612943, 0.5760082686878144, 0.09695188680884005, 0.017109156495677656, 0.028515260826129426, 0.09994224193439226, 0.03926302361708268, 0.21416194700226912, 0.09994224193439226, 0.5461129648557863, 0.256363807562518, 0.21941046593188476, 0.21248171437614105, 0.20324337896848274, 0.1085504410399851, 0.09931764717880753, 0.055176470654893076, 0.011035294130978614, 0.03310588239293585, 0.7945411774304603, 0.03986098833149658, 0.15475442528698674, 0.31185361459347327, 0.32709458072022196, 0.16647824538448572, 0.04342388852629944, 0.05789851803506592, 0.5283239770699766, 0.02171194426314972, 0.34739110821039554, 0.43703740676512315, 0.1629306121712082, 0.21660187265113562, 0.10350885949700285, 0.07859005998846513, 0.557816510450625, 0.1124630061392389, 0.05398224294683467, 0.03148964171898689, 0.24741861350632557, 0.6325923284322631, 0.02875419674692105, 0.2587877707222894, 0.0575083934938421, 0.02875419674692105, 0.25096235323069654, 0.22231368277057137, 0.23377315095462145, 0.21772989549695135, 0.07563249001473046, 0.1322097651599108, 0.547726169948202, 0.1699839837770282, 0.037774218617117376, 0.11332265585135212, 0.6105680283247493, 0.0670135640844237, 0.14891903129871933, 0.08190546721429565, 0.08935141877923161, 0.07044197052727363, 0.6104970779030382, 0.023480656842424546, 0.10566295579091045, 0.19958558316060865, 0.365929353089997, 0.1715007243805249, 0.18158900228526167, 0.14215300683947252, 0.13848454214684097, 0.7597758830761074, 0.09699266592460946, 0.016165444320768243, 0.06466177728307297, 0.06466177728307297, 0.11117389760394958, 0.033352169281184875, 0.1334086771247395, 0.6892781651444874, 0.033352169281184875, 0.11971457577940581, 0.49382262509004893, 0.2768399564898759, 0.06733944887591577, 0.04489296591727718, 0.033010477477706045, 0.08802793994054944, 0.6382025645689835, 0.16505238738853023, 0.08802793994054944, 0.12563466388933867, 0.1615302821434354, 0.23930412169397838, 0.40681700687976324, 0.059826030423494596, 0.11350604094738131, 0.20954961405670397, 0.5762614386559359, 0.034924935676117326, 0.06984987135223465, 0.25026076845786305, 0.341081208624023, 0.17205427831478085, 0.11554378221139243, 0.12109392022154665, 0.11443560460909766, 0.08582670345682325, 0.11443560460909766, 0.6150913747739, 0.07152225288068603, 0.06390649800285947, 0.06390649800285947, 0.23006339281029406, 0.5240332836234476, 0.11503169640514703, 0.10929351067948788, 0.3927735540044096, 0.1878482214803698, 0.1776019548541678, 0.12978604393189186, 0.1590839931663465, 0.08300034426070252, 0.6155858866002104, 0.08991703961576107, 0.05533356284046835, 0.2571422902729324, 0.5298689617745274, 0.04675314368598771, 0.10909066860063797, 0.054545334300318986, 0.14059832009842568, 0.609259387093178, 0.08435899205905541, 0.12185187741863558, 0.046866106699475225, 0.04651662880493002, 0.2093248296221851, 0.5581995456591603, 0.09303325760986005, 0.09303325760986005, 0.3175346259254379, 0.2904383378464672, 0.2066091966021516, 0.09822404428626878, 0.08721617725418694, 0.21785866704447737, 0.501074934202298, 0.10892933352223869, 0.043571733408895474, 0.13071520022668642, 0.22167054386800528, 0.059112145031468076, 0.022167054386800528, 0.07881619337529076, 0.618214516787437, 0.2967544278454484, 0.07741419856837785, 0.019353549642094462, 0.04515828249822041, 0.5548017564067079, 0.6578776482756187, 0.05720675202396684, 0.20022363208388397, 0.05720675202396684, 0.5230807487537084, 0.1208562018781131, 0.15673538681067795, 0.0868653950998938, 0.11330268926073105, 0.2539465971179808, 0.13301964610941852, 0.5139395417863897, 0.048370780403424914, 0.048370780403424914, 0.2640334404959086, 0.1485188102789486, 0.08251045015497144, 0.4785606108988343, 0.016502090030994288, 0.02897132687394946, 0.296956100457982, 0.5721837057605018, 0.007242831718487365, 0.08691398062184838, 0.353503747021467, 0.20568912713859694, 0.1822264890619509, 0.1251340697421122, 0.13295494910099423, 0.696435512095339, 0.1392871024190678, 0.11142968193525425, 0.027857420483813563, 0.027857420483813563, 0.10837509144013706, 0.13933940328017622, 0.21675018288027412, 0.4954289894406266, 0.04644646776005874, 0.656204637522947, 0.16405115938073675, 0.08202557969036837, 0.06151918476777628, 0.04101278984518419, 0.13794499030211146, 0.16750463108113536, 0.05911928155804778, 0.5911928155804778, 0.049266067965039816, 0.28846805546861415, 0.12175599743805142, 0.211668118623074, 0.2622436867896492, 0.1161364898639875, 0.25665715566728015, 0.07129365435202227, 0.5418317730753692, 0.07129365435202227, 0.057034923481617816, 0.11704515554794946, 0.5267031999657725, 0.08778386666096209, 0.11704515554794946, 0.14630644443493682, 0.02690988336739407, 0.08072965010218221, 0.6368672396949929, 0.0896996112246469, 0.16145930020436441, 0.6391640131820285, 0.09833292510492747, 0.08849963259443472, 0.08849963259443472, 0.09833292510492747, 0.033603745386566165, 0.676875442786547, 0.1392155166014884, 0.10561177121492224, 0.048005350552237376, 0.034444242168540924, 0.3099981795168683, 0.6113852984916014, 0.034444242168540924, 0.02583318162640569, 0.4661555247311307, 0.16514029799892074, 0.16095953096097337, 0.08361534075894721, 0.12333262761944713, 0.0747020097720373, 0.7606022813152888, 0.0747020097720373, 0.027164367189831742, 0.061119826177121424, 0.3175838438060614, 0.17742947142216578, 0.16550143972991935, 0.07604120203807105, 0.26390770119095247, 0.13440273284997775, 0.06720136642498888, 0.06720136642498888, 0.23520478248746107, 0.5040102481874166, 0.19330426482613444, 0.19140912497489784, 0.22931192199963008, 0.2615292994706525, 0.1250792301816164, 0.22232757679393905, 0.10105798945179048, 0.10105798945179048, 0.10105798945179048, 0.4850783493685943, 0.2518149322944392, 0.08123062332078684, 0.1624612466415737, 0.07310756098870816, 0.43052230360017024, 0.03532508514064882, 0.2472755959845417, 0.2331455619282822, 0.43803105574404533, 0.04945511919690834, 0.08225542361867089, 0.05483694907911393, 0.712880338028481, 0.06854618634889241, 0.08225542361867089, 0.11658343429534798, 0.029145858573836995, 0.30117387192964895, 0.505194881946508, 0.048576430956394995, 0.038669839339455614, 0.7292026846868773, 0.005524262762779374, 0.07181541591613186, 0.15467935735782246, 0.04734759416967078, 0.08049091008844032, 0.48294546053064197, 0.2698812867671234, 0.11836898542417695, 0.23648520306413198, 0.13436659265007497, 0.12361726523806899, 0.440722423892246, 0.064495964472036, 0.2047955023634368, 0.4892337000904324, 0.11946404304533814, 0.07964269536355877, 0.1023977511817184, 0.319148094561538, 0.17293739114172008, 0.13363343860951096, 0.13834991291337606, 0.23582371519325465, 0.6155097748961291, 0.06838997498845878, 0.1139832916474313, 0.06838997498845878, 0.13677994997691756, 0.2643841286589742, 0.3260737586794015, 0.1523356169892185, 0.16744328148401702, 0.09190495901002438, 0.20902572700217886, 0.21738675608226604, 0.3846073376840091, 0.07803627141414678, 0.1114803877344954, 0.11557876665163826, 0.05778938332581913, 0.15025239664712975, 0.12713664331680208, 0.5547780799278637, 0.6335347265214232, 0.10181808104808587, 0.18100992186326376, 0.04525248046581594, 0.02262624023290797, 0.17446812805331674, 0.12078562711383467, 0.04026187570461155, 0.46972188322046815, 0.17446812805331674, 0.11299284957504596, 0.06779570974502758, 0.011299284957504596, 0.03389785487251379, 0.7683513771103125, 0.032951626207009026, 0.09885487862102707, 0.3583489350012231, 0.3707057948288515, 0.1359254581039122, 0.600279138436019, 0.1800837415308057, 0.09004187076540285, 0.03001395692180095, 0.0600279138436019, 0.09889841269195865, 0.06593227512797244, 0.010988712521328738, 0.03296613756398622, 0.7911873015356692, 0.21295289583260796, 0.09799602286102313, 0.46359656968868634, 0.09234240615750257, 0.13380226198332004, 0.1997029789496715, 0.11018095390326704, 0.06886309618954191, 0.06886309618954191, 0.5509047695163353, 0.16404685623047768, 0.12303514217285826, 0.560493425454132, 0.04101171405761942, 0.10936457082031845, 0.06150907026784048, 0.10729915591167728, 0.31779686305050914, 0.42646288719036063, 0.0874795666031509, 0.044983147714811954, 0.12209711522591817, 0.6233379040481085, 0.1413756071036947, 0.07068780355184735, 0.13663540190897097, 0.17389960242959943, 0.03726420052062845, 0.5589630078094266, 0.08694980121479971, 0.1739617065308504, 0.5218851195925512, 0.1304712798981378, 0.10872606658178151, 0.0652356399490689, 0.08921726109425467, 0.1070607133131056, 0.6958946365351864, 0.0535303566565528, 0.0535303566565528, 0.0949758097175445, 0.08310383350285144, 0.569854858305267, 0.16620766700570289, 0.08310383350285144, 0.03817975867924808, 0.10605488522013355, 0.1993831842138511, 0.5896651618239426, 0.06363293113208013, 0.2976089501172925, 0.42090408659445655, 0.14880447505864625, 0.046767120732717396, 0.08503112860494072, 0.10086514144512321, 0.050432570722561604, 0.21854113979776696, 0.08405428453760268, 0.5547582779481777, 0.12135107995051747, 0.13483453327835276, 0.5325964064494934, 0.15505971327010568, 0.06741726663917638, 0.13909985539044917, 0.05961422373876393, 0.01987140791292131, 0.03974281582584262, 0.7451777967345491, 0.1980534789456908, 0.27170973144615435, 0.2848041763351256, 0.16695417233438398, 0.07856666933382776, 0.12318469545778753, 0.20017513011890475, 0.237130538756241, 0.31412097341735823, 0.12626431284423223, 0.047782567147044465, 0.07167385072056669, 0.6052458505292299, 0.1752027462058297, 0.09556513429408893, 0.06202648347750403, 0.08270197797000536, 0.1860794504325121, 0.16540395594001073, 0.49621186782003224, 0.6113824658257598, 0.1594910780415026, 0.124048616254502, 0.044303077233750716, 0.062024308127251, 0.5603857444003649, 0.12122630389069118, 0.1486737689225458, 0.07548052883760017, 0.09377883885883657, 0.39791540745194837, 0.1562871884565792, 0.195358985570724, 0.14086411064836415, 0.10898974984471971, 0.8158641667846541, 0.02660426630819524, 0.09754897646338255, 0.01773617753879683, 0.03547235507759366, 0.27740918467536574, 0.243684930852086, 0.20016976462849922, 0.1762364232055265, 0.10226064062542894, 0.09079584731526118, 0.5394341516965517, 0.16556889804547628, 0.09613677951027655, 0.1014777117052919, 0.21762241603221397, 0.2752283496878, 0.2992308220442942, 0.12001236178247095, 0.08640890048337908, 0.20335820410003555, 0.10167910205001778, 0.10167910205001778, 0.5002611820860875, 0.09354477388601636, 0.25697387608178546, 0.1257531734017248, 0.08201293917503791, 0.10388305628838136, 0.431934812988533, 0.4471795813255015, 0.1151001357150856, 0.20764686645897198, 0.14465287326355353, 0.08554739816661767, 0.7334734375814088, 0.028210516830054187, 0.014105258415027093, 0.1974736178103793, 0.014105258415027093, 0.7494025575699701, 0.037007533707159014, 0.018503766853579507, 0.17578578510900533, 0.018503766853579507, 0.12016069004336066, 0.1401874717172541, 0.5607498868690164, 0.1401874717172541, 0.06008034502168033, 0.2106853637239454, 0.0902937273102623, 0.1053426818619727, 0.5417623638615738, 0.04514686365513115, 0.15228243781938877, 0.2030432504258517, 0.5752892095399131, 0.03384054173764195, 0.016920270868820975, 0.30735527673097757, 0.21467583943979046, 0.22129579924630383, 0.18914170875752465, 0.06714530660892125, 0.2963580221357152, 0.3014971785889357, 0.15246164144554133, 0.16273995435198232, 0.08736565970474841, 0.07721228798612294, 0.5404860159028606, 0.1158184319791844, 0.07721228798612294, 0.19303071996530735, 0.1416247324524239, 0.12982267141472192, 0.09441648830161593, 0.5783009908473976, 0.05901030518850996, 0.05901030797906318, 0.6294432851100072, 0.09835051329843864, 0.09835051329843864, 0.11802061595812637, 0.3095409927447411, 0.4581206692622169, 0.17953377579194987, 0.030954099274474116, 0.01857245956468447, 0.20010165732265348, 0.07503812149599505, 0.07503812149599505, 0.6253176791332921, 0.025012707165331684, 0.16868636286852354, 0.5301571404439311, 0.09639220735344202, 0.14458831103016304, 0.04819610367672101, 0.5424661948240419, 0.08836553399848646, 0.25282361116233626, 0.0711833468321141, 0.04418276699924323, 0.6488482404825748, 0.05296720330469999, 0.22511061404497495, 0.05296720330469999, 0.013241800826174998, 0.6284908933241097, 0.11496784633977616, 0.0766452308931841, 0.11496784633977616, 0.061316184714547285, 0.7374143411015001, 0.03403450805083846, 0.19286221228808462, 0.02268967203389231, 0.011344836016946155, 0.20768831240807425, 0.051922078102018564, 0.06922943746935808, 0.051922078102018564, 0.6057575778568832, 0.4489486762037433, 0.2336741060568664, 0.12327689059692952, 0.10671730827793899, 0.08647781877695056, 0.59575091409519, 0.09820070012558077, 0.07201384675875923, 0.06546713341705385, 0.17021454688434, 0.3235729432633715, 0.25498144376975357, 0.14612971631249036, 0.1625320314087903, 0.1118339665656814, 0.13097042872685982, 0.14188463112076483, 0.1527988335146698, 0.08731361915123989, 0.4802249053318194, 0.28294367971818635, 0.17328608135850646, 0.19900823406015977, 0.24097595688917306, 0.10288861080661321, 0.7528310638052328, 0.06194179638903814, 0.10482457850452609, 0.04288278211548795, 0.0381180285471004, 0.27015525183497047, 0.26089278605777144, 0.2670677632425708, 0.07564347051379172, 0.12504328799218634, 0.3380569293694049, 0.2559508366188981, 0.1779729831686962, 0.1330210441209327, 0.09586689041818944, 0.24003795961466828, 0.22039849019164998, 0.2182163269224257, 0.2596774290376866, 0.06328273480750346, 0.30185930036676284, 0.15657942318489837, 0.20500604891218652, 0.24213312863644076, 0.09523903059700004, 0.10978093503599999, 0.512311030168, 0.13417669837733331, 0.12197881670666666, 0.12197881670666666, 0.06969131885005145, 0.6504523092671468, 0.06969131885005145, 0.06969131885005145, 0.11615219808341909], \"Term\": [\"1991\", \"1991\", \"1991\", \"1991\", \"1991\", \"1993\", \"1993\", \"1993\", \"1993\", \"1993\", \"256\", \"256\", \"256\", \"256\", \"256\", \"500\", \"500\", \"500\", \"500\", \"500\", \"___\", \"___\", \"___\", \"___\", \"___\", \"____\", \"____\", \"____\", \"____\", \"____\", \"_____\", \"_____\", \"_____\", \"_____\", \"_____\", \"acad3\", \"acad3\", \"acad3\", \"acad3\", \"acad3\", \"advance\", \"advance\", \"advance\", \"advance\", \"advance\", \"age\", \"age\", \"age\", \"age\", \"age\", \"air\", \"air\", \"air\", \"air\", \"air\", \"alaska\", \"alaska\", \"alaska\", \"alaska\", \"alaska\", \"alink\", \"alink\", \"alink\", \"alink\", \"also\", \"also\", \"also\", \"also\", \"also\", \"among\", \"among\", \"among\", \"among\", \"among\", \"anyone\", \"anyone\", \"anyone\", \"anyone\", \"anyone\", \"apple\", \"apple\", \"apple\", \"apple\", \"apple\", \"april\", \"april\", \"april\", \"april\", \"april\", \"arm\", \"arm\", \"arm\", \"arm\", \"arm\", \"astronomy\", \"astronomy\", \"astronomy\", \"astronomy\", \"astronomy\", \"att\", \"att\", \"att\", \"att\", \"att\", \"aurora\", \"aurora\", \"aurora\", \"aurora\", \"aurora\", \"autos\", \"autos\", \"autos\", \"autos\", \"autos\", \"available\", \"available\", \"available\", \"available\", \"available\", \"baalke\", \"baalke\", \"baalke\", \"baalke\", \"baalke\", \"back\", \"back\", \"back\", \"back\", \"back\", \"banks\", \"banks\", \"banks\", \"banks\", \"banks\", \"berkeley\", \"berkeley\", \"berkeley\", \"berkeley\", \"berkeley\", \"better\", \"better\", \"better\", \"better\", \"better\", \"billion\", \"billion\", \"billion\", \"billion\", \"billion\", \"bit\", \"bit\", \"bit\", \"bit\", \"bit\", \"brian\", \"brian\", \"brian\", \"brian\", \"brian\", \"buffalo\", \"buffalo\", \"buffalo\", \"buffalo\", \"buffalo\", \"cadre\", \"cadre\", \"cadre\", \"cadre\", \"cadre\", \"callison\", \"callison\", \"callison\", \"callison\", \"callison\", \"caltech\", \"caltech\", \"caltech\", \"caltech\", \"caltech\", \"car\", \"car\", \"car\", \"car\", \"car\", \"card\", \"card\", \"card\", \"card\", \"card\", \"cars\", \"cars\", \"cars\", \"cars\", \"cars\", \"center\", \"center\", \"center\", \"center\", \"center\", \"chastity\", \"chastity\", \"chastity\", \"chastity\", \"chastity\", \"christ\", \"christ\", \"christ\", \"christ\", \"christ\", \"cleveland\", \"cleveland\", \"cleveland\", \"cleveland\", \"cleveland\", \"color\", \"color\", \"color\", \"color\", \"color\", \"colorado\", \"colorado\", \"colorado\", \"colorado\", \"colorado\", \"colors\", \"colors\", \"colors\", \"colors\", \"colors\", \"com\", \"com\", \"com\", \"com\", \"com\", \"comet\", \"comet\", \"comet\", \"comet\", \"comet\", \"comp\", \"comp\", \"comp\", \"comp\", \"comp\", \"computer\", \"computer\", \"computer\", \"computer\", \"computer\", \"convert\", \"convert\", \"convert\", \"convert\", \"convert\", \"costs\", \"costs\", \"costs\", \"costs\", \"costs\", \"could\", \"could\", \"could\", \"could\", \"could\", \"craig\", \"craig\", \"craig\", \"craig\", \"craig\", \"cso\", \"cso\", \"cso\", \"cso\", \"cso\", \"data\", \"data\", \"data\", \"data\", \"data\", \"dealer\", \"dealer\", \"dealer\", \"dealer\", \"dealer\", \"depending\", \"depending\", \"depending\", \"depending\", \"depending\", \"digest\", \"digest\", \"digest\", \"digest\", \"digest\", \"distribution\", \"distribution\", \"distribution\", \"distribution\", \"distribution\", \"dodge\", \"dodge\", \"dodge\", \"dodge\", \"dodge\", \"dsl\", \"dsl\", \"dsl\", \"dsl\", \"dsl\", \"dyer\", \"dyer\", \"dyer\", \"dyer\", \"dyer\", \"ecn\", \"ecn\", \"ecn\", \"ecn\", \"ecn\", \"engines\", \"engines\", \"engines\", \"engines\", \"engines\", \"enough\", \"enough\", \"enough\", \"enough\", \"enough\", \"even\", \"even\", \"even\", \"even\", \"even\", \"exploration\", \"exploration\", \"exploration\", \"exploration\", \"exploration\", \"factor\", \"factor\", \"factor\", \"factor\", \"factor\", \"factory\", \"factory\", \"factory\", \"factory\", \"factory\", \"fairbanks\", \"fairbanks\", \"fairbanks\", \"fairbanks\", \"fairbanks\", \"faith\", \"faith\", \"faith\", \"faith\", \"faith\", \"favor\", \"favor\", \"favor\", \"favor\", \"favor\", \"file\", \"file\", \"file\", \"file\", \"file\", \"film\", \"film\", \"film\", \"film\", \"film\", \"first\", \"first\", \"first\", \"first\", \"first\", \"flight\", \"flight\", \"flight\", \"flight\", \"flight\", \"food\", \"food\", \"food\", \"food\", \"food\", \"foot\", \"foot\", \"foot\", \"foot\", \"foot\", \"forwarded\", \"forwarded\", \"forwarded\", \"forwarded\", \"forwarded\", \"freenet\", \"freenet\", \"freenet\", \"freenet\", \"freenet\", \"gas\", \"gas\", \"gas\", \"gas\", \"gas\", \"geb\", \"geb\", \"geb\", \"geb\", \"geb\", \"get\", \"get\", \"get\", \"get\", \"get\", \"gif\", \"gif\", \"gif\", \"gif\", \"gif\", \"god\", \"god\", \"god\", \"god\", \"god\", \"good\", \"good\", \"good\", \"good\", \"good\", \"gordon\", \"gordon\", \"gordon\", \"gordon\", \"gordon\", \"gov\", \"gov\", \"gov\", \"gov\", \"gov\", \"graphics\", \"graphics\", \"graphics\", \"graphics\", \"graphics\", \"gun\", \"gun\", \"gun\", \"gun\", \"gun\", \"harvey\", \"harvey\", \"harvey\", \"harvey\", \"harvey\", \"health\", \"health\", \"health\", \"health\", \"health\", \"heavy\", \"heavy\", \"heavy\", \"heavy\", \"heavy\", \"hello\", \"hello\", \"hello\", \"hello\", \"hello\", \"help\", \"help\", \"help\", \"help\", \"help\", \"henry\", \"henry\", \"henry\", \"henry\", \"henry\", \"homeopathy\", \"homeopathy\", \"homeopathy\", \"homeopathy\", \"homeopathy\", \"hopkins\", \"hopkins\", \"hopkins\", \"hopkins\", \"hopkins\", \"host\", \"host\", \"host\", \"host\", \"host\", \"i'm\", \"i'm\", \"i'm\", \"i'm\", \"i'm\", \"ibm\", \"ibm\", \"ibm\", \"ibm\", \"ibm\", \"image\", \"image\", \"image\", \"image\", \"image\", \"images\", \"images\", \"images\", \"images\", \"images\", \"information\", \"information\", \"information\", \"information\", \"information\", \"ins\", \"ins\", \"ins\", \"ins\", \"ins\", \"intellect\", \"intellect\", \"intellect\", \"intellect\", \"intellect\", \"jacked\", \"jacked\", \"jacked\", \"jacked\", \"jacked\", \"japanese\", \"japanese\", \"japanese\", \"japanese\", \"japanese\", \"jesus\", \"jesus\", \"jesus\", \"jesus\", \"jesus\", \"jet\", \"jet\", \"jet\", \"jet\", \"jet\", \"jim\", \"jim\", \"jim\", \"jim\", \"jim\", \"john\", \"john\", \"john\", \"john\", \"john\", \"josh\", \"josh\", \"josh\", \"josh\", \"josh\", \"jpl\", \"jpl\", \"jpl\", \"jpl\", \"jpl\", \"jsc\", \"jsc\", \"jsc\", \"jsc\", \"jsc\", \"kelvin\", \"kelvin\", \"kelvin\", \"kelvin\", \"kelvin\", \"kent\", \"kent\", \"kent\", \"kent\", \"kent\", \"kipling\", \"kipling\", \"kipling\", \"kipling\", \"kipling\", \"know\", \"know\", \"know\", \"know\", \"know\", \"ksand\", \"ksand\", \"ksand\", \"ksand\", \"lab\", \"lab\", \"lab\", \"lab\", \"lab\", \"launch\", \"launch\", \"launch\", \"launch\", \"launch\", \"lehigh\", \"lehigh\", \"lehigh\", \"lehigh\", \"lehigh\", \"lewis\", \"lewis\", \"lewis\", \"lewis\", \"lewis\", \"light\", \"light\", \"light\", \"light\", \"light\", \"lights\", \"lights\", \"lights\", \"lights\", \"lights\", \"like\", \"like\", \"like\", \"like\", \"like\", \"looking\", \"looking\", \"looking\", \"looking\", \"looking\", \"magnus\", \"magnus\", \"magnus\", \"magnus\", \"magnus\", \"mail\", \"mail\", \"mail\", \"mail\", \"mail\", \"make\", \"make\", \"make\", \"make\", \"make\", \"man's\", \"man's\", \"man's\", \"man's\", \"man's\", \"many\", \"many\", \"many\", \"many\", \"many\", \"maryland\", \"maryland\", \"maryland\", \"maryland\", \"maryland\", \"may\", \"may\", \"may\", \"may\", \"may\", \"moon\", \"moon\", \"moon\", \"moon\", \"moon\", \"moral\", \"moral\", \"moral\", \"moral\", \"moral\", \"morality\", \"morality\", \"morality\", \"morality\", \"morality\", \"msg\", \"msg\", \"msg\", \"msg\", \"msg\", \"much\", \"much\", \"much\", \"much\", \"much\", \"n3jxp\", \"n3jxp\", \"n3jxp\", \"n3jxp\", \"n3jxp\", \"nasa\", \"nasa\", \"nasa\", \"nasa\", \"nasa\", \"navy\", \"navy\", \"navy\", \"navy\", \"navy\", \"need\", \"need\", \"need\", \"need\", \"need\", \"netcom\", \"netcom\", \"netcom\", \"netcom\", \"netcom\", \"netters\", \"netters\", \"netters\", \"netters\", \"netters\", \"new\", \"new\", \"new\", \"new\", \"new\", \"newsgroups\", \"newsgroups\", \"newsgroups\", \"newsgroups\", \"newsgroups\", \"newsreader\", \"newsreader\", \"newsreader\", \"newsreader\", \"newsreader\", \"newton\", \"newton\", \"newton\", \"newton\", \"newton\", \"nntp\", \"nntp\", \"nntp\", \"nntp\", \"nntp\", \"ns1\", \"ns1\", \"ns1\", \"ns1\", \"ns1\", \"nsmca\", \"nsmca\", \"nsmca\", \"nsmca\", \"nsmca\", \"object\", \"object\", \"object\", \"object\", \"object\", \"observatory\", \"observatory\", \"observatory\", \"observatory\", \"observatory\", \"office\", \"office\", \"office\", \"office\", \"office\", \"ohio\", \"ohio\", \"ohio\", \"ohio\", \"ohio\", \"one\", \"one\", \"one\", \"one\", \"one\", \"option\", \"option\", \"option\", \"option\", \"option\", \"options\", \"options\", \"options\", \"options\", \"options\", \"order\", \"order\", \"order\", \"order\", \"order\", \"page\", \"page\", \"page\", \"page\", \"page\", \"pain\", \"pain\", \"pain\", \"pain\", \"pain\", \"parts\", \"parts\", \"parts\", \"parts\", \"parts\", \"pasadena\", \"pasadena\", \"pasadena\", \"pasadena\", \"pasadena\", \"people\", \"people\", \"people\", \"people\", \"people\", \"physical\", \"physical\", \"physical\", \"physical\", \"physical\", \"pitt\", \"pitt\", \"pitt\", \"pitt\", \"pitt\", \"pittsburgh\", \"pittsburgh\", \"pittsburgh\", \"pittsburgh\", \"pittsburgh\", \"pl9\", \"pl9\", \"pl9\", \"pl9\", \"please\", \"please\", \"please\", \"please\", \"please\", \"points\", \"points\", \"points\", \"points\", \"points\", \"policy\", \"policy\", \"policy\", \"policy\", \"policy\", \"polygon\", \"polygon\", \"polygon\", \"polygon\", \"polygon\", \"posting\", \"posting\", \"posting\", \"posting\", \"posting\", \"pov\", \"pov\", \"pov\", \"pov\", \"pov\", \"prices\", \"prices\", \"prices\", \"prices\", \"prices\", \"pro\", \"pro\", \"pro\", \"pro\", \"pro\", \"profit\", \"profit\", \"profit\", \"profit\", \"profit\", \"program\", \"program\", \"program\", \"program\", \"program\", \"programming\", \"programming\", \"programming\", \"programming\", \"programming\", \"proper\", \"proper\", \"proper\", \"proper\", \"proper\", \"propulsion\", \"propulsion\", \"propulsion\", \"propulsion\", \"propulsion\", \"purdue\", \"purdue\", \"purdue\", \"purdue\", \"purdue\", \"radar\", \"radar\", \"radar\", \"radar\", \"radar\", \"radius\", \"radius\", \"radius\", \"radius\", \"radius\", \"read\", \"read\", \"read\", \"read\", \"read\", \"rec\", \"rec\", \"rec\", \"rec\", \"rec\", \"reply\", \"reply\", \"reply\", \"reply\", \"reply\", \"represents\", \"represents\", \"represents\", \"represents\", \"represents\", \"research\", \"research\", \"research\", \"research\", \"research\", \"reserve\", \"reserve\", \"reserve\", \"reserve\", \"reserve\", \"robert\", \"robert\", \"robert\", \"robert\", \"robert\", \"rocket\", \"rocket\", \"rocket\", \"rocket\", \"rocket\", \"routine\", \"routine\", \"routine\", \"routine\", \"routine\", \"russian\", \"russian\", \"russian\", \"russian\", \"russian\", \"sandvik\", \"sandvik\", \"sandvik\", \"sandvik\", \"sandvik\", \"satellite\", \"satellite\", \"satellite\", \"satellite\", \"satellite\", \"saturn\", \"saturn\", \"saturn\", \"saturn\", \"saturn\", \"saw\", \"saw\", \"saw\", \"saw\", \"saw\", \"science\", \"science\", \"science\", \"science\", \"science\", \"seattle\", \"seattle\", \"seattle\", \"seattle\", \"seattle\", \"see\", \"see\", \"see\", \"see\", \"see\", \"send\", \"send\", \"send\", \"send\", \"send\", \"sensitivity\", \"sensitivity\", \"sensitivity\", \"sensitivity\", \"sensitivity\", \"setting\", \"setting\", \"setting\", \"setting\", \"setting\", \"shall\", \"shall\", \"shall\", \"shall\", \"shall\", \"shameful\", \"shameful\", \"shameful\", \"shameful\", \"shameful\", \"shuttle\", \"shuttle\", \"shuttle\", \"shuttle\", \"shuttle\", \"significance\", \"significance\", \"significance\", \"significance\", \"significance\", \"skepticism\", \"skepticism\", \"skepticism\", \"skepticism\", \"skepticism\", \"software\", \"software\", \"software\", \"software\", \"software\", \"soon\", \"soon\", \"soon\", \"soon\", \"soon\", \"southern\", \"southern\", \"southern\", \"southern\", \"southern\", \"space\", \"space\", \"space\", \"space\", \"space\", \"spacecraft\", \"spacecraft\", \"spacecraft\", \"spacecraft\", \"spacecraft\", \"spdcc\", \"spdcc\", \"spdcc\", \"spdcc\", \"spdcc\", \"speeds\", \"speeds\", \"speeds\", \"speeds\", \"speeds\", \"sphere\", \"sphere\", \"sphere\", \"sphere\", \"sphere\", \"stanford\", \"stanford\", \"stanford\", \"stanford\", \"stanford\", \"station\", \"station\", \"station\", \"station\", \"station\", \"sun\", \"sun\", \"sun\", \"sun\", \"sun\", \"superstition\", \"superstition\", \"superstition\", \"superstition\", \"superstition\", \"surface\", \"surface\", \"surface\", \"surface\", \"surface\", \"surrender\", \"surrender\", \"surrender\", \"surrender\", \"surrender\", \"system\", \"system\", \"system\", \"system\", \"system\", \"technology\", \"technology\", \"technology\", \"technology\", \"technology\", \"telescope\", \"telescope\", \"telescope\", \"telescope\", \"telescope\", \"temporary\", \"temporary\", \"temporary\", \"temporary\", \"temporary\", \"thank\", \"thank\", \"thank\", \"thank\", \"thank\", \"thanks\", \"thanks\", \"thanks\", \"thanks\", \"thanks\", \"think\", \"think\", \"think\", \"think\", \"think\", \"tiff\", \"tiff\", \"tiff\", \"tiff\", \"tiff\", \"time\", \"time\", \"time\", \"time\", \"time\", \"toronto\", \"toronto\", \"toronto\", \"toronto\", \"toronto\", \"two\", \"two\", \"two\", \"two\", \"two\", \"uiuc\", \"uiuc\", \"uiuc\", \"uiuc\", \"uiuc\", \"univ\", \"univ\", \"univ\", \"univ\", \"univ\", \"university\", \"university\", \"university\", \"university\", \"university\", \"uokmax\", \"uokmax\", \"uokmax\", \"uokmax\", \"uokmax\", \"uoknor\", \"uoknor\", \"uoknor\", \"uoknor\", \"uoknor\", \"upper\", \"upper\", \"upper\", \"upper\", \"upper\", \"urbana\", \"urbana\", \"urbana\", \"urbana\", \"urbana\", \"usc\", \"usc\", \"usc\", \"usc\", \"usc\", \"use\", \"use\", \"use\", \"use\", \"use\", \"used\", \"used\", \"used\", \"used\", \"used\", \"utzoo\", \"utzoo\", \"utzoo\", \"utzoo\", \"utzoo\", \"uxa\", \"uxa\", \"uxa\", \"uxa\", \"uxa\", \"vacuum\", \"vacuum\", \"vacuum\", \"vacuum\", \"vacuum\", \"values\", \"values\", \"values\", \"values\", \"values\", \"van\", \"van\", \"van\", \"van\", \"van\", \"vary\", \"vary\", \"vary\", \"vary\", \"vary\", \"version\", \"version\", \"version\", \"version\", \"version\", \"vga\", \"vga\", \"vga\", \"vga\", \"vga\", \"video\", \"video\", \"video\", \"video\", \"video\", \"viewer\", \"viewer\", \"viewer\", \"viewer\", \"viewer\", \"vnet\", \"vnet\", \"vnet\", \"vnet\", \"vnet\", \"want\", \"want\", \"want\", \"want\", \"want\", \"water\", \"water\", \"water\", \"water\", \"water\", \"way\", \"way\", \"way\", \"way\", \"way\", \"weight\", \"weight\", \"weight\", \"weight\", \"weight\", \"well\", \"well\", \"well\", \"well\", \"well\", \"windows\", \"windows\", \"windows\", \"windows\", \"windows\", \"world\", \"world\", \"world\", \"world\", \"world\", \"would\", \"would\", \"would\", \"would\", \"would\", \"year\", \"year\", \"year\", \"year\", \"year\", \"years\", \"years\", \"years\", \"years\", \"years\", \"zoo\", \"zoo\", \"zoo\", \"zoo\", \"zoo\", \"zoology\", \"zoology\", \"zoology\", \"zoology\", \"zoology\"]}, \"R\": 30, \"lambda.step\": 0.01, \"plot.opts\": {\"xlab\": \"PC1\", \"ylab\": \"PC2\"}, \"topic.order\": [4, 3, 1, 2, 5]};\n",
              "\n",
              "function LDAvis_load_lib(url, callback){\n",
              "  var s = document.createElement('script');\n",
              "  s.src = url;\n",
              "  s.async = true;\n",
              "  s.onreadystatechange = s.onload = callback;\n",
              "  s.onerror = function(){console.warn(\"failed to load library \" + url);};\n",
              "  document.getElementsByTagName(\"head\")[0].appendChild(s);\n",
              "}\n",
              "\n",
              "if(typeof(LDAvis) !== \"undefined\"){\n",
              "   // already loaded: just create the visualization\n",
              "   !function(LDAvis){\n",
              "       new LDAvis(\"#\" + \"ldavis_el3191389872007666724132067543\", ldavis_el3191389872007666724132067543_data);\n",
              "   }(LDAvis);\n",
              "}else if(typeof define === \"function\" && define.amd){\n",
              "   // require.js is available: use it to load d3/LDAvis\n",
              "   require.config({paths: {d3: \"https://d3js.org/d3.v5\"}});\n",
              "   require([\"d3\"], function(d3){\n",
              "      window.d3 = d3;\n",
              "      LDAvis_load_lib(\"https://cdn.jsdelivr.net/gh/bmabey/pyLDAvis@3.4.0/pyLDAvis/js/ldavis.v3.0.0.js\", function(){\n",
              "        new LDAvis(\"#\" + \"ldavis_el3191389872007666724132067543\", ldavis_el3191389872007666724132067543_data);\n",
              "      });\n",
              "    });\n",
              "}else{\n",
              "    // require.js not available: dynamically load d3 & LDAvis\n",
              "    LDAvis_load_lib(\"https://d3js.org/d3.v5.js\", function(){\n",
              "         LDAvis_load_lib(\"https://cdn.jsdelivr.net/gh/bmabey/pyLDAvis@3.4.0/pyLDAvis/js/ldavis.v3.0.0.js\", function(){\n",
              "                 new LDAvis(\"#\" + \"ldavis_el3191389872007666724132067543\", ldavis_el3191389872007666724132067543_data);\n",
              "            })\n",
              "         });\n",
              "}\n",
              "</script>"
            ]
          },
          "metadata": {},
          "execution_count": 39
        }
      ],
      "source": [
        "import pyLDAvis\n",
        "import pyLDAvis.gensim_models as gensimvis\n",
        "pyLDAvis.enable_notebook()\n",
        "\n",
        "# feed the LDA model into the pyLDAvis instance\n",
        "lda_viz = gensimvis.prepare(model, corpus, dictionary)\n",
        "lda_viz"
      ]
    },
    {
      "cell_type": "markdown",
      "id": "5b25285f",
      "metadata": {
        "id": "5b25285f"
      },
      "source": [
        "### 7.3.2 혼란도와 토픽 응집도를 이용한 최적값 선택"
      ]
    },
    {
      "cell_type": "code",
      "execution_count": null,
      "id": "7a6d982d",
      "metadata": {
        "colab": {
          "base_uri": "https://localhost:8080/"
        },
        "id": "7a6d982d",
        "outputId": "597f5fb7-b41e-4672-fa6f-5532cf4873b9"
      },
      "outputs": [
        {
          "output_type": "stream",
          "name": "stdout",
          "text": [
            "-1.6331765378141505\n"
          ]
        },
        {
          "output_type": "stream",
          "name": "stderr",
          "text": [
            "/usr/local/lib/python3.10/dist-packages/ipykernel/ipkernel.py:283: DeprecationWarning: `should_run_async` will not call `transform_cell` automatically in the future. Please pass the result to `transformed_cell` argument and any exception that happen during thetransform in `preprocessing_exc_tuple` in IPython 7.17 and above.\n",
            "  and should_run_async(code)\n"
          ]
        }
      ],
      "source": [
        "from gensim.models import CoherenceModel\n",
        "\n",
        "cm = CoherenceModel(model=model, corpus=corpus, coherence='u_mass')\n",
        "coherence = cm.get_coherence()\n",
        "print(coherence)"
      ]
    },
    {
      "cell_type": "code",
      "execution_count": null,
      "id": "748ab7e4",
      "metadata": {
        "colab": {
          "base_uri": "https://localhost:8080/",
          "height": 1000
        },
        "id": "748ab7e4",
        "outputId": "af2f9f25-84da-4eb6-c553-fe91ad8a9861"
      },
      "outputs": [
        {
          "output_type": "stream",
          "name": "stderr",
          "text": [
            "/usr/local/lib/python3.10/dist-packages/ipykernel/ipkernel.py:283: DeprecationWarning: `should_run_async` will not call `transform_cell` automatically in the future. Please pass the result to `transformed_cell` argument and any exception that happen during thetransform in `preprocessing_exc_tuple` in IPython 7.17 and above.\n",
            "  and should_run_async(code)\n",
            "WARNING:gensim.models.ldamodel:too few updates, training might not converge; consider increasing the number of passes or iterations to improve accuracy\n",
            "WARNING:gensim.models.ldamodel:too few updates, training might not converge; consider increasing the number of passes or iterations to improve accuracy\n"
          ]
        },
        {
          "output_type": "stream",
          "name": "stdout",
          "text": [
            "num_topics: 6, perplexity: -7.106, coherence: -1.704\n"
          ]
        },
        {
          "output_type": "stream",
          "name": "stderr",
          "text": [
            "WARNING:gensim.models.ldamodel:too few updates, training might not converge; consider increasing the number of passes or iterations to improve accuracy\n"
          ]
        },
        {
          "output_type": "stream",
          "name": "stdout",
          "text": [
            "num_topics: 7, perplexity: -7.114, coherence: -1.743\n"
          ]
        },
        {
          "output_type": "stream",
          "name": "stderr",
          "text": [
            "WARNING:gensim.models.ldamodel:too few updates, training might not converge; consider increasing the number of passes or iterations to improve accuracy\n"
          ]
        },
        {
          "output_type": "stream",
          "name": "stdout",
          "text": [
            "num_topics: 8, perplexity: -7.121, coherence: -1.827\n"
          ]
        },
        {
          "output_type": "stream",
          "name": "stderr",
          "text": [
            "WARNING:gensim.models.ldamodel:too few updates, training might not converge; consider increasing the number of passes or iterations to improve accuracy\n"
          ]
        },
        {
          "output_type": "stream",
          "name": "stdout",
          "text": [
            "num_topics: 9, perplexity: -7.126, coherence: -1.860\n"
          ]
        },
        {
          "output_type": "stream",
          "name": "stderr",
          "text": [
            "WARNING:gensim.models.ldamodel:too few updates, training might not converge; consider increasing the number of passes or iterations to improve accuracy\n"
          ]
        },
        {
          "output_type": "stream",
          "name": "stdout",
          "text": [
            "num_topics: 10, perplexity: -7.128, coherence: -1.841\n"
          ]
        },
        {
          "output_type": "stream",
          "name": "stderr",
          "text": [
            "WARNING:gensim.models.ldamodel:too few updates, training might not converge; consider increasing the number of passes or iterations to improve accuracy\n"
          ]
        },
        {
          "output_type": "stream",
          "name": "stdout",
          "text": [
            "num_topics: 11, perplexity: -7.131, coherence: -1.932\n"
          ]
        },
        {
          "output_type": "stream",
          "name": "stderr",
          "text": [
            "WARNING:gensim.models.ldamodel:too few updates, training might not converge; consider increasing the number of passes or iterations to improve accuracy\n"
          ]
        },
        {
          "output_type": "stream",
          "name": "stdout",
          "text": [
            "num_topics: 12, perplexity: -7.135, coherence: -2.075\n"
          ]
        },
        {
          "output_type": "stream",
          "name": "stderr",
          "text": [
            "WARNING:gensim.models.ldamodel:too few updates, training might not converge; consider increasing the number of passes or iterations to improve accuracy\n"
          ]
        },
        {
          "output_type": "stream",
          "name": "stdout",
          "text": [
            "num_topics: 13, perplexity: -7.145, coherence: -1.967\n"
          ]
        },
        {
          "output_type": "stream",
          "name": "stderr",
          "text": [
            "WARNING:gensim.models.ldamodel:too few updates, training might not converge; consider increasing the number of passes or iterations to improve accuracy\n"
          ]
        },
        {
          "output_type": "stream",
          "name": "stdout",
          "text": [
            "num_topics: 14, perplexity: -7.149, coherence: -1.847\n",
            "num_topics: 15, perplexity: -7.162, coherence: -1.917\n"
          ]
        },
        {
          "output_type": "display_data",
          "data": {
            "text/plain": [
              "<Figure size 640x480 with 1 Axes>"
            ],
            "image/png": "[encoded data removed]"
          },
          "metadata": {}
        },
        {
          "output_type": "display_data",
          "data": {
            "text/plain": [
              "<Figure size 640x480 with 1 Axes>"
            ],
            "image/png": "[encoded data removed]"
          },
          "metadata": {}
        }
      ],
      "source": [
        "def show_coherence(corpus, dictionary, start=3, end=7):\n",
        "    iter_num = []\n",
        "    per_value = []\n",
        "    coh_value = []\n",
        "\n",
        "    for i in range(start, end + 1):\n",
        "        model = LdaModel(corpus=corpus, id2word=dictionary,\n",
        "                 chunksize=1000, num_topics=i,\n",
        "                 random_state=7)\n",
        "        iter_num.append(i)\n",
        "        pv = model.log_perplexity(corpus)\n",
        "        per_value.append(pv)\n",
        "\n",
        "        cm = CoherenceModel(model=model, corpus=corpus,\n",
        "                            coherence='u_mass')\n",
        "        cv = cm.get_coherence()\n",
        "        coh_value.append(cv)\n",
        "        print(f'num_topics: {i}, perplexity: {pv:0.3f}, coherence: {cv:0.3f}')\n",
        "\n",
        "    plt.plot(iter_num, per_value, 'g-')\n",
        "    plt.xlabel(\"num_topics\")\n",
        "    plt.ylabel(\"perplexity\")\n",
        "    plt.show()\n",
        "\n",
        "    plt.plot(iter_num, coh_value, 'r--')\n",
        "    plt.xlabel(\"num_topics\")\n",
        "    plt.ylabel(\"coherence\")\n",
        "    plt.show()\n",
        "\n",
        "show_coherence(corpus, dictionary, start=6, end=15)"
      ]
    }
  ],
  "metadata": {
    "kernelspec": {
      "display_name": "Python 3 (ipykernel)",
      "language": "python",
      "name": "python3"
    },
    "language_info": {
      "codemirror_mode": {
        "name": "ipython",
        "version": 3
      },
      "file_extension": ".py",
      "mimetype": "text/x-python",
      "name": "python",
      "nbconvert_exporter": "python",
      "pygments_lexer": "ipython3",
      "version": "3.8.12"
    },
    "toc": {
      "base_numbering": 1,
      "nav_menu": {},
      "number_sections": true,
      "sideBar": true,
      "skip_h1_title": false,
      "title_cell": "Table of Contents",
      "title_sidebar": "Contents",
      "toc_cell": true,
      "toc_position": {
        "height": "calc(100% - 180px)",
        "left": "10px",
        "top": "150px",
        "width": "165px"
      },
      "toc_section_display": true,
      "toc_window_display": true
    },
    "varInspector": {
      "cols": {
        "lenName": 16,
        "lenType": 16,
        "lenVar": 40
      },
      "kernels_config": {
        "python": {
          "delete_cmd_postfix": "",
          "delete_cmd_prefix": "del ",
          "library": "var_list.py",
          "varRefreshCmd": "print(var_dic_list())"
        },
        "r": {
          "delete_cmd_postfix": ") ",
          "delete_cmd_prefix": "rm(",
          "library": "var_list.r",
          "varRefreshCmd": "cat(var_dic_list()) "
        }
      },
      "types_to_exclude": [
        "module",
        "function",
        "builtin_function_or_method",
        "instance",
        "_Feature"
      ],
      "window_display": false
    },
    "colab": {
      "provenance": [],
      "include_colab_link": true
    }
  },
  "nbformat": 4,
  "nbformat_minor": 5
}