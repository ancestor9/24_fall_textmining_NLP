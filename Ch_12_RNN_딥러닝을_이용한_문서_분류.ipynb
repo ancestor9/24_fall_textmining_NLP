{
  "cells": [
    {
      "cell_type": "markdown",
      "metadata": {
        "id": "view-in-github",
        "colab_type": "text"
      },
      "source": [
        "<a href=\"https://colab.research.google.com/github/ancestor9/24_fall_textmining_NLP/blob/main/Ch_12_RNN_%EB%94%A5%EB%9F%AC%EB%8B%9D%EC%9D%84_%EC%9D%B4%EC%9A%A9%ED%95%9C_%EB%AC%B8%EC%84%9C_%EB%B6%84%EB%A5%98.ipynb\" target=\"_parent\"><img src=\"https://colab.research.google.com/assets/colab-badge.svg\" alt=\"Open In Colab\"/></a>"
      ]
    },
    {
      "cell_type": "markdown",
      "metadata": {
        "id": "DuEvYiKXWWoM"
      },
      "source": [
        "# Chapter 10. RNN - 딥러닝을 이용한 문서 분류\n",
        "\n",
        "## 10.3. RNN을 이용한 문서 분류 - NLTK 영화 리뷰 감성분석\n",
        "\n",
        "### 10.3.1 워드 임베딩을 위한 데이터 준비\n"
      ]
    },
    {
      "cell_type": "code",
      "source": [
        "import nltk\n",
        "nltk.download('movie_reviews')"
      ],
      "metadata": {
        "colab": {
          "base_uri": "https://localhost:8080/"
        },
        "id": "48hIfM9-WnLt",
        "outputId": "e163912c-7e05-4d1e-a992-59037daf829c"
      },
      "execution_count": null,
      "outputs": [
        {
          "output_type": "stream",
          "name": "stderr",
          "text": [
            "[nltk_data] Downloading package movie_reviews to /root/nltk_data...\n",
            "[nltk_data]   Unzipping corpora/movie_reviews.zip.\n"
          ]
        },
        {
          "output_type": "execute_result",
          "data": {
            "text/plain": [
              "True"
            ]
          },
          "metadata": {},
          "execution_count": 2
        }
      ]
    },
    {
      "cell_type": "code",
      "execution_count": null,
      "metadata": {
        "scrolled": true,
        "colab": {
          "base_uri": "https://localhost:8080/"
        },
        "id": "nSPCscKaWWoQ",
        "outputId": "d39d5873-b7c4-44a2-9bba-dae6b97542d3"
      },
      "outputs": [
        {
          "output_type": "stream",
          "name": "stdout",
          "text": [
            "Reviews count: 2000\n",
            "Length of the first review: 4043\n",
            "Labels: {'pos', 'neg'}\n"
          ]
        }
      ],
      "source": [
        "from nltk.corpus import movie_reviews\n",
        "fileids = movie_reviews.fileids() #movie review data에서 file id를 가져옴\n",
        "reviews = [movie_reviews.raw(fileid) for fileid in fileids] #file id를 이용해 raw text file을 가져옴\n",
        "categories = [movie_reviews.categories(fileid)[0] for fileid in fileids]\n",
        "#file id를 이용해 label로 사용할 category 즉 positive와 negative 정보를 순서대로 가져옴\n",
        "\n",
        "print('Reviews count:', len(reviews))\n",
        "print('Length of the first review:', len(reviews[0]))\n",
        "print('Labels:', set(categories))"
      ]
    },
    {
      "cell_type": "code",
      "source": [
        "reviews[0]  # 2,000개 기사(text)"
      ],
      "metadata": {
        "colab": {
          "base_uri": "https://localhost:8080/",
          "height": 127
        },
        "id": "nZyRPVHVW2Cd",
        "outputId": "ce35af3c-1dda-4b50-d350-6873704f91ce"
      },
      "execution_count": null,
      "outputs": [
        {
          "output_type": "execute_result",
          "data": {
            "text/plain": [
              "'plot : two teen couples go to a church party , drink and then drive . \\nthey get into an accident . \\none of the guys dies , but his girlfriend continues to see him in her life , and has nightmares . \\nwhat\\'s the deal ? \\nwatch the movie and \" sorta \" find out . . . \\ncritique : a mind-fuck movie for the teen generation that touches on a very cool idea , but presents it in a very bad package . \\nwhich is what makes this review an even harder one to write , since i generally applaud films which attempt to break the mold , mess with your head and such ( lost highway & memento ) , but there are good and bad ways of making all types of films , and these folks just didn\\'t snag this one correctly . \\nthey seem to have taken this pretty neat concept , but executed it terribly . \\nso what are the problems with the movie ? \\nwell , its main problem is that it\\'s simply too jumbled . \\nit starts off \" normal \" but then downshifts into this \" fantasy \" world in which you , as an audience member , have no idea what\\'s going on . \\nthere are dreams , there are characters coming back from the dead , there are others who look like the dead , there are strange apparitions , there are disappearances , there are a looooot of chase scenes , there are tons of weird things that happen , and most of it is simply not explained . \\nnow i personally don\\'t mind trying to unravel a film every now and then , but when all it does is give me the same clue over and over again , i get kind of fed up after a while , which is this film\\'s biggest problem . \\nit\\'s obviously got this big secret to hide , but it seems to want to hide it completely until its final five minutes . \\nand do they make things entertaining , thrilling or even engaging , in the meantime ? \\nnot really . \\nthe sad part is that the arrow and i both dig on flicks like this , so we actually figured most of it out by the half-way point , so all of the strangeness after that did start to make a little bit of sense , but it still didn\\'t the make the film all that more entertaining . \\ni guess the bottom line with movies like this is that you should always make sure that the audience is \" into it \" even before they are given the secret password to enter your world of understanding . \\ni mean , showing melissa sagemiller running away from visions for about 20 minutes throughout the movie is just plain lazy ! ! \\nokay , we get it . . . there \\nare people chasing her and we don\\'t know who they are . \\ndo we really need to see it over and over again ? \\nhow about giving us different scenes offering further insight into all of the strangeness going down in the movie ? \\napparently , the studio took this film away from its director and chopped it up themselves , and it shows . \\nthere might\\'ve been a pretty decent teen mind-fuck movie in here somewhere , but i guess \" the suits \" decided that turning it into a music video with little edge , would make more sense . \\nthe actors are pretty good for the most part , although wes bentley just seemed to be playing the exact same character that he did in american beauty , only in a new neighborhood . \\nbut my biggest kudos go out to sagemiller , who holds her own throughout the entire film , and actually has you feeling her character\\'s unraveling . \\noverall , the film doesn\\'t stick because it doesn\\'t entertain , it\\'s confusing , it rarely excites and it feels pretty redundant for most of its runtime , despite a pretty cool ending and explanation to all of the craziness that came before it . \\noh , and by the way , this is not a horror or teen slasher flick . . . it\\'s \\njust packaged to look that way because someone is apparently assuming that the genre is still hot with the kids . \\nit also wrapped production two years ago and has been sitting on the shelves ever since . \\nwhatever . . . skip \\nit ! \\nwhere\\'s joblo coming from ? \\na nightmare of elm street 3 ( 7/10 ) - blair witch 2 ( 7/10 ) - the crow ( 9/10 ) - the crow : salvation ( 4/10 ) - lost highway ( 10/10 ) - memento ( 10/10 ) - the others ( 9/10 ) - stir of echoes ( 8/10 ) \\n'"
            ],
            "application/vnd.google.colaboratory.intrinsic+json": {
              "type": "string"
            }
          },
          "metadata": {},
          "execution_count": 6
        }
      ]
    },
    {
      "cell_type": "code",
      "execution_count": null,
      "metadata": {
        "colab": {
          "base_uri": "https://localhost:8080/"
        },
        "id": "ORyeadfiWWoS",
        "outputId": "288eb080-9a3e-4634-8de6-a9c518e58da2"
      },
      "outputs": [
        {
          "output_type": "stream",
          "name": "stdout",
          "text": [
            "Lengths of first 10 documents: [710, 240, 486, 479, 733, 671, 550, 584, 702, 776]\n"
          ]
        }
      ],
      "source": [
        "import numpy as np\n",
        "import tensorflow as tf\n",
        "from tensorflow.keras.preprocessing.text import Tokenizer\n",
        "np.random.seed(7)\n",
        "tf.random.set_seed(7)\n",
        "\n",
        "max_words = 10000 #사용할 단어의 수\n",
        "\n",
        "# 빈도가 높은 10000개의 단어를 선택하도록 객체 생성\n",
        "# oov_token은 Out-Of-Vocabulary (OOV), 즉 사전에 없는 단어들을 처리하기 위한 옵션으로,\n",
        "# 'UNK'는 Unknown의 약자로, Tokenizer가 사전에 없는 단어를 만났을 때 해당 단어를 'UNK'로 대체\n",
        "tokenizer = Tokenizer(num_words=max_words, oov_token='UNK')\n",
        "\n",
        "tokenizer.fit_on_texts(reviews) #단어 인덱스 구축\n",
        "\n",
        "#만들어진 단어 인덱스를 이용해 문서들을 변환\n",
        "X = tokenizer.texts_to_sequences(reviews)"
      ]
    },
    {
      "cell_type": "code",
      "source": [
        "type(X), len(X)"
      ],
      "metadata": {
        "colab": {
          "base_uri": "https://localhost:8080/"
        },
        "id": "EGnLOSxyXcy6",
        "outputId": "5ab5ca0c-fede-44aa-bfdf-40ef2a50a156"
      },
      "execution_count": null,
      "outputs": [
        {
          "output_type": "execute_result",
          "data": {
            "text/plain": [
              "(list, 2000)"
            ]
          },
          "metadata": {},
          "execution_count": 12
        }
      ]
    },
    {
      "cell_type": "code",
      "source": [
        "X[0]"
      ],
      "metadata": {
        "colab": {
          "base_uri": "https://localhost:8080/"
        },
        "collapsed": true,
        "id": "X3LsOHHSYDYX",
        "outputId": "80926c11-4a0b-4ea5-972c-eb2157afe709"
      },
      "execution_count": null,
      "outputs": [
        {
          "output_type": "execute_result",
          "data": {
            "text/plain": [
              "[98,\n",
              " 77,\n",
              " 949,\n",
              " 4622,\n",
              " 131,\n",
              " 6,\n",
              " 3,\n",
              " 2016,\n",
              " 789,\n",
              " 3764,\n",
              " 4,\n",
              " 103,\n",
              " 1314,\n",
              " 37,\n",
              " 73,\n",
              " 56,\n",
              " 25,\n",
              " 1341,\n",
              " 24,\n",
              " 5,\n",
              " 2,\n",
              " 519,\n",
              " 1325,\n",
              " 17,\n",
              " 14,\n",
              " 678,\n",
              " 1571,\n",
              " 6,\n",
              " 84,\n",
              " 55,\n",
              " 8,\n",
              " 34,\n",
              " 90,\n",
              " 4,\n",
              " 33,\n",
              " 4477,\n",
              " 604,\n",
              " 2,\n",
              " 638,\n",
              " 242,\n",
              " 2,\n",
              " 27,\n",
              " 4,\n",
              " 8854,\n",
              " 190,\n",
              " 41,\n",
              " 2186,\n",
              " 3,\n",
              " 302,\n",
              " 6462,\n",
              " 27,\n",
              " 13,\n",
              " 2,\n",
              " 949,\n",
              " 1458,\n",
              " 9,\n",
              " 2402,\n",
              " 20,\n",
              " 3,\n",
              " 80,\n",
              " 691,\n",
              " 362,\n",
              " 17,\n",
              " 1768,\n",
              " 10,\n",
              " 8,\n",
              " 3,\n",
              " 80,\n",
              " 106,\n",
              " 3980,\n",
              " 46,\n",
              " 7,\n",
              " 49,\n",
              " 143,\n",
              " 15,\n",
              " 466,\n",
              " 25,\n",
              " 57,\n",
              " 3668,\n",
              " 24,\n",
              " 6,\n",
              " 1175,\n",
              " 195,\n",
              " 19,\n",
              " 1342,\n",
              " 8855,\n",
              " 96,\n",
              " 46,\n",
              " 527,\n",
              " 6,\n",
              " 831,\n",
              " 2,\n",
              " 7098,\n",
              " 903,\n",
              " 12,\n",
              " 170,\n",
              " 363,\n",
              " 4,\n",
              " 118,\n",
              " 342,\n",
              " 4204,\n",
              " 8856,\n",
              " 17,\n",
              " 53,\n",
              " 21,\n",
              " 62,\n",
              " 4,\n",
              " 106,\n",
              " 753,\n",
              " 5,\n",
              " 243,\n",
              " 36,\n",
              " 2695,\n",
              " 5,\n",
              " 96,\n",
              " 4,\n",
              " 113,\n",
              " 1879,\n",
              " 51,\n",
              " 249,\n",
              " 1,\n",
              " 15,\n",
              " 24,\n",
              " 6180,\n",
              " 37,\n",
              " 250,\n",
              " 6,\n",
              " 32,\n",
              " 625,\n",
              " 15,\n",
              " 272,\n",
              " 3765,\n",
              " 1224,\n",
              " 17,\n",
              " 2795,\n",
              " 10,\n",
              " 2284,\n",
              " 40,\n",
              " 49,\n",
              " 21,\n",
              " 2,\n",
              " 470,\n",
              " 12,\n",
              " 2,\n",
              " 27,\n",
              " 78,\n",
              " 65,\n",
              " 349,\n",
              " 354,\n",
              " 7,\n",
              " 9,\n",
              " 38,\n",
              " 322,\n",
              " 89,\n",
              " 7840,\n",
              " 10,\n",
              " 437,\n",
              " 88,\n",
              " 1315,\n",
              " 17,\n",
              " 103,\n",
              " 1,\n",
              " 56,\n",
              " 15,\n",
              " 1446,\n",
              " 146,\n",
              " 8,\n",
              " 46,\n",
              " 35,\n",
              " 11,\n",
              " 25,\n",
              " 162,\n",
              " 1123,\n",
              " 32,\n",
              " 60,\n",
              " 362,\n",
              " 604,\n",
              " 160,\n",
              " 20,\n",
              " 53,\n",
              " 21,\n",
              " 1077,\n",
              " 53,\n",
              " 21,\n",
              " 82,\n",
              " 505,\n",
              " 136,\n",
              " 29,\n",
              " 2,\n",
              " 329,\n",
              " 53,\n",
              " 21,\n",
              " 486,\n",
              " 28,\n",
              " 178,\n",
              " 39,\n",
              " 2,\n",
              " 329,\n",
              " 53,\n",
              " 21,\n",
              " 770,\n",
              " 1,\n",
              " 53,\n",
              " 21,\n",
              " 1,\n",
              " 53,\n",
              " 21,\n",
              " 3,\n",
              " 1,\n",
              " 5,\n",
              " 911,\n",
              " 115,\n",
              " 53,\n",
              " 21,\n",
              " 5278,\n",
              " 5,\n",
              " 1387,\n",
              " 172,\n",
              " 9,\n",
              " 633,\n",
              " 4,\n",
              " 64,\n",
              " 5,\n",
              " 10,\n",
              " 7,\n",
              " 322,\n",
              " 26,\n",
              " 1958,\n",
              " 144,\n",
              " 19,\n",
              " 2927,\n",
              " 121,\n",
              " 302,\n",
              " 255,\n",
              " 6,\n",
              " 9490,\n",
              " 3,\n",
              " 16,\n",
              " 151,\n",
              " 144,\n",
              " 4,\n",
              " 103,\n",
              " 17,\n",
              " 45,\n",
              " 36,\n",
              " 10,\n",
              " 92,\n",
              " 7,\n",
              " 257,\n",
              " 104,\n",
              " 2,\n",
              " 165,\n",
              " 2852,\n",
              " 101,\n",
              " 4,\n",
              " 101,\n",
              " 209,\n",
              " 19,\n",
              " 73,\n",
              " 260,\n",
              " 5,\n",
              " 4078,\n",
              " 43,\n",
              " 83,\n",
              " 3,\n",
              " 95,\n",
              " 46,\n",
              " 7,\n",
              " 15,\n",
              " 248,\n",
              " 955,\n",
              " 354,\n",
              " 38,\n",
              " 614,\n",
              " 295,\n",
              " 15,\n",
              " 134,\n",
              " 802,\n",
              " 6,\n",
              " 3147,\n",
              " 17,\n",
              " 10,\n",
              " 139,\n",
              " 6,\n",
              " 258,\n",
              " 6,\n",
              " 3147,\n",
              " 10,\n",
              " 309,\n",
              " 314,\n",
              " 65,\n",
              " 370,\n",
              " 494,\n",
              " 227,\n",
              " 4,\n",
              " 76,\n",
              " 37,\n",
              " 87,\n",
              " 172,\n",
              " 440,\n",
              " 2796,\n",
              " 47,\n",
              " 57,\n",
              " 1748,\n",
              " 8,\n",
              " 2,\n",
              " 5676,\n",
              " 26,\n",
              " 93,\n",
              " 2,\n",
              " 1281,\n",
              " 205,\n",
              " 7,\n",
              " 9,\n",
              " 2,\n",
              " 4079,\n",
              " 4,\n",
              " 19,\n",
              " 159,\n",
              " 5677,\n",
              " 20,\n",
              " 1712,\n",
              " 39,\n",
              " 15,\n",
              " 40,\n",
              " 63,\n",
              " 176,\n",
              " 4080,\n",
              " 64,\n",
              " 5,\n",
              " 10,\n",
              " 41,\n",
              " 22,\n",
              " 2,\n",
              " 269,\n",
              " 85,\n",
              " 213,\n",
              " 40,\n",
              " 36,\n",
              " 5,\n",
              " 2,\n",
              " 1,\n",
              " 83,\n",
              " 9,\n",
              " 198,\n",
              " 443,\n",
              " 6,\n",
              " 87,\n",
              " 3,\n",
              " 99,\n",
              " 252,\n",
              " 5,\n",
              " 262,\n",
              " 17,\n",
              " 10,\n",
              " 138,\n",
              " 249,\n",
              " 2,\n",
              " 87,\n",
              " 2,\n",
              " 16,\n",
              " 36,\n",
              " 9,\n",
              " 44,\n",
              " 440,\n",
              " 19,\n",
              " 619,\n",
              " 2,\n",
              " 1487,\n",
              " 312,\n",
              " 12,\n",
              " 122,\n",
              " 39,\n",
              " 15,\n",
              " 7,\n",
              " 9,\n",
              " 35,\n",
              " 168,\n",
              " 246,\n",
              " 87,\n",
              " 277,\n",
              " 9,\n",
              " 2,\n",
              " 162,\n",
              " 7,\n",
              " 56,\n",
              " 10,\n",
              " 57,\n",
              " 142,\n",
              " 37,\n",
              " 21,\n",
              " 285,\n",
              " 2,\n",
              " 802,\n",
              " 1,\n",
              " 6,\n",
              " 2017,\n",
              " 170,\n",
              " 146,\n",
              " 5,\n",
              " 2330,\n",
              " 19,\n",
              " 571,\n",
              " 964,\n",
              " 7841,\n",
              " 1,\n",
              " 427,\n",
              " 222,\n",
              " 29,\n",
              " 3864,\n",
              " 13,\n",
              " 42,\n",
              " 1431,\n",
              " 227,\n",
              " 458,\n",
              " 2,\n",
              " 27,\n",
              " 7,\n",
              " 51,\n",
              " 1685,\n",
              " 3593,\n",
              " 1124,\n",
              " 63,\n",
              " 73,\n",
              " 10,\n",
              " 53,\n",
              " 21,\n",
              " 102,\n",
              " 3025,\n",
              " 34,\n",
              " 4,\n",
              " 63,\n",
              " 121,\n",
              " 119,\n",
              " 28,\n",
              " 37,\n",
              " 21,\n",
              " 76,\n",
              " 63,\n",
              " 93,\n",
              " 438,\n",
              " 6,\n",
              " 84,\n",
              " 10,\n",
              " 101,\n",
              " 4,\n",
              " 101,\n",
              " 209,\n",
              " 97,\n",
              " 42,\n",
              " 666,\n",
              " 133,\n",
              " 317,\n",
              " 115,\n",
              " 3289,\n",
              " 1045,\n",
              " 2441,\n",
              " 56,\n",
              " 36,\n",
              " 5,\n",
              " 2,\n",
              " 1,\n",
              " 160,\n",
              " 150,\n",
              " 8,\n",
              " 2,\n",
              " 27,\n",
              " 683,\n",
              " 2,\n",
              " 930,\n",
              " 875,\n",
              " 15,\n",
              " 16,\n",
              " 222,\n",
              " 29,\n",
              " 65,\n",
              " 124,\n",
              " 4,\n",
              " 1,\n",
              " 10,\n",
              " 43,\n",
              " 492,\n",
              " 4,\n",
              " 10,\n",
              " 337,\n",
              " 53,\n",
              " 8857,\n",
              " 70,\n",
              " 3,\n",
              " 272,\n",
              " 876,\n",
              " 949,\n",
              " 302,\n",
              " 6462,\n",
              " 27,\n",
              " 8,\n",
              " 129,\n",
              " 1103,\n",
              " 17,\n",
              " 19,\n",
              " 619,\n",
              " 2,\n",
              " 2853,\n",
              " 1326,\n",
              " 9,\n",
              " 1730,\n",
              " 10,\n",
              " 56,\n",
              " 3,\n",
              " 290,\n",
              " 432,\n",
              " 12,\n",
              " 99,\n",
              " 1327,\n",
              " 69,\n",
              " 87,\n",
              " 44,\n",
              " 262,\n",
              " 2,\n",
              " 210,\n",
              " 21,\n",
              " 272,\n",
              " 62,\n",
              " 13,\n",
              " 2,\n",
              " 64,\n",
              " 205,\n",
              " 188,\n",
              " 2595,\n",
              " 1,\n",
              " 51,\n",
              " 676,\n",
              " 6,\n",
              " 23,\n",
              " 389,\n",
              " 2,\n",
              " 2110,\n",
              " 165,\n",
              " 75,\n",
              " 9,\n",
              " 18,\n",
              " 198,\n",
              " 8,\n",
              " 259,\n",
              " 1035,\n",
              " 58,\n",
              " 8,\n",
              " 3,\n",
              " 114,\n",
              " 5279,\n",
              " 17,\n",
              " 107,\n",
              " 955,\n",
              " 5280,\n",
              " 131,\n",
              " 41,\n",
              " 6,\n",
              " 1,\n",
              " 28,\n",
              " 1544,\n",
              " 34,\n",
              " 182,\n",
              " 458,\n",
              " 2,\n",
              " 340,\n",
              " 16,\n",
              " 4,\n",
              " 176,\n",
              " 33,\n",
              " 35,\n",
              " 622,\n",
              " 34,\n",
              " 1527,\n",
              " 1,\n",
              " 899,\n",
              " 2,\n",
              " 16,\n",
              " 117,\n",
              " 1994,\n",
              " 86,\n",
              " 10,\n",
              " 117,\n",
              " 2477,\n",
              " 38,\n",
              " 1472,\n",
              " 10,\n",
              " 1359,\n",
              " 1,\n",
              " 4,\n",
              " 10,\n",
              " 649,\n",
              " 272,\n",
              " 7099,\n",
              " 13,\n",
              " 64,\n",
              " 5,\n",
              " 65,\n",
              " 1,\n",
              " 401,\n",
              " 3,\n",
              " 272,\n",
              " 691,\n",
              " 325,\n",
              " 4,\n",
              " 1995,\n",
              " 6,\n",
              " 36,\n",
              " 5,\n",
              " 2,\n",
              " 1,\n",
              " 9,\n",
              " 771,\n",
              " 142,\n",
              " 10,\n",
              " 658,\n",
              " 4,\n",
              " 22,\n",
              " 2,\n",
              " 85,\n",
              " 15,\n",
              " 7,\n",
              " 26,\n",
              " 3,\n",
              " 296,\n",
              " 47,\n",
              " 949,\n",
              " 1650,\n",
              " 732,\n",
              " 38,\n",
              " 51,\n",
              " 1,\n",
              " 6,\n",
              " 178,\n",
              " 9,\n",
              " 85,\n",
              " 86,\n",
              " 372,\n",
              " 7,\n",
              " 683,\n",
              " 6793,\n",
              " 9,\n",
              " 2,\n",
              " 522,\n",
              " 7,\n",
              " 138,\n",
              " 1133,\n",
              " 12,\n",
              " 2,\n",
              " 441,\n",
              " 10,\n",
              " 72,\n",
              " 3211,\n",
              " 461,\n",
              " 77,\n",
              " 175,\n",
              " 715,\n",
              " 4,\n",
              " 33,\n",
              " 70,\n",
              " 1488,\n",
              " 20,\n",
              " 2,\n",
              " 7444,\n",
              " 194,\n",
              " 195,\n",
              " 1046,\n",
              " 2854,\n",
              " 10,\n",
              " 3981,\n",
              " 4205,\n",
              " 505,\n",
              " 29,\n",
              " 3,\n",
              " 2215,\n",
              " 5,\n",
              " 7100,\n",
              " 1004,\n",
              " 641,\n",
              " 1212,\n",
              " 303,\n",
              " 1447,\n",
              " 1316,\n",
              " 315,\n",
              " 1212,\n",
              " 303,\n",
              " 2,\n",
              " 2519,\n",
              " 1854,\n",
              " 303,\n",
              " 2,\n",
              " 2519,\n",
              " 7101,\n",
              " 750,\n",
              " 303,\n",
              " 342,\n",
              " 4204,\n",
              " 303,\n",
              " 303,\n",
              " 8856,\n",
              " 303,\n",
              " 303,\n",
              " 2,\n",
              " 486,\n",
              " 1854,\n",
              " 303,\n",
              " 4342,\n",
              " 5,\n",
              " 3865,\n",
              " 1023,\n",
              " 303]"
            ]
          },
          "metadata": {},
          "execution_count": 16
        }
      ]
    },
    {
      "cell_type": "code",
      "source": [
        "# join으로 일렬로 확인\n",
        "'/ '.join(str(x) for x in X[0])"
      ],
      "metadata": {
        "colab": {
          "base_uri": "https://localhost:8080/",
          "height": 127
        },
        "id": "pppkG3nNYuOl",
        "outputId": "8d967f50-9263-4599-f49a-4b6b7e12fa4b"
      },
      "execution_count": null,
      "outputs": [
        {
          "output_type": "execute_result",
          "data": {
            "text/plain": [
              "'98/ 77/ 949/ 4622/ 131/ 6/ 3/ 2016/ 789/ 3764/ 4/ 103/ 1314/ 37/ 73/ 56/ 25/ 1341/ 24/ 5/ 2/ 519/ 1325/ 17/ 14/ 678/ 1571/ 6/ 84/ 55/ 8/ 34/ 90/ 4/ 33/ 4477/ 604/ 2/ 638/ 242/ 2/ 27/ 4/ 8854/ 190/ 41/ 2186/ 3/ 302/ 6462/ 27/ 13/ 2/ 949/ 1458/ 9/ 2402/ 20/ 3/ 80/ 691/ 362/ 17/ 1768/ 10/ 8/ 3/ 80/ 106/ 3980/ 46/ 7/ 49/ 143/ 15/ 466/ 25/ 57/ 3668/ 24/ 6/ 1175/ 195/ 19/ 1342/ 8855/ 96/ 46/ 527/ 6/ 831/ 2/ 7098/ 903/ 12/ 170/ 363/ 4/ 118/ 342/ 4204/ 8856/ 17/ 53/ 21/ 62/ 4/ 106/ 753/ 5/ 243/ 36/ 2695/ 5/ 96/ 4/ 113/ 1879/ 51/ 249/ 1/ 15/ 24/ 6180/ 37/ 250/ 6/ 32/ 625/ 15/ 272/ 3765/ 1224/ 17/ 2795/ 10/ 2284/ 40/ 49/ 21/ 2/ 470/ 12/ 2/ 27/ 78/ 65/ 349/ 354/ 7/ 9/ 38/ 322/ 89/ 7840/ 10/ 437/ 88/ 1315/ 17/ 103/ 1/ 56/ 15/ 1446/ 146/ 8/ 46/ 35/ 11/ 25/ 162/ 1123/ 32/ 60/ 362/ 604/ 160/ 20/ 53/ 21/ 1077/ 53/ 21/ 82/ 505/ 136/ 29/ 2/ 329/ 53/ 21/ 486/ 28/ 178/ 39/ 2/ 329/ 53/ 21/ 770/ 1/ 53/ 21/ 1/ 53/ 21/ 3/ 1/ 5/ 911/ 115/ 53/ 21/ 5278/ 5/ 1387/ 172/ 9/ 633/ 4/ 64/ 5/ 10/ 7/ 322/ 26/ 1958/ 144/ 19/ 2927/ 121/ 302/ 255/ 6/ 9490/ 3/ 16/ 151/ 144/ 4/ 103/ 17/ 45/ 36/ 10/ 92/ 7/ 257/ 104/ 2/ 165/ 2852/ 101/ 4/ 101/ 209/ 19/ 73/ 260/ 5/ 4078/ 43/ 83/ 3/ 95/ 46/ 7/ 15/ 248/ 955/ 354/ 38/ 614/ 295/ 15/ 134/ 802/ 6/ 3147/ 17/ 10/ 139/ 6/ 258/ 6/ 3147/ 10/ 309/ 314/ 65/ 370/ 494/ 227/ 4/ 76/ 37/ 87/ 172/ 440/ 2796/ 47/ 57/ 1748/ 8/ 2/ 5676/ 26/ 93/ 2/ 1281/ 205/ 7/ 9/ 2/ 4079/ 4/ 19/ 159/ 5677/ 20/ 1712/ 39/ 15/ 40/ 63/ 176/ 4080/ 64/ 5/ 10/ 41/ 22/ 2/ 269/ 85/ 213/ 40/ 36/ 5/ 2/ 1/ 83/ 9/ 198/ 443/ 6/ 87/ 3/ 99/ 252/ 5/ 262/ 17/ 10/ 138/ 249/ 2/ 87/ 2/ 16/ 36/ 9/ 44/ 440/ 19/ 619/ 2/ 1487/ 312/ 12/ 122/ 39/ 15/ 7/ 9/ 35/ 168/ 246/ 87/ 277/ 9/ 2/ 162/ 7/ 56/ 10/ 57/ 142/ 37/ 21/ 285/ 2/ 802/ 1/ 6/ 2017/ 170/ 146/ 5/ 2330/ 19/ 571/ 964/ 7841/ 1/ 427/ 222/ 29/ 3864/ 13/ 42/ 1431/ 227/ 458/ 2/ 27/ 7/ 51/ 1685/ 3593/ 1124/ 63/ 73/ 10/ 53/ 21/ 102/ 3025/ 34/ 4/ 63/ 121/ 119/ 28/ 37/ 21/ 76/ 63/ 93/ 438/ 6/ 84/ 10/ 101/ 4/ 101/ 209/ 97/ 42/ 666/ 133/ 317/ 115/ 3289/ 1045/ 2441/ 56/ 36/ 5/ 2/ 1/ 160/ 150/ 8/ 2/ 27/ 683/ 2/ 930/ 875/ 15/ 16/ 222/ 29/ 65/ 124/ 4/ 1/ 10/ 43/ 492/ 4/ 10/ 337/ 53/ 8857/ 70/ 3/ 272/ 876/ 949/ 302/ 6462/ 27/ 8/ 129/ 1103/ 17/ 19/ 619/ 2/ 2853/ 1326/ 9/ 1730/ 10/ 56/ 3/ 290/ 432/ 12/ 99/ 1327/ 69/ 87/ 44/ 262/ 2/ 210/ 21/ 272/ 62/ 13/ 2/ 64/ 205/ 188/ 2595/ 1/ 51/ 676/ 6/ 23/ 389/ 2/ 2110/ 165/ 75/ 9/ 18/ 198/ 8/ 259/ 1035/ 58/ 8/ 3/ 114/ 5279/ 17/ 107/ 955/ 5280/ 131/ 41/ 6/ 1/ 28/ 1544/ 34/ 182/ 458/ 2/ 340/ 16/ 4/ 176/ 33/ 35/ 622/ 34/ 1527/ 1/ 899/ 2/ 16/ 117/ 1994/ 86/ 10/ 117/ 2477/ 38/ 1472/ 10/ 1359/ 1/ 4/ 10/ 649/ 272/ 7099/ 13/ 64/ 5/ 65/ 1/ 401/ 3/ 272/ 691/ 325/ 4/ 1995/ 6/ 36/ 5/ 2/ 1/ 9/ 771/ 142/ 10/ 658/ 4/ 22/ 2/ 85/ 15/ 7/ 26/ 3/ 296/ 47/ 949/ 1650/ 732/ 38/ 51/ 1/ 6/ 178/ 9/ 85/ 86/ 372/ 7/ 683/ 6793/ 9/ 2/ 522/ 7/ 138/ 1133/ 12/ 2/ 441/ 10/ 72/ 3211/ 461/ 77/ 175/ 715/ 4/ 33/ 70/ 1488/ 20/ 2/ 7444/ 194/ 195/ 1046/ 2854/ 10/ 3981/ 4205/ 505/ 29/ 3/ 2215/ 5/ 7100/ 1004/ 641/ 1212/ 303/ 1447/ 1316/ 315/ 1212/ 303/ 2/ 2519/ 1854/ 303/ 2/ 2519/ 7101/ 750/ 303/ 342/ 4204/ 303/ 303/ 8856/ 303/ 303/ 2/ 486/ 1854/ 303/ 4342/ 5/ 3865/ 1023/ 303'"
            ],
            "application/vnd.google.colaboratory.intrinsic+json": {
              "type": "string"
            }
          },
          "metadata": {},
          "execution_count": 19
        }
      ]
    },
    {
      "cell_type": "code",
      "source": [
        "##  첫 문장을 위와 같이 token화\n",
        "reviews[0]"
      ],
      "metadata": {
        "colab": {
          "base_uri": "https://localhost:8080/",
          "height": 127
        },
        "id": "YuQwFOV9Y7uq",
        "outputId": "08e0c833-ff49-4854-bbf8-3bd04d255dbd"
      },
      "execution_count": null,
      "outputs": [
        {
          "output_type": "execute_result",
          "data": {
            "text/plain": [
              "'plot : two teen couples go to a church party , drink and then drive . \\nthey get into an accident . \\none of the guys dies , but his girlfriend continues to see him in her life , and has nightmares . \\nwhat\\'s the deal ? \\nwatch the movie and \" sorta \" find out . . . \\ncritique : a mind-fuck movie for the teen generation that touches on a very cool idea , but presents it in a very bad package . \\nwhich is what makes this review an even harder one to write , since i generally applaud films which attempt to break the mold , mess with your head and such ( lost highway & memento ) , but there are good and bad ways of making all types of films , and these folks just didn\\'t snag this one correctly . \\nthey seem to have taken this pretty neat concept , but executed it terribly . \\nso what are the problems with the movie ? \\nwell , its main problem is that it\\'s simply too jumbled . \\nit starts off \" normal \" but then downshifts into this \" fantasy \" world in which you , as an audience member , have no idea what\\'s going on . \\nthere are dreams , there are characters coming back from the dead , there are others who look like the dead , there are strange apparitions , there are disappearances , there are a looooot of chase scenes , there are tons of weird things that happen , and most of it is simply not explained . \\nnow i personally don\\'t mind trying to unravel a film every now and then , but when all it does is give me the same clue over and over again , i get kind of fed up after a while , which is this film\\'s biggest problem . \\nit\\'s obviously got this big secret to hide , but it seems to want to hide it completely until its final five minutes . \\nand do they make things entertaining , thrilling or even engaging , in the meantime ? \\nnot really . \\nthe sad part is that the arrow and i both dig on flicks like this , so we actually figured most of it out by the half-way point , so all of the strangeness after that did start to make a little bit of sense , but it still didn\\'t the make the film all that more entertaining . \\ni guess the bottom line with movies like this is that you should always make sure that the audience is \" into it \" even before they are given the secret password to enter your world of understanding . \\ni mean , showing melissa sagemiller running away from visions for about 20 minutes throughout the movie is just plain lazy ! ! \\nokay , we get it . . . there \\nare people chasing her and we don\\'t know who they are . \\ndo we really need to see it over and over again ? \\nhow about giving us different scenes offering further insight into all of the strangeness going down in the movie ? \\napparently , the studio took this film away from its director and chopped it up themselves , and it shows . \\nthere might\\'ve been a pretty decent teen mind-fuck movie in here somewhere , but i guess \" the suits \" decided that turning it into a music video with little edge , would make more sense . \\nthe actors are pretty good for the most part , although wes bentley just seemed to be playing the exact same character that he did in american beauty , only in a new neighborhood . \\nbut my biggest kudos go out to sagemiller , who holds her own throughout the entire film , and actually has you feeling her character\\'s unraveling . \\noverall , the film doesn\\'t stick because it doesn\\'t entertain , it\\'s confusing , it rarely excites and it feels pretty redundant for most of its runtime , despite a pretty cool ending and explanation to all of the craziness that came before it . \\noh , and by the way , this is not a horror or teen slasher flick . . . it\\'s \\njust packaged to look that way because someone is apparently assuming that the genre is still hot with the kids . \\nit also wrapped production two years ago and has been sitting on the shelves ever since . \\nwhatever . . . skip \\nit ! \\nwhere\\'s joblo coming from ? \\na nightmare of elm street 3 ( 7/10 ) - blair witch 2 ( 7/10 ) - the crow ( 9/10 ) - the crow : salvation ( 4/10 ) - lost highway ( 10/10 ) - memento ( 10/10 ) - the others ( 9/10 ) - stir of echoes ( 8/10 ) \\n'"
            ],
            "application/vnd.google.colaboratory.intrinsic+json": {
              "type": "string"
            }
          },
          "metadata": {},
          "execution_count": 20
        }
      ]
    },
    {
      "cell_type": "code",
      "source": [
        "len(X[0])"
      ],
      "metadata": {
        "colab": {
          "base_uri": "https://localhost:8080/"
        },
        "id": "iEdUYay6Z5MU",
        "outputId": "defb3c1a-d389-4a85-a703-a0dcf8d56618"
      },
      "execution_count": null,
      "outputs": [
        {
          "output_type": "execute_result",
          "data": {
            "text/plain": [
              "710"
            ]
          },
          "metadata": {},
          "execution_count": 21
        }
      ]
    },
    {
      "cell_type": "markdown",
      "source": [
        "### **[what-are-tokens-and-how-to-count-them](https://help.openai.com/en/articles/4936856-what-are-tokens-and-how-to-count-them)**"
      ],
      "metadata": {
        "id": "eCWvKFkzZqxV"
      }
    },
    {
      "cell_type": "code",
      "source": [
        "print('Lengths of first 10 documents:', [len(doc) for doc in X[:10]])"
      ],
      "metadata": {
        "colab": {
          "base_uri": "https://localhost:8080/"
        },
        "id": "CoetRqGeXwcQ",
        "outputId": "b8553179-4860-4e31-9154-5a9ef062a069"
      },
      "execution_count": null,
      "outputs": [
        {
          "output_type": "stream",
          "name": "stdout",
          "text": [
            "Lengths of first 10 documents: [710, 240, 486, 479, 733, 671, 550, 584, 702, 776]\n"
          ]
        }
      ]
    },
    {
      "cell_type": "code",
      "execution_count": null,
      "metadata": {
        "colab": {
          "base_uri": "https://localhost:8080/"
        },
        "id": "gRY0XQteWWoS",
        "outputId": "cf95bbf2-46c9-4f65-b259-8362f9d68c15"
      },
      "outputs": [
        {
          "output_type": "stream",
          "name": "stdout",
          "text": [
            "Index of 'the': 2\n",
            "Index of 'review': 466\n",
            "Index of out-of-vocabulary words: 1\n"
          ]
        }
      ],
      "source": [
        "print(\"Index of 'the':\", tokenizer.word_index[\"the\"])\n",
        "print(\"Index of 'review':\", tokenizer.word_index[\"review\"])\n",
        "print(\"Index of out-of-vocabulary words:\", tokenizer.word_index[\"UNK\"])"
      ]
    },
    {
      "cell_type": "markdown",
      "source": [
        "### 규격화"
      ],
      "metadata": {
        "id": "LN03yRVcaFGp"
      }
    },
    {
      "cell_type": "code",
      "execution_count": null,
      "metadata": {
        "id": "jzgBf7r6WWoT"
      },
      "outputs": [],
      "source": [
        "from tensorflow.keras.preprocessing.sequence import pad_sequences\n",
        "\n",
        "maxlen = 500 #문서의 단어 수를 제한\n",
        "\n",
        "# 문서의 단어 수가 500보다 작으면 0을 채우고, 크면 잘라냄\n",
        "# 잘라낼 때, 앞을 자를 지, 뒤를 자를 지 선택할 수 있음. 앞을 자르고 뒷부분을 쓰고자 하면 'pre' 선택\n",
        "X = pad_sequences(X, maxlen=maxlen, truncating='pre')"
      ]
    },
    {
      "cell_type": "code",
      "source": [
        "print('Lengths of first 10 documents:', [len(doc) for doc in X[:10]])"
      ],
      "metadata": {
        "colab": {
          "base_uri": "https://localhost:8080/"
        },
        "id": "pBRol6DkaLxV",
        "outputId": "ae759068-a263-4aae-ef5a-782a80693420"
      },
      "execution_count": null,
      "outputs": [
        {
          "output_type": "stream",
          "name": "stdout",
          "text": [
            "Lengths of first 10 documents: [500, 500, 500, 500, 500, 500, 500, 500, 500, 500]\n"
          ]
        }
      ]
    },
    {
      "cell_type": "code",
      "execution_count": null,
      "metadata": {
        "colab": {
          "base_uri": "https://localhost:8080/"
        },
        "id": "gebygEj2WWoT",
        "outputId": "cc11f024-f50b-4a04-c064-fba3e1d1fcaf"
      },
      "outputs": [
        {
          "output_type": "stream",
          "name": "stdout",
          "text": [
            "{0, 1}\n"
          ]
        }
      ],
      "source": [
        "import numpy as np\n",
        "\n",
        "# label을 0, 1의 값으로 변환\n",
        "label_dict = {'pos':1, 'neg':0}\n",
        "y = np.array([label_dict[c] for c in categories])\n",
        "print(set(y))"
      ]
    },
    {
      "cell_type": "code",
      "execution_count": null,
      "metadata": {
        "colab": {
          "base_uri": "https://localhost:8080/"
        },
        "id": "JAT9nymuWWoT",
        "outputId": "2a250a11-31c0-471a-f536-3a7aac7ba923"
      },
      "outputs": [
        {
          "output_type": "stream",
          "name": "stdout",
          "text": [
            "Train set count: 1600\n",
            "Test set count: 400\n",
            "Test samples: [0 1 1 0 1 1 0 0 0 0 1 1 0 0 1 0 0 1 1 1]\n"
          ]
        }
      ],
      "source": [
        "from sklearn.model_selection import train_test_split\n",
        "X_train, X_test, y_train, y_test = train_test_split(X, y, test_size=0.2, random_state=10)\n",
        "\n",
        "print('Train set count:', len(X_train))\n",
        "print('Test set count:', len(X_test))\n",
        "print('Test samples:', y_test[:20])"
      ]
    },
    {
      "cell_type": "markdown",
      "metadata": {
        "id": "Z-ZSkqqtWWoU"
      },
      "source": [
        "### 10.3.2 RNN이 아닌 일반적인 신경망 모형을 이용한 분류\n"
      ]
    },
    {
      "cell_type": "code",
      "execution_count": null,
      "metadata": {
        "colab": {
          "base_uri": "https://localhost:8080/",
          "height": 261
        },
        "id": "oKO7FcCRWWoU",
        "outputId": "7cc3d2c0-d53c-457f-ed25-0524427024b8"
      },
      "outputs": [
        {
          "output_type": "stream",
          "name": "stderr",
          "text": [
            "/usr/local/lib/python3.10/dist-packages/keras/src/layers/core/embedding.py:90: UserWarning: Argument `input_length` is deprecated. Just remove it.\n",
            "  warnings.warn(\n"
          ]
        },
        {
          "output_type": "display_data",
          "data": {
            "text/plain": [
              "\u001b[1mModel: \"sequential\"\u001b[0m\n"
            ],
            "text/html": [
              "<pre style=\"white-space:pre;overflow-x:auto;line-height:normal;font-family:Menlo,'DejaVu Sans Mono',consolas,'Courier New',monospace\"><span style=\"font-weight: bold\">Model: \"sequential\"</span>\n",
              "</pre>\n"
            ]
          },
          "metadata": {}
        },
        {
          "output_type": "display_data",
          "data": {
            "text/plain": [
              "┏━━━━━━━━━━━━━━━━━━━━━━━━━━━━━━━━━━━━━━┳━━━━━━━━━━━━━━━━━━━━━━━━━━━━━┳━━━━━━━━━━━━━━━━━┓\n",
              "┃\u001b[1m \u001b[0m\u001b[1mLayer (type)                        \u001b[0m\u001b[1m \u001b[0m┃\u001b[1m \u001b[0m\u001b[1mOutput Shape               \u001b[0m\u001b[1m \u001b[0m┃\u001b[1m \u001b[0m\u001b[1m        Param #\u001b[0m\u001b[1m \u001b[0m┃\n",
              "┡━━━━━━━━━━━━━━━━━━━━━━━━━━━━━━━━━━━━━━╇━━━━━━━━━━━━━━━━━━━━━━━━━━━━━╇━━━━━━━━━━━━━━━━━┩\n",
              "│ embedding (\u001b[38;5;33mEmbedding\u001b[0m)                │ ?                           │     \u001b[38;5;34m0\u001b[0m (unbuilt) │\n",
              "├──────────────────────────────────────┼─────────────────────────────┼─────────────────┤\n",
              "│ flatten (\u001b[38;5;33mFlatten\u001b[0m)                    │ ?                           │     \u001b[38;5;34m0\u001b[0m (unbuilt) │\n",
              "├──────────────────────────────────────┼─────────────────────────────┼─────────────────┤\n",
              "│ dense (\u001b[38;5;33mDense\u001b[0m)                        │ ?                           │     \u001b[38;5;34m0\u001b[0m (unbuilt) │\n",
              "└──────────────────────────────────────┴─────────────────────────────┴─────────────────┘\n"
            ],
            "text/html": [
              "<pre style=\"white-space:pre;overflow-x:auto;line-height:normal;font-family:Menlo,'DejaVu Sans Mono',consolas,'Courier New',monospace\">┏━━━━━━━━━━━━━━━━━━━━━━━━━━━━━━━━━━━━━━┳━━━━━━━━━━━━━━━━━━━━━━━━━━━━━┳━━━━━━━━━━━━━━━━━┓\n",
              "┃<span style=\"font-weight: bold\"> Layer (type)                         </span>┃<span style=\"font-weight: bold\"> Output Shape                </span>┃<span style=\"font-weight: bold\">         Param # </span>┃\n",
              "┡━━━━━━━━━━━━━━━━━━━━━━━━━━━━━━━━━━━━━━╇━━━━━━━━━━━━━━━━━━━━━━━━━━━━━╇━━━━━━━━━━━━━━━━━┩\n",
              "│ embedding (<span style=\"color: #0087ff; text-decoration-color: #0087ff\">Embedding</span>)                │ ?                           │     <span style=\"color: #00af00; text-decoration-color: #00af00\">0</span> (unbuilt) │\n",
              "├──────────────────────────────────────┼─────────────────────────────┼─────────────────┤\n",
              "│ flatten (<span style=\"color: #0087ff; text-decoration-color: #0087ff\">Flatten</span>)                    │ ?                           │     <span style=\"color: #00af00; text-decoration-color: #00af00\">0</span> (unbuilt) │\n",
              "├──────────────────────────────────────┼─────────────────────────────┼─────────────────┤\n",
              "│ dense (<span style=\"color: #0087ff; text-decoration-color: #0087ff\">Dense</span>)                        │ ?                           │     <span style=\"color: #00af00; text-decoration-color: #00af00\">0</span> (unbuilt) │\n",
              "└──────────────────────────────────────┴─────────────────────────────┴─────────────────┘\n",
              "</pre>\n"
            ]
          },
          "metadata": {}
        },
        {
          "output_type": "display_data",
          "data": {
            "text/plain": [
              "\u001b[1m Total params: \u001b[0m\u001b[38;5;34m0\u001b[0m (0.00 B)\n"
            ],
            "text/html": [
              "<pre style=\"white-space:pre;overflow-x:auto;line-height:normal;font-family:Menlo,'DejaVu Sans Mono',consolas,'Courier New',monospace\"><span style=\"font-weight: bold\"> Total params: </span><span style=\"color: #00af00; text-decoration-color: #00af00\">0</span> (0.00 B)\n",
              "</pre>\n"
            ]
          },
          "metadata": {}
        },
        {
          "output_type": "display_data",
          "data": {
            "text/plain": [
              "\u001b[1m Trainable params: \u001b[0m\u001b[38;5;34m0\u001b[0m (0.00 B)\n"
            ],
            "text/html": [
              "<pre style=\"white-space:pre;overflow-x:auto;line-height:normal;font-family:Menlo,'DejaVu Sans Mono',consolas,'Courier New',monospace\"><span style=\"font-weight: bold\"> Trainable params: </span><span style=\"color: #00af00; text-decoration-color: #00af00\">0</span> (0.00 B)\n",
              "</pre>\n"
            ]
          },
          "metadata": {}
        },
        {
          "output_type": "display_data",
          "data": {
            "text/plain": [
              "\u001b[1m Non-trainable params: \u001b[0m\u001b[38;5;34m0\u001b[0m (0.00 B)\n"
            ],
            "text/html": [
              "<pre style=\"white-space:pre;overflow-x:auto;line-height:normal;font-family:Menlo,'DejaVu Sans Mono',consolas,'Courier New',monospace\"><span style=\"font-weight: bold\"> Non-trainable params: </span><span style=\"color: #00af00; text-decoration-color: #00af00\">0</span> (0.00 B)\n",
              "</pre>\n"
            ]
          },
          "metadata": {}
        }
      ],
      "source": [
        "# 케라스 모형 생성 및 학습\n",
        "from tensorflow.keras.models import Sequential\n",
        "from tensorflow.keras.layers import Flatten, Dense, Embedding\n",
        "\n",
        "model = Sequential([ #순차적 모형\n",
        "    Embedding(max_words, 32, input_length=maxlen), #word embedding layer 생성\n",
        "    # max_words는 one-hot encoding을 할 때의 vector 크기가 됨 - 사용된 단어의 수만큼\n",
        "    # 각 단어는 32 크기의 dense vector로 embedding 됨\n",
        "    # input_length는 한 document의 단어 수로 표현\n",
        "    # 이 과정을 거치면 각 document는 (maxlen, 32)의 2차원 행렬이 됨 - 즉 word의 sequence가 됨\n",
        "\n",
        "    Flatten(), # 2차원 행렬을 1차원으로 펼침\n",
        "    Dense(1, activation='sigmoid') #binary logistic regression을 수행\n",
        "])\n",
        "\n",
        "model.summary() #모델의 요약정보 출력"
      ]
    },
    {
      "cell_type": "code",
      "execution_count": null,
      "metadata": {
        "colab": {
          "base_uri": "https://localhost:8080/"
        },
        "id": "r0o_hn0jWWoU",
        "outputId": "56910cb4-06ab-452e-b6bc-a6774c415e90"
      },
      "outputs": [
        {
          "output_type": "stream",
          "name": "stdout",
          "text": [
            "Epoch 1/10\n",
            "\u001b[1m40/40\u001b[0m \u001b[32m━━━━━━━━━━━━━━━━━━━━\u001b[0m\u001b[37m\u001b[0m \u001b[1m2s\u001b[0m 18ms/step - acc: 0.4904 - loss: 0.6948 - val_acc: 0.5375 - val_loss: 0.6893\n",
            "Epoch 2/10\n",
            "\u001b[1m40/40\u001b[0m \u001b[32m━━━━━━━━━━━━━━━━━━━━\u001b[0m\u001b[37m\u001b[0m \u001b[1m0s\u001b[0m 12ms/step - acc: 0.9047 - loss: 0.6148 - val_acc: 0.5469 - val_loss: 0.6820\n",
            "Epoch 3/10\n",
            "\u001b[1m40/40\u001b[0m \u001b[32m━━━━━━━━━━━━━━━━━━━━\u001b[0m\u001b[37m\u001b[0m \u001b[1m1s\u001b[0m 11ms/step - acc: 0.9631 - loss: 0.5191 - val_acc: 0.6031 - val_loss: 0.6677\n",
            "Epoch 4/10\n",
            "\u001b[1m40/40\u001b[0m \u001b[32m━━━━━━━━━━━━━━━━━━━━\u001b[0m\u001b[37m\u001b[0m \u001b[1m1s\u001b[0m 8ms/step - acc: 0.9835 - loss: 0.3877 - val_acc: 0.6313 - val_loss: 0.6476\n",
            "Epoch 5/10\n",
            "\u001b[1m40/40\u001b[0m \u001b[32m━━━━━━━━━━━━━━━━━━━━\u001b[0m\u001b[37m\u001b[0m \u001b[1m1s\u001b[0m 7ms/step - acc: 0.9945 - loss: 0.2540 - val_acc: 0.6406 - val_loss: 0.6294\n",
            "Epoch 6/10\n",
            "\u001b[1m40/40\u001b[0m \u001b[32m━━━━━━━━━━━━━━━━━━━━\u001b[0m\u001b[37m\u001b[0m \u001b[1m0s\u001b[0m 7ms/step - acc: 0.9949 - loss: 0.1505 - val_acc: 0.6438 - val_loss: 0.6188\n",
            "Epoch 7/10\n",
            "\u001b[1m40/40\u001b[0m \u001b[32m━━━━━━━━━━━━━━━━━━━━\u001b[0m\u001b[37m\u001b[0m \u001b[1m0s\u001b[0m 7ms/step - acc: 0.9952 - loss: 0.0836 - val_acc: 0.6562 - val_loss: 0.6178\n",
            "Epoch 8/10\n",
            "\u001b[1m40/40\u001b[0m \u001b[32m━━━━━━━━━━━━━━━━━━━━\u001b[0m\u001b[37m\u001b[0m \u001b[1m0s\u001b[0m 7ms/step - acc: 1.0000 - loss: 0.0450 - val_acc: 0.6562 - val_loss: 0.6264\n",
            "Epoch 9/10\n",
            "\u001b[1m40/40\u001b[0m \u001b[32m━━━━━━━━━━━━━━━━━━━━\u001b[0m\u001b[37m\u001b[0m \u001b[1m0s\u001b[0m 7ms/step - acc: 1.0000 - loss: 0.0242 - val_acc: 0.6594 - val_loss: 0.6438\n",
            "Epoch 10/10\n",
            "\u001b[1m40/40\u001b[0m \u001b[32m━━━━━━━━━━━━━━━━━━━━\u001b[0m\u001b[37m\u001b[0m \u001b[1m0s\u001b[0m 7ms/step - acc: 1.0000 - loss: 0.0135 - val_acc: 0.6594 - val_loss: 0.6682\n"
          ]
        }
      ],
      "source": [
        "# 모형의 optimizer와 loss function 등을 지정\n",
        "model.compile(optimizer='rmsprop', loss='binary_crossentropy', metrics=['acc'])\n",
        "# 학습을 수행\n",
        "history = model.fit(X_train, y_train,\n",
        "                    epochs=10,\n",
        "                    verbose=1,\n",
        "                    validation_split=0.2)"
      ]
    },
    {
      "cell_type": "code",
      "execution_count": null,
      "metadata": {
        "colab": {
          "base_uri": "https://localhost:8080/",
          "height": 472
        },
        "id": "IMAm0Ix6WWoV",
        "outputId": "41112012-a270-44ed-d64d-3a9952db1358"
      },
      "outputs": [
        {
          "output_type": "display_data",
          "data": {
            "text/plain": [
              "<Figure size 640x480 with 1 Axes>"
            ],
            "image/png": "[encoded data removed]"
          },
          "metadata": {}
        }
      ],
      "source": [
        "%matplotlib inline\n",
        "import matplotlib.pyplot as plt\n",
        "\n",
        "def plot_results(history, metric):\n",
        "    plt.plot(history.history[metric], 'b', label='Training '+metric)\n",
        "    plt.plot(history.history['val_'+metric], 'r--', label='Validation '+metric)\n",
        "    plt.title('Training vs. Validation '+metric)\n",
        "    plt.xlabel('Epochs')\n",
        "    plt.ylabel(metric)\n",
        "    plt.legend()\n",
        "    plt.show()\n",
        "\n",
        "plot_results(history, 'acc')"
      ]
    },
    {
      "cell_type": "code",
      "execution_count": null,
      "metadata": {
        "colab": {
          "base_uri": "https://localhost:8080/"
        },
        "id": "nqOzDI98WWoV",
        "outputId": "211dca3c-6d5b-42f8-8a15-b82dca2761f0"
      },
      "outputs": [
        {
          "output_type": "stream",
          "name": "stdout",
          "text": [
            "\u001b[1m13/13\u001b[0m \u001b[32m━━━━━━━━━━━━━━━━━━━━\u001b[0m\u001b[37m\u001b[0m \u001b[1m0s\u001b[0m 2ms/step - acc: 0.6357 - loss: 0.6652  \n",
            "#Test accuracy:0.635\n"
          ]
        }
      ],
      "source": [
        "#테스트 셋으로 학습된 모형의 성능을 평가\n",
        "score = model.evaluate(X_test, y_test)\n",
        "print(f'#Test accuracy:{score[1]:.3f}')"
      ]
    },
    {
      "cell_type": "markdown",
      "metadata": {
        "id": "jf4gKUDuWWoV"
      },
      "source": [
        "### 10.3.3 문서의 순서정보를 활용하는 RNN 기반 문서분류\n"
      ]
    },
    {
      "cell_type": "code",
      "execution_count": null,
      "metadata": {
        "colab": {
          "base_uri": "https://localhost:8080/",
          "height": 748
        },
        "id": "aKWrG_XeWWoW",
        "outputId": "8a637841-0d35-41b9-f74b-5199d3cb5d31"
      },
      "outputs": [
        {
          "output_type": "display_data",
          "data": {
            "text/plain": [
              "\u001b[1mModel: \"sequential_1\"\u001b[0m\n"
            ],
            "text/html": [
              "<pre style=\"white-space:pre;overflow-x:auto;line-height:normal;font-family:Menlo,'DejaVu Sans Mono',consolas,'Courier New',monospace\"><span style=\"font-weight: bold\">Model: \"sequential_1\"</span>\n",
              "</pre>\n"
            ]
          },
          "metadata": {}
        },
        {
          "output_type": "display_data",
          "data": {
            "text/plain": [
              "┏━━━━━━━━━━━━━━━━━━━━━━━━━━━━━━━━━━━━━━┳━━━━━━━━━━━━━━━━━━━━━━━━━━━━━┳━━━━━━━━━━━━━━━━━┓\n",
              "┃\u001b[1m \u001b[0m\u001b[1mLayer (type)                        \u001b[0m\u001b[1m \u001b[0m┃\u001b[1m \u001b[0m\u001b[1mOutput Shape               \u001b[0m\u001b[1m \u001b[0m┃\u001b[1m \u001b[0m\u001b[1m        Param #\u001b[0m\u001b[1m \u001b[0m┃\n",
              "┡━━━━━━━━━━━━━━━━━━━━━━━━━━━━━━━━━━━━━━╇━━━━━━━━━━━━━━━━━━━━━━━━━━━━━╇━━━━━━━━━━━━━━━━━┩\n",
              "│ embedding_1 (\u001b[38;5;33mEmbedding\u001b[0m)              │ ?                           │     \u001b[38;5;34m0\u001b[0m (unbuilt) │\n",
              "├──────────────────────────────────────┼─────────────────────────────┼─────────────────┤\n",
              "│ simple_rnn (\u001b[38;5;33mSimpleRNN\u001b[0m)               │ ?                           │     \u001b[38;5;34m0\u001b[0m (unbuilt) │\n",
              "├──────────────────────────────────────┼─────────────────────────────┼─────────────────┤\n",
              "│ dense_1 (\u001b[38;5;33mDense\u001b[0m)                      │ ?                           │     \u001b[38;5;34m0\u001b[0m (unbuilt) │\n",
              "├──────────────────────────────────────┼─────────────────────────────┼─────────────────┤\n",
              "│ dense_2 (\u001b[38;5;33mDense\u001b[0m)                      │ ?                           │     \u001b[38;5;34m0\u001b[0m (unbuilt) │\n",
              "└──────────────────────────────────────┴─────────────────────────────┴─────────────────┘\n"
            ],
            "text/html": [
              "<pre style=\"white-space:pre;overflow-x:auto;line-height:normal;font-family:Menlo,'DejaVu Sans Mono',consolas,'Courier New',monospace\">┏━━━━━━━━━━━━━━━━━━━━━━━━━━━━━━━━━━━━━━┳━━━━━━━━━━━━━━━━━━━━━━━━━━━━━┳━━━━━━━━━━━━━━━━━┓\n",
              "┃<span style=\"font-weight: bold\"> Layer (type)                         </span>┃<span style=\"font-weight: bold\"> Output Shape                </span>┃<span style=\"font-weight: bold\">         Param # </span>┃\n",
              "┡━━━━━━━━━━━━━━━━━━━━━━━━━━━━━━━━━━━━━━╇━━━━━━━━━━━━━━━━━━━━━━━━━━━━━╇━━━━━━━━━━━━━━━━━┩\n",
              "│ embedding_1 (<span style=\"color: #0087ff; text-decoration-color: #0087ff\">Embedding</span>)              │ ?                           │     <span style=\"color: #00af00; text-decoration-color: #00af00\">0</span> (unbuilt) │\n",
              "├──────────────────────────────────────┼─────────────────────────────┼─────────────────┤\n",
              "│ simple_rnn (<span style=\"color: #0087ff; text-decoration-color: #0087ff\">SimpleRNN</span>)               │ ?                           │     <span style=\"color: #00af00; text-decoration-color: #00af00\">0</span> (unbuilt) │\n",
              "├──────────────────────────────────────┼─────────────────────────────┼─────────────────┤\n",
              "│ dense_1 (<span style=\"color: #0087ff; text-decoration-color: #0087ff\">Dense</span>)                      │ ?                           │     <span style=\"color: #00af00; text-decoration-color: #00af00\">0</span> (unbuilt) │\n",
              "├──────────────────────────────────────┼─────────────────────────────┼─────────────────┤\n",
              "│ dense_2 (<span style=\"color: #0087ff; text-decoration-color: #0087ff\">Dense</span>)                      │ ?                           │     <span style=\"color: #00af00; text-decoration-color: #00af00\">0</span> (unbuilt) │\n",
              "└──────────────────────────────────────┴─────────────────────────────┴─────────────────┘\n",
              "</pre>\n"
            ]
          },
          "metadata": {}
        },
        {
          "output_type": "display_data",
          "data": {
            "text/plain": [
              "\u001b[1m Total params: \u001b[0m\u001b[38;5;34m0\u001b[0m (0.00 B)\n"
            ],
            "text/html": [
              "<pre style=\"white-space:pre;overflow-x:auto;line-height:normal;font-family:Menlo,'DejaVu Sans Mono',consolas,'Courier New',monospace\"><span style=\"font-weight: bold\"> Total params: </span><span style=\"color: #00af00; text-decoration-color: #00af00\">0</span> (0.00 B)\n",
              "</pre>\n"
            ]
          },
          "metadata": {}
        },
        {
          "output_type": "display_data",
          "data": {
            "text/plain": [
              "\u001b[1m Trainable params: \u001b[0m\u001b[38;5;34m0\u001b[0m (0.00 B)\n"
            ],
            "text/html": [
              "<pre style=\"white-space:pre;overflow-x:auto;line-height:normal;font-family:Menlo,'DejaVu Sans Mono',consolas,'Courier New',monospace\"><span style=\"font-weight: bold\"> Trainable params: </span><span style=\"color: #00af00; text-decoration-color: #00af00\">0</span> (0.00 B)\n",
              "</pre>\n"
            ]
          },
          "metadata": {}
        },
        {
          "output_type": "display_data",
          "data": {
            "text/plain": [
              "\u001b[1m Non-trainable params: \u001b[0m\u001b[38;5;34m0\u001b[0m (0.00 B)\n"
            ],
            "text/html": [
              "<pre style=\"white-space:pre;overflow-x:auto;line-height:normal;font-family:Menlo,'DejaVu Sans Mono',consolas,'Courier New',monospace\"><span style=\"font-weight: bold\"> Non-trainable params: </span><span style=\"color: #00af00; text-decoration-color: #00af00\">0</span> (0.00 B)\n",
              "</pre>\n"
            ]
          },
          "metadata": {}
        },
        {
          "output_type": "display_data",
          "data": {
            "text/plain": [
              "<Figure size 640x480 with 1 Axes>"
            ],
            "image/png": "[encoded data removed]"
          },
          "metadata": {}
        },
        {
          "output_type": "stream",
          "name": "stdout",
          "text": [
            "\u001b[1m13/13\u001b[0m \u001b[32m━━━━━━━━━━━━━━━━━━━━\u001b[0m\u001b[37m\u001b[0m \u001b[1m1s\u001b[0m 38ms/step - acc: 0.6578 - loss: 0.6361\n",
            "#Test accuracy:0.655\n"
          ]
        }
      ],
      "source": [
        "from tensorflow.keras.layers import SimpleRNN\n",
        "from tensorflow.keras.optimizers import Adam\n",
        "\n",
        "model = Sequential([\n",
        "    Embedding(max_words, 32),\n",
        "    SimpleRNN(32), # 펼쳐서 flat하게 만드는 대신 RNN 모형을 사용, maxlen만큼의 시계열 데이터\n",
        "    Dense(32, activation='relu'),\n",
        "    Dense(1, activation='sigmoid')\n",
        "])\n",
        "model.summary()\n",
        "\n",
        "adam = Adam(learning_rate=1e-4)\n",
        "model.compile(optimizer=adam, loss='binary_crossentropy', metrics=['acc'])\n",
        "history = model.fit(X_train, y_train,\n",
        "                    epochs=10,\n",
        "                    verbose=0,\n",
        "                    validation_split=0.2)\n",
        "\n",
        "plot_results(history, 'acc')\n",
        "#테스트 셋으로 학습된 모형의 성능을 평가\n",
        "score = model.evaluate(X_test, y_test)\n",
        "print(f'#Test accuracy:{score[1]:.3f}')"
      ]
    },
    {
      "cell_type": "markdown",
      "metadata": {
        "id": "bjwZWczxWWoW"
      },
      "source": [
        "## 10.4. LSTM, Bi-LSTM과 GRU를 이용한 성능 개선\n"
      ]
    },
    {
      "cell_type": "code",
      "execution_count": null,
      "metadata": {
        "colab": {
          "base_uri": "https://localhost:8080/",
          "height": 628
        },
        "collapsed": true,
        "id": "Fh5a0i4IWWoW",
        "outputId": "3f87a3ee-ecdc-40a2-de6c-b3616992e9c3"
      },
      "outputs": [
        {
          "output_type": "display_data",
          "data": {
            "text/plain": [
              "\u001b[1mModel: \"sequential_5\"\u001b[0m\n"
            ],
            "text/html": [
              "<pre style=\"white-space:pre;overflow-x:auto;line-height:normal;font-family:Menlo,'DejaVu Sans Mono',consolas,'Courier New',monospace\"><span style=\"font-weight: bold\">Model: \"sequential_5\"</span>\n",
              "</pre>\n"
            ]
          },
          "metadata": {}
        },
        {
          "output_type": "display_data",
          "data": {
            "text/plain": [
              "┏━━━━━━━━━━━━━━━━━━━━━━━━━━━━━━━━━━━━━━┳━━━━━━━━━━━━━━━━━━━━━━━━━━━━━┳━━━━━━━━━━━━━━━━━┓\n",
              "┃\u001b[1m \u001b[0m\u001b[1mLayer (type)                        \u001b[0m\u001b[1m \u001b[0m┃\u001b[1m \u001b[0m\u001b[1mOutput Shape               \u001b[0m\u001b[1m \u001b[0m┃\u001b[1m \u001b[0m\u001b[1m        Param #\u001b[0m\u001b[1m \u001b[0m┃\n",
              "┡━━━━━━━━━━━━━━━━━━━━━━━━━━━━━━━━━━━━━━╇━━━━━━━━━━━━━━━━━━━━━━━━━━━━━╇━━━━━━━━━━━━━━━━━┩\n",
              "│ embedding_5 (\u001b[38;5;33mEmbedding\u001b[0m)              │ ?                           │     \u001b[38;5;34m0\u001b[0m (unbuilt) │\n",
              "├──────────────────────────────────────┼─────────────────────────────┼─────────────────┤\n",
              "│ bidirectional_3 (\u001b[38;5;33mBidirectional\u001b[0m)      │ ?                           │     \u001b[38;5;34m0\u001b[0m (unbuilt) │\n",
              "├──────────────────────────────────────┼─────────────────────────────┼─────────────────┤\n",
              "│ dense_9 (\u001b[38;5;33mDense\u001b[0m)                      │ ?                           │     \u001b[38;5;34m0\u001b[0m (unbuilt) │\n",
              "├──────────────────────────────────────┼─────────────────────────────┼─────────────────┤\n",
              "│ dense_10 (\u001b[38;5;33mDense\u001b[0m)                     │ ?                           │     \u001b[38;5;34m0\u001b[0m (unbuilt) │\n",
              "└──────────────────────────────────────┴─────────────────────────────┴─────────────────┘\n"
            ],
            "text/html": [
              "<pre style=\"white-space:pre;overflow-x:auto;line-height:normal;font-family:Menlo,'DejaVu Sans Mono',consolas,'Courier New',monospace\">┏━━━━━━━━━━━━━━━━━━━━━━━━━━━━━━━━━━━━━━┳━━━━━━━━━━━━━━━━━━━━━━━━━━━━━┳━━━━━━━━━━━━━━━━━┓\n",
              "┃<span style=\"font-weight: bold\"> Layer (type)                         </span>┃<span style=\"font-weight: bold\"> Output Shape                </span>┃<span style=\"font-weight: bold\">         Param # </span>┃\n",
              "┡━━━━━━━━━━━━━━━━━━━━━━━━━━━━━━━━━━━━━━╇━━━━━━━━━━━━━━━━━━━━━━━━━━━━━╇━━━━━━━━━━━━━━━━━┩\n",
              "│ embedding_5 (<span style=\"color: #0087ff; text-decoration-color: #0087ff\">Embedding</span>)              │ ?                           │     <span style=\"color: #00af00; text-decoration-color: #00af00\">0</span> (unbuilt) │\n",
              "├──────────────────────────────────────┼─────────────────────────────┼─────────────────┤\n",
              "│ bidirectional_3 (<span style=\"color: #0087ff; text-decoration-color: #0087ff\">Bidirectional</span>)      │ ?                           │     <span style=\"color: #00af00; text-decoration-color: #00af00\">0</span> (unbuilt) │\n",
              "├──────────────────────────────────────┼─────────────────────────────┼─────────────────┤\n",
              "│ dense_9 (<span style=\"color: #0087ff; text-decoration-color: #0087ff\">Dense</span>)                      │ ?                           │     <span style=\"color: #00af00; text-decoration-color: #00af00\">0</span> (unbuilt) │\n",
              "├──────────────────────────────────────┼─────────────────────────────┼─────────────────┤\n",
              "│ dense_10 (<span style=\"color: #0087ff; text-decoration-color: #0087ff\">Dense</span>)                     │ ?                           │     <span style=\"color: #00af00; text-decoration-color: #00af00\">0</span> (unbuilt) │\n",
              "└──────────────────────────────────────┴─────────────────────────────┴─────────────────┘\n",
              "</pre>\n"
            ]
          },
          "metadata": {}
        },
        {
          "output_type": "display_data",
          "data": {
            "text/plain": [
              "\u001b[1m Total params: \u001b[0m\u001b[38;5;34m0\u001b[0m (0.00 B)\n"
            ],
            "text/html": [
              "<pre style=\"white-space:pre;overflow-x:auto;line-height:normal;font-family:Menlo,'DejaVu Sans Mono',consolas,'Courier New',monospace\"><span style=\"font-weight: bold\"> Total params: </span><span style=\"color: #00af00; text-decoration-color: #00af00\">0</span> (0.00 B)\n",
              "</pre>\n"
            ]
          },
          "metadata": {}
        },
        {
          "output_type": "display_data",
          "data": {
            "text/plain": [
              "\u001b[1m Trainable params: \u001b[0m\u001b[38;5;34m0\u001b[0m (0.00 B)\n"
            ],
            "text/html": [
              "<pre style=\"white-space:pre;overflow-x:auto;line-height:normal;font-family:Menlo,'DejaVu Sans Mono',consolas,'Courier New',monospace\"><span style=\"font-weight: bold\"> Trainable params: </span><span style=\"color: #00af00; text-decoration-color: #00af00\">0</span> (0.00 B)\n",
              "</pre>\n"
            ]
          },
          "metadata": {}
        },
        {
          "output_type": "display_data",
          "data": {
            "text/plain": [
              "\u001b[1m Non-trainable params: \u001b[0m\u001b[38;5;34m0\u001b[0m (0.00 B)\n"
            ],
            "text/html": [
              "<pre style=\"white-space:pre;overflow-x:auto;line-height:normal;font-family:Menlo,'DejaVu Sans Mono',consolas,'Courier New',monospace\"><span style=\"font-weight: bold\"> Non-trainable params: </span><span style=\"color: #00af00; text-decoration-color: #00af00\">0</span> (0.00 B)\n",
              "</pre>\n"
            ]
          },
          "metadata": {}
        },
        {
          "output_type": "error",
          "ename": "ValueError",
          "evalue": "Unknown variable: <KerasVariable shape=(10000, 64), dtype=float32, path=sequential_5/embedding_5/embeddings>. This optimizer can only be called for the variables it was originally built with. When working with a new set of variables, you should recreate a new optimizer instance.",
          "traceback": [
            "\u001b[0;31m---------------------------------------------------------------------------\u001b[0m",
            "\u001b[0;31mValueError\u001b[0m                                Traceback (most recent call last)",
            "\u001b[0;32m<ipython-input-37-078fd1f99b57>\u001b[0m in \u001b[0;36m<cell line: 13>\u001b[0;34m()\u001b[0m\n\u001b[1;32m     11\u001b[0m \u001b[0mmodel\u001b[0m\u001b[0;34m.\u001b[0m\u001b[0mcompile\u001b[0m\u001b[0;34m(\u001b[0m\u001b[0moptimizer\u001b[0m\u001b[0;34m=\u001b[0m\u001b[0madam\u001b[0m\u001b[0;34m,\u001b[0m \u001b[0mloss\u001b[0m\u001b[0;34m=\u001b[0m\u001b[0;34m'binary_crossentropy'\u001b[0m\u001b[0;34m,\u001b[0m \u001b[0mmetrics\u001b[0m\u001b[0;34m=\u001b[0m\u001b[0;34m[\u001b[0m\u001b[0;34m'acc'\u001b[0m\u001b[0;34m]\u001b[0m\u001b[0;34m)\u001b[0m\u001b[0;34m\u001b[0m\u001b[0;34m\u001b[0m\u001b[0m\n\u001b[1;32m     12\u001b[0m \u001b[0;34m\u001b[0m\u001b[0m\n\u001b[0;32m---> 13\u001b[0;31m history = model.fit(X_train, y_train, \n\u001b[0m\u001b[1;32m     14\u001b[0m                     \u001b[0mepochs\u001b[0m\u001b[0;34m=\u001b[0m\u001b[0;36m8\u001b[0m\u001b[0;34m,\u001b[0m\u001b[0;34m\u001b[0m\u001b[0;34m\u001b[0m\u001b[0m\n\u001b[1;32m     15\u001b[0m                     \u001b[0mverbose\u001b[0m\u001b[0;34m=\u001b[0m\u001b[0;36m0\u001b[0m\u001b[0;34m,\u001b[0m\u001b[0;34m\u001b[0m\u001b[0;34m\u001b[0m\u001b[0m\n",
            "\u001b[0;32m/usr/local/lib/python3.10/dist-packages/keras/src/utils/traceback_utils.py\u001b[0m in \u001b[0;36merror_handler\u001b[0;34m(*args, **kwargs)\u001b[0m\n\u001b[1;32m    120\u001b[0m             \u001b[0;31m# To get the full stack trace, call:\u001b[0m\u001b[0;34m\u001b[0m\u001b[0;34m\u001b[0m\u001b[0m\n\u001b[1;32m    121\u001b[0m             \u001b[0;31m# `keras.config.disable_traceback_filtering()`\u001b[0m\u001b[0;34m\u001b[0m\u001b[0;34m\u001b[0m\u001b[0m\n\u001b[0;32m--> 122\u001b[0;31m             \u001b[0;32mraise\u001b[0m \u001b[0me\u001b[0m\u001b[0;34m.\u001b[0m\u001b[0mwith_traceback\u001b[0m\u001b[0;34m(\u001b[0m\u001b[0mfiltered_tb\u001b[0m\u001b[0;34m)\u001b[0m \u001b[0;32mfrom\u001b[0m \u001b[0;32mNone\u001b[0m\u001b[0;34m\u001b[0m\u001b[0;34m\u001b[0m\u001b[0m\n\u001b[0m\u001b[1;32m    123\u001b[0m         \u001b[0;32mfinally\u001b[0m\u001b[0;34m:\u001b[0m\u001b[0;34m\u001b[0m\u001b[0;34m\u001b[0m\u001b[0m\n\u001b[1;32m    124\u001b[0m             \u001b[0;32mdel\u001b[0m \u001b[0mfiltered_tb\u001b[0m\u001b[0;34m\u001b[0m\u001b[0;34m\u001b[0m\u001b[0m\n",
            "\u001b[0;32m/usr/local/lib/python3.10/dist-packages/keras/src/optimizers/base_optimizer.py\u001b[0m in \u001b[0;36m_check_variables_are_known\u001b[0;34m(self, variables)\u001b[0m\n\u001b[1;32m    226\u001b[0m         \u001b[0;32mfor\u001b[0m \u001b[0mv\u001b[0m \u001b[0;32min\u001b[0m \u001b[0mvariables\u001b[0m\u001b[0;34m:\u001b[0m\u001b[0;34m\u001b[0m\u001b[0;34m\u001b[0m\u001b[0m\n\u001b[1;32m    227\u001b[0m             \u001b[0;32mif\u001b[0m \u001b[0mself\u001b[0m\u001b[0;34m.\u001b[0m\u001b[0m_var_key\u001b[0m\u001b[0;34m(\u001b[0m\u001b[0mv\u001b[0m\u001b[0;34m)\u001b[0m \u001b[0;32mnot\u001b[0m \u001b[0;32min\u001b[0m \u001b[0mself\u001b[0m\u001b[0;34m.\u001b[0m\u001b[0m_trainable_variables_indices\u001b[0m\u001b[0;34m:\u001b[0m\u001b[0;34m\u001b[0m\u001b[0;34m\u001b[0m\u001b[0m\n\u001b[0;32m--> 228\u001b[0;31m                 raise ValueError(\n\u001b[0m\u001b[1;32m    229\u001b[0m                     \u001b[0;34mf\"Unknown variable: {v}. This optimizer can only \"\u001b[0m\u001b[0;34m\u001b[0m\u001b[0;34m\u001b[0m\u001b[0m\n\u001b[1;32m    230\u001b[0m                     \u001b[0;34m\"be called for the variables it was originally built with. \"\u001b[0m\u001b[0;34m\u001b[0m\u001b[0;34m\u001b[0m\u001b[0m\n",
            "\u001b[0;31mValueError\u001b[0m: Unknown variable: <KerasVariable shape=(10000, 64), dtype=float32, path=sequential_5/embedding_5/embeddings>. This optimizer can only be called for the variables it was originally built with. When working with a new set of variables, you should recreate a new optimizer instance."
          ]
        }
      ],
      "source": [
        "from tensorflow.keras.layers import LSTM, Bidirectional\n",
        "\n",
        "model = Sequential([\n",
        "    Embedding(max_words, 64),\n",
        "    Bidirectional(LSTM(64)), # simple RNN 대신 bidirectional LSTM을 사용\n",
        "    Dense(64, activation='relu'),\n",
        "    Dense(1, activation='sigmoid')\n",
        "])\n",
        "model.summary()\n",
        "\n",
        "model.compile(optimizer=adam, loss='binary_crossentropy', metrics=['acc'])\n",
        "\n",
        "history = model.fit(X_train, y_train,\n",
        "                    epochs=8,\n",
        "                    verbose=0,\n",
        "                    validation_split=0.2)\n",
        "\n",
        "plot_results(history, 'acc')\n",
        "\n",
        "#테스트 셋으로 학습된 모형의 성능을 평가\n",
        "score = model.evaluate(X_test, y_test)\n",
        "print(f'#Test accuracy:{score[1]:.3f}')"
      ]
    },
    {
      "cell_type": "code",
      "execution_count": null,
      "metadata": {
        "colab": {
          "base_uri": "https://localhost:8080/"
        },
        "id": "XoqzxBcwWWoW",
        "outputId": "2e4ac6e4-b563-424b-b418-3b3171145e46"
      },
      "outputs": [
        {
          "output_type": "stream",
          "name": "stdout",
          "text": [
            "\u001b[1m1/1\u001b[0m \u001b[32m━━━━━━━━━━━━━━━━━━━━\u001b[0m\u001b[37m\u001b[0m \u001b[1m0s\u001b[0m 330ms/step\n",
            "predicted value: 1.0, true value: 0, so the prediction is False\n",
            "predicted value: 1.0, true value: 1, so the prediction is True\n",
            "predicted value: 1.0, true value: 1, so the prediction is True\n",
            "predicted value: 1.0, true value: 0, so the prediction is False\n",
            "predicted value: 1.0, true value: 1, so the prediction is True\n",
            "predicted value: 0.0, true value: 1, so the prediction is False\n",
            "predicted value: 0.0, true value: 0, so the prediction is True\n",
            "predicted value: 0.0, true value: 0, so the prediction is True\n",
            "predicted value: 0.0, true value: 0, so the prediction is True\n",
            "predicted value: 0.0, true value: 0, so the prediction is True\n"
          ]
        }
      ],
      "source": [
        "y_pred = np.round(model.predict(X_test[:10]))\n",
        "for pred, y_t in zip(y_pred, y_test[:10]):\n",
        "    print(f'predicted value: {pred[0]}, true value: {y_t}, so the prediction is {pred[0] == y_t}')"
      ]
    },
    {
      "cell_type": "code",
      "execution_count": null,
      "metadata": {
        "id": "g5VN8-yTWWoX"
      },
      "outputs": [],
      "source": []
    }
  ],
  "metadata": {
    "kernelspec": {
      "display_name": "Python 3 (ipykernel)",
      "language": "python",
      "name": "python3"
    },
    "language_info": {
      "codemirror_mode": {
        "name": "ipython",
        "version": 3
      },
      "file_extension": ".py",
      "mimetype": "text/x-python",
      "name": "python",
      "nbconvert_exporter": "python",
      "pygments_lexer": "ipython3",
      "version": "3.8.12"
    },
    "toc": {
      "base_numbering": 1,
      "nav_menu": {},
      "number_sections": true,
      "sideBar": true,
      "skip_h1_title": false,
      "title_cell": "Table of Contents",
      "title_sidebar": "Contents",
      "toc_cell": true,
      "toc_position": {},
      "toc_section_display": true,
      "toc_window_display": true
    },
    "varInspector": {
      "cols": {
        "lenName": 16,
        "lenType": 16,
        "lenVar": 40
      },
      "kernels_config": {
        "python": {
          "delete_cmd_postfix": "",
          "delete_cmd_prefix": "del ",
          "library": "var_list.py",
          "varRefreshCmd": "print(var_dic_list())"
        },
        "r": {
          "delete_cmd_postfix": ") ",
          "delete_cmd_prefix": "rm(",
          "library": "var_list.r",
          "varRefreshCmd": "cat(var_dic_list()) "
        }
      },
      "types_to_exclude": [
        "module",
        "function",
        "builtin_function_or_method",
        "instance",
        "_Feature"
      ],
      "window_display": false
    },
    "colab": {
      "provenance": [],
      "include_colab_link": true
    }
  },
  "nbformat": 4,
  "nbformat_minor": 0
}